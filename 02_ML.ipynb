{
 "cells": [
  {
   "cell_type": "markdown",
   "id": "6d8b715b",
   "metadata": {},
   "source": [
    "<div style=\"background-color:#add8e6; height:30px; border-radius:10px; text-align:center; padding-top:5px;\">\n",
    "  <strong style=\"color:#003366;\">Abschnitt</strong>\n",
    "</div>\n"
   ]
  },
  {
   "cell_type": "code",
   "id": "dfe0d887",
   "metadata": {
    "ExecuteTime": {
     "end_time": "2025-06-17T19:58:02.439884Z",
     "start_time": "2025-06-17T19:58:02.421884Z"
    }
   },
   "source": [
    "from pyspark.sql import SparkSession\n",
    "\n",
    "spark = SparkSession.builder \\\n",
    "    .appName(\"Wetter- und Luftqualitätsdaten\") \\\n",
    "    .getOrCreate()"
   ],
   "outputs": [
    {
     "name": "stdout",
     "output_type": "stream",
     "text": [
      "http://192.168.1.5:4041\n"
     ]
    }
   ],
   "execution_count": 140
  },
  {
   "cell_type": "markdown",
   "id": "e70b69dd",
   "metadata": {},
   "source": [
    "<div style=\"background-color:#add8e6; height:50px; border-radius:10px; text-align:center; padding-top:5px;\">\n",
    "  <strong style=\"color:#003366; font-size: 20px;\">Vorbereitung des Machine Learnings</strong>\n",
    "</div>\n"
   ]
  },
  {
   "cell_type": "markdown",
   "id": "04bf655f",
   "metadata": {},
   "source": [
    "# Big Data Leistungsnachweis\n",
    "<br>\n",
    "Wie beeinflusst das Wetter die Luftqualität?“ – Vergleich zwischen Zürich und St. Gallen mit Spark MLlib"
   ]
  },
  {
   "cell_type": "code",
   "id": "0fccce6c",
   "metadata": {
    "ExecuteTime": {
     "end_time": "2025-06-17T19:58:02.485885Z",
     "start_time": "2025-06-17T19:58:02.468885Z"
    }
   },
   "source": [
    "#Kurzes Prüfen, ob man im korrekten Directory unterwegs ist und die Files sichtbar sind\n",
    "import os\n",
    "os.listdir(\".\")  # Liste der Files im Working Directory\n"
   ],
   "outputs": [
    {
     "data": {
      "text/plain": [
       "['.DS_Store',\n",
       " '.git',\n",
       " '.idea',\n",
       " '.ipynb_checkpoints',\n",
       " '.jupyter',\n",
       " '01_LoadData.ipynb',\n",
       " '02_ML.ipynb',\n",
       " '03_Visualisation.ipynb',\n",
       " 'data',\n",
       " 'README.md']"
      ]
     },
     "execution_count": 141,
     "metadata": {},
     "output_type": "execute_result"
    }
   ],
   "execution_count": 141
  },
  {
   "cell_type": "code",
   "id": "c64db691",
   "metadata": {
    "ExecuteTime": {
     "end_time": "2025-06-17T19:58:02.517416Z",
     "start_time": "2025-06-17T19:58:02.499883Z"
    }
   },
   "source": [
    "#Dataframe-Vorschau für kurzen Check\n",
    "import pandas as pd\n",
    "\n",
    "file_path_sg = \"data/air_quality/airquality_stgallen.csv\"\n",
    "\n",
    "\n",
    "df_sg = pd.read_csv(file_path_sg)\n",
    "df_sg.head()\n",
    "\n",
    "\n"
   ],
   "outputs": [
    {
     "data": {
      "text/plain": [
       "         Startzeit;Endzeit;PM10;PM2.5;Ozon;CO;NO2;NO\n",
       "0  02.01.2020 00:00;\"03.01.2020 00:00\";17.46;17.4...\n",
       "1  03.01.2020 00:00;\"04.01.2020 00:00\";10.88;8.43...\n",
       "2  04.01.2020 00:00;\"05.01.2020 00:00\";5.93;4.78;...\n",
       "3  05.01.2020 00:00;\"06.01.2020 00:00\";9.94;8.30;...\n",
       "4  06.01.2020 00:00;\"07.01.2020 00:00\";14.15;11.0..."
      ],
      "text/html": [
       "<div>\n",
       "<style scoped>\n",
       "    .dataframe tbody tr th:only-of-type {\n",
       "        vertical-align: middle;\n",
       "    }\n",
       "\n",
       "    .dataframe tbody tr th {\n",
       "        vertical-align: top;\n",
       "    }\n",
       "\n",
       "    .dataframe thead th {\n",
       "        text-align: right;\n",
       "    }\n",
       "</style>\n",
       "<table border=\"1\" class=\"dataframe\">\n",
       "  <thead>\n",
       "    <tr style=\"text-align: right;\">\n",
       "      <th></th>\n",
       "      <th>Startzeit;Endzeit;PM10;PM2.5;Ozon;CO;NO2;NO</th>\n",
       "    </tr>\n",
       "  </thead>\n",
       "  <tbody>\n",
       "    <tr>\n",
       "      <th>0</th>\n",
       "      <td>02.01.2020 00:00;\"03.01.2020 00:00\";17.46;17.4...</td>\n",
       "    </tr>\n",
       "    <tr>\n",
       "      <th>1</th>\n",
       "      <td>03.01.2020 00:00;\"04.01.2020 00:00\";10.88;8.43...</td>\n",
       "    </tr>\n",
       "    <tr>\n",
       "      <th>2</th>\n",
       "      <td>04.01.2020 00:00;\"05.01.2020 00:00\";5.93;4.78;...</td>\n",
       "    </tr>\n",
       "    <tr>\n",
       "      <th>3</th>\n",
       "      <td>05.01.2020 00:00;\"06.01.2020 00:00\";9.94;8.30;...</td>\n",
       "    </tr>\n",
       "    <tr>\n",
       "      <th>4</th>\n",
       "      <td>06.01.2020 00:00;\"07.01.2020 00:00\";14.15;11.0...</td>\n",
       "    </tr>\n",
       "  </tbody>\n",
       "</table>\n",
       "</div>"
      ]
     },
     "execution_count": 142,
     "metadata": {},
     "output_type": "execute_result"
    }
   ],
   "execution_count": 142
  },
  {
   "cell_type": "code",
   "id": "075989da",
   "metadata": {
    "scrolled": true,
    "ExecuteTime": {
     "end_time": "2025-06-17T19:58:02.565041Z",
     "start_time": "2025-06-17T19:58:02.539424Z"
    }
   },
   "source": [
    "#Check auch für zweites File\n",
    "file_path_zh = \"data/air_quality/airquality_zurich.csv\"\n",
    "\n",
    "\n",
    "df_zh = pd.read_csv(file_path_zh)\n",
    "df_zh.head()"
   ],
   "outputs": [
    {
     "data": {
      "text/plain": [
       "         Startzeit;Endzeit;PM10;PM2.5;Ozon;CO;NO2;NO\n",
       "0  02.01.2020 00:00;\"03.01.2020 00:00\";16.21;18.4...\n",
       "1  03.01.2020 00:00;\"04.01.2020 00:00\";16.91;20.0...\n",
       "2  04.01.2020 00:00;\"05.01.2020 00:00\";6.80;8.80;...\n",
       "3  05.01.2020 00:00;\"06.01.2020 00:00\";8.88;11.52...\n",
       "4  06.01.2020 00:00;\"07.01.2020 00:00\";19.23;23.1..."
      ],
      "text/html": [
       "<div>\n",
       "<style scoped>\n",
       "    .dataframe tbody tr th:only-of-type {\n",
       "        vertical-align: middle;\n",
       "    }\n",
       "\n",
       "    .dataframe tbody tr th {\n",
       "        vertical-align: top;\n",
       "    }\n",
       "\n",
       "    .dataframe thead th {\n",
       "        text-align: right;\n",
       "    }\n",
       "</style>\n",
       "<table border=\"1\" class=\"dataframe\">\n",
       "  <thead>\n",
       "    <tr style=\"text-align: right;\">\n",
       "      <th></th>\n",
       "      <th>Startzeit;Endzeit;PM10;PM2.5;Ozon;CO;NO2;NO</th>\n",
       "    </tr>\n",
       "  </thead>\n",
       "  <tbody>\n",
       "    <tr>\n",
       "      <th>0</th>\n",
       "      <td>02.01.2020 00:00;\"03.01.2020 00:00\";16.21;18.4...</td>\n",
       "    </tr>\n",
       "    <tr>\n",
       "      <th>1</th>\n",
       "      <td>03.01.2020 00:00;\"04.01.2020 00:00\";16.91;20.0...</td>\n",
       "    </tr>\n",
       "    <tr>\n",
       "      <th>2</th>\n",
       "      <td>04.01.2020 00:00;\"05.01.2020 00:00\";6.80;8.80;...</td>\n",
       "    </tr>\n",
       "    <tr>\n",
       "      <th>3</th>\n",
       "      <td>05.01.2020 00:00;\"06.01.2020 00:00\";8.88;11.52...</td>\n",
       "    </tr>\n",
       "    <tr>\n",
       "      <th>4</th>\n",
       "      <td>06.01.2020 00:00;\"07.01.2020 00:00\";19.23;23.1...</td>\n",
       "    </tr>\n",
       "  </tbody>\n",
       "</table>\n",
       "</div>"
      ]
     },
     "execution_count": 143,
     "metadata": {},
     "output_type": "execute_result"
    }
   ],
   "execution_count": 143
  },
  {
   "cell_type": "code",
   "id": "8b62da34",
   "metadata": {
    "scrolled": true,
    "ExecuteTime": {
     "end_time": "2025-06-17T19:58:02.580122Z",
     "start_time": "2025-06-17T19:58:02.573040Z"
    }
   },
   "source": [],
   "outputs": [],
   "execution_count": null
  },
  {
   "cell_type": "markdown",
   "id": "90365a2b",
   "metadata": {},
   "source": [
    "## ML Pipelines\n",
    "<br>\n",
    "ML-Pipelines dienen der Reproduzierbarkeit eines ML-Verfahrens (und hilft beim Erstellen einer sauberen Struktur) und bestehen gemäss Spark-Dokumentation (https://spark.apache.org/docs/latest/ml-pipeline.html) aus folgenden Elementen:\n",
    "<br><br>\n",
    "<b>Transformers</b> <br> <br>\n",
    "<b>Estimators</b>\n",
    "<br> <br>\n",
    "Ein Transformer konvertiert DataFrames. Ein \"Feature Transformer\" liest beispielsweise die Daten einer Spalte, mappt diese in eine neue Spalte und gibt als Output das als DataFrame.\n",
    "<br>\n",
    "Ein \"Learning Model\" hingegen lernt aus einem DataFrame und predictet etwas, welches es als DataFrame wiederum dann ausgeben kann.\n",
    "<br>\n",
    "Ein Estimator implementiert eine fit()-Methode, welhe ein DataFrame nimmt und ein Model produziert (=Transformer).\n",
    "<br>\n",
    "<br>\n",
    "Eine Pipeline ist eine Sequenz an Phasen bestehend aus Transformern und Estimatorn. BEim Durchlaufen der \"Stages\" wird ein DataFrame entsprechend verarbeitet."
   ]
  },
  {
   "cell_type": "markdown",
   "id": "56d28224",
   "metadata": {},
   "source": [
    "## Stadt hinzufügen (vor Feature-Vektor-ERstellung)\n",
    "Um Problemen vorzubeugen, ist noch die Stadt zu jeder Zeile hinzuzufügen. Diese würde ansonten beim Zusammenführen der Daten verlorengehen (da aktuell nur im NAmen des Files enthalten und nicht im eigentlichen File).\n",
    "<br>\n",
    "Mittels Sparks lit fügen wir eine zusätzliche Spalte mit dem Städte-Kürzel ein (Spaltenname \"stadt\" und die beiden Kürzel \"zh\" und \"sg\").\n"
   ]
  },
  {
   "cell_type": "code",
   "id": "55eca907",
   "metadata": {
    "ExecuteTime": {
     "end_time": "2025-06-17T19:58:02.705545Z",
     "start_time": "2025-06-17T19:58:02.589042Z"
    }
   },
   "source": "df_zh = spark.read.option(\"header\", True).csv(\"data/air_quality/airquality_zurich.csv\")",
   "outputs": [],
   "execution_count": 144
  },
  {
   "cell_type": "code",
   "id": "b4a5c4e1",
   "metadata": {
    "ExecuteTime": {
     "end_time": "2025-06-17T19:58:02.814900Z",
     "start_time": "2025-06-17T19:58:02.714506Z"
    }
   },
   "source": [
    "from pyspark.sql.functions import lit\n",
    "\n",
    "df_zh = spark.read.option(\"header\", True) \\\n",
    "                .option(\"delimiter\", \";\") \\\n",
    "                .csv(\"data/air_quality/airquality_zurich.csv\") #Um Probleme zu vermeiden, spezifizieren wir hier kurz den korrekten Delimiter im CSV-File (;)\n",
    "\n",
    "df_zh = df_zh.withColumn(\"stadt\", lit(\"zh\"))\n",
    "df_zh.head()"
   ],
   "outputs": [
    {
     "data": {
      "text/plain": [
       "Row(Startzeit='02.01.2020 00:00', Endzeit='03.01.2020 00:00', PM10='16.21', PM2.5='18.43', Ozon=None, CO='21.11', NO2='18.87', NO=None, stadt='zh')"
      ]
     },
     "execution_count": 145,
     "metadata": {},
     "output_type": "execute_result"
    }
   ],
   "execution_count": 145
  },
  {
   "cell_type": "code",
   "id": "338dfce7",
   "metadata": {
    "scrolled": true,
    "ExecuteTime": {
     "end_time": "2025-06-17T19:58:02.955001Z",
     "start_time": "2025-06-17T19:58:02.836411Z"
    }
   },
   "source": [
    "df_sg = spark.read.option(\"header\", True) \\\n",
    "                .option(\"delimiter\", \";\") \\\n",
    "                .csv(\"data/air_quality/airquality_stgallen.csv\")\n",
    "\n",
    "df_sg = df_sg.withColumn(\"stadt\", lit(\"sg\"))\n",
    "df_sg.head()"
   ],
   "outputs": [
    {
     "data": {
      "text/plain": [
       "Row(Startzeit='02.01.2020 00:00', Endzeit='03.01.2020 00:00', PM10='17.46', PM2.5='17.42', Ozon='23.51', CO=None, NO2='42.05', NO='52.41', stadt='sg')"
      ]
     },
     "execution_count": 146,
     "metadata": {},
     "output_type": "execute_result"
    }
   ],
   "execution_count": 146
  },
  {
   "cell_type": "markdown",
   "id": "fc9867ff",
   "metadata": {},
   "source": [
    "Der <b>Dezimalpunkt</b> im HEader könnte ein PRoblem darstellen (PM2.5). DAher ändern wir diesen zu einem _\n"
   ]
  },
  {
   "cell_type": "code",
   "id": "7f5fbe81",
   "metadata": {
    "ExecuteTime": {
     "end_time": "2025-06-17T19:58:03.001066Z",
     "start_time": "2025-06-17T19:58:02.980928Z"
    }
   },
   "source": [
    "df_zh = df_zh.withColumnRenamed(\"PM2.5\", \"PM2_5\")"
   ],
   "outputs": [],
   "execution_count": 147
  },
  {
   "cell_type": "code",
   "id": "9439fed7",
   "metadata": {
    "ExecuteTime": {
     "end_time": "2025-06-17T19:58:03.017004Z",
     "start_time": "2025-06-17T19:58:03.009043Z"
    }
   },
   "source": [
    "df_sg = df_sg.withColumnRenamed(\"PM2.5\", \"PM2_5\")"
   ],
   "outputs": [],
   "execution_count": 148
  },
  {
   "cell_type": "code",
   "id": "b3aa0c10",
   "metadata": {
    "ExecuteTime": {
     "end_time": "2025-06-17T19:58:03.094494Z",
     "start_time": "2025-06-17T19:58:03.026534Z"
    }
   },
   "source": [
    "df_sg.head()"
   ],
   "outputs": [
    {
     "data": {
      "text/plain": [
       "Row(Startzeit='02.01.2020 00:00', Endzeit='03.01.2020 00:00', PM10='17.46', PM2_5='17.42', Ozon='23.51', CO=None, NO2='42.05', NO='52.41', stadt='sg')"
      ]
     },
     "execution_count": 149,
     "metadata": {},
     "output_type": "execute_result"
    }
   ],
   "execution_count": 149
  },
  {
   "cell_type": "markdown",
   "id": "f5263822",
   "metadata": {},
   "source": [
    "## Feature-Vektor erstellen\n",
    "ML-Algorithmen erwarten meistens die Daten zusammen in einem Feature-Vektor."
   ]
  },
  {
   "cell_type": "code",
   "id": "ee56d2b5",
   "metadata": {
    "ExecuteTime": {
     "end_time": "2025-06-17T19:58:03.188031Z",
     "start_time": "2025-06-17T19:58:03.107505Z"
    }
   },
   "source": [
    "#Zusammenführen der Tabellen ZH und SG\n",
    "df_alle = df_zh.unionByName(df_sg)\n",
    "df_alle.head()"
   ],
   "outputs": [
    {
     "data": {
      "text/plain": [
       "Row(Startzeit='02.01.2020 00:00', Endzeit='03.01.2020 00:00', PM10='16.21', PM2_5='18.43', Ozon=None, CO='21.11', NO2='18.87', NO=None, stadt='zh')"
      ]
     },
     "execution_count": 150,
     "metadata": {},
     "output_type": "execute_result"
    }
   ],
   "execution_count": 150
  },
  {
   "cell_type": "code",
   "id": "69c3e7b1",
   "metadata": {
    "ExecuteTime": {
     "end_time": "2025-06-17T19:58:03.343682Z",
     "start_time": "2025-06-17T19:58:03.205039Z"
    }
   },
   "source": [
    "#Wir wollen auch kurz prüfen, ob das geklappt hat und Einträge für beide Städte vorhanden sind\n",
    "df_alle.select(\"stadt\").distinct().show()\n",
    "#korrekter Output wäre stadt zh sg in einer kleinen TAbelle"
   ],
   "outputs": [
    {
     "name": "stdout",
     "output_type": "stream",
     "text": [
      "+-----+\n",
      "|stadt|\n",
      "+-----+\n",
      "|   zh|\n",
      "|   sg|\n",
      "+-----+\n",
      "\n"
     ]
    }
   ],
   "execution_count": 151
  },
  {
   "cell_type": "markdown",
   "id": "79f4d806",
   "metadata": {},
   "source": [
    "Zum Erstellen eines Feature-Vektors müssen wir die Feature-Spalten auswählen. Dabei handelt es sich um die numerischen Werte (diese können wir nachher auch standardisieren). Wegzulassen sind dabei in umserem FAll die Zeitstempel als auch die Information zur Stadt."
   ]
  },
  {
   "cell_type": "code",
   "id": "d2ddf0e7",
   "metadata": {
    "scrolled": false,
    "ExecuteTime": {
     "end_time": "2025-06-17T19:58:03.374985Z",
     "start_time": "2025-06-17T19:58:03.356978Z"
    }
   },
   "source": [
    "df_alle.printSchema()\n",
    "#BEim Printen des Schemas zeigt sich, dass alle COlumns noch als String interpretiert werden, darum funktioniert dabei assembler.transform nicht\n",
    "#Wir müssen also zuerst die Strings umwandeln"
   ],
   "outputs": [
    {
     "name": "stdout",
     "output_type": "stream",
     "text": [
      "root\n",
      " |-- Startzeit: string (nullable = true)\n",
      " |-- Endzeit: string (nullable = true)\n",
      " |-- PM10: string (nullable = true)\n",
      " |-- PM2_5: string (nullable = true)\n",
      " |-- Ozon: string (nullable = true)\n",
      " |-- CO: string (nullable = true)\n",
      " |-- NO2: string (nullable = true)\n",
      " |-- NO: string (nullable = true)\n",
      " |-- stadt: string (nullable = false)\n",
      "\n"
     ]
    }
   ],
   "execution_count": 152
  },
  {
   "cell_type": "code",
   "id": "1218be33",
   "metadata": {
    "scrolled": true,
    "ExecuteTime": {
     "end_time": "2025-06-17T19:58:03.405669Z",
     "start_time": "2025-06-17T19:58:03.395480Z"
    }
   },
   "source": [
    "df_alle.columns\n"
   ],
   "outputs": [
    {
     "data": {
      "text/plain": [
       "['Startzeit', 'Endzeit', 'PM10', 'PM2_5', 'Ozon', 'CO', 'NO2', 'NO', 'stadt']"
      ]
     },
     "execution_count": 153,
     "metadata": {},
     "output_type": "execute_result"
    }
   ],
   "execution_count": 153
  },
  {
   "cell_type": "code",
   "id": "1da49ec6",
   "metadata": {
    "ExecuteTime": {
     "end_time": "2025-06-17T19:58:03.452850Z",
     "start_time": "2025-06-17T19:58:03.434843Z"
    }
   },
   "source": [
    "from pyspark.sql.functions import to_timestamp\n",
    "\n",
    "df_alle = df_alle.withColumn(\"Startzeit\", to_timestamp(\"Startzeit\", \"dd.MM.yyyy HH:mm\")) \\\n",
    "                   .withColumn(\"Endzeit\", to_timestamp(\"Endzeit\", \"dd.MM.yyyy HH:mm\"))"
   ],
   "outputs": [],
   "execution_count": 154
  },
  {
   "cell_type": "code",
   "id": "4aa2cb09",
   "metadata": {
    "ExecuteTime": {
     "end_time": "2025-06-17T19:58:03.482996Z",
     "start_time": "2025-06-17T19:58:03.465755Z"
    }
   },
   "source": [
    "umweltfaktoren = [\"PM10\", \"PM2_5\", \"Ozon\", \"CO\", \"NO2\", \"NO\"]\n",
    "for c in umweltfaktoren:\n",
    "    if c not in df_alle.columns:\n",
    "        print(f\"Spalte nicht gefunden, wg. NAmensproblem: '{c}'\")\n",
    "    else: \n",
    "        print(f\"Spalte '{c}'vorhanden\")\n"
   ],
   "outputs": [
    {
     "name": "stdout",
     "output_type": "stream",
     "text": [
      "Spalte 'PM10'vorhanden\n",
      "Spalte 'PM2_5'vorhanden\n",
      "Spalte 'Ozon'vorhanden\n",
      "Spalte 'CO'vorhanden\n",
      "Spalte 'NO2'vorhanden\n",
      "Spalte 'NO'vorhanden\n"
     ]
    }
   ],
   "execution_count": 155
  },
  {
   "cell_type": "code",
   "id": "21857c93",
   "metadata": {
    "ExecuteTime": {
     "end_time": "2025-06-17T19:58:03.574941Z",
     "start_time": "2025-06-17T19:58:03.494996Z"
    }
   },
   "source": [
    "from pyspark.sql.functions import col, regexp_replace\n",
    "\n",
    "umweltfaktoren = [\"PM10\", \"PM2_5\", \"Ozon\", \"CO\", \"NO2\", \"NO\"]\n",
    "\n",
    "for c in umweltfaktoren: #hier noch eine Vorsichtsmassnahme, indem allfällige Kommas zu Punkten für Dezimaldarstellung ugmwandelt werden\n",
    "    df_alle = df_alle.withColumn(c, regexp_replace(col(c), \",\", \".\").cast(\"double\"))\n"
   ],
   "outputs": [],
   "execution_count": 156
  },
  {
   "cell_type": "code",
   "id": "242123a6",
   "metadata": {
    "ExecuteTime": {
     "end_time": "2025-06-17T19:58:03.621662Z",
     "start_time": "2025-06-17T19:58:03.584853Z"
    }
   },
   "source": [
    "from pyspark.ml.feature import VectorAssembler\n",
    "\n",
    "umweltfaktoren = [\"PM10\", \"PM2_5\", \"Ozon\", \"CO\", \"NO2\", \"NO\"]\n",
    "\n",
    "assembler = VectorAssembler(inputCols=umweltfaktoren, outputCol=\"rawFeatures\")\n",
    "df_vector = assembler.transform(df_alle).dropna(subset=[\"rawFeatures\"])\n"
   ],
   "outputs": [],
   "execution_count": 157
  },
  {
   "cell_type": "code",
   "id": "b3c8a665",
   "metadata": {
    "scrolled": true,
    "ExecuteTime": {
     "end_time": "2025-06-17T19:58:03.667668Z",
     "start_time": "2025-06-17T19:58:03.631583Z"
    }
   },
   "source": [
    "df_vector.select(umweltfaktoren).printSchema()\n",
    "#Sind wirklich alle nun Doubles und keine Strings? Wichtig für weitere ARbeit"
   ],
   "outputs": [
    {
     "name": "stdout",
     "output_type": "stream",
     "text": [
      "root\n",
      " |-- PM10: double (nullable = true)\n",
      " |-- PM2_5: double (nullable = true)\n",
      " |-- Ozon: double (nullable = true)\n",
      " |-- CO: double (nullable = true)\n",
      " |-- NO2: double (nullable = true)\n",
      " |-- NO: double (nullable = true)\n",
      "\n"
     ]
    }
   ],
   "execution_count": 158
  },
  {
   "cell_type": "code",
   "id": "8405df00",
   "metadata": {
    "ExecuteTime": {
     "end_time": "2025-06-17T19:58:03.991637Z",
     "start_time": "2025-06-17T19:58:03.681591Z"
    }
   },
   "source": [
    "df_alle.select(umweltfaktoren).summary().show() #Kurzer Blick auf die SPalten, ggf fällt hier noch etwas auf\n"
   ],
   "outputs": [
    {
     "name": "stdout",
     "output_type": "stream",
     "text": [
      "+-------+------------------+------------------+-----------------+-----------------+------------------+-----------------+\n",
      "|summary|              PM10|             PM2_5|             Ozon|               CO|               NO2|               NO|\n",
      "+-------+------------------+------------------+-----------------+-----------------+------------------+-----------------+\n",
      "|  count|              3941|              3941|             1974|             1946|              3923|             1976|\n",
      "|   mean|11.130573458513078|11.073854351687379|37.87049645390075|38.23508221993833|20.987167983685925|11.69188765182186|\n",
      "| stddev| 6.824311268571438| 7.037703946651219|9.039133563963098|9.487602697977826|13.562839208788182|9.949223102016587|\n",
      "|    min|              1.46|              1.39|            11.55|            14.32|              0.95|              0.0|\n",
      "|    25%|              6.43|              6.09|             32.4|            32.16|             10.99|             5.96|\n",
      "|    50%|              9.74|              9.16|            37.71|            37.61|             18.62|             9.27|\n",
      "|    75%|             14.18|             14.29|            43.25|            43.79|             27.58|            13.64|\n",
      "|    max|             97.45|             77.64|            66.53|            70.29|            114.46|           153.79|\n",
      "+-------+------------------+------------------+-----------------+-----------------+------------------+-----------------+\n",
      "\n"
     ]
    }
   ],
   "execution_count": 159
  },
  {
   "cell_type": "code",
   "id": "d3ba204a",
   "metadata": {
    "scrolled": true,
    "ExecuteTime": {
     "end_time": "2025-06-17T19:58:04.132456Z",
     "start_time": "2025-06-17T19:58:04.003643Z"
    }
   },
   "source": [
    "from pyspark.sql.functions import isnan\n",
    "\n",
    "df_alle.select([\n",
    "    col(c).isNull().alias(f\"{c}_null\") |\n",
    "    isnan(c).alias(f\"{c}_nan\") for c in umweltfaktoren\n",
    "]).show()\n"
   ],
   "outputs": [
    {
     "name": "stdout",
     "output_type": "stream",
     "text": [
      "+--------------------------------------------------------+------------------------------------------------------------+--------------------------------------------------------+------------------------------------------------+----------------------------------------------------+------------------------------------------------+\n",
      "|((PM10 IS NULL) AS PM10_null OR isnan(PM10) AS PM10_nan)|((PM2_5 IS NULL) AS PM2_5_null OR isnan(PM2_5) AS PM2_5_nan)|((Ozon IS NULL) AS Ozon_null OR isnan(Ozon) AS Ozon_nan)|((CO IS NULL) AS CO_null OR isnan(CO) AS CO_nan)|((NO2 IS NULL) AS NO2_null OR isnan(NO2) AS NO2_nan)|((NO IS NULL) AS NO_null OR isnan(NO) AS NO_nan)|\n",
      "+--------------------------------------------------------+------------------------------------------------------------+--------------------------------------------------------+------------------------------------------------+----------------------------------------------------+------------------------------------------------+\n",
      "|                                                   false|                                                       false|                                                    true|                                           false|                                               false|                                            true|\n",
      "|                                                   false|                                                       false|                                                    true|                                           false|                                               false|                                            true|\n",
      "|                                                   false|                                                       false|                                                    true|                                           false|                                               false|                                            true|\n",
      "|                                                   false|                                                       false|                                                    true|                                           false|                                               false|                                            true|\n",
      "|                                                   false|                                                       false|                                                    true|                                           false|                                               false|                                            true|\n",
      "|                                                   false|                                                       false|                                                    true|                                           false|                                               false|                                            true|\n",
      "|                                                   false|                                                       false|                                                    true|                                           false|                                               false|                                            true|\n",
      "|                                                   false|                                                       false|                                                    true|                                           false|                                               false|                                            true|\n",
      "|                                                   false|                                                       false|                                                    true|                                           false|                                               false|                                            true|\n",
      "|                                                   false|                                                       false|                                                    true|                                           false|                                               false|                                            true|\n",
      "|                                                   false|                                                       false|                                                    true|                                           false|                                               false|                                            true|\n",
      "|                                                   false|                                                       false|                                                    true|                                           false|                                               false|                                            true|\n",
      "|                                                   false|                                                       false|                                                    true|                                           false|                                               false|                                            true|\n",
      "|                                                   false|                                                       false|                                                    true|                                           false|                                               false|                                            true|\n",
      "|                                                   false|                                                       false|                                                    true|                                           false|                                               false|                                            true|\n",
      "|                                                   false|                                                       false|                                                    true|                                           false|                                               false|                                            true|\n",
      "|                                                   false|                                                       false|                                                    true|                                           false|                                               false|                                            true|\n",
      "|                                                   false|                                                       false|                                                    true|                                           false|                                               false|                                            true|\n",
      "|                                                   false|                                                       false|                                                    true|                                           false|                                               false|                                            true|\n",
      "|                                                   false|                                                       false|                                                    true|                                           false|                                               false|                                            true|\n",
      "+--------------------------------------------------------+------------------------------------------------------------+--------------------------------------------------------+------------------------------------------------+----------------------------------------------------+------------------------------------------------+\n",
      "only showing top 20 rows\n",
      "\n"
     ]
    }
   ],
   "execution_count": 160
  },
  {
   "cell_type": "markdown",
   "id": "4453e595",
   "metadata": {},
   "source": [
    "### Ungültige Werte\n",
    "Bevor wir weiterarbeiten müssen wir wissen, ob wir Rows mit falschen Werten droppen oder ob wir die Werte besser einfüllen (Ersteres ist nur dann geeignet, wenn nicht viele betroffen sind)."
   ]
  },
  {
   "cell_type": "code",
   "id": "70e0cd4d",
   "metadata": {
    "ExecuteTime": {
     "end_time": "2025-06-17T19:58:04.256574Z",
     "start_time": "2025-06-17T19:58:04.143467Z"
    }
   },
   "source": [
    "df_alle.filter(\"PM10 is null OR `PM2_5` is null OR Ozon is null OR CO is null OR NO2 is null OR NO is null\").count()\n",
    "\n"
   ],
   "outputs": [
    {
     "data": {
      "text/plain": [
       "3954"
      ]
     },
     "execution_count": 161,
     "metadata": {},
     "output_type": "execute_result"
    }
   ],
   "execution_count": 161
  },
  {
   "cell_type": "code",
   "id": "807bd241",
   "metadata": {
    "ExecuteTime": {
     "end_time": "2025-06-17T19:58:04.396341Z",
     "start_time": "2025-06-17T19:58:04.266574Z"
    }
   },
   "source": [
    "total = df_alle.count()\n",
    "\n",
    "fehlend = df_alle.filter(\n",
    "    \"PM10 is null OR `PM2_5` is null OR Ozon is null OR CO is null OR NO2 is null OR NO is null\"\n",
    ").count()\n",
    "\n",
    "print(f\"Fehlend {fehlend} von total {total} Rows ({(fehlend/total)*100:.2f}%)\")\n"
   ],
   "outputs": [
    {
     "name": "stdout",
     "output_type": "stream",
     "text": [
      "Fehlend 3954 von total 3954 Rows (100.00%)\n"
     ]
    }
   ],
   "execution_count": 162
  },
  {
   "cell_type": "code",
   "id": "3b91721c",
   "metadata": {
    "scrolled": true,
    "ExecuteTime": {
     "end_time": "2025-06-17T19:58:04.642719Z",
     "start_time": "2025-06-17T19:58:04.414389Z"
    }
   },
   "source": [
    "from pyspark.sql.functions import count, when, col, isnan\n",
    "\n",
    "df_alle.select([\n",
    "    count(when(col(c).isNull() | isnan(c), c)).alias(f\"{c}_missing\") for c in umweltfaktoren\n",
    "]).show()\n",
    "#Hier stellt sich leider heraus, dass wir etliche fehlende Werte zu haben scheinen\n",
    "#U.a. haben wir z.B. bei Ozon alleine 1980 und bei CO 2008 oder bei NO 1978 fehlende WErte"
   ],
   "outputs": [
    {
     "name": "stdout",
     "output_type": "stream",
     "text": [
      "+------------+-------------+------------+----------+-----------+----------+\n",
      "|PM10_missing|PM2_5_missing|Ozon_missing|CO_missing|NO2_missing|NO_missing|\n",
      "+------------+-------------+------------+----------+-----------+----------+\n",
      "|          13|           13|        1980|      2008|         31|      1978|\n",
      "+------------+-------------+------------+----------+-----------+----------+\n",
      "\n"
     ]
    }
   ],
   "execution_count": 163
  },
  {
   "cell_type": "markdown",
   "id": "329d1ed4",
   "metadata": {},
   "source": [
    "Wir wollen nicht alle Rows wegwerfen, die fehlende WErte haben...aber es wäre auch sinnlos, diese mit Nullen zu befüllen, da es sich um so viele Rows handelt.\n",
    "<br>\n",
    "Wir wollen die Information speichern, dass hier Werte fehlen. Das können wir, indem wir eine neue Spalte erstellen, in der wir diese Information speichern (binär). \n",
    "<br>\n",
    "Wir erstellen also eine Spalte für Ozon_fehlend, CO_fehlend und NO_fehlend und befüllen dies jeweils mit 0 bzw. 1 (Letzteres für fehlende Werte). D.h. 0 = Wert vorhanden, 1 = Wert fehlt.\n",
    "<br>\n",
    "Die anderen drei Spalten mit 13 oder 31 fehlenden Werten droppen wir, da es sich um eine kleine Anzahl handelt."
   ]
  },
  {
   "cell_type": "code",
   "id": "8b38ebdc",
   "metadata": {
    "ExecuteTime": {
     "end_time": "2025-06-17T19:58:04.674788Z",
     "start_time": "2025-06-17T19:58:04.654744Z"
    }
   },
   "source": [
    "#Droppen der Reihen mit fehlenden Werten für PM10, PM2_5 und NO2\n",
    "cols_to_drop_on = [\"PM10\", \"PM2_5\", \"NO2\"]\n",
    "\n",
    "df_cleaned = df_alle.dropna(subset=cols_to_drop_on)\n"
   ],
   "outputs": [],
   "execution_count": 164
  },
  {
   "cell_type": "code",
   "id": "c3f86a8e",
   "metadata": {
    "ExecuteTime": {
     "end_time": "2025-06-17T19:58:04.860539Z",
     "start_time": "2025-06-17T19:58:04.683742Z"
    }
   },
   "source": [
    "#Wir prüfen, ob das geklappt hat und jetzt jeweils 0 bei den Spalten steht\n",
    "from pyspark.sql.functions import count, when, col, isnan\n",
    "\n",
    "df_cleaned.select([\n",
    "    count(when(col(c).isNull() | isnan(c), c)).alias(f\"{c}_missing\") for c in umweltfaktoren\n",
    "]).show()"
   ],
   "outputs": [
    {
     "name": "stdout",
     "output_type": "stream",
     "text": [
      "+------------+-------------+------------+----------+-----------+----------+\n",
      "|PM10_missing|PM2_5_missing|Ozon_missing|CO_missing|NO2_missing|NO_missing|\n",
      "+------------+-------------+------------+----------+-----------+----------+\n",
      "|           0|            0|        1942|      1975|          0|      1942|\n",
      "+------------+-------------+------------+----------+-----------+----------+\n",
      "\n"
     ]
    }
   ],
   "execution_count": 165
  },
  {
   "cell_type": "code",
   "id": "160f4e4d",
   "metadata": {
    "ExecuteTime": {
     "end_time": "2025-06-17T19:58:04.906541Z",
     "start_time": "2025-06-17T19:58:04.875538Z"
    }
   },
   "source": [
    "#im nächsten Schritt werden wir sep. Spalten zum Erhalten der Information zu den fehlenden WErten erstellen\n",
    "#das ändert zwar nichts daran, dass wir die Felder irgendwie befüllen müssen, erhält aber die Information, dass der Wert gefhelt hatte\n",
    "from pyspark.sql.functions import when, col\n",
    "\n",
    "cols_to_flag = [\"Ozon\", \"CO\", \"NO\"]\n",
    "\n",
    "for c in cols_to_flag:\n",
    "    df_cleaned = df_cleaned.withColumn(f\"{c}_missing\", when(col(c).isNull(), 1).otherwise(0))\n"
   ],
   "outputs": [],
   "execution_count": 166
  },
  {
   "cell_type": "code",
   "id": "ebe02b25",
   "metadata": {
    "scrolled": true,
    "ExecuteTime": {
     "end_time": "2025-06-17T19:58:05.000097Z",
     "start_time": "2025-06-17T19:58:04.916544Z"
    }
   },
   "source": [
    "df_cleaned.select(\"Ozon\", \"Ozon_missing\", \"CO\", \"CO_missing\", \"NO\", \"NO_missing\").show(10)\n",
    "#Wir prüfen kurz, ob das geklappt hat und wir nun jeweils dazu passende \"_missing\"-Spalten haben mit 1 und 0"
   ],
   "outputs": [
    {
     "name": "stdout",
     "output_type": "stream",
     "text": [
      "+----+------------+-----+----------+----+----------+\n",
      "|Ozon|Ozon_missing|   CO|CO_missing|  NO|NO_missing|\n",
      "+----+------------+-----+----------+----+----------+\n",
      "|null|           1|21.11|         0|null|         1|\n",
      "|null|           1| 26.5|         0|null|         1|\n",
      "|null|           1|36.66|         0|null|         1|\n",
      "|null|           1|35.72|         0|null|         1|\n",
      "|null|           1|28.78|         0|null|         1|\n",
      "|null|           1|31.55|         0|null|         1|\n",
      "|null|           1|30.09|         0|null|         1|\n",
      "|null|           1| 35.4|         0|null|         1|\n",
      "|null|           1|40.12|         0|null|         1|\n",
      "|null|           1|35.56|         0|null|         1|\n",
      "+----+------------+-----+----------+----+----------+\n",
      "only showing top 10 rows\n",
      "\n"
     ]
    }
   ],
   "execution_count": 167
  },
  {
   "cell_type": "markdown",
   "id": "c140e2b3",
   "metadata": {},
   "source": [
    "Nun dürfen wir nicht vergessen, dass wir dennoch die empty Felder mit etwas befüllen müssen.\n",
    "Wir wählen mal 0 als Wert, da es uns fast schon zu sehr an Einträgen fehlt, um einen MEdian oder ÄHnliches zu berechnen."
   ]
  },
  {
   "cell_type": "code",
   "id": "0ebdb46c",
   "metadata": {
    "ExecuteTime": {
     "end_time": "2025-06-17T19:58:05.046687Z",
     "start_time": "2025-06-17T19:58:05.019615Z"
    }
   },
   "source": [
    "df_cleaned = df_cleaned.fillna({\n",
    "    \"CO\": 0,\n",
    "    \"Ozon\": 0,\n",
    "    \"NO\": 0\n",
    "})\n",
    "#überall wo na ist, wird eine 0 eingefügt"
   ],
   "outputs": [],
   "execution_count": 168
  },
  {
   "cell_type": "code",
   "id": "49f1f5e9",
   "metadata": {
    "scrolled": true,
    "ExecuteTime": {
     "end_time": "2025-06-17T19:58:05.264816Z",
     "start_time": "2025-06-17T19:58:05.054599Z"
    }
   },
   "source": [
    "#neu sollten wir hier also überall 0 als Wert für die Anzahl an NA-Werten erhalten\n",
    "from pyspark.sql.functions import count, when, col, isnan\n",
    "\n",
    "df_cleaned.select([\n",
    "    count(when(col(c).isNull() | isnan(c), c)).alias(f\"{c}_missing\") for c in umweltfaktoren\n",
    "]).show()"
   ],
   "outputs": [
    {
     "name": "stdout",
     "output_type": "stream",
     "text": [
      "+------------+-------------+------------+----------+-----------+----------+\n",
      "|PM10_missing|PM2_5_missing|Ozon_missing|CO_missing|NO2_missing|NO_missing|\n",
      "+------------+-------------+------------+----------+-----------+----------+\n",
      "|           0|            0|           0|         0|          0|         0|\n",
      "+------------+-------------+------------+----------+-----------+----------+\n",
      "\n"
     ]
    }
   ],
   "execution_count": 169
  },
  {
   "cell_type": "markdown",
   "id": "02eeb991",
   "metadata": {},
   "source": [
    "### Zeiten als Features extrahieren\n",
    "\n",
    "\n"
   ]
  },
  {
   "cell_type": "code",
   "id": "5773643a",
   "metadata": {
    "ExecuteTime": {
     "end_time": "2025-06-17T19:58:05.389193Z",
     "start_time": "2025-06-17T19:58:05.285003Z"
    }
   },
   "source": [
    "from pyspark.sql.functions import year, month, dayofmonth, dayofweek, hour\n",
    "\n",
    "df_cleaned = df_cleaned.withColumn(\"year_s\", year(\"Startzeit\")) \\\n",
    "                 .withColumn(\"month_s\", month(\"Startzeit\")) \\\n",
    "                 .withColumn(\"day_s\", dayofmonth(\"Startzeit\")) \\\n",
    "                 .withColumn(\"weekday_s\", dayofweek(\"Startzeit\")) \\\n",
    "                 .withColumn(\"hour_s\", hour(\"Startzeit\"))\n",
    "\n",
    "df_cleaned = df_cleaned.withColumn(\"year_e\", year(\"Endzeit\")) \\\n",
    "                 .withColumn(\"month_e\", month(\"Endzeit\")) \\\n",
    "                 .withColumn(\"day_e\", dayofmonth(\"Endzeit\")) \\\n",
    "                 .withColumn(\"weekday_e\", dayofweek(\"Endzeit\")) \\\n",
    "                 .withColumn(\"hour_e\", hour(\"Endzeit\"))"
   ],
   "outputs": [],
   "execution_count": 170
  },
  {
   "cell_type": "code",
   "id": "e222f84a",
   "metadata": {
    "scrolled": true,
    "ExecuteTime": {
     "end_time": "2025-06-17T19:58:05.499117Z",
     "start_time": "2025-06-17T19:58:05.397195Z"
    }
   },
   "source": [
    "#Spalten-Preview nach Zeiten-Extraktion\n",
    "df_cleaned.select(\"Startzeit\", \"year_s\", \"month_s\", \"day_s\", \"weekday_s\", \"hour_S\").show(10, truncate=False)\n"
   ],
   "outputs": [
    {
     "name": "stdout",
     "output_type": "stream",
     "text": [
      "+-------------------+------+-------+-----+---------+------+\n",
      "|Startzeit          |year_s|month_s|day_s|weekday_s|hour_S|\n",
      "+-------------------+------+-------+-----+---------+------+\n",
      "|2020-01-02 00:00:00|2020  |1      |2    |5        |0     |\n",
      "|2020-01-03 00:00:00|2020  |1      |3    |6        |0     |\n",
      "|2020-01-04 00:00:00|2020  |1      |4    |7        |0     |\n",
      "|2020-01-05 00:00:00|2020  |1      |5    |1        |0     |\n",
      "|2020-01-06 00:00:00|2020  |1      |6    |2        |0     |\n",
      "|2020-01-07 00:00:00|2020  |1      |7    |3        |0     |\n",
      "|2020-01-08 00:00:00|2020  |1      |8    |4        |0     |\n",
      "|2020-01-09 00:00:00|2020  |1      |9    |5        |0     |\n",
      "|2020-01-10 00:00:00|2020  |1      |10   |6        |0     |\n",
      "|2020-01-11 00:00:00|2020  |1      |11   |7        |0     |\n",
      "+-------------------+------+-------+-----+---------+------+\n",
      "only showing top 10 rows\n",
      "\n"
     ]
    }
   ],
   "execution_count": 171
  },
  {
   "cell_type": "code",
   "id": "8f805289",
   "metadata": {
    "ExecuteTime": {
     "end_time": "2025-06-17T19:58:05.608432Z",
     "start_time": "2025-06-17T19:58:05.509179Z"
    }
   },
   "source": [
    "df_cleaned.select(\"Endzeit\", \"year_e\", \"month_e\", \"day_e\", \"weekday_e\", \"hour_e\").show(10, truncate=False)"
   ],
   "outputs": [
    {
     "name": "stdout",
     "output_type": "stream",
     "text": [
      "+-------------------+------+-------+-----+---------+------+\n",
      "|Endzeit            |year_e|month_e|day_e|weekday_e|hour_e|\n",
      "+-------------------+------+-------+-----+---------+------+\n",
      "|2020-01-03 00:00:00|2020  |1      |3    |6        |0     |\n",
      "|2020-01-04 00:00:00|2020  |1      |4    |7        |0     |\n",
      "|2020-01-05 00:00:00|2020  |1      |5    |1        |0     |\n",
      "|2020-01-06 00:00:00|2020  |1      |6    |2        |0     |\n",
      "|2020-01-07 00:00:00|2020  |1      |7    |3        |0     |\n",
      "|2020-01-08 00:00:00|2020  |1      |8    |4        |0     |\n",
      "|2020-01-09 00:00:00|2020  |1      |9    |5        |0     |\n",
      "|2020-01-10 00:00:00|2020  |1      |10   |6        |0     |\n",
      "|2020-01-11 00:00:00|2020  |1      |11   |7        |0     |\n",
      "|2020-01-12 00:00:00|2020  |1      |12   |1        |0     |\n",
      "+-------------------+------+-------+-----+---------+------+\n",
      "only showing top 10 rows\n",
      "\n"
     ]
    }
   ],
   "execution_count": 172
  },
  {
   "cell_type": "markdown",
   "id": "42352c00",
   "metadata": {},
   "source": [
    "#### VEktor erstellen\n"
   ]
  },
  {
   "cell_type": "code",
   "id": "96121be9",
   "metadata": {
    "ExecuteTime": {
     "end_time": "2025-06-17T19:58:05.640019Z",
     "start_time": "2025-06-17T19:58:05.620952Z"
    }
   },
   "source": [
    "#wir definieren, welche Spalten wir gerne als Features hätten \n",
    "#numerische Spalten als Features, keine Strings oder Timestamps\n",
    "feature_cols = [\"PM10\", \"PM2_5\", \"Ozon\", \"CO\", \"NO2\", \"NO\", \"Ozon_missing\", \"CO_missing\", \"NO_missing\"]\n"
   ],
   "outputs": [],
   "execution_count": 173
  },
  {
   "cell_type": "code",
   "id": "2d3deb10",
   "metadata": {
    "ExecuteTime": {
     "end_time": "2025-06-17T19:58:05.702378Z",
     "start_time": "2025-06-17T19:58:05.650444Z"
    }
   },
   "source": [
    "#Feature-Vektor erstellen mit VectorAssembler\n",
    "from pyspark.ml.feature import VectorAssembler\n",
    "\n",
    "assembler = VectorAssembler(inputCols=feature_cols, outputCol=\"features\")\n",
    "df_vector = assembler.transform(df_cleaned)  # NAme des aktuellen DataFrames ist df_cleaned"
   ],
   "outputs": [],
   "execution_count": 174
  },
  {
   "cell_type": "code",
   "id": "f898b54a",
   "metadata": {
    "scrolled": true,
    "ExecuteTime": {
     "end_time": "2025-06-17T19:58:05.733136Z",
     "start_time": "2025-06-17T19:58:05.711384Z"
    }
   },
   "source": [
    "df_vector.select(\"Ozon_missing\", \"CO_missing\", \"NO_missing\").printSchema()\n"
   ],
   "outputs": [
    {
     "name": "stdout",
     "output_type": "stream",
     "text": [
      "root\n",
      " |-- Ozon_missing: integer (nullable = false)\n",
      " |-- CO_missing: integer (nullable = false)\n",
      " |-- NO_missing: integer (nullable = false)\n",
      "\n"
     ]
    }
   ],
   "execution_count": 175
  },
  {
   "cell_type": "code",
   "id": "dd118971",
   "metadata": {
    "ExecuteTime": {
     "end_time": "2025-06-17T19:58:05.858203Z",
     "start_time": "2025-06-17T19:58:05.746055Z"
    }
   },
   "source": [
    "#Vorschau, ob das geklappt hat mit dem Feature-Vektor\n",
    "df_vector.select(\"features\").show(5, truncate=False)\n"
   ],
   "outputs": [
    {
     "name": "stdout",
     "output_type": "stream",
     "text": [
      "+---------------------------------------------+\n",
      "|features                                     |\n",
      "+---------------------------------------------+\n",
      "|[16.21,18.43,0.0,21.11,18.87,0.0,1.0,0.0,1.0]|\n",
      "|[16.91,20.09,0.0,26.5,26.71,0.0,1.0,0.0,1.0] |\n",
      "|[6.8,8.8,0.0,36.66,13.54,0.0,1.0,0.0,1.0]    |\n",
      "|[8.88,11.52,0.0,35.72,21.15,0.0,1.0,0.0,1.0] |\n",
      "|[19.23,23.17,0.0,28.78,50.18,0.0,1.0,0.0,1.0]|\n",
      "+---------------------------------------------+\n",
      "only showing top 5 rows\n",
      "\n"
     ]
    }
   ],
   "execution_count": 176
  },
  {
   "cell_type": "markdown",
   "id": "e8697005",
   "metadata": {},
   "source": [
    "## Standardisierung der numerischen Daten\n",
    "Standardisieren der numerischen Daten in einen Range von -1 bis 1.\n",
    "<br>\n",
    "Je nach verwendeter MEthode ist das sinnvoll und nützlich (ABhängigkeit von Distanzenberechnung). Zu diesen MEthoden gehört z.B. k-Means, logistische Regression, SVMs. Weniger wichtig ist es bei Tree-Methoden.\n",
    "<br> \n",
    "Der kleinste Wert wird auf -1 gemappt und der grösste auf 1. Der Rest wird entsprechend dazwischen gemappt.\n",
    "<br>\n"
   ]
  },
  {
   "cell_type": "code",
   "id": "a24122ec",
   "metadata": {
    "ExecuteTime": {
     "end_time": "2025-06-17T19:58:06.060026Z",
     "start_time": "2025-06-17T19:58:05.880268Z"
    }
   },
   "source": [
    "#Zum Standardisieren arbeiten wir mit StandardScaler\n",
    "from pyspark.ml.feature import StandardScaler\n",
    "\n",
    "scaler = StandardScaler(\n",
    "    inputCol=\"features\",\n",
    "    outputCol=\"scaledFeatures\",\n",
    "    withMean=True,  # 0 als Mitte\n",
    "    withStd=True    # Einheitsvarianz skalieren\n",
    ")\n",
    "\n",
    "scaler_model = scaler.fit(df_vector)\n",
    "df_scaled = scaler_model.transform(df_vector)\n"
   ],
   "outputs": [],
   "execution_count": 177
  },
  {
   "cell_type": "code",
   "id": "24ad6660",
   "metadata": {
    "ExecuteTime": {
     "end_time": "2025-06-17T19:58:06.154552Z",
     "start_time": "2025-06-17T19:58:06.069134Z"
    }
   },
   "source": [
    "df_scaled.select(\"scaledFeatures\").show(5, truncate=False)\n",
    "#kurze Preview, neu sollten alle Werte zwischen -1 und 1 angezeigt werden"
   ],
   "outputs": [
    {
     "name": "stdout",
     "output_type": "stream",
     "text": [
      "+------------------------------------------------------------------------------------------------------------------------------------------------------------------------------------+\n",
      "|scaledFeatures                                                                                                                                                                      |\n",
      "+------------------------------------------------------------------------------------------------------------------------------------------------------------------------------------+\n",
      "|[0.744823932962183,1.044184325102185,-0.9542476899327169,0.10639229280645303,-0.1550026045052565,-0.6424353017020498,1.0075656563242195,-1.0091115075242836,1.0075656563242195]     |\n",
      "|[0.8473134933270763,1.279692635701333,-0.9542476899327169,0.3724384125288968,0.4237315224635392,-0.6424353017020498,1.0075656563242195,-1.0091115075242836,1.0075656563242195]      |\n",
      "|[-0.6329285856573126,-0.32204762132540266,-0.9542476899327169,0.8739279443248203,-0.5484532290899098,-0.6424353017020498,1.0075656563242195,-1.0091115075242836,1.0075656563242195] |\n",
      "|[-0.32838817771591494,0.06384551411416506,-0.9542476899327169,0.8275302907925205,0.013302728337709416,-0.6424353017020498,1.0075656563242195,-1.0091115075242836,1.0075656563242195]|\n",
      "|[1.1869931791078658,1.7166598625961382,-0.9542476899327169,0.4849774019476672,2.156242996947931,-0.6424353017020498,1.0075656563242195,-1.0091115075242836,1.0075656563242195]      |\n",
      "+------------------------------------------------------------------------------------------------------------------------------------------------------------------------------------+\n",
      "only showing top 5 rows\n",
      "\n"
     ]
    }
   ],
   "execution_count": 178
  },
  {
   "cell_type": "markdown",
   "id": "cf124393",
   "metadata": {},
   "source": [
    "<div style=\"background-color:#add8e6; height:60px; border-radius:10px; text-align:center; padding-top:5px;\">\n",
    "  <strong style=\"color:#003366; font-size: 30px\">Machine Learning mit Spark MLlib</strong>\n",
    "</div>\n"
   ]
  },
  {
   "cell_type": "markdown",
   "id": "0a853f19",
   "metadata": {},
   "source": [
    "## ANomalien entdecken\n",
    "Mittels k-Means probieren wir, ob wir irgendwelche Anomalien entdecken können."
   ]
  },
  {
   "cell_type": "code",
   "id": "446fc311",
   "metadata": {
    "ExecuteTime": {
     "end_time": "2025-06-17T19:58:07.233194Z",
     "start_time": "2025-06-17T19:58:06.166461Z"
    }
   },
   "source": [
    "from pyspark.ml.clustering import KMeans\n",
    "\n",
    "kmeans = KMeans(featuresCol=\"scaledFeatures\", predictionCol=\"cluster\", k=3, seed=42)\n",
    "model = kmeans.fit(df_scaled)\n",
    "df_clustered = model.transform(df_scaled)\n",
    "\n",
    "#wir clustern mit k-Means"
   ],
   "outputs": [],
   "execution_count": 179
  },
  {
   "cell_type": "code",
   "id": "9f24626a",
   "metadata": {
    "ExecuteTime": {
     "end_time": "2025-06-17T19:58:07.279191Z",
     "start_time": "2025-06-17T19:58:07.247108Z"
    }
   },
   "source": [
    "import numpy as np\n",
    "from pyspark.sql.functions import udf\n",
    "\n",
    "#hier messen wir die Distanz der Punkte zur Cluster-Mitte\n",
    "\n",
    "centers = model.clusterCenters()\n",
    "\n",
    "def distance_from_center(vec, cluster_id):\n",
    "    return float(np.linalg.norm(vec.toArray() - centers[cluster_id]))\n",
    "\n",
    "distance_udf = udf(distance_from_center)\n",
    "\n",
    "df_clustered = df_clustered.withColumn(\"distance_to_center\", distance_udf(\"scaledFeatures\", \"cluster\"))\n"
   ],
   "outputs": [],
   "execution_count": 180
  },
  {
   "cell_type": "code",
   "id": "6d3dda52",
   "metadata": {
    "ExecuteTime": {
     "end_time": "2025-06-17T19:58:09.457293Z",
     "start_time": "2025-06-17T19:58:07.287109Z"
    }
   },
   "source": [
    "#wir sortieren nach Distanz zur Mitte, hier also zB die obersten 10 auffälligsten Zeilen\n",
    "df_sorted = df_clustered.orderBy(col(\"distance_to_center\").desc())\n",
    "df_sorted.select(\"distance_to_center\", \"cluster\", \"features\").show(10, truncate=False)\n"
   ],
   "outputs": [
    {
     "name": "stdout",
     "output_type": "stream",
     "text": [
      "+------------------+-------+-----------------------------------------------+\n",
      "|distance_to_center|cluster|features                                       |\n",
      "+------------------+-------+-----------------------------------------------+\n",
      "|9.544258630756959 |0      |[26.55,73.35,0.0,31.93,66.79,0.0,1.0,0.0,1.0]  |\n",
      "|8.563232021613775 |2      |[76.09,28.0,37.95,0.0,53.3,38.05,0.0,1.0,0.0]  |\n",
      "|8.495667450701639 |2      |[75.77,26.36,39.45,0.0,58.43,37.04,0.0,1.0,0.0]|\n",
      "|7.765490719822395 |2      |[24.53,33.93,0.0,25.41,112.37,0.0,1.0,0.0,1.0] |\n",
      "|7.674957885684318 |2      |[31.88,39.21,0.0,28.62,99.52,0.0,1.0,0.0,1.0]  |\n",
      "|7.50994814919695  |0      |[49.23,47.41,0.0,27.71,17.9,0.0,1.0,0.0,1.0]   |\n",
      "|7.493907071436256 |2      |[70.78,23.6,24.1,0.0,39.35,25.32,0.0,1.0,0.0]  |\n",
      "|7.484522693937667 |0      |[14.78,23.98,0.0,26.79,114.46,0.0,1.0,0.0,1.0] |\n",
      "|7.334221382310356 |0      |[44.65,50.69,0.0,32.87,23.84,0.0,1.0,0.0,1.0]  |\n",
      "|7.239992811043045 |2      |[67.66,19.09,51.02,0.0,24.08,8.9,0.0,1.0,0.0]  |\n",
      "+------------------+-------+-----------------------------------------------+\n",
      "only showing top 10 rows\n",
      "\n"
     ]
    }
   ],
   "execution_count": 181
  },
  {
   "cell_type": "markdown",
   "id": "59612683",
   "metadata": {},
   "source": [
    "## Korrelationen in Entwicklung\n",
    "Mit der Pearson-Korrelation können wir schauen, ob es irgendwelche ABhängikeiten zwischen gewissen Features gibt. Entwickeln sich zB Feature 1 und 2 gemeinsam...? mit einer Pearson-Korrelations-Matrix lässt sich messen, wie zwei Variablen im VErhältnis sich bewegen.\n",
    "<br>\n",
    "Hohe absolute Werte (nahe bei 1) gehören zusammen. Negative Korrelationen hingegen können auf kompensierendes Verhalten hindeuten."
   ]
  },
  {
   "cell_type": "code",
   "id": "c1de8f0b",
   "metadata": {
    "ExecuteTime": {
     "end_time": "2025-06-17T19:58:09.709827Z",
     "start_time": "2025-06-17T19:58:09.471596Z"
    }
   },
   "source": [
    "from pyspark.ml.stat import Correlation\n",
    "correlation_matrix = Correlation.corr(df_scaled, \"scaledFeatures\")"
   ],
   "outputs": [
    {
     "name": "stderr",
     "output_type": "stream",
     "text": [
      "C:\\Users\\lhenz\\AppData\\Local\\Packages\\PythonSoftwareFoundation.Python.3.9_qbz5n2kfra8p0\\LocalCache\\local-packages\\Python39\\site-packages\\pyspark\\sql\\context.py:125: FutureWarning: Deprecated in 3.0.0. Use SparkSession.builder.getOrCreate() instead.\n",
      "  warnings.warn(\n"
     ]
    }
   ],
   "execution_count": 182
  },
  {
   "cell_type": "markdown",
   "id": "53064512",
   "metadata": {},
   "source": [
    "## Zeitliche Dimension bzw. Entwicklungen\n",
    "Da wir über ZEitstempel verfügen, können wir auh zeitliche Entwicklungen berücksichtigen und analysieren.\n",
    "FAlls die ZEitstempel noch als String abgespeichert sind, sollte man sie korrekt parsen."
   ]
  },
  {
   "cell_type": "markdown",
   "id": "989bc2c6",
   "metadata": {},
   "source": [
    "Wir fügen die temporalen Features nun ebenfalls zu unserem Feature-Vector hinzu."
   ]
  },
  {
   "cell_type": "code",
   "id": "37c452b3",
   "metadata": {
    "ExecuteTime": {
     "end_time": "2025-06-17T19:58:09.799288Z",
     "start_time": "2025-06-17T19:58:09.728513Z"
    }
   },
   "source": [
    "from pyspark.ml.feature import VectorAssembler\n",
    "\n",
    "extended_cols = [\"PM10\", \"PM2_5\", \"Ozon\", \"CO\", \"NO2\", \"NO\", \"Ozon_missing\", \"CO_missing\", \"NO_missing\", \"year_s\", \"month_s\", \"day_s\", \"weekday_s\", \"hour_s\", \"year_e\", \"month_e\", \"day_e\", \"weekday_e\", \"hour_e\"]\n",
    "assembler = VectorAssembler(inputCols=extended_cols, outputCol=\"features_extended\")\n",
    "df_final = assembler.transform(df_cleaned)\n"
   ],
   "outputs": [],
   "execution_count": 183
  },
  {
   "cell_type": "code",
   "id": "fc5f085a",
   "metadata": {
    "ExecuteTime": {
     "end_time": "2025-06-17T19:58:09.955069Z",
     "start_time": "2025-06-17T19:58:09.807298Z"
    }
   },
   "source": [
    "# Kurzer Blick in den vEctor\n",
    "df_final.select(\"features_extended\").show(truncate=False)\n"
   ],
   "outputs": [
    {
     "name": "stdout",
     "output_type": "stream",
     "text": [
      "+---------------------------------------------------------------------------------------------+\n",
      "|features_extended                                                                            |\n",
      "+---------------------------------------------------------------------------------------------+\n",
      "|[16.21,18.43,0.0,21.11,18.87,0.0,1.0,0.0,1.0,2020.0,1.0,2.0,5.0,0.0,2020.0,1.0,3.0,6.0,0.0]  |\n",
      "|[16.91,20.09,0.0,26.5,26.71,0.0,1.0,0.0,1.0,2020.0,1.0,3.0,6.0,0.0,2020.0,1.0,4.0,7.0,0.0]   |\n",
      "|[6.8,8.8,0.0,36.66,13.54,0.0,1.0,0.0,1.0,2020.0,1.0,4.0,7.0,0.0,2020.0,1.0,5.0,1.0,0.0]      |\n",
      "|[8.88,11.52,0.0,35.72,21.15,0.0,1.0,0.0,1.0,2020.0,1.0,5.0,1.0,0.0,2020.0,1.0,6.0,2.0,0.0]   |\n",
      "|[19.23,23.17,0.0,28.78,50.18,0.0,1.0,0.0,1.0,2020.0,1.0,6.0,2.0,0.0,2020.0,1.0,7.0,3.0,0.0]  |\n",
      "|[14.42,18.19,0.0,31.55,48.55,0.0,1.0,0.0,1.0,2020.0,1.0,7.0,3.0,0.0,2020.0,1.0,8.0,4.0,0.0]  |\n",
      "|[16.96,22.15,0.0,30.09,66.7,0.0,1.0,0.0,1.0,2020.0,1.0,8.0,4.0,0.0,2020.0,1.0,9.0,5.0,0.0]   |\n",
      "|[10.26,16.46,0.0,35.4,46.25,0.0,1.0,0.0,1.0,2020.0,1.0,9.0,5.0,0.0,2020.0,1.0,10.0,6.0,0.0]  |\n",
      "|[4.99,7.11,0.0,40.12,9.08,0.0,1.0,0.0,1.0,2020.0,1.0,10.0,6.0,0.0,2020.0,1.0,11.0,7.0,0.0]   |\n",
      "|[9.08,12.15,0.0,35.56,28.76,0.0,1.0,0.0,1.0,2020.0,1.0,11.0,7.0,0.0,2020.0,1.0,12.0,1.0,0.0] |\n",
      "|[18.29,21.64,0.0,26.52,30.34,0.0,1.0,0.0,1.0,2020.0,1.0,12.0,1.0,0.0,2020.0,1.0,13.0,2.0,0.0]|\n",
      "|[17.77,24.23,0.0,32.79,82.44,0.0,1.0,0.0,1.0,2020.0,1.0,13.0,2.0,0.0,2020.0,1.0,14.0,3.0,0.0]|\n",
      "|[10.57,15.7,0.0,36.08,40.19,0.0,1.0,0.0,1.0,2020.0,1.0,14.0,3.0,0.0,2020.0,1.0,15.0,4.0,0.0] |\n",
      "|[7.87,12.64,0.0,39.47,31.24,0.0,1.0,0.0,1.0,2020.0,1.0,15.0,4.0,0.0,2020.0,1.0,16.0,5.0,0.0] |\n",
      "|[10.12,16.43,0.0,38.43,55.71,0.0,1.0,0.0,1.0,2020.0,1.0,16.0,5.0,0.0,2020.0,1.0,17.0,6.0,0.0]|\n",
      "|[9.36,13.59,0.0,35.58,38.96,0.0,1.0,0.0,1.0,2020.0,1.0,17.0,6.0,0.0,2020.0,1.0,18.0,7.0,0.0] |\n",
      "|[5.85,8.01,0.0,38.37,12.73,0.0,1.0,0.0,1.0,2020.0,1.0,18.0,7.0,0.0,2020.0,1.0,19.0,1.0,0.0]  |\n",
      "|[7.79,9.73,0.0,36.34,13.8,0.0,1.0,0.0,1.0,2020.0,1.0,19.0,1.0,0.0,2020.0,1.0,20.0,2.0,0.0]   |\n",
      "|[13.41,17.56,0.0,35.64,19.5,0.0,1.0,0.0,1.0,2020.0,1.0,20.0,2.0,0.0,2020.0,1.0,21.0,3.0,0.0] |\n",
      "|[20.83,27.38,0.0,33.47,53.78,0.0,1.0,0.0,1.0,2020.0,1.0,21.0,3.0,0.0,2020.0,1.0,22.0,4.0,0.0]|\n",
      "+---------------------------------------------------------------------------------------------+\n",
      "only showing top 20 rows\n",
      "\n"
     ]
    }
   ],
   "execution_count": 184
  },
  {
   "cell_type": "markdown",
   "id": "1b1513da",
   "metadata": {},
   "source": [
    "Mit der zeitlichen Dimension ist also auch eine zeitliche Analyse mittels Clustering möglich."
   ]
  },
  {
   "cell_type": "code",
   "id": "86c369c3",
   "metadata": {
    "ExecuteTime": {
     "end_time": "2025-06-17T19:58:11.999077Z",
     "start_time": "2025-06-17T19:58:09.981882Z"
    }
   },
   "source": [
    "from pyspark.ml.clustering import KMeans\n",
    "\n",
    "kmeans_time = KMeans(featuresCol=\"features_extended\", predictionCol=\"cluster\", k=4)\n",
    "model_time = kmeans_time.fit(df_final)\n",
    "df_timecluster = model_time.transform(df_final)\n"
   ],
   "outputs": [],
   "execution_count": 185
  },
  {
   "cell_type": "code",
   "id": "f4829cd7",
   "metadata": {
    "ExecuteTime": {
     "end_time": "2025-06-17T19:58:12.247697Z",
     "start_time": "2025-06-17T19:58:12.011081Z"
    }
   },
   "source": [
    "df_timecluster.groupBy(\"cluster\").count().show()\n"
   ],
   "outputs": [
    {
     "name": "stdout",
     "output_type": "stream",
     "text": [
      "+-------+-----+\n",
      "|cluster|count|\n",
      "+-------+-----+\n",
      "|      1|  279|\n",
      "|      3|  790|\n",
      "|      2|  873|\n",
      "|      0| 1972|\n",
      "+-------+-----+\n",
      "\n"
     ]
    }
   ],
   "execution_count": 186
  },
  {
   "cell_type": "markdown",
   "id": "4ad73570",
   "metadata": {},
   "source": [
    "## Wir sehen uns die Cluster mal kurz an..."
   ]
  },
  {
   "cell_type": "code",
   "id": "da298490",
   "metadata": {
    "ExecuteTime": {
     "end_time": "2025-06-17T19:58:12.464615Z",
     "start_time": "2025-06-17T19:58:12.254699Z"
    }
   },
   "source": [
    "cluster_counts = df_timecluster.groupBy(\"cluster\").count().toPandas()\n"
   ],
   "outputs": [],
   "execution_count": 187
  },
  {
   "cell_type": "code",
   "id": "e81dbfe4",
   "metadata": {
    "ExecuteTime": {
     "end_time": "2025-06-17T19:58:12.573181Z",
     "start_time": "2025-06-17T19:58:12.470328Z"
    }
   },
   "source": [
    "import matplotlib.pyplot as plt\n",
    "\n",
    "plt.figure(figsize=(6,4))\n",
    "plt.bar(cluster_counts[\"cluster\"], cluster_counts[\"count\"], color=\"lightblue\")\n",
    "plt.xlabel(\"Cluster ID\")\n",
    "plt.ylabel(\"Anzahl\")\n",
    "plt.title(\"Verteilung Clsstergrössen\")\n",
    "plt.xticks(cluster_counts[\"cluster\"])\n",
    "plt.show()\n"
   ],
   "outputs": [
    {
     "data": {
      "text/plain": [
       "<Figure size 600x400 with 1 Axes>"
      ],
      "image/png": "[encoded data removed]"
     },
     "metadata": {},
     "output_type": "display_data"
    }
   ],
   "execution_count": 188
  },
  {
   "cell_type": "code",
   "id": "cc127bbb",
   "metadata": {
    "ExecuteTime": {
     "end_time": "2025-06-17T19:58:12.635699Z",
     "start_time": "2025-06-17T19:58:12.579159Z"
    }
   },
   "source": [
    "plt.pie(cluster_counts[\"count\"], labels=cluster_counts[\"cluster\"], autopct='%1.1f%%', startangle=90)\n",
    "plt.title(\"Verhältnisse, Kuchendiagr\")\n",
    "plt.axis(\"equal\")\n",
    "plt.show()\n"
   ],
   "outputs": [
    {
     "data": {
      "text/plain": [
       "<Figure size 640x480 with 1 Axes>"
      ],
      "image/png": "[encoded data removed]"
     },
     "metadata": {},
     "output_type": "display_data"
    }
   ],
   "execution_count": 189
  },
  {
   "cell_type": "markdown",
   "id": "c4089e51",
   "metadata": {},
   "source": [
    "Um jedoch zu verstehen, was wir hier eigentlich sehen und was die Cluster bedeuten, müssen wir uns näher damit auseinandersetzen."
   ]
  },
  {
   "cell_type": "code",
   "id": "a0050012",
   "metadata": {
    "ExecuteTime": {
     "end_time": "2025-06-17T19:58:12.963418Z",
     "start_time": "2025-06-17T19:58:12.641831Z"
    }
   },
   "source": [
    "df_timecluster.groupBy(\"cluster\").avg(\"PM10\", \"PM2_5\", \"Ozon\", \"CO\", \"NO2\", \"NO\", \"Ozon_missing\", \"CO_missing\", \"NO_missing\", \"year_s\", \"month_s\", \"day_s\", \"weekday_s\", \"hour_s\", \"year_e\", \"month_e\", \"day_e\", \"weekday_e\", \"hour_e\").show()\n",
    "#zB können wir die durcschn Werte in einem Cluster ermitteln, um zu sehen, ob uns da etwas auffällt"
   ],
   "outputs": [
    {
     "name": "stdout",
     "output_type": "stream",
     "text": [
      "+-------+------------------+------------------+------------------+------------------+------------------+-----------------+-----------------+--------------------+---------------+------------------+-----------------+------------------+------------------+-----------+------------------+-----------------+------------------+------------------+-----------+\n",
      "|cluster|         avg(PM10)|        avg(PM2_5)|         avg(Ozon)|           avg(CO)|          avg(NO2)|          avg(NO)|avg(Ozon_missing)|     avg(CO_missing)|avg(NO_missing)|       avg(year_s)|     avg(month_s)|        avg(day_s)|    avg(weekday_s)|avg(hour_s)|       avg(year_e)|     avg(month_e)|        avg(day_e)|    avg(weekday_e)|avg(hour_e)|\n",
      "+-------+------------------+------------------+------------------+------------------+------------------+-----------------+-----------------+--------------------+---------------+------------------+-----------------+------------------+------------------+-----------+------------------+-----------------+------------------+------------------+-----------+\n",
      "|      1|16.959211469534033|23.074838709677415|               0.0|27.922616487455205| 42.69329749103943|              0.0|              1.0|0.007168458781362007|            1.0|2021.8781362007169|6.921146953405018|15.598566308243727| 4.125448028673835|        0.0|2021.8817204301076|6.917562724014337|15.405017921146953| 4.272401433691757|        0.0|\n",
      "|      3| 8.261316455696198|12.769227848101258|               0.0|40.052000000000014|11.351443037974688|              0.0|              1.0|                 0.0|            1.0|2022.2810126582278|6.132911392405063|22.949367088607595| 3.981012658227848|        0.0|2022.2810126582278|6.132911392405063|23.949367088607595|3.9443037974683546|        0.0|\n",
      "|      2| 8.337731958762895|12.660721649484538|               0.0|39.812760595647184|11.239908361970208|              0.0|              1.0|0.001145475372279496|            1.0| 2022.335624284078|6.026345933562428| 9.155784650630011|3.9942726231386025|        0.0| 2022.340206185567|6.032073310423826| 8.305841924398626| 3.959908361970218|        0.0|\n",
      "|      0|12.676495943204882| 7.986572008113581|37.871663286004086|               0.0|26.056921906693702|11.69718559837728|              0.0|                 1.0|            0.0|2022.2535496957403|6.265720081135902|15.706896551724139| 4.003042596348885|        0.0|2022.2560851926978|6.267241379310345|15.734279918864097|3.9984787018255576|        0.0|\n",
      "+-------+------------------+------------------+------------------+------------------+------------------+-----------------+-----------------+--------------------+---------------+------------------+-----------------+------------------+------------------+-----------+------------------+-----------------+------------------+------------------+-----------+\n",
      "\n"
     ]
    }
   ],
   "execution_count": 190
  },
  {
   "cell_type": "markdown",
   "id": "4924ae20",
   "metadata": {},
   "source": [
    "## Prognosen und künftige Entwicklungen\n",
    "Wenn wir einen Blick in die Zukunft werfen und herausfinden wollen, welchen Wert es für eine bestimmte SPalte morgen geben wird, können wir das wie folgt:\n",
    "<br>\n",
    "Wir müssen uns für einen Ziel-Wert entscheiden. Den Ziel-Wert wollen wir schlussendlich dann vorhersagen können.\n",
    "<br>\n",
    "Da wir bereits unseren Feature-Vector haben, können wir direkt zum Schritt mit der Aufteilung von Test-Trainings-Daten gehen."
   ]
  },
  {
   "cell_type": "code",
   "id": "15337f92",
   "metadata": {
    "ExecuteTime": {
     "end_time": "2025-06-17T19:58:12.979418Z",
     "start_time": "2025-06-17T19:58:12.967402Z"
    }
   },
   "source": [
    "#Aufteilung der Daten in Trainings- und Test-Daten, in Prozent % \n",
    "train, test = df_timecluster.randomSplit([0.8, 0.2], seed=42)\n"
   ],
   "outputs": [],
   "execution_count": 191
  },
  {
   "cell_type": "code",
   "id": "da7ca0bf",
   "metadata": {
    "ExecuteTime": {
     "end_time": "2025-06-17T19:58:13.414828Z",
     "start_time": "2025-06-17T19:58:12.984404Z"
    }
   },
   "source": [
    "from pyspark.ml.regression import LinearRegression\n",
    "\n",
    "lr = LinearRegression(featuresCol=\"features_extended\", labelCol=\"PM10\")\n",
    "model = lr.fit(train)\n",
    "#wir wählen unser gesuchtes Feld labelCol und wenden linregression auf die Features an"
   ],
   "outputs": [],
   "execution_count": 192
  },
  {
   "cell_type": "code",
   "id": "2d66ff03",
   "metadata": {
    "ExecuteTime": {
     "end_time": "2025-06-17T19:58:13.632932Z",
     "start_time": "2025-06-17T19:58:13.438695Z"
    }
   },
   "source": [
    "predictions = model.transform(test)\n",
    "predictions.select(\"PM10\", \"prediction\").show(10)\n",
    "#hier machen wir mal ein paar Vorhersagen und sehen, wie korrekt diese waren\n",
    "#links in der TAbelle die tatscählichen Werte und rechts die vorhergesagten"
   ],
   "outputs": [
    {
     "name": "stdout",
     "output_type": "stream",
     "text": [
      "+-----+------------------+\n",
      "| PM10|        prediction|\n",
      "+-----+------------------+\n",
      "|  6.8| 6.800247849321515|\n",
      "|16.96|16.960079199210824|\n",
      "| 4.99| 4.990112057015991|\n",
      "| 7.87| 7.870043083173039|\n",
      "|20.83|20.830018759790025|\n",
      "|14.83|14.830085343181777|\n",
      "| 3.31| 3.310379275566308|\n",
      "|14.31| 14.31009409805999|\n",
      "| 5.12|  5.12006322707347|\n",
      "| 5.69| 5.689947841354221|\n",
      "+-----+------------------+\n",
      "only showing top 10 rows\n",
      "\n"
     ]
    }
   ],
   "execution_count": 193
  },
  {
   "cell_type": "code",
   "id": "6bf42158",
   "metadata": {
    "ExecuteTime": {
     "end_time": "2025-06-17T19:58:13.817637Z",
     "start_time": "2025-06-17T19:58:13.637812Z"
    }
   },
   "source": [
    "#Unser Model können wir auch evaluieren\n",
    "#Mit dem sog. root mean squared error, rmse, finden wir heraus, wie korrekt die Vorhersagen sind\n",
    "from pyspark.ml.evaluation import RegressionEvaluator\n",
    "\n",
    "evaluator = RegressionEvaluator(labelCol=\"PM10\", predictionCol=\"prediction\", metricName=\"rmse\")\n",
    "rmse = evaluator.evaluate(predictions)\n",
    "print(\"Root Mean Squared Error =\", rmse)\n",
    "#beim rmse gilt: je kleiner desto besser"
   ],
   "outputs": [
    {
     "name": "stdout",
     "output_type": "stream",
     "text": [
      "Root Mean Squared Error = 0.0003472278172660133\n"
     ]
    }
   ],
   "execution_count": 194
  },
  {
   "cell_type": "markdown",
   "id": "f425b040",
   "metadata": {},
   "source": [
    "Mehr zu Evaluationsmethoden und dem RMSE finden sich hier: https://spark.apache.org/docs/4.0.0/mllib-evaluation-metrics.html\n",
    "<br>\n",
    "Mit dem RMSE können generell Regressionsmodelle evaluiert werden.Damit wird die Unterschiedsgrösse von vorhergesagten und tatsächlichen Werten berechnet (grosse Unterschiede werden bestraft bzw. der RMSE reagiert stark auf Outliers).\n",
    "<br>\n",
    "Der RMSE ist immer positiv und ein Wert von 0 würde heissen, dass das Modell perfekte Predictions liefert. Im Allgemeinen gilt, dass ein niedriger RMSE besser ist.\n",
    "<br>\n",
    "Weiteres auch auf Wikipedia: https://en.wikipedia.org/wiki/Root_mean_square_deviation\n",
    "<br>\n"
   ]
  },
  {
   "cell_type": "markdown",
   "id": "b9a61c3b",
   "metadata": {},
   "source": [
    "### Fehlende WErte vorhersagen\n",
    "Ein für uns potenziell interessanter CAse wäre das ERmitteln und VOrhesagen von fehlenden Werten. Diese werden vielleicht durch äussere Einflüsse (Wetterphänomene) oder durch internes Versagen (Sensor versagt, kaputt usw.) verursacht.\n",
    "<br>\n",
    "Wir suchen usn daher als Zielwert einen aus, der dafür bekannt ist, NULL-Werte zu produzieren. Aus diesem Grund haben wir drei _missing-COlumns erstellt, an denen wir uns auch hierzu orientieren können.\n",
    "<br>\n",
    "Resltat soll also eine Vorhersage darüber sein, ob der besagte Wert wieder NULL seinw ird oder nicht."
   ]
  },
  {
   "cell_type": "code",
   "id": "2a01caa9",
   "metadata": {
    "ExecuteTime": {
     "end_time": "2025-06-17T19:58:13.833205Z",
     "start_time": "2025-06-17T19:58:13.822731Z"
    }
   },
   "source": [
    "target_col = \"CO_missing\" #hier definieren wir die gesuchte Spalte, diese enthält 1 oder 0 als Werte zur Aussage darüber, ob es in der eigentlichen Spalte dazu Inhalte gab\n",
    "train, test = df_timecluster.randomSplit([0.8, 0.2], seed=42) #wir teilen wieder in Test Trianign auf"
   ],
   "outputs": [],
   "execution_count": 195
  },
  {
   "cell_type": "code",
   "id": "f2c00421",
   "metadata": {
    "ExecuteTime": {
     "end_time": "2025-06-17T19:58:15.400909Z",
     "start_time": "2025-06-17T19:58:13.838178Z"
    }
   },
   "source": [
    "from pyspark.ml.classification import RandomForestClassifier\n",
    "\n",
    "#wir verwenden randomforest und bauen uns in diesem Fall, numtree, 50 Entscheidungsbäume\n",
    "\n",
    "\n",
    "rf = RandomForestClassifier(labelCol=\"CO_missing\", featuresCol=\"features_extended\", predictionCol=\"predicted\", numTrees=50)\n",
    "model = rf.fit(train)\n"
   ],
   "outputs": [],
   "execution_count": 196
  },
  {
   "cell_type": "code",
   "id": "ad55fa4e",
   "metadata": {
    "ExecuteTime": {
     "end_time": "2025-06-17T19:58:15.912324Z",
     "start_time": "2025-06-17T19:58:15.433169Z"
    }
   },
   "source": [
    "from pyspark.ml.evaluation import BinaryClassificationEvaluator\n",
    "\n",
    "predictions = model.transform(test)\n",
    "\n",
    "#wir evaluieren das Model\n",
    "#die Resultate bedeuten:\n",
    "#0.5 = willkürliches Raten\n",
    "#1 = perfekte Vorhersage\n",
    "\n",
    "evaluator = BinaryClassificationEvaluator(labelCol=\"CO_missing\", rawPredictionCol=\"rawPrediction\", metricName=\"areaUnderROC\")\n",
    "roc_auc = evaluator.evaluate(predictions)\n",
    "print(f\"ROC AUC = {roc_auc:.3f}\")\n"
   ],
   "outputs": [
    {
     "name": "stdout",
     "output_type": "stream",
     "text": [
      "ROC AUC = 1.000\n"
     ]
    }
   ],
   "execution_count": 197
  },
  {
   "cell_type": "code",
   "id": "5336002f",
   "metadata": {
    "ExecuteTime": {
     "end_time": "2025-06-17T19:58:15.943847Z",
     "start_time": "2025-06-17T19:58:15.917325Z"
    }
   },
   "source": [
    "import pandas as pd\n",
    "\n",
    "#wir können uns auch ansehen, welche Features das Model hauptsächlich berücksichtigt hat\n",
    "#eine hohe Wichtigkeit deutet also daraufhin, dass es einen grossen Einfluss auf das Fehlen des Features hat\n",
    "#das kann also eine Aussage darüber ermöglichen, wieso zB der Sensor ausfällt\n",
    "\n",
    "imp = model.featureImportances\n",
    "feature_importance = pd.DataFrame({\n",
    "    \"feature\": extended_cols,\n",
    "    \"importance\": imp.toArray()\n",
    "}).sort_values(\"importance\", ascending=False)\n",
    "print(feature_importance)\n"
   ],
   "outputs": [
    {
     "name": "stdout",
     "output_type": "stream",
     "text": [
      "         feature  importance\n",
      "7     CO_missing    0.268512\n",
      "3             CO    0.171992\n",
      "8     NO_missing    0.160874\n",
      "5             NO    0.159148\n",
      "2           Ozon    0.126866\n",
      "6   Ozon_missing    0.099624\n",
      "4            NO2    0.011624\n",
      "0           PM10    0.001294\n",
      "11         day_s    0.000022\n",
      "9         year_s    0.000021\n",
      "16         day_e    0.000011\n",
      "14        year_e    0.000004\n",
      "10       month_s    0.000004\n",
      "15       month_e    0.000002\n",
      "1          PM2_5    0.000002\n",
      "12     weekday_s    0.000002\n",
      "13        hour_s    0.000000\n",
      "17     weekday_e    0.000000\n",
      "18        hour_e    0.000000\n"
     ]
    }
   ],
   "execution_count": 198
  },
  {
   "cell_type": "code",
   "id": "f8bca77b",
   "metadata": {
    "ExecuteTime": {
     "end_time": "2025-06-17T19:58:16.101406Z",
     "start_time": "2025-06-17T19:58:15.949904Z"
    }
   },
   "source": [
    "import matplotlib.pyplot as plt\n",
    "\n",
    "plt.figure(figsize=(8, 5))\n",
    "plt.barh(feature_importance[\"feature\"], feature_importance[\"importance\"], color=\"lightgreen\")\n",
    "plt.gca().invert_yaxis()\n",
    "plt.title(\"Feature-Relevanz\")\n",
    "plt.xlabel(\"Relevanz\")\n",
    "plt.tight_layout()\n",
    "plt.show()\n",
    "\n",
    "#das Ganze können wir auch noch visualisieren, um die Interpretation ggf zu vereinfachen"
   ],
   "outputs": [
    {
     "data": {
      "text/plain": [
       "<Figure size 800x500 with 1 Axes>"
      ],
      "image/png": "[encoded data removed]"
     },
     "metadata": {},
     "output_type": "display_data"
    }
   ],
   "execution_count": 199
  },
  {
   "cell_type": "markdown",
   "id": "ef29d191",
   "metadata": {},
   "source": [
    "### Fenster als zeitlicher Fokus\n",
    "Fenster erlauben es, einfacher Trends und Muster zu erkennen, da es einfacher wird, diese zu vergleichen."
   ]
  },
  {
   "cell_type": "code",
   "id": "858a00e7",
   "metadata": {
    "ExecuteTime": {
     "end_time": "2025-06-17T19:58:16.132938Z",
     "start_time": "2025-06-17T19:58:16.108780Z"
    }
   },
   "source": [
    "from pyspark.sql.functions import avg\n",
    "from pyspark.sql.window import Window\n",
    "\n",
    "window_spec = Window.orderBy(\"Startzeit\").rowsBetween(-2, 0)\n",
    "\n",
    "df_timecluster_windows = df_timecluster.withColumn(\"PM10_3hr_avg\", avg(\"PM10\").over(window_spec))\n",
    "\n",
    "#so haben wir ein kurzfristige PM10-Trend-Auswertung\n",
    "#avg ist nicht Pflicht, man kann dasselbe auch mit anderen Metriken wie min, max, sum, rank, usw machen\n"
   ],
   "outputs": [],
   "execution_count": 200
  },
  {
   "metadata": {
    "ExecuteTime": {
     "end_time": "2025-06-17T19:58:16.148246Z",
     "start_time": "2025-06-17T19:58:16.140242Z"
    }
   },
   "cell_type": "code",
   "source": "df_timecluster_windows.dtypes",
   "id": "629771b4e4d6c695",
   "outputs": [
    {
     "data": {
      "text/plain": [
       "[('Startzeit', 'timestamp'),\n",
       " ('Endzeit', 'timestamp'),\n",
       " ('PM10', 'double'),\n",
       " ('PM2_5', 'double'),\n",
       " ('Ozon', 'double'),\n",
       " ('CO', 'double'),\n",
       " ('NO2', 'double'),\n",
       " ('NO', 'double'),\n",
       " ('stadt', 'string'),\n",
       " ('Ozon_missing', 'int'),\n",
       " ('CO_missing', 'int'),\n",
       " ('NO_missing', 'int'),\n",
       " ('year_s', 'int'),\n",
       " ('month_s', 'int'),\n",
       " ('day_s', 'int'),\n",
       " ('weekday_s', 'int'),\n",
       " ('hour_s', 'int'),\n",
       " ('year_e', 'int'),\n",
       " ('month_e', 'int'),\n",
       " ('day_e', 'int'),\n",
       " ('weekday_e', 'int'),\n",
       " ('hour_e', 'int'),\n",
       " ('features_extended', 'vector'),\n",
       " ('cluster', 'int'),\n",
       " ('PM10_3hr_avg', 'double')]"
      ]
     },
     "execution_count": 201,
     "metadata": {},
     "output_type": "execute_result"
    }
   ],
   "execution_count": 201
  },
  {
   "cell_type": "code",
   "id": "8ede8a29",
   "metadata": {
    "ExecuteTime": {
     "end_time": "2025-06-17T20:06:44.321722Z",
     "start_time": "2025-06-17T20:06:43.827687Z"
    }
   },
   "source": [
    "#Visualisierung hilft beim ERkennen von zB spontnane Ausreissern, rhytmischen zeitlichen Mustern, Outliern usw\n",
    "import matplotlib.pyplot as plt\n",
    "from pyspark.sql.functions import date_format\n",
    "\n",
    "df_selected = df_timecluster_windows.select(\n",
    "    date_format(\"Startzeit\", \"yyyy-MM-dd HH:mm:ss\").alias(\"Startzeit_str\"),\n",
    "    \"PM10\", \"PM10_3hr_avg\"\n",
    ")\n",
    "\n",
    "\n",
    "df_plot = df_selected.toPandas()\n",
    "\n",
    "df_plot.to_csv(\"data/ML/ML_Data.csv\", index=False)\n",
    "# Convert string to pandas datetime after conversion:\n",
    "df_plot[\"Startzeit\"] = pd.to_datetime(df_plot[\"Startzeit_str\"])\n",
    "\n",
    "\n",
    "\n",
    "plt.figure(figsize=(12, 5))\n",
    "plt.plot(df_plot[\"Startzeit\"], df_plot[\"PM10\"], label=\"PM10\", alpha=0.5)\n",
    "plt.plot(df_plot[\"Startzeit\"], df_plot[\"PM10_3hr_avg\"], label=\"3-Day Avg\", linewidth=2)\n",
    "plt.legend()\n",
    "plt.title(\"PM10 and 3-Day Moving Average Over Time\")\n",
    "plt.xlabel(\"Date\")\n",
    "plt.ylabel(\"µg/m³\")\n",
    "plt.tight_layout()\n",
    "plt.show()\n"
   ],
   "outputs": [
    {
     "data": {
      "text/plain": [
       "<Figure size 1200x500 with 1 Axes>"
      ],
      "image/png": "[encoded data removed]"
     },
     "metadata": {},
     "output_type": "display_data"
    }
   ],
   "execution_count": 208
  }
 ],
 "metadata": {
  "kernelspec": {
   "display_name": "Python 3 (ipykernel)",
   "language": "python",
   "name": "python3"
  },
  "language_info": {
   "codemirror_mode": {
    "name": "ipython",
    "version": 3
   },
   "file_extension": ".py",
   "mimetype": "text/x-python",
   "name": "python",
   "nbconvert_exporter": "python",
   "pygments_lexer": "ipython3",
   "version": "3.11.4"
  }
 },
 "nbformat": 4,
 "nbformat_minor": 5
}
