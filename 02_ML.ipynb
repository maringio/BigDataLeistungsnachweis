{
 "cells": [
  {
   "cell_type": "markdown",
   "id": "6d8b715b",
   "metadata": {},
   "source": [
    "<div style=\"background-color:#add8e6; height:30px; border-radius:10px; text-align:center; padding-top:5px;\">\n",
    "  <strong style=\"color:#003366;\">Abschnitt</strong>\n",
    "</div>\n"
   ]
  },
  {
   "cell_type": "code",
   "id": "dfe0d887",
   "metadata": {
    "ExecuteTime": {
     "end_time": "2025-06-18T19:42:28.851163Z",
     "start_time": "2025-06-18T19:42:28.832704Z"
    }
   },
   "source": [
    "from pyspark.sql import SparkSession\n",
    "\n",
    "spark = SparkSession.builder \\\n",
    "    .appName(\"Wetter- und Luftqualitätsdaten\") \\\n",
    "    .getOrCreate()"
   ],
   "outputs": [],
   "execution_count": 183
  },
  {
   "cell_type": "markdown",
   "id": "e70b69dd",
   "metadata": {},
   "source": [
    "<div style=\"background-color:#add8e6; height:50px; border-radius:10px; text-align:center; padding-top:5px;\">\n",
    "  <strong style=\"color:#003366; font-size: 20px;\">Vorbereitung des Machine Learnings</strong>\n",
    "</div>\n"
   ]
  },
  {
   "cell_type": "markdown",
   "id": "04bf655f",
   "metadata": {},
   "source": [
    "# Big Data Leistungsnachweis\n",
    "<br>\n",
    "Wie beeinflusst das Wetter die Luftqualität?“ – Vergleich zwischen Zürich und St. Gallen mit Spark MLlib"
   ]
  },
  {
   "cell_type": "code",
   "id": "0fccce6c",
   "metadata": {
    "ExecuteTime": {
     "end_time": "2025-06-18T19:42:28.881398Z",
     "start_time": "2025-06-18T19:42:28.861160Z"
    }
   },
   "source": [
    "#Kurzes Prüfen, ob man im korrekten Directory unterwegs ist und die Files sichtbar sind\n",
    "import os\n",
    "os.listdir(\".\")  # Liste der Files im Working Directory\n"
   ],
   "outputs": [
    {
     "data": {
      "text/plain": [
       "['.DS_Store',\n",
       " '.git',\n",
       " '.idea',\n",
       " '.ipynb_checkpoints',\n",
       " '.jupyter',\n",
       " '01_LoadData.ipynb',\n",
       " '02_ML.ipynb',\n",
       " '03_Visualisation.ipynb',\n",
       " 'data',\n",
       " 'README.md']"
      ]
     },
     "execution_count": 184,
     "metadata": {},
     "output_type": "execute_result"
    }
   ],
   "execution_count": 184
  },
  {
   "cell_type": "code",
   "id": "c64db691",
   "metadata": {
    "ExecuteTime": {
     "end_time": "2025-06-18T19:42:28.928929Z",
     "start_time": "2025-06-18T19:42:28.909927Z"
    }
   },
   "source": [
    "#Dataframe-Vorschau für kurzen Check\n",
    "import pandas as pd\n",
    "\n",
    "file_path_sg = \"data/air_quality/airquality_stgallen.csv\"\n",
    "\n",
    "\n",
    "df_sg = pd.read_csv(file_path_sg)\n",
    "df_sg.head()\n",
    "\n",
    "\n"
   ],
   "outputs": [
    {
     "data": {
      "text/plain": [
       "         Startzeit;Endzeit;PM10;PM2.5;Ozon;CO;NO2;NO\n",
       "0  02.01.2020 00:00;\"03.01.2020 00:00\";17.46;17.4...\n",
       "1  03.01.2020 00:00;\"04.01.2020 00:00\";10.88;8.43...\n",
       "2  04.01.2020 00:00;\"05.01.2020 00:00\";5.93;4.78;...\n",
       "3  05.01.2020 00:00;\"06.01.2020 00:00\";9.94;8.30;...\n",
       "4  06.01.2020 00:00;\"07.01.2020 00:00\";14.15;11.0..."
      ],
      "text/html": [
       "<div>\n",
       "<style scoped>\n",
       "    .dataframe tbody tr th:only-of-type {\n",
       "        vertical-align: middle;\n",
       "    }\n",
       "\n",
       "    .dataframe tbody tr th {\n",
       "        vertical-align: top;\n",
       "    }\n",
       "\n",
       "    .dataframe thead th {\n",
       "        text-align: right;\n",
       "    }\n",
       "</style>\n",
       "<table border=\"1\" class=\"dataframe\">\n",
       "  <thead>\n",
       "    <tr style=\"text-align: right;\">\n",
       "      <th></th>\n",
       "      <th>Startzeit;Endzeit;PM10;PM2.5;Ozon;CO;NO2;NO</th>\n",
       "    </tr>\n",
       "  </thead>\n",
       "  <tbody>\n",
       "    <tr>\n",
       "      <th>0</th>\n",
       "      <td>02.01.2020 00:00;\"03.01.2020 00:00\";17.46;17.4...</td>\n",
       "    </tr>\n",
       "    <tr>\n",
       "      <th>1</th>\n",
       "      <td>03.01.2020 00:00;\"04.01.2020 00:00\";10.88;8.43...</td>\n",
       "    </tr>\n",
       "    <tr>\n",
       "      <th>2</th>\n",
       "      <td>04.01.2020 00:00;\"05.01.2020 00:00\";5.93;4.78;...</td>\n",
       "    </tr>\n",
       "    <tr>\n",
       "      <th>3</th>\n",
       "      <td>05.01.2020 00:00;\"06.01.2020 00:00\";9.94;8.30;...</td>\n",
       "    </tr>\n",
       "    <tr>\n",
       "      <th>4</th>\n",
       "      <td>06.01.2020 00:00;\"07.01.2020 00:00\";14.15;11.0...</td>\n",
       "    </tr>\n",
       "  </tbody>\n",
       "</table>\n",
       "</div>"
      ]
     },
     "execution_count": 185,
     "metadata": {},
     "output_type": "execute_result"
    }
   ],
   "execution_count": 185
  },
  {
   "cell_type": "code",
   "id": "075989da",
   "metadata": {
    "scrolled": true,
    "ExecuteTime": {
     "end_time": "2025-06-18T19:42:28.975241Z",
     "start_time": "2025-06-18T19:42:28.953290Z"
    }
   },
   "source": [
    "#Check auch für zweites File\n",
    "file_path_zh = \"data/air_quality/airquality_zurich.csv\"\n",
    "\n",
    "\n",
    "df_zh = pd.read_csv(file_path_zh)\n",
    "df_zh.head()"
   ],
   "outputs": [
    {
     "data": {
      "text/plain": [
       "         Startzeit;Endzeit;PM10;PM2.5;Ozon;CO;NO2;NO\n",
       "0  02.01.2020 00:00;\"03.01.2020 00:00\";16.21;18.4...\n",
       "1  03.01.2020 00:00;\"04.01.2020 00:00\";16.91;20.0...\n",
       "2  04.01.2020 00:00;\"05.01.2020 00:00\";6.80;8.80;...\n",
       "3  05.01.2020 00:00;\"06.01.2020 00:00\";8.88;11.52...\n",
       "4  06.01.2020 00:00;\"07.01.2020 00:00\";19.23;23.1..."
      ],
      "text/html": [
       "<div>\n",
       "<style scoped>\n",
       "    .dataframe tbody tr th:only-of-type {\n",
       "        vertical-align: middle;\n",
       "    }\n",
       "\n",
       "    .dataframe tbody tr th {\n",
       "        vertical-align: top;\n",
       "    }\n",
       "\n",
       "    .dataframe thead th {\n",
       "        text-align: right;\n",
       "    }\n",
       "</style>\n",
       "<table border=\"1\" class=\"dataframe\">\n",
       "  <thead>\n",
       "    <tr style=\"text-align: right;\">\n",
       "      <th></th>\n",
       "      <th>Startzeit;Endzeit;PM10;PM2.5;Ozon;CO;NO2;NO</th>\n",
       "    </tr>\n",
       "  </thead>\n",
       "  <tbody>\n",
       "    <tr>\n",
       "      <th>0</th>\n",
       "      <td>02.01.2020 00:00;\"03.01.2020 00:00\";16.21;18.4...</td>\n",
       "    </tr>\n",
       "    <tr>\n",
       "      <th>1</th>\n",
       "      <td>03.01.2020 00:00;\"04.01.2020 00:00\";16.91;20.0...</td>\n",
       "    </tr>\n",
       "    <tr>\n",
       "      <th>2</th>\n",
       "      <td>04.01.2020 00:00;\"05.01.2020 00:00\";6.80;8.80;...</td>\n",
       "    </tr>\n",
       "    <tr>\n",
       "      <th>3</th>\n",
       "      <td>05.01.2020 00:00;\"06.01.2020 00:00\";8.88;11.52...</td>\n",
       "    </tr>\n",
       "    <tr>\n",
       "      <th>4</th>\n",
       "      <td>06.01.2020 00:00;\"07.01.2020 00:00\";19.23;23.1...</td>\n",
       "    </tr>\n",
       "  </tbody>\n",
       "</table>\n",
       "</div>"
      ]
     },
     "execution_count": 186,
     "metadata": {},
     "output_type": "execute_result"
    }
   ],
   "execution_count": 186
  },
  {
   "cell_type": "code",
   "id": "8b62da34",
   "metadata": {
    "scrolled": true,
    "ExecuteTime": {
     "end_time": "2025-06-18T19:42:29.005272Z",
     "start_time": "2025-06-18T19:42:28.992255Z"
    }
   },
   "source": [],
   "outputs": [],
   "execution_count": null
  },
  {
   "cell_type": "markdown",
   "id": "90365a2b",
   "metadata": {},
   "source": [
    "## ML Pipelines\n",
    "<br>\n",
    "ML-Pipelines dienen der Reproduzierbarkeit eines ML-Verfahrens (und hilft beim Erstellen einer sauberen Struktur) und bestehen gemäss Spark-Dokumentation (https://spark.apache.org/docs/latest/ml-pipeline.html) aus folgenden Elementen:\n",
    "<br><br>\n",
    "<b>Transformers</b> <br> <br>\n",
    "<b>Estimators</b>\n",
    "<br> <br>\n",
    "Ein Transformer konvertiert DataFrames. Ein \"Feature Transformer\" liest beispielsweise die Daten einer Spalte, mappt diese in eine neue Spalte und gibt als Output das als DataFrame.\n",
    "<br>\n",
    "Ein \"Learning Model\" hingegen lernt aus einem DataFrame und predictet etwas, welches es als DataFrame wiederum dann ausgeben kann.\n",
    "<br>\n",
    "Ein Estimator implementiert eine fit()-Methode, welhe ein DataFrame nimmt und ein Model produziert (=Transformer).\n",
    "<br>\n",
    "<br>\n",
    "Eine Pipeline ist eine Sequenz an Phasen bestehend aus Transformern und Estimatorn. BEim Durchlaufen der \"Stages\" wird ein DataFrame entsprechend verarbeitet."
   ]
  },
  {
   "cell_type": "markdown",
   "id": "56d28224",
   "metadata": {},
   "source": [
    "## Stadt hinzufügen (vor Feature-Vektor-ERstellung)\n",
    "Um Problemen vorzubeugen, ist noch die Stadt zu jeder Zeile hinzuzufügen. Diese würde ansonten beim Zusammenführen der Daten verlorengehen (da aktuell nur im NAmen des Files enthalten und nicht im eigentlichen File).\n",
    "<br>\n",
    "Mittels Sparks lit fügen wir eine zusätzliche Spalte mit dem Städte-Kürzel ein (Spaltenname \"stadt\" und die beiden Kürzel \"zh\" und \"sg\").\n"
   ]
  },
  {
   "metadata": {},
   "cell_type": "markdown",
   "source": "df_zh = spark.read.option(\"header\", True).csv(\"data/air_quality/airquality_zurich.csv\")",
   "id": "54e70cef1bce9753"
  },
  {
   "metadata": {},
   "cell_type": "markdown",
   "source": [
    "from pyspark.sql.functions import lit\n",
    "\n",
    "df_zh = spark.read.option(\"header\", True) \\\n",
    "                .option(\"delimiter\", \";\") \\\n",
    "                .csv(\"data/air_quality/airquality_zurich.csv\") #Um Probleme zu vermeiden, spezifizieren wir hier kurz den korrekten Delimiter im CSV-File (;)\n",
    "\n",
    "df_zh = df_zh.withColumn(\"stadt\", lit(\"zh\"))\n",
    "df_zh.head()"
   ],
   "id": "3568ed4f7bd28ffa"
  },
  {
   "metadata": {},
   "cell_type": "markdown",
   "source": [
    "df_sg = spark.read.option(\"header\", True) \\\n",
    "                .option(\"delimiter\", \";\") \\\n",
    "                .csv(\"data/air_quality/airquality_stgallen.csv\")\n",
    "\n",
    "df_sg = df_sg.withColumn(\"stadt\", lit(\"sg\"))\n",
    "df_sg.head()"
   ],
   "id": "1d5ee72a755d319a"
  },
  {
   "cell_type": "markdown",
   "id": "fc9867ff",
   "metadata": {},
   "source": [
    "Der <b>Dezimalpunkt</b> im HEader könnte ein PRoblem darstellen (PM2.5). DAher ändern wir diesen zu einem _\n"
   ]
  },
  {
   "metadata": {},
   "cell_type": "markdown",
   "source": "df_zh = df_zh.withColumnRenamed(\"PM2.5\", \"PM2_5\")",
   "id": "6e05bd025ae6b391"
  },
  {
   "metadata": {},
   "cell_type": "markdown",
   "source": "df_sg = df_sg.withColumnRenamed(\"PM2.5\", \"PM2_5\")",
   "id": "d14690b1b068cdba"
  },
  {
   "metadata": {},
   "cell_type": "markdown",
   "source": "df_sg.head()",
   "id": "dbe0855b91608dc0"
  },
  {
   "metadata": {
    "ExecuteTime": {
     "end_time": "2025-06-18T19:42:29.099360Z",
     "start_time": "2025-06-18T19:42:29.012225Z"
    }
   },
   "cell_type": "code",
   "source": [
    "df = spark.read.option(\"header\", True) \\\n",
    "                .option(\"delimiter\", \",\") \\\n",
    "                .csv(\"data/cleaned/cleaned_Data.csv\")\n"
   ],
   "id": "e1c6576012df971e",
   "outputs": [],
   "execution_count": 187
  },
  {
   "metadata": {
    "ExecuteTime": {
     "end_time": "2025-06-18T19:42:29.207939Z",
     "start_time": "2025-06-18T19:42:29.109983Z"
    }
   },
   "cell_type": "code",
   "source": [
    "df = df.withColumnRenamed(\"PM2.5\", \"PM2_5\")\n",
    "df.show()"
   ],
   "id": "cac1e11fb02044d1",
   "outputs": [
    {
     "name": "stdout",
     "output_type": "stream",
     "text": [
      "+----------+--------+-----+-----+----+-----+-----+----+-------------------------------------------+----------------------------------------------+----------------------------------------------+----------------------------------------------+-------------------------------------------------+-------------------------------------------------+-------------------------------------------------+-------------------------------------------+------------------------------------------------------------+----------------------------------------------+---------------------------------------------------+---------------------------------------------------+-------------------------------------------------------------------------------+-----------------------------------+-------------------------------------------+------------------------------------+--------------------------------------------+----------------------------------------------+-----------------------------------------------+-----------------------+-----------------------------------------------------+---------------------------------------+---------------------------------------------------------------+---------------------------+--------------------------------------+-----------------------------+-----------------------------------------------------+------------------------------------------+------------------------+-------------------------+--------------------------+--------------------------+---------------------------------------------------------------+\n",
      "|      date|location| PM10|PM2_5|Ozon|   CO|  NO2|  NO|Air temperature 2 m above ground daily mean|Air temperature 2 m above ground daily maximum|Air temperature 2 m above ground daily minimum|Air temperature at 5 cm above grass daily mean|Air temperature at 5 cm above grass daily maximum|Air temperature at 5 cm above grass daily minimum|Relative air humidity 2 m above ground daily mean|Vapour pressure 2 m above ground daily mean|Atmospheric pressure at barometric altitude (QFE) daily mean|Pressure reduced to sea level (QFF) daily mean|Geopotential height of the 850 hPA level daily mean|Geopotential height of the 700 hPA level daily mean|Pressure reduced to sea level according to standard atmosphere (QNH) daily mean|Wind speed scalar daily mean in m/s|Gust peak (one second) daily maximum in m/s|Wind speed scalar daily mean in km/h|Gust peak (one second) daily maximum in km/h|Gust peak (three seconds) daily maximum in m/s|Gust peak (three seconds) daily maximum in km/h|Foehn index daily value|Precipitation daily total 6 UTC - 6 UTC following day|Precipitation daily total 0 UTC - 0 UTC|Snow depth (automatic measurement) morning measurement at 6 UTC|Global radiation daily mean|Longwave incoming radiation daily mean|Sunshine duration daily total|Sunshine duration in relation to absolute daily total|Reference evaporation from FAO daily total|Cooling Degree Day (CDD)|Wind direction daily mean|Heating degrees (HGT12/20)|Heating degrees (ATD12/12)|Hydrologic registration (hydrologic balance, R-ETS) daily total|\n",
      "+----------+--------+-----+-----+----+-----+-----+----+-------------------------------------------+----------------------------------------------+----------------------------------------------+----------------------------------------------+-------------------------------------------------+-------------------------------------------------+-------------------------------------------------+-------------------------------------------+------------------------------------------------------------+----------------------------------------------+---------------------------------------------------+---------------------------------------------------+-------------------------------------------------------------------------------+-----------------------------------+-------------------------------------------+------------------------------------+--------------------------------------------+----------------------------------------------+-----------------------------------------------+-----------------------+-----------------------------------------------------+---------------------------------------+---------------------------------------------------------------+---------------------------+--------------------------------------+-----------------------------+-----------------------------------------------------+------------------------------------------+------------------------+-------------------------+--------------------------+--------------------------+---------------------------------------------------------------+\n",
      "|2020-01-02|  Zürich|16.21|18.43|null|21.11|18.87|null|                                       -1.2|                                          -0.3|                                          -2.1|                                          -0.6|                                              1.3|                                             -1.6|                                             94.6|                                        5.3|                                                       963.6|                                        1032.8|                                               null|                                               null|                                                                         1029.6|                                1.0|                                        3.8|                                 3.6|                                        13.7|                                           3.6|                                           13.0|                    0.0|                                                  0.0|                                    0.0|                                                           null|                         25|                                   303|                            0|                                                    0|                                       0.2|                     0.0|                      203|                      21.2|                      13.2|                                                            0.0|\n",
      "|2020-01-03|  Zürich|16.91|20.09|null| 26.5|26.71|null|                                        3.0|                                           6.2|                                          -0.9|                                           2.9|                                              8.3|                                             -2.1|                                             87.3|                                        6.6|                                                       961.7|                                        1029.7|                                               null|                                               null|                                                                         1027.7|                                1.8|                                        7.7|                                 6.5|                                        27.7|                                           7.4|                                           26.6|                    0.0|                                                  0.9|                                    0.9|                                                           null|                         50|                                   301|                          143|                                                   31|                                       0.2|                     0.0|                      219|                      17.0|                       9.0|                                                            0.8|\n",
      "|2020-01-04|  Zürich|  6.8|  8.8|null|36.66|13.54|null|                                        4.9|                                           6.9|                                           2.1|                                           4.2|                                              6.3|                                              0.6|                                             80.7|                                        7.0|                                                       965.8|                                        1033.6|                                               null|                                               null|                                                                         1032.0|                                2.5|                                       10.3|                                 9.0|                                        37.1|                                          10.0|                                           36.0|                    0.0|                                                  0.5|                                    0.5|                                                           null|                         19|                                   317|                            0|                                                    0|                                       0.6|                     0.0|                      259|                      15.1|                       7.1|                                                            0.5|\n",
      "|2020-01-05|  Zürich| 8.88|11.52|null|35.72|21.15|null|                                        1.6|                                           5.8|                                          -1.0|                                           0.6|                                              8.2|                                             -2.7|                                             82.7|                                        5.6|                                                       967.8|                                        1036.5|                                               null|                                               null|                                                                         1034.0|                                1.6|                                        6.6|                                 5.8|                                        23.8|                                           6.2|                                           22.3|                    0.0|                                                  0.0|                                    0.0|                                                           null|                         74|                                   248|                          460|                                                  100|                                       0.2|                     0.0|                       54|                      18.4|                      10.4|                                                           -0.2|\n",
      "|2020-01-06|  Zürich|19.23|23.17|null|28.78|50.18|null|                                        0.1|                                           4.2|                                          -2.1|                                          -0.5|                                              7.2|                                             -3.6|                                             91.8|                                        5.6|                                                       962.8|                                        1031.6|                                               null|                                               null|                                                                         1028.8|                                0.8|                                        3.5|                                 2.9|                                        12.6|                                           3.4|                                           12.2|                    0.0|                                                  0.0|                                    0.0|                                                           null|                         55|                                   262|                          257|                                                   56|                                       0.1|                     0.0|                      207|                      19.9|                      11.9|                                                           -0.1|\n",
      "|2020-01-07|  Zürich|14.42|18.19|null|31.55|48.55|null|                                        3.0|                                           5.5|                                          -0.8|                                           2.1|                                              6.8|                                             -2.9|                                             83.9|                                        6.4|                                                       963.7|                                        1031.8|                                               null|                                               null|                                                                         1029.7|                                1.1|                                        6.8|                                 4.0|                                        24.5|                                           6.6|                                           23.8|                    0.0|                                                  0.0|                                    0.0|                                                           null|                         32|                                   291|                           76|                                                   16|                                       0.3|                     0.0|                      243|                      17.0|                       9.0|                                                           -0.1|\n",
      "|2020-01-08|  Zürich|16.96|22.15|null|30.09| 66.7|null|                                        3.1|                                           7.5|                                          -1.1|                                           2.3|                                             10.4|                                             -3.3|                                             81.6|                                        6.1|                                                       963.8|                                        1031.9|                                               null|                                               null|                                                                         1029.8|                                0.6|                                        3.6|                                 2.2|                                        13.0|                                           3.5|                                           12.6|                    0.0|                                                  0.0|                                    0.0|                                                           null|                         60|                                   284|                          268|                                                   58|                                       0.2|                     0.0|                      214|                      16.9|                       8.9|                                                           -0.2|\n",
      "|2020-01-09|  Zürich|10.26|16.46|null| 35.4|46.25|null|                                        6.2|                                          10.6|                                           1.8|                                           4.4|                                             12.4|                                             -0.3|                                             52.9|                                        4.8|                                                       956.8|                                        1023.6|                                               null|                                               null|                                                                         1022.5|                                1.5|                                       14.4|                                 5.4|                                        51.8|                                          13.9|                                           50.0|                    0.0|                                                  0.0|                                    0.0|                                                           null|                         70|                                   274|                          438|                                                   94|                                       0.6|                     0.0|                      211|                      13.8|                       5.8|                                                           -0.5|\n",
      "|2020-01-10|  Zürich| 4.99| 7.11|null|40.12| 9.08|null|                                        7.6|                                          10.3|                                           5.0|                                           7.0|                                             12.4|                                              3.1|                                             65.2|                                        6.8|                                                       958.2|                                        1024.7|                                               null|                                               null|                                                                         1023.9|                                4.2|                                       15.3|                                15.1|                                        55.1|                                          14.9|                                           53.6|                    0.0|                                                  0.0|                                    0.0|                                                           null|                         57|                                   303|                          240|                                                   51|                                       1.2|                     0.0|                      242|                      12.4|                       4.4|                                                           -0.2|\n",
      "|2020-01-11|  Zürich| 9.08|12.15|null|35.56|28.76|null|                                        3.9|                                           6.7|                                           0.1|                                           3.2|                                             10.0|                                             -1.9|                                             86.1|                                        6.9|                                                       965.2|                                        1033.2|                                               null|                                               null|                                                                         1031.3|                                1.4|                                        5.5|                                 5.0|                                        19.8|                                           5.2|                                           18.7|                    0.0|                                                  0.0|                                    0.0|                                                           null|                         46|                                   283|                           82|                                                   17|                                       0.3|                     0.0|                       38|                      16.1|                       8.1|                                                           -0.1|\n",
      "|2020-01-12|  Zürich|18.29|21.64|null|26.52|30.34|null|                                        1.7|                                           5.8|                                          -0.7|                                           1.1|                                              9.0|                                             -2.3|                                             87.8|                                        6.0|                                                       962.1|                                        1030.5|                                               null|                                               null|                                                                         1028.1|                                1.0|                                        4.8|                                 3.6|                                        17.3|                                           4.7|                                           16.9|                    0.0|                                                  0.0|                                    0.0|                                                           null|                         74|                                   262|                          325|                                                   69|                                       0.2|                     0.0|                      225|                      18.3|                      10.3|                                                           -0.1|\n",
      "|2020-01-13|  Zürich|17.77|24.23|null|32.79|82.44|null|                                        1.4|                                           4.9|                                          -0.9|                                           0.4|                                              8.4|                                             -2.8|                                             81.5|                                        5.5|                                                       956.6|                                        1024.6|                                               null|                                               null|                                                                         1022.2|                                0.5|                                        3.1|                                 1.8|                                        11.2|                                           3.0|                                           10.8|                    0.0|                                                  0.0|                                    0.0|                                                           null|                         55|                                   261|                          139|                                                   30|                                       0.2|                     0.0|                      225|                      18.6|                      10.6|                                                           -0.1|\n",
      "|2020-01-14|  Zürich|10.57| 15.7|null|36.08|40.19|null|                                        4.3|                                           9.4|                                          -0.5|                                           2.5|                                             12.3|                                             -2.9|                                             62.9|                                        5.1|                                                       953.4|                                        1020.5|                                               null|                                               null|                                                                         1018.9|                                1.8|                                        8.8|                                 6.5|                                        31.7|                                           8.5|                                           30.6|                    0.0|                                                  0.0|                                    0.0|                                                           null|                         79|                                   260|                          431|                                                   91|                                       0.6|                     0.0|                      208|                      15.7|                       7.7|                                                           -0.4|\n",
      "|2020-01-15|  Zürich| 7.87|12.64|null|39.47|31.24|null|                                        7.0|                                          11.6|                                           1.7|                                           5.3|                                             14.4|                                             -1.1|                                             56.9|                                        5.6|                                                       956.6|                                        1023.1|                                               null|                                               null|                                                                         1022.2|                                2.5|                                       12.7|                                 9.0|                                        45.7|                                          11.6|                                           41.8|                    0.0|                                                  0.0|                                    0.0|                                                           null|                         81|                                   270|                          433|                                                   91|                                       1.0|                     0.0|                      208|                      13.0|                       5.0|                                                           -0.4|\n",
      "|2020-01-16|  Zürich|10.12|16.43|null|38.43|55.71|null|                                        6.2|                                          10.7|                                           2.1|                                           4.8|                                             13.5|                                             -0.8|                                             66.3|                                        6.2|                                                       961.2|                                        1028.3|                                               null|                                               null|                                                                         1027.1|                                1.0|                                        5.6|                                 3.6|                                        20.2|                                           5.5|                                           19.8|                    0.0|                                                  0.0|                                    0.0|                                                           null|                         80|                                   275|                          478|                                                  100|                                       0.4|                     0.0|                      180|                      13.8|                       5.8|                                                           -0.3|\n",
      "|2020-01-17|  Zürich| 9.36|13.59|null|35.58|38.96|null|                                        4.6|                                           8.3|                                           1.2|                                           3.5|                                             11.7|                                             -1.3|                                             81.4|                                        6.9|                                                       956.9|                                        1024.1|                                               null|                                               null|                                                                         1022.6|                                1.9|                                       11.8|                                 6.8|                                        42.5|                                          11.1|                                           40.0|                    0.0|                                                  4.0|                                    3.9|                                                           null|                         38|                                   300|                          102|                                                   21|                                       0.6|                     0.0|                      225|                      15.4|                       7.4|                                                            3.8|\n",
      "|2020-01-18|  Zürich| 5.85| 8.01|null|38.37|12.73|null|                                        3.4|                                           6.0|                                           0.0|                                           2.9|                                              8.6|                                             -1.5|                                             78.5|                                        6.1|                                                       961.3|                                        1029.1|                                               null|                                               null|                                                                         1027.2|                                1.9|                                       10.2|                                 6.8|                                        36.7|                                           9.7|                                           34.9|                    0.0|                                                  0.0|                                    0.1|                                                           null|                         58|                                   290|                          178|                                                   37|                                       0.4|                     0.0|                      252|                      16.6|                       8.6|                                                            0.0|\n",
      "|2020-01-19|  Zürich| 7.79| 9.73|null|36.34| 13.8|null|                                        0.5|                                           3.6|                                          -1.1|                                           0.1|                                              8.2|                                             -3.3|                                             80.4|                                        5.1|                                                       967.5|                                        1036.6|                                               null|                                               null|                                                                         1033.8|                                2.1|                                        8.3|                                 7.6|                                        29.9|                                           8.2|                                           29.5|                    0.0|                                                  0.0|                                    0.0|                                                           null|                         76|                                   263|                          233|                                                   49|                                       0.4|                     0.0|                       41|                      19.5|                      11.5|                                                           -0.1|\n",
      "|2020-01-20|  Zürich|13.41|17.56|null|35.64| 19.5|null|                                       -0.4|                                           2.7|                                          -2.4|                                          -1.0|                                              5.4|                                             -4.2|                                             78.5|                                        4.6|                                                       973.4|                                        1043.1|                                               null|                                               null|                                                                         1039.9|                                3.5|                                       12.0|                                12.6|                                        43.2|                                          11.7|                                           42.1|                    0.0|                                                  0.0|                                    0.0|                                                           null|                         86|                                   232|                          384|                                                   80|                                       0.6|                     0.0|                       54|                      20.4|                      12.4|                                                           -0.2|\n",
      "|2020-01-21|  Zürich|20.83|27.38|null|33.47|53.78|null|                                       -1.8|                                           1.7|                                          -4.0|                                          -2.6|                                              4.4|                                             -6.0|                                             83.6|                                        4.4|                                                       971.2|                                        1041.2|                                               null|                                               null|                                                                         1037.7|                                1.7|                                        6.7|                                 6.1|                                        24.1|                                           6.5|                                           23.4|                    0.0|                                                  0.0|                                    0.0|                                                           null|                         79|                                   231|                          423|                                                   87|                                       0.3|                     0.0|                       50|                      21.8|                      13.8|                                                           -0.2|\n",
      "+----------+--------+-----+-----+----+-----+-----+----+-------------------------------------------+----------------------------------------------+----------------------------------------------+----------------------------------------------+-------------------------------------------------+-------------------------------------------------+-------------------------------------------------+-------------------------------------------+------------------------------------------------------------+----------------------------------------------+---------------------------------------------------+---------------------------------------------------+-------------------------------------------------------------------------------+-----------------------------------+-------------------------------------------+------------------------------------+--------------------------------------------+----------------------------------------------+-----------------------------------------------+-----------------------+-----------------------------------------------------+---------------------------------------+---------------------------------------------------------------+---------------------------+--------------------------------------+-----------------------------+-----------------------------------------------------+------------------------------------------+------------------------+-------------------------+--------------------------+--------------------------+---------------------------------------------------------------+\n",
      "only showing top 20 rows\n",
      "\n"
     ]
    }
   ],
   "execution_count": 188
  },
  {
   "cell_type": "markdown",
   "id": "f5263822",
   "metadata": {},
   "source": [
    "## Feature-Vektor erstellen\n",
    "ML-Algorithmen erwarten meistens die Daten zusammen in einem Feature-Vektor."
   ]
  },
  {
   "metadata": {},
   "cell_type": "markdown",
   "source": [
    "#Zusammenführen der Tabellen ZH und SG\n",
    "df = df_zh.unionByName(df_sg)\n",
    "df.head()"
   ],
   "id": "9e51556a4e21d64e"
  },
  {
   "cell_type": "code",
   "id": "69c3e7b1",
   "metadata": {
    "ExecuteTime": {
     "end_time": "2025-06-18T19:42:29.330542Z",
     "start_time": "2025-06-18T19:42:29.225294Z"
    }
   },
   "source": [
    "#Wir wollen auch kurz prüfen, ob das geklappt hat und Einträge für beide Städte vorhanden sind\n",
    "df.select(\"location\").distinct().show()\n",
    "#korrekter Output wäre stadt zh sg in einer kleinen TAbelle"
   ],
   "outputs": [
    {
     "name": "stdout",
     "output_type": "stream",
     "text": [
      "+----------+\n",
      "|  location|\n",
      "+----------+\n",
      "|St. Gallen|\n",
      "|    Zürich|\n",
      "+----------+\n",
      "\n"
     ]
    }
   ],
   "execution_count": 189
  },
  {
   "cell_type": "markdown",
   "id": "79f4d806",
   "metadata": {},
   "source": [
    "Zum Erstellen eines Feature-Vektors müssen wir die Feature-Spalten auswählen. Dabei handelt es sich um die numerischen Werte (diese können wir nachher auch standardisieren). Wegzulassen sind dabei in umserem FAll die Zeitstempel als auch die Information zur Stadt."
   ]
  },
  {
   "cell_type": "code",
   "id": "d2ddf0e7",
   "metadata": {
    "scrolled": false,
    "ExecuteTime": {
     "end_time": "2025-06-18T19:42:29.345559Z",
     "start_time": "2025-06-18T19:42:29.337565Z"
    }
   },
   "source": [
    "df.printSchema()\n",
    "#BEim Printen des Schemas zeigt sich, dass alle COlumns noch als String interpretiert werden, darum funktioniert dabei assembler.transform nicht\n",
    "#Wir müssen also zuerst die Strings umwandeln"
   ],
   "outputs": [
    {
     "name": "stdout",
     "output_type": "stream",
     "text": [
      "root\n",
      " |-- date: string (nullable = true)\n",
      " |-- location: string (nullable = true)\n",
      " |-- PM10: string (nullable = true)\n",
      " |-- PM2_5: string (nullable = true)\n",
      " |-- Ozon: string (nullable = true)\n",
      " |-- CO: string (nullable = true)\n",
      " |-- NO2: string (nullable = true)\n",
      " |-- NO: string (nullable = true)\n",
      " |-- Air temperature 2 m above ground daily mean: string (nullable = true)\n",
      " |-- Air temperature 2 m above ground daily maximum: string (nullable = true)\n",
      " |-- Air temperature 2 m above ground daily minimum: string (nullable = true)\n",
      " |-- Air temperature at 5 cm above grass daily mean: string (nullable = true)\n",
      " |-- Air temperature at 5 cm above grass daily maximum: string (nullable = true)\n",
      " |-- Air temperature at 5 cm above grass daily minimum: string (nullable = true)\n",
      " |-- Relative air humidity 2 m above ground daily mean: string (nullable = true)\n",
      " |-- Vapour pressure 2 m above ground daily mean: string (nullable = true)\n",
      " |-- Atmospheric pressure at barometric altitude (QFE) daily mean: string (nullable = true)\n",
      " |-- Pressure reduced to sea level (QFF) daily mean: string (nullable = true)\n",
      " |-- Geopotential height of the 850 hPA level daily mean: string (nullable = true)\n",
      " |-- Geopotential height of the 700 hPA level daily mean: string (nullable = true)\n",
      " |-- Pressure reduced to sea level according to standard atmosphere (QNH) daily mean: string (nullable = true)\n",
      " |-- Wind speed scalar daily mean in m/s: string (nullable = true)\n",
      " |-- Gust peak (one second) daily maximum in m/s: string (nullable = true)\n",
      " |-- Wind speed scalar daily mean in km/h: string (nullable = true)\n",
      " |-- Gust peak (one second) daily maximum in km/h: string (nullable = true)\n",
      " |-- Gust peak (three seconds) daily maximum in m/s: string (nullable = true)\n",
      " |-- Gust peak (three seconds) daily maximum in km/h: string (nullable = true)\n",
      " |-- Foehn index daily value: string (nullable = true)\n",
      " |-- Precipitation daily total 6 UTC - 6 UTC following day: string (nullable = true)\n",
      " |-- Precipitation daily total 0 UTC - 0 UTC: string (nullable = true)\n",
      " |-- Snow depth (automatic measurement) morning measurement at 6 UTC: string (nullable = true)\n",
      " |-- Global radiation daily mean: string (nullable = true)\n",
      " |-- Longwave incoming radiation daily mean: string (nullable = true)\n",
      " |-- Sunshine duration daily total: string (nullable = true)\n",
      " |-- Sunshine duration in relation to absolute daily total: string (nullable = true)\n",
      " |-- Reference evaporation from FAO daily total: string (nullable = true)\n",
      " |-- Cooling Degree Day (CDD): string (nullable = true)\n",
      " |-- Wind direction daily mean: string (nullable = true)\n",
      " |-- Heating degrees (HGT12/20): string (nullable = true)\n",
      " |-- Heating degrees (ATD12/12): string (nullable = true)\n",
      " |-- Hydrologic registration (hydrologic balance, R-ETS) daily total: string (nullable = true)\n",
      "\n"
     ]
    }
   ],
   "execution_count": 190
  },
  {
   "metadata": {},
   "cell_type": "markdown",
   "source": [
    "from pyspark.sql.functions import to_timestamp\n",
    "\n",
    "df = df.withColumn(\"Startzeit\", to_timestamp(\"Startzeit\", \"dd.MM.yyyy HH:mm\")) \\\n",
    "                   .withColumn(\"Endzeit\", to_timestamp(\"Endzeit\", \"dd.MM.yyyy HH:mm\"))"
   ],
   "id": "a092b198b12dc2bd"
  },
  {
   "cell_type": "code",
   "id": "4aa2cb09",
   "metadata": {
    "ExecuteTime": {
     "end_time": "2025-06-18T19:42:29.375759Z",
     "start_time": "2025-06-18T19:42:29.368543Z"
    }
   },
   "source": [
    "umweltfaktoren = [\"PM10\", \"PM2_5\", \"Ozon\", \"CO\", \"NO2\", \"NO\"]\n",
    "for c in umweltfaktoren:\n",
    "    if c not in df.columns:\n",
    "        print(f\"Spalte nicht gefunden, wg. NAmensproblem: '{c}'\")\n",
    "    else: \n",
    "        print(f\"Spalte '{c}'vorhanden\")\n"
   ],
   "outputs": [
    {
     "name": "stdout",
     "output_type": "stream",
     "text": [
      "Spalte 'PM10'vorhanden\n",
      "Spalte 'PM2_5'vorhanden\n",
      "Spalte 'Ozon'vorhanden\n",
      "Spalte 'CO'vorhanden\n",
      "Spalte 'NO2'vorhanden\n",
      "Spalte 'NO'vorhanden\n"
     ]
    }
   ],
   "execution_count": 191
  },
  {
   "cell_type": "code",
   "id": "21857c93",
   "metadata": {
    "ExecuteTime": {
     "end_time": "2025-06-18T19:42:29.514272Z",
     "start_time": "2025-06-18T19:42:29.423278Z"
    }
   },
   "source": [
    "from pyspark.sql.functions import col, regexp_replace\n",
    "\n",
    "umweltfaktoren = [\"PM10\", \"PM2_5\", \"Ozon\", \"CO\", \"NO2\", \"NO\"]\n",
    "\n",
    "for c in umweltfaktoren: #hier noch eine Vorsichtsmassnahme, indem allfällige Kommas zu Punkten für Dezimaldarstellung ugmwandelt werden\n",
    "    df = df.withColumn(c, regexp_replace(col(c), \",\", \".\").cast(\"double\"))\n"
   ],
   "outputs": [],
   "execution_count": 192
  },
  {
   "metadata": {
    "ExecuteTime": {
     "end_time": "2025-06-18T19:42:29.590762Z",
     "start_time": "2025-06-18T19:42:29.523687Z"
    }
   },
   "cell_type": "code",
   "source": [
    "from pyspark.sql.functions import col\n",
    "cnv_list = [\"PM10\", \"PM2_5\", \"Ozon\", \"CO\", \"NO2\", \"NO\"]\n",
    "\n",
    "for col_name in cnv_list:\n",
    "    df = df.withColumn(col_name, col(col_name).cast(\"float\"))"
   ],
   "id": "cf9c116a49d3af0e",
   "outputs": [],
   "execution_count": 193
  },
  {
   "cell_type": "code",
   "id": "242123a6",
   "metadata": {
    "ExecuteTime": {
     "end_time": "2025-06-18T19:42:29.637086Z",
     "start_time": "2025-06-18T19:42:29.600195Z"
    }
   },
   "source": [
    "from pyspark.ml.feature import VectorAssembler\n",
    "\n",
    "umweltfaktoren = [\"PM10\", \"PM2_5\", \"Ozon\", \"CO\", \"NO2\", \"NO\"]\n",
    "\n",
    "assembler = VectorAssembler(inputCols=umweltfaktoren, outputCol=\"rawFeatures\")\n",
    "df_vector = assembler.transform(df).dropna(subset=[\"rawFeatures\"])\n"
   ],
   "outputs": [],
   "execution_count": 194
  },
  {
   "cell_type": "code",
   "id": "b3c8a665",
   "metadata": {
    "scrolled": true,
    "ExecuteTime": {
     "end_time": "2025-06-18T19:42:29.683938Z",
     "start_time": "2025-06-18T19:42:29.648087Z"
    }
   },
   "source": [
    "df_vector.select(umweltfaktoren).printSchema()\n",
    "#Sind wirklich alle nun Doubles und keine Strings? Wichtig für weitere ARbeit"
   ],
   "outputs": [
    {
     "name": "stdout",
     "output_type": "stream",
     "text": [
      "root\n",
      " |-- PM10: float (nullable = true)\n",
      " |-- PM2_5: float (nullable = true)\n",
      " |-- Ozon: float (nullable = true)\n",
      " |-- CO: float (nullable = true)\n",
      " |-- NO2: float (nullable = true)\n",
      " |-- NO: float (nullable = true)\n",
      "\n"
     ]
    }
   ],
   "execution_count": 195
  },
  {
   "cell_type": "code",
   "id": "8405df00",
   "metadata": {
    "ExecuteTime": {
     "end_time": "2025-06-18T19:42:29.980653Z",
     "start_time": "2025-06-18T19:42:29.712442Z"
    }
   },
   "source": "df.select(umweltfaktoren).summary().show() #Kurzer Blick auf die SPalten, ggf fällt hier noch etwas auf\n",
   "outputs": [
    {
     "name": "stdout",
     "output_type": "stream",
     "text": [
      "+-------+------------------+------------------+-----------------+-----------------+------------------+------------------+\n",
      "|summary|              PM10|             PM2_5|             Ozon|               CO|               NO2|                NO|\n",
      "+-------+------------------+------------------+-----------------+-----------------+------------------+------------------+\n",
      "|  count|              3613|              3613|             1809|             1781|              3593|              1811|\n",
      "|   mean|11.003501246386607|10.979950183651436|37.87614706987304|38.21742842908256|21.134703587314526|11.918713427063906|\n",
      "| stddev| 6.663346016893765| 6.996750171761707|9.097815948625566| 9.60113380063993|13.644620416594524|10.028516180464184|\n",
      "|    min|              1.46|              1.39|            11.55|            14.32|              0.95|               0.6|\n",
      "|    25%|              6.43|              6.06|            32.32|            32.02|             11.04|              6.12|\n",
      "|    50%|              9.66|               9.1|            37.78|            37.62|             18.76|              9.47|\n",
      "|    75%|              14.0|             14.09|            43.27|            43.81|             27.75|             13.93|\n",
      "|    max|             97.45|             77.64|            66.53|            70.29|            114.46|            153.79|\n",
      "+-------+------------------+------------------+-----------------+-----------------+------------------+------------------+\n",
      "\n"
     ]
    }
   ],
   "execution_count": 196
  },
  {
   "cell_type": "code",
   "id": "d3ba204a",
   "metadata": {
    "scrolled": true,
    "ExecuteTime": {
     "end_time": "2025-06-18T19:42:30.074183Z",
     "start_time": "2025-06-18T19:42:29.994674Z"
    }
   },
   "source": [
    "from pyspark.sql.functions import isnan\n",
    "\n",
    "df.select([\n",
    "    col(c).isNull().alias(f\"{c}_null\") |\n",
    "    isnan(c).alias(f\"{c}_nan\") for c in umweltfaktoren\n",
    "]).show()\n"
   ],
   "outputs": [
    {
     "name": "stdout",
     "output_type": "stream",
     "text": [
      "+--------------------------------------------------------+------------------------------------------------------------+--------------------------------------------------------+------------------------------------------------+----------------------------------------------------+------------------------------------------------+\n",
      "|((PM10 IS NULL) AS PM10_null OR isnan(PM10) AS PM10_nan)|((PM2_5 IS NULL) AS PM2_5_null OR isnan(PM2_5) AS PM2_5_nan)|((Ozon IS NULL) AS Ozon_null OR isnan(Ozon) AS Ozon_nan)|((CO IS NULL) AS CO_null OR isnan(CO) AS CO_nan)|((NO2 IS NULL) AS NO2_null OR isnan(NO2) AS NO2_nan)|((NO IS NULL) AS NO_null OR isnan(NO) AS NO_nan)|\n",
      "+--------------------------------------------------------+------------------------------------------------------------+--------------------------------------------------------+------------------------------------------------+----------------------------------------------------+------------------------------------------------+\n",
      "|                                                   false|                                                       false|                                                    true|                                           false|                                               false|                                            true|\n",
      "|                                                   false|                                                       false|                                                    true|                                           false|                                               false|                                            true|\n",
      "|                                                   false|                                                       false|                                                    true|                                           false|                                               false|                                            true|\n",
      "|                                                   false|                                                       false|                                                    true|                                           false|                                               false|                                            true|\n",
      "|                                                   false|                                                       false|                                                    true|                                           false|                                               false|                                            true|\n",
      "|                                                   false|                                                       false|                                                    true|                                           false|                                               false|                                            true|\n",
      "|                                                   false|                                                       false|                                                    true|                                           false|                                               false|                                            true|\n",
      "|                                                   false|                                                       false|                                                    true|                                           false|                                               false|                                            true|\n",
      "|                                                   false|                                                       false|                                                    true|                                           false|                                               false|                                            true|\n",
      "|                                                   false|                                                       false|                                                    true|                                           false|                                               false|                                            true|\n",
      "|                                                   false|                                                       false|                                                    true|                                           false|                                               false|                                            true|\n",
      "|                                                   false|                                                       false|                                                    true|                                           false|                                               false|                                            true|\n",
      "|                                                   false|                                                       false|                                                    true|                                           false|                                               false|                                            true|\n",
      "|                                                   false|                                                       false|                                                    true|                                           false|                                               false|                                            true|\n",
      "|                                                   false|                                                       false|                                                    true|                                           false|                                               false|                                            true|\n",
      "|                                                   false|                                                       false|                                                    true|                                           false|                                               false|                                            true|\n",
      "|                                                   false|                                                       false|                                                    true|                                           false|                                               false|                                            true|\n",
      "|                                                   false|                                                       false|                                                    true|                                           false|                                               false|                                            true|\n",
      "|                                                   false|                                                       false|                                                    true|                                           false|                                               false|                                            true|\n",
      "|                                                   false|                                                       false|                                                    true|                                           false|                                               false|                                            true|\n",
      "+--------------------------------------------------------+------------------------------------------------------------+--------------------------------------------------------+------------------------------------------------+----------------------------------------------------+------------------------------------------------+\n",
      "only showing top 20 rows\n",
      "\n"
     ]
    }
   ],
   "execution_count": 197
  },
  {
   "cell_type": "markdown",
   "id": "4453e595",
   "metadata": {},
   "source": [
    "### Ungültige Werte\n",
    "Bevor wir weiterarbeiten müssen wir wissen, ob wir Rows mit falschen Werten droppen oder ob wir die Werte besser einfüllen (Ersteres ist nur dann geeignet, wenn nicht viele betroffen sind)."
   ]
  },
  {
   "cell_type": "code",
   "id": "70e0cd4d",
   "metadata": {
    "ExecuteTime": {
     "end_time": "2025-06-18T19:42:30.167708Z",
     "start_time": "2025-06-18T19:42:30.088183Z"
    }
   },
   "source": [
    "df.filter(\"PM10 is null OR `PM2_5` is null OR Ozon is null OR CO is null OR NO2 is null OR NO is null\").count()\n",
    "\n"
   ],
   "outputs": [
    {
     "data": {
      "text/plain": [
       "3620"
      ]
     },
     "execution_count": 198,
     "metadata": {},
     "output_type": "execute_result"
    }
   ],
   "execution_count": 198
  },
  {
   "cell_type": "code",
   "id": "807bd241",
   "metadata": {
    "ExecuteTime": {
     "end_time": "2025-06-18T19:42:30.307237Z",
     "start_time": "2025-06-18T19:42:30.180709Z"
    }
   },
   "source": [
    "total = df.count()\n",
    "\n",
    "fehlend = df.filter(\n",
    "    \"PM10 is null OR `PM2_5` is null OR Ozon is null OR CO is null OR NO2 is null OR NO is null\"\n",
    ").count()\n",
    "\n",
    "print(f\"Fehlend {fehlend} von total {total} Rows ({(fehlend/total)*100:.2f}%)\")\n"
   ],
   "outputs": [
    {
     "name": "stdout",
     "output_type": "stream",
     "text": [
      "Fehlend 3620 von total 3620 Rows (100.00%)\n"
     ]
    }
   ],
   "execution_count": 199
  },
  {
   "cell_type": "code",
   "id": "3b91721c",
   "metadata": {
    "scrolled": true,
    "ExecuteTime": {
     "end_time": "2025-06-18T19:42:30.509927Z",
     "start_time": "2025-06-18T19:42:30.329245Z"
    }
   },
   "source": [
    "from pyspark.sql.functions import count, when, col, isnan\n",
    "\n",
    "df.select([\n",
    "    count(when(col(c).isNull() | isnan(c), c)).alias(f\"{c}_missing\") for c in umweltfaktoren\n",
    "]).show()\n",
    "#Hier stellt sich leider heraus, dass wir etliche fehlende Werte zu haben scheinen\n",
    "#U.a. haben wir z.B. bei Ozon alleine 1980 und bei CO 2008 oder bei NO 1978 fehlende WErte"
   ],
   "outputs": [
    {
     "name": "stdout",
     "output_type": "stream",
     "text": [
      "+------------+-------------+------------+----------+-----------+----------+\n",
      "|PM10_missing|PM2_5_missing|Ozon_missing|CO_missing|NO2_missing|NO_missing|\n",
      "+------------+-------------+------------+----------+-----------+----------+\n",
      "|           7|            7|        1811|      1839|         27|      1809|\n",
      "+------------+-------------+------------+----------+-----------+----------+\n",
      "\n"
     ]
    }
   ],
   "execution_count": 200
  },
  {
   "cell_type": "markdown",
   "id": "329d1ed4",
   "metadata": {},
   "source": [
    "Wir wollen nicht alle Rows wegwerfen, die fehlende WErte haben...aber es wäre auch sinnlos, diese mit Nullen zu befüllen, da es sich um so viele Rows handelt.\n",
    "<br>\n",
    "Wir wollen die Information speichern, dass hier Werte fehlen. Das können wir, indem wir eine neue Spalte erstellen, in der wir diese Information speichern (binär). \n",
    "<br>\n",
    "Wir erstellen also eine Spalte für Ozon_fehlend, CO_fehlend und NO_fehlend und befüllen dies jeweils mit 0 bzw. 1 (Letzteres für fehlende Werte). D.h. 0 = Wert vorhanden, 1 = Wert fehlt.\n",
    "<br>\n",
    "Die anderen drei Spalten mit 13 oder 31 fehlenden Werten droppen wir, da es sich um eine kleine Anzahl handelt."
   ]
  },
  {
   "cell_type": "code",
   "id": "8b38ebdc",
   "metadata": {
    "ExecuteTime": {
     "end_time": "2025-06-18T19:42:30.541233Z",
     "start_time": "2025-06-18T19:42:30.523933Z"
    }
   },
   "source": [
    "#Droppen der Reihen mit fehlenden Werten für PM10, PM2_5 und NO2\n",
    "cols_to_drop_on = [\"PM10\", \"PM2_5\", \"NO2\"]\n",
    "\n",
    "df_cleaned = df.dropna(subset=cols_to_drop_on)\n"
   ],
   "outputs": [],
   "execution_count": 201
  },
  {
   "cell_type": "code",
   "id": "c3f86a8e",
   "metadata": {
    "ExecuteTime": {
     "end_time": "2025-06-18T19:42:30.696999Z",
     "start_time": "2025-06-18T19:42:30.549132Z"
    }
   },
   "source": [
    "#Wir prüfen, ob das geklappt hat und jetzt jeweils 0 bei den Spalten steht\n",
    "from pyspark.sql.functions import count, when, col, isnan\n",
    "\n",
    "df_cleaned.select([\n",
    "    count(when(col(c).isNull() | isnan(c), c)).alias(f\"{c}_missing\") for c in umweltfaktoren\n",
    "]).show()"
   ],
   "outputs": [
    {
     "name": "stdout",
     "output_type": "stream",
     "text": [
      "+------------+-------------+------------+----------+-----------+----------+\n",
      "|PM10_missing|PM2_5_missing|Ozon_missing|CO_missing|NO2_missing|NO_missing|\n",
      "+------------+-------------+------------+----------+-----------+----------+\n",
      "|           0|            0|        1779|      1810|          0|      1779|\n",
      "+------------+-------------+------------+----------+-----------+----------+\n",
      "\n"
     ]
    }
   ],
   "execution_count": 202
  },
  {
   "cell_type": "code",
   "id": "160f4e4d",
   "metadata": {
    "ExecuteTime": {
     "end_time": "2025-06-18T19:42:30.758700Z",
     "start_time": "2025-06-18T19:42:30.713642Z"
    }
   },
   "source": [
    "#im nächsten Schritt werden wir sep. Spalten zum Erhalten der Information zu den fehlenden WErten erstellen\n",
    "#das ändert zwar nichts daran, dass wir die Felder irgendwie befüllen müssen, erhält aber die Information, dass der Wert gefhelt hatte\n",
    "from pyspark.sql.functions import when, col\n",
    "\n",
    "cols_to_flag = [\"Ozon\", \"CO\", \"NO\"]\n",
    "\n",
    "for c in cols_to_flag:\n",
    "    df_cleaned = df_cleaned.withColumn(f\"{c}_missing\", when(col(c).isNull(), 1).otherwise(0))\n"
   ],
   "outputs": [],
   "execution_count": 203
  },
  {
   "cell_type": "code",
   "id": "ebe02b25",
   "metadata": {
    "scrolled": true,
    "ExecuteTime": {
     "end_time": "2025-06-18T19:42:30.836175Z",
     "start_time": "2025-06-18T19:42:30.768602Z"
    }
   },
   "source": [
    "df_cleaned.select(\"Ozon\", \"Ozon_missing\", \"CO\", \"CO_missing\", \"NO\", \"NO_missing\").show(10)\n",
    "#Wir prüfen kurz, ob das geklappt hat und wir nun jeweils dazu passende \"_missing\"-Spalten haben mit 1 und 0"
   ],
   "outputs": [
    {
     "name": "stdout",
     "output_type": "stream",
     "text": [
      "+----+------------+-----+----------+----+----------+\n",
      "|Ozon|Ozon_missing|   CO|CO_missing|  NO|NO_missing|\n",
      "+----+------------+-----+----------+----+----------+\n",
      "|null|           1|21.11|         0|null|         1|\n",
      "|null|           1| 26.5|         0|null|         1|\n",
      "|null|           1|36.66|         0|null|         1|\n",
      "|null|           1|35.72|         0|null|         1|\n",
      "|null|           1|28.78|         0|null|         1|\n",
      "|null|           1|31.55|         0|null|         1|\n",
      "|null|           1|30.09|         0|null|         1|\n",
      "|null|           1| 35.4|         0|null|         1|\n",
      "|null|           1|40.12|         0|null|         1|\n",
      "|null|           1|35.56|         0|null|         1|\n",
      "+----+------------+-----+----------+----+----------+\n",
      "only showing top 10 rows\n",
      "\n"
     ]
    }
   ],
   "execution_count": 204
  },
  {
   "cell_type": "markdown",
   "id": "c140e2b3",
   "metadata": {},
   "source": [
    "Nun dürfen wir nicht vergessen, dass wir dennoch die empty Felder mit etwas befüllen müssen.\n",
    "Wir wählen mal 0 als Wert, da es uns fast schon zu sehr an Einträgen fehlt, um einen MEdian oder ÄHnliches zu berechnen."
   ]
  },
  {
   "cell_type": "code",
   "id": "0ebdb46c",
   "metadata": {
    "ExecuteTime": {
     "end_time": "2025-06-18T19:42:30.944712Z",
     "start_time": "2025-06-18T19:42:30.854177Z"
    }
   },
   "source": [
    "df_cleaned = df_cleaned.fillna({\n",
    "    \"CO\": 0,\n",
    "    \"Ozon\": 0,\n",
    "    \"NO\": 0\n",
    "})\n",
    "#überall wo na ist, wird eine 0 eingefügt"
   ],
   "outputs": [],
   "execution_count": 205
  },
  {
   "cell_type": "code",
   "id": "49f1f5e9",
   "metadata": {
    "scrolled": true,
    "ExecuteTime": {
     "end_time": "2025-06-18T19:42:31.100359Z",
     "start_time": "2025-06-18T19:42:30.952697Z"
    }
   },
   "source": [
    "#neu sollten wir hier also überall 0 als Wert für die Anzahl an NA-Werten erhalten\n",
    "from pyspark.sql.functions import count, when, col, isnan\n",
    "\n",
    "df_cleaned.select([\n",
    "    count(when(col(c).isNull() | isnan(c), c)).alias(f\"{c}_missing\") for c in umweltfaktoren\n",
    "]).show()"
   ],
   "outputs": [
    {
     "name": "stdout",
     "output_type": "stream",
     "text": [
      "+------------+-------------+------------+----------+-----------+----------+\n",
      "|PM10_missing|PM2_5_missing|Ozon_missing|CO_missing|NO2_missing|NO_missing|\n",
      "+------------+-------------+------------+----------+-----------+----------+\n",
      "|           0|            0|           0|         0|          0|         0|\n",
      "+------------+-------------+------------+----------+-----------+----------+\n",
      "\n"
     ]
    }
   ],
   "execution_count": 206
  },
  {
   "cell_type": "markdown",
   "id": "02eeb991",
   "metadata": {},
   "source": [
    "### Zeiten als Features extrahieren\n",
    "\n",
    "\n"
   ]
  },
  {
   "cell_type": "code",
   "id": "5773643a",
   "metadata": {
    "ExecuteTime": {
     "end_time": "2025-06-18T19:42:31.178438Z",
     "start_time": "2025-06-18T19:42:31.113871Z"
    }
   },
   "source": [
    "from pyspark.sql.functions import year, month, dayofmonth, dayofweek, hour\n",
    "\n",
    "df_cleaned = df_cleaned.withColumn(\"year_s\", year(\"date\")) \\\n",
    "                 .withColumn(\"month_s\", month(\"date\")) \\\n",
    "                 .withColumn(\"day_s\", dayofmonth(\"date\")) \\\n",
    "                 .withColumn(\"weekday_s\", dayofweek(\"date\")) \\\n",
    "                 .withColumn(\"hour_s\", hour(\"date\"))\n",
    "\n"
   ],
   "outputs": [],
   "execution_count": 207
  },
  {
   "cell_type": "code",
   "id": "e222f84a",
   "metadata": {
    "scrolled": true,
    "ExecuteTime": {
     "end_time": "2025-06-18T19:42:31.257848Z",
     "start_time": "2025-06-18T19:42:31.187310Z"
    }
   },
   "source": [
    "#Spalten-Preview nach Zeiten-Extraktion\n",
    "df_cleaned.select(\"date\", \"year_s\", \"month_s\", \"day_s\", \"weekday_s\", \"hour_S\").show(10, truncate=False)\n"
   ],
   "outputs": [
    {
     "name": "stdout",
     "output_type": "stream",
     "text": [
      "+----------+------+-------+-----+---------+------+\n",
      "|date      |year_s|month_s|day_s|weekday_s|hour_S|\n",
      "+----------+------+-------+-----+---------+------+\n",
      "|2020-01-02|2020  |1      |2    |5        |0     |\n",
      "|2020-01-03|2020  |1      |3    |6        |0     |\n",
      "|2020-01-04|2020  |1      |4    |7        |0     |\n",
      "|2020-01-05|2020  |1      |5    |1        |0     |\n",
      "|2020-01-06|2020  |1      |6    |2        |0     |\n",
      "|2020-01-07|2020  |1      |7    |3        |0     |\n",
      "|2020-01-08|2020  |1      |8    |4        |0     |\n",
      "|2020-01-09|2020  |1      |9    |5        |0     |\n",
      "|2020-01-10|2020  |1      |10   |6        |0     |\n",
      "|2020-01-11|2020  |1      |11   |7        |0     |\n",
      "+----------+------+-------+-----+---------+------+\n",
      "only showing top 10 rows\n",
      "\n"
     ]
    }
   ],
   "execution_count": 208
  },
  {
   "cell_type": "markdown",
   "id": "42352c00",
   "metadata": {},
   "source": [
    "#### VEktor erstellen\n"
   ]
  },
  {
   "cell_type": "code",
   "id": "96121be9",
   "metadata": {
    "ExecuteTime": {
     "end_time": "2025-06-18T19:42:31.288929Z",
     "start_time": "2025-06-18T19:42:31.273835Z"
    }
   },
   "source": [
    "#wir definieren, welche Spalten wir gerne als Features hätten \n",
    "#numerische Spalten als Features, keine Strings oder Timestamps\n",
    "feature_cols = [\"PM10\", \"PM2_5\", \"Ozon\", \"CO\", \"NO2\", \"NO\", \"Ozon_missing\", \"CO_missing\", \"NO_missing\"]\n"
   ],
   "outputs": [],
   "execution_count": 209
  },
  {
   "cell_type": "code",
   "id": "2d3deb10",
   "metadata": {
    "ExecuteTime": {
     "end_time": "2025-06-18T19:42:31.319675Z",
     "start_time": "2025-06-18T19:42:31.295845Z"
    }
   },
   "source": [
    "#Feature-Vektor erstellen mit VectorAssembler\n",
    "from pyspark.ml.feature import VectorAssembler\n",
    "\n",
    "assembler = VectorAssembler(inputCols=feature_cols, outputCol=\"features\")\n",
    "df_vector = assembler.transform(df_cleaned)  # NAme des aktuellen DataFrames ist df_cleaned"
   ],
   "outputs": [],
   "execution_count": 210
  },
  {
   "cell_type": "code",
   "id": "f898b54a",
   "metadata": {
    "scrolled": true,
    "ExecuteTime": {
     "end_time": "2025-06-18T19:42:31.351773Z",
     "start_time": "2025-06-18T19:42:31.327681Z"
    }
   },
   "source": [
    "df_vector.select(\"Ozon_missing\", \"CO_missing\", \"NO_missing\").printSchema()\n"
   ],
   "outputs": [
    {
     "name": "stdout",
     "output_type": "stream",
     "text": [
      "root\n",
      " |-- Ozon_missing: integer (nullable = false)\n",
      " |-- CO_missing: integer (nullable = false)\n",
      " |-- NO_missing: integer (nullable = false)\n",
      "\n"
     ]
    }
   ],
   "execution_count": 211
  },
  {
   "cell_type": "code",
   "id": "dd118971",
   "metadata": {
    "ExecuteTime": {
     "end_time": "2025-06-18T19:42:31.446944Z",
     "start_time": "2025-06-18T19:42:31.371769Z"
    }
   },
   "source": [
    "#Vorschau, ob das geklappt hat mit dem Feature-Vektor\n",
    "df_vector.select(\"features\").show(5, truncate=False)\n"
   ],
   "outputs": [
    {
     "name": "stdout",
     "output_type": "stream",
     "text": [
      "+------------------------------------------------------------------------------------------------+\n",
      "|features                                                                                        |\n",
      "+------------------------------------------------------------------------------------------------+\n",
      "|[16.209999084472656,18.43000030517578,0.0,21.110000610351562,18.8700008392334,0.0,1.0,0.0,1.0]  |\n",
      "|[16.90999984741211,20.09000015258789,0.0,26.5,26.709999084472656,0.0,1.0,0.0,1.0]               |\n",
      "|[6.800000190734863,8.800000190734863,0.0,36.65999984741211,13.539999961853027,0.0,1.0,0.0,1.0]  |\n",
      "|[8.880000114440918,11.520000457763672,0.0,35.720001220703125,21.149999618530273,0.0,1.0,0.0,1.0]|\n",
      "|[19.229999542236328,23.170000076293945,0.0,28.780000686645508,50.18000030517578,0.0,1.0,0.0,1.0]|\n",
      "+------------------------------------------------------------------------------------------------+\n",
      "only showing top 5 rows\n",
      "\n"
     ]
    }
   ],
   "execution_count": 212
  },
  {
   "cell_type": "markdown",
   "id": "e8697005",
   "metadata": {},
   "source": [
    "## Standardisierung der numerischen Daten\n",
    "Standardisieren der numerischen Daten in einen Range von -1 bis 1.\n",
    "<br>\n",
    "Je nach verwendeter MEthode ist das sinnvoll und nützlich (ABhängigkeit von Distanzenberechnung). Zu diesen MEthoden gehört z.B. k-Means, logistische Regression, SVMs. Weniger wichtig ist es bei Tree-Methoden.\n",
    "<br> \n",
    "Der kleinste Wert wird auf -1 gemappt und der grösste auf 1. Der Rest wird entsprechend dazwischen gemappt.\n",
    "<br>\n"
   ]
  },
  {
   "cell_type": "code",
   "id": "a24122ec",
   "metadata": {
    "ExecuteTime": {
     "end_time": "2025-06-18T19:42:31.633726Z",
     "start_time": "2025-06-18T19:42:31.465915Z"
    }
   },
   "source": [
    "#Zum Standardisieren arbeiten wir mit StandardScaler\n",
    "from pyspark.ml.feature import StandardScaler\n",
    "\n",
    "scaler = StandardScaler(\n",
    "    inputCol=\"features\",\n",
    "    outputCol=\"scaledFeatures\",\n",
    "    withMean=True,  # 0 als Mitte\n",
    "    withStd=True    # Einheitsvarianz skalieren\n",
    ")\n",
    "\n",
    "scaler_model = scaler.fit(df_vector)\n",
    "df_scaled = scaler_model.transform(df_vector)\n"
   ],
   "outputs": [],
   "execution_count": 213
  },
  {
   "cell_type": "code",
   "id": "24ad6660",
   "metadata": {
    "ExecuteTime": {
     "end_time": "2025-06-18T19:42:31.727337Z",
     "start_time": "2025-06-18T19:42:31.643675Z"
    }
   },
   "source": [
    "df_scaled.select(\"scaledFeatures\").show(5, truncate=False)\n",
    "#kurze Preview, neu sollten alle Werte zwischen -1 und 1 angezeigt werden"
   ],
   "outputs": [
    {
     "name": "stdout",
     "output_type": "stream",
     "text": [
      "+------------------------------------------------------------------------------------------------------------------------------------------------------------------------------------+\n",
      "|scaledFeatures                                                                                                                                                                      |\n",
      "+------------------------------------------------------------------------------------------------------------------------------------------------------------------------------------+\n",
      "|[0.7821900111442879,1.0637332886564814,-0.9537392517977072,0.10662933601180956,-0.16412357262851254,-0.6467992913026924,1.0076983318480472,-1.0093859238780445,1.0076983318480472]  |\n",
      "|[0.8871649150265618,1.3005944996594987,-0.9537392517977072,0.3723562507686133,0.4111031871001774,-0.6467992913026924,1.0076983318480472,-1.0093859238780445,1.0076983318480472]     |\n",
      "|[-0.6289709213872539,-0.3103472527493744,-0.9537392517977072,0.8732441392844059,-0.5551898762349389,-0.6467992913026924,1.0076983318480472,-1.0093859238780445,1.0076983318480472]  |\n",
      "|[-0.3170458441212075,0.07776275712885529,-0.9537392517977072,0.8269022166061358,0.0031617084360223793,-0.6467992913026924,1.0076983318480472,-1.0093859238780445,1.0076983318480472]|\n",
      "|[1.2350813143578903,1.7400719568144112,-0.9537392517977072,0.4847602612902586,2.1331154032650868,-0.6467992913026924,1.0076983318480472,-1.0093859238780445,1.0076983318480472]     |\n",
      "+------------------------------------------------------------------------------------------------------------------------------------------------------------------------------------+\n",
      "only showing top 5 rows\n",
      "\n"
     ]
    }
   ],
   "execution_count": 214
  },
  {
   "cell_type": "markdown",
   "id": "cf124393",
   "metadata": {},
   "source": [
    "<div style=\"background-color:#add8e6; height:60px; border-radius:10px; text-align:center; padding-top:5px;\">\n",
    "  <strong style=\"color:#003366; font-size: 30px\">Machine Learning mit Spark MLlib</strong>\n",
    "</div>\n"
   ]
  },
  {
   "cell_type": "markdown",
   "id": "0a853f19",
   "metadata": {},
   "source": [
    "## ANomalien entdecken\n",
    "Mittels k-Means probieren wir, ob wir irgendwelche Anomalien entdecken können."
   ]
  },
  {
   "cell_type": "code",
   "id": "446fc311",
   "metadata": {
    "ExecuteTime": {
     "end_time": "2025-06-18T19:42:32.881152Z",
     "start_time": "2025-06-18T19:42:31.739250Z"
    }
   },
   "source": [
    "from pyspark.ml.clustering import KMeans\n",
    "\n",
    "kmeans = KMeans(featuresCol=\"scaledFeatures\", predictionCol=\"cluster\", k=3, seed=42)\n",
    "model = kmeans.fit(df_scaled)\n",
    "df_clustered = model.transform(df_scaled)\n",
    "\n",
    "#wir clustern mit k-Means"
   ],
   "outputs": [],
   "execution_count": 215
  },
  {
   "cell_type": "code",
   "id": "9f24626a",
   "metadata": {
    "ExecuteTime": {
     "end_time": "2025-06-18T19:42:32.928730Z",
     "start_time": "2025-06-18T19:42:32.893153Z"
    }
   },
   "source": [
    "import numpy as np\n",
    "from pyspark.sql.functions import udf\n",
    "\n",
    "#hier messen wir die Distanz der Punkte zur Cluster-Mitte\n",
    "\n",
    "centers = model.clusterCenters()\n",
    "\n",
    "def distance_from_center(vec, cluster_id):\n",
    "    return float(np.linalg.norm(vec.toArray() - centers[cluster_id]))\n",
    "\n",
    "distance_udf = udf(distance_from_center)\n",
    "\n",
    "df_clustered = df_clustered.withColumn(\"distance_to_center\", distance_udf(\"scaledFeatures\", \"cluster\"))\n"
   ],
   "outputs": [],
   "execution_count": 216
  },
  {
   "cell_type": "code",
   "id": "6d3dda52",
   "metadata": {
    "ExecuteTime": {
     "end_time": "2025-06-18T19:42:34.360894Z",
     "start_time": "2025-06-18T19:42:32.937715Z"
    }
   },
   "source": [
    "#wir sortieren nach Distanz zur Mitte, hier also zB die obersten 10 auffälligsten Zeilen\n",
    "df_sorted = df_clustered.orderBy(col(\"distance_to_center\").desc())\n",
    "df_sorted.select(\"distance_to_center\", \"cluster\", \"features\").show(10, truncate=False)\n"
   ],
   "outputs": [
    {
     "name": "stdout",
     "output_type": "stream",
     "text": [
      "+------------------+-------+--------------------------------------------------------------------------------------------------------------+\n",
      "|distance_to_center|cluster|features                                                                                                      |\n",
      "+------------------+-------+--------------------------------------------------------------------------------------------------------------+\n",
      "|9.600309299607186 |1      |[26.549999237060547,73.3499984741211,0.0,31.93000030517578,66.79000091552734,0.0,1.0,0.0,1.0]                 |\n",
      "|8.781610755791135 |2      |[76.08999633789062,28.0,37.95000076293945,0.0,53.29999923706055,38.04999923706055,0.0,1.0,0.0]                |\n",
      "|8.709769558458207 |2      |[75.7699966430664,26.360000610351562,39.45000076293945,0.0,58.43000030517578,37.040000915527344,0.0,1.0,0.0]  |\n",
      "|7.765478552111212 |2      |[24.530000686645508,33.93000030517578,0.0,25.40999984741211,112.37000274658203,0.0,1.0,0.0,1.0]               |\n",
      "|7.710658494990095 |2      |[31.8799991607666,39.209999084472656,0.0,28.6200008392334,99.5199966430664,0.0,1.0,0.0,1.0]                   |\n",
      "|7.461220189255214 |1      |[44.650001525878906,50.689998626708984,0.0,32.869998931884766,23.84000015258789,0.0,1.0,0.0,1.0]              |\n",
      "|7.459586495162409 |2      |[67.66000366210938,19.09000015258789,51.02000045776367,0.0,24.079999923706055,8.899999618530273,0.0,1.0,0.0]  |\n",
      "|7.438902633365415 |1      |[14.779999732971191,23.979999542236328,0.0,26.790000915527344,114.45999908447266,0.0,1.0,0.0,1.0]             |\n",
      "|7.29241280010287  |1      |[43.060001373291016,44.61000061035156,0.0,29.489999771118164,55.58000183105469,0.0,1.0,0.0,1.0]               |\n",
      "|7.134219859519236 |2      |[62.58000183105469,18.450000762939453,47.79999923706055,0.0,11.039999961853027,3.0999999046325684,0.0,1.0,0.0]|\n",
      "+------------------+-------+--------------------------------------------------------------------------------------------------------------+\n",
      "only showing top 10 rows\n",
      "\n"
     ]
    }
   ],
   "execution_count": 217
  },
  {
   "cell_type": "markdown",
   "id": "59612683",
   "metadata": {},
   "source": [
    "## Korrelationen in Entwicklung\n",
    "Mit der Pearson-Korrelation können wir schauen, ob es irgendwelche ABhängikeiten zwischen gewissen Features gibt. Entwickeln sich zB Feature 1 und 2 gemeinsam...? mit einer Pearson-Korrelations-Matrix lässt sich messen, wie zwei Variablen im VErhältnis sich bewegen.\n",
    "<br>\n",
    "Hohe absolute Werte (nahe bei 1) gehören zusammen. Negative Korrelationen hingegen können auf kompensierendes Verhalten hindeuten."
   ]
  },
  {
   "cell_type": "code",
   "id": "c1de8f0b",
   "metadata": {
    "ExecuteTime": {
     "end_time": "2025-06-18T19:42:34.624284Z",
     "start_time": "2025-06-18T19:42:34.380922Z"
    }
   },
   "source": [
    "from pyspark.ml.stat import Correlation\n",
    "correlation_matrix = Correlation.corr(df_scaled, \"scaledFeatures\")"
   ],
   "outputs": [
    {
     "name": "stderr",
     "output_type": "stream",
     "text": [
      "C:\\Users\\lhenz\\AppData\\Local\\Packages\\PythonSoftwareFoundation.Python.3.9_qbz5n2kfra8p0\\LocalCache\\local-packages\\Python39\\site-packages\\pyspark\\sql\\context.py:125: FutureWarning: Deprecated in 3.0.0. Use SparkSession.builder.getOrCreate() instead.\n",
      "  warnings.warn(\n"
     ]
    }
   ],
   "execution_count": 218
  },
  {
   "cell_type": "markdown",
   "id": "53064512",
   "metadata": {},
   "source": [
    "## Zeitliche Dimension bzw. Entwicklungen\n",
    "Da wir über ZEitstempel verfügen, können wir auh zeitliche Entwicklungen berücksichtigen und analysieren.\n",
    "FAlls die ZEitstempel noch als String abgespeichert sind, sollte man sie korrekt parsen."
   ]
  },
  {
   "cell_type": "markdown",
   "id": "989bc2c6",
   "metadata": {},
   "source": [
    "Wir fügen die temporalen Features nun ebenfalls zu unserem Feature-Vector hinzu."
   ]
  },
  {
   "cell_type": "code",
   "id": "37c452b3",
   "metadata": {
    "ExecuteTime": {
     "end_time": "2025-06-18T19:42:34.687017Z",
     "start_time": "2025-06-18T19:42:34.635506Z"
    }
   },
   "source": [
    "from pyspark.ml.feature import VectorAssembler\n",
    "\n",
    "extended_cols = [\"PM10\", \"PM2_5\", \"Ozon\", \"CO\", \"NO2\", \"NO\", \"Ozon_missing\", \"CO_missing\", \"NO_missing\", \"year_s\", \"month_s\", \"day_s\", \"weekday_s\", \"hour_s\"]\n",
    "assembler = VectorAssembler(inputCols=extended_cols, outputCol=\"features_extended\")\n",
    "df_final = assembler.transform(df_cleaned)\n"
   ],
   "outputs": [],
   "execution_count": 219
  },
  {
   "cell_type": "code",
   "id": "fc5f085a",
   "metadata": {
    "ExecuteTime": {
     "end_time": "2025-06-18T19:42:34.780233Z",
     "start_time": "2025-06-18T19:42:34.696136Z"
    }
   },
   "source": [
    "# Kurzer Blick in den vEctor\n",
    "df_final.select(\"features_extended\").show(truncate=False)\n"
   ],
   "outputs": [
    {
     "name": "stdout",
     "output_type": "stream",
     "text": [
      "+------------------------------------------------------------------------------------------------------------------------+\n",
      "|features_extended                                                                                                       |\n",
      "+------------------------------------------------------------------------------------------------------------------------+\n",
      "|[16.209999084472656,18.43000030517578,0.0,21.110000610351562,18.8700008392334,0.0,1.0,0.0,1.0,2020.0,1.0,2.0,5.0,0.0]   |\n",
      "|[16.90999984741211,20.09000015258789,0.0,26.5,26.709999084472656,0.0,1.0,0.0,1.0,2020.0,1.0,3.0,6.0,0.0]                |\n",
      "|[6.800000190734863,8.800000190734863,0.0,36.65999984741211,13.539999961853027,0.0,1.0,0.0,1.0,2020.0,1.0,4.0,7.0,0.0]   |\n",
      "|[8.880000114440918,11.520000457763672,0.0,35.720001220703125,21.149999618530273,0.0,1.0,0.0,1.0,2020.0,1.0,5.0,1.0,0.0] |\n",
      "|[19.229999542236328,23.170000076293945,0.0,28.780000686645508,50.18000030517578,0.0,1.0,0.0,1.0,2020.0,1.0,6.0,2.0,0.0] |\n",
      "|[14.420000076293945,18.190000534057617,0.0,31.549999237060547,48.54999923706055,0.0,1.0,0.0,1.0,2020.0,1.0,7.0,3.0,0.0] |\n",
      "|[16.959999084472656,22.149999618530273,0.0,30.09000015258789,66.69999694824219,0.0,1.0,0.0,1.0,2020.0,1.0,8.0,4.0,0.0]  |\n",
      "|[10.260000228881836,16.459999084472656,0.0,35.400001525878906,46.25,0.0,1.0,0.0,1.0,2020.0,1.0,9.0,5.0,0.0]             |\n",
      "|[4.989999771118164,7.110000133514404,0.0,40.119998931884766,9.079999923706055,0.0,1.0,0.0,1.0,2020.0,1.0,10.0,6.0,0.0]  |\n",
      "|[9.079999923706055,12.149999618530273,0.0,35.560001373291016,28.760000228881836,0.0,1.0,0.0,1.0,2020.0,1.0,11.0,7.0,0.0]|\n",
      "|[18.290000915527344,21.639999389648438,0.0,26.520000457763672,30.34000015258789,0.0,1.0,0.0,1.0,2020.0,1.0,12.0,1.0,0.0]|\n",
      "|[17.770000457763672,24.229999542236328,0.0,32.790000915527344,82.44000244140625,0.0,1.0,0.0,1.0,2020.0,1.0,13.0,2.0,0.0]|\n",
      "|[10.569999694824219,15.699999809265137,0.0,36.08000183105469,40.189998626708984,0.0,1.0,0.0,1.0,2020.0,1.0,14.0,3.0,0.0]|\n",
      "|[7.869999885559082,12.640000343322754,0.0,39.470001220703125,31.239999771118164,0.0,1.0,0.0,1.0,2020.0,1.0,15.0,4.0,0.0]|\n",
      "|[10.119999885559082,16.43000030517578,0.0,38.43000030517578,55.709999084472656,0.0,1.0,0.0,1.0,2020.0,1.0,16.0,5.0,0.0] |\n",
      "|[9.359999656677246,13.59000015258789,0.0,35.58000183105469,38.959999084472656,0.0,1.0,0.0,1.0,2020.0,1.0,17.0,6.0,0.0]  |\n",
      "|[5.849999904632568,8.010000228881836,0.0,38.369998931884766,12.729999542236328,0.0,1.0,0.0,1.0,2020.0,1.0,18.0,7.0,0.0] |\n",
      "|[7.789999961853027,9.729999542236328,0.0,36.34000015258789,13.800000190734863,0.0,1.0,0.0,1.0,2020.0,1.0,19.0,1.0,0.0]  |\n",
      "|[13.40999984741211,17.559999465942383,0.0,35.63999938964844,19.5,0.0,1.0,0.0,1.0,2020.0,1.0,20.0,2.0,0.0]               |\n",
      "|[20.829999923706055,27.3799991607666,0.0,33.470001220703125,53.779998779296875,0.0,1.0,0.0,1.0,2020.0,1.0,21.0,3.0,0.0] |\n",
      "+------------------------------------------------------------------------------------------------------------------------+\n",
      "only showing top 20 rows\n",
      "\n"
     ]
    }
   ],
   "execution_count": 220
  },
  {
   "cell_type": "markdown",
   "id": "1b1513da",
   "metadata": {},
   "source": [
    "Mit der zeitlichen Dimension ist also auch eine zeitliche Analyse mittels Clustering möglich."
   ]
  },
  {
   "cell_type": "code",
   "id": "86c369c3",
   "metadata": {
    "ExecuteTime": {
     "end_time": "2025-06-18T19:42:36.071997Z",
     "start_time": "2025-06-18T19:42:34.794304Z"
    }
   },
   "source": [
    "from pyspark.ml.clustering import KMeans\n",
    "\n",
    "kmeans_time = KMeans(featuresCol=\"features_extended\", predictionCol=\"cluster\", k=4)\n",
    "model_time = kmeans_time.fit(df_final)\n",
    "df_timecluster = model_time.transform(df_final)\n"
   ],
   "outputs": [],
   "execution_count": 221
  },
  {
   "cell_type": "code",
   "id": "f4829cd7",
   "metadata": {
    "ExecuteTime": {
     "end_time": "2025-06-18T19:42:36.226572Z",
     "start_time": "2025-06-18T19:42:36.089010Z"
    }
   },
   "source": [
    "df_timecluster.groupBy(\"cluster\").count().show()\n"
   ],
   "outputs": [
    {
     "name": "stdout",
     "output_type": "stream",
     "text": [
      "+-------+-----+\n",
      "|cluster|count|\n",
      "+-------+-----+\n",
      "|      1|  322|\n",
      "|      3|  372|\n",
      "|      2| 1457|\n",
      "|      0| 1435|\n",
      "+-------+-----+\n",
      "\n"
     ]
    }
   ],
   "execution_count": 222
  },
  {
   "cell_type": "markdown",
   "id": "4ad73570",
   "metadata": {},
   "source": [
    "## Wir sehen uns die Cluster mal kurz an..."
   ]
  },
  {
   "cell_type": "code",
   "id": "da298490",
   "metadata": {
    "ExecuteTime": {
     "end_time": "2025-06-18T19:42:36.383354Z",
     "start_time": "2025-06-18T19:42:36.244916Z"
    }
   },
   "source": [
    "cluster_counts = df_timecluster.groupBy(\"cluster\").count().toPandas()\n"
   ],
   "outputs": [],
   "execution_count": 223
  },
  {
   "cell_type": "code",
   "id": "e81dbfe4",
   "metadata": {
    "ExecuteTime": {
     "end_time": "2025-06-18T19:42:36.478796Z",
     "start_time": "2025-06-18T19:42:36.392271Z"
    }
   },
   "source": [
    "import matplotlib.pyplot as plt\n",
    "\n",
    "plt.figure(figsize=(6,4))\n",
    "plt.bar(cluster_counts[\"cluster\"], cluster_counts[\"count\"], color=\"lightblue\")\n",
    "plt.xlabel(\"Cluster ID\")\n",
    "plt.ylabel(\"Anzahl\")\n",
    "plt.title(\"Verteilung Clsstergrössen\")\n",
    "plt.xticks(cluster_counts[\"cluster\"])\n",
    "plt.show()\n"
   ],
   "outputs": [
    {
     "data": {
      "text/plain": [
       "<Figure size 600x400 with 1 Axes>"
      ],
      "image/png": "[encoded data removed]"
     },
     "metadata": {},
     "output_type": "display_data"
    }
   ],
   "execution_count": 224
  },
  {
   "cell_type": "code",
   "id": "cc127bbb",
   "metadata": {
    "ExecuteTime": {
     "end_time": "2025-06-18T19:42:36.555292Z",
     "start_time": "2025-06-18T19:42:36.493843Z"
    }
   },
   "source": [
    "plt.pie(cluster_counts[\"count\"], labels=cluster_counts[\"cluster\"], autopct='%1.1f%%', startangle=90)\n",
    "plt.title(\"Verhältnisse, Kuchendiagr\")\n",
    "plt.axis(\"equal\")\n",
    "plt.show()\n"
   ],
   "outputs": [
    {
     "data": {
      "text/plain": [
       "<Figure size 640x480 with 1 Axes>"
      ],
      "image/png": "[encoded data removed]"
     },
     "metadata": {},
     "output_type": "display_data"
    }
   ],
   "execution_count": 225
  },
  {
   "cell_type": "markdown",
   "id": "c4089e51",
   "metadata": {},
   "source": [
    "Um jedoch zu verstehen, was wir hier eigentlich sehen und was die Cluster bedeuten, müssen wir uns näher damit auseinandersetzen."
   ]
  },
  {
   "cell_type": "code",
   "id": "a0050012",
   "metadata": {
    "ExecuteTime": {
     "end_time": "2025-06-18T19:42:36.802095Z",
     "start_time": "2025-06-18T19:42:36.574723Z"
    }
   },
   "source": [
    "df_timecluster.groupBy(\"cluster\").avg(\"PM10\", \"PM2_5\", \"Ozon\", \"CO\", \"NO2\", \"NO\", \"Ozon_missing\", \"CO_missing\", \"NO_missing\", \"year_s\", \"month_s\", \"day_s\", \"weekday_s\", \"hour_s\").show()\n",
    "#zB können wir die durcschn Werte in einem Cluster ermitteln, um zu sehen, ob uns da etwas auffällt"
   ],
   "outputs": [
    {
     "name": "stdout",
     "output_type": "stream",
     "text": [
      "+-------+------------------+------------------+-----------------+------------------+------------------+------------------+-----------------+--------------------+---------------+------------------+------------------+------------------+------------------+-----------+\n",
      "|cluster|         avg(PM10)|        avg(PM2_5)|        avg(Ozon)|           avg(CO)|          avg(NO2)|           avg(NO)|avg(Ozon_missing)|     avg(CO_missing)|avg(NO_missing)|       avg(year_s)|      avg(month_s)|        avg(day_s)|    avg(weekday_s)|avg(hour_s)|\n",
      "+-------+------------------+------------------+-----------------+------------------+------------------+------------------+-----------------+--------------------+---------------+------------------+------------------+------------------+------------------+-----------+\n",
      "|      1| 15.89633538115839| 22.21496896121813|              0.0|28.342670834582783| 39.34009316545095|               0.0|              1.0|0.006211180124223602|            1.0|  2021.72049689441| 7.012422360248447|15.158385093167702| 4.204968944099379|        0.0|\n",
      "|      3| 18.51373654411685|11.303924728465336|35.62293004476896|               0.0| 42.33637096292229|25.768333324822045|              0.0|                 1.0|            0.0| 2021.491935483871| 6.467741935483871|15.776881720430108|  4.06989247311828|        0.0|\n",
      "|      2| 7.967975293272722|12.392223748427675|              0.0|  40.3693068110951|10.774159227525361|               0.0|              1.0|6.863417982155113E-4|            1.0|2022.0562800274536|  6.34866163349348|15.903225806451612|3.9601921757035004|        0.0|\n",
      "|      0|11.017379800617071| 6.928675963238972|38.46186764747008|               0.0|22.003331009270006|  8.33634147710501|              0.0|                 1.0|            0.0|2022.1351916376307|6.5581881533101045|15.777700348432056| 3.981881533101045|        0.0|\n",
      "+-------+------------------+------------------+-----------------+------------------+------------------+------------------+-----------------+--------------------+---------------+------------------+------------------+------------------+------------------+-----------+\n",
      "\n"
     ]
    }
   ],
   "execution_count": 226
  },
  {
   "cell_type": "markdown",
   "id": "4924ae20",
   "metadata": {},
   "source": [
    "## Prognosen und künftige Entwicklungen\n",
    "Wenn wir einen Blick in die Zukunft werfen und herausfinden wollen, welchen Wert es für eine bestimmte SPalte morgen geben wird, können wir das wie folgt:\n",
    "<br>\n",
    "Wir müssen uns für einen Ziel-Wert entscheiden. Den Ziel-Wert wollen wir schlussendlich dann vorhersagen können.\n",
    "<br>\n",
    "Da wir bereits unseren Feature-Vector haben, können wir direkt zum Schritt mit der Aufteilung von Test-Trainings-Daten gehen."
   ]
  },
  {
   "cell_type": "code",
   "id": "15337f92",
   "metadata": {
    "ExecuteTime": {
     "end_time": "2025-06-18T19:42:36.849130Z",
     "start_time": "2025-06-18T19:42:36.818655Z"
    }
   },
   "source": [
    "#Aufteilung der Daten in Trainings- und Test-Daten, in Prozent % \n",
    "train, test = df_timecluster.randomSplit([0.8, 0.2], seed=42)\n"
   ],
   "outputs": [],
   "execution_count": 227
  },
  {
   "cell_type": "code",
   "id": "da7ca0bf",
   "metadata": {
    "ExecuteTime": {
     "end_time": "2025-06-18T19:42:37.394578Z",
     "start_time": "2025-06-18T19:42:36.857360Z"
    }
   },
   "source": [
    "from pyspark.ml.regression import LinearRegression\n",
    "\n",
    "lr = LinearRegression(featuresCol=\"features_extended\", labelCol=\"PM10\")\n",
    "model = lr.fit(train)\n",
    "#wir wählen unser gesuchtes Feld labelCol und wenden linregression auf die Features an"
   ],
   "outputs": [],
   "execution_count": 228
  },
  {
   "cell_type": "code",
   "id": "2d66ff03",
   "metadata": {
    "ExecuteTime": {
     "end_time": "2025-06-18T19:42:37.580560Z",
     "start_time": "2025-06-18T19:42:37.404501Z"
    }
   },
   "source": [
    "predictions = model.transform(test)\n",
    "predictions.select(\"PM10\", \"prediction\").show(10)\n",
    "#hier machen wir mal ein paar Vorhersagen und sehen, wie korrekt diese waren\n",
    "#links in der TAbelle die tatscählichen Werte und rechts die vorhergesagten"
   ],
   "outputs": [
    {
     "name": "stdout",
     "output_type": "stream",
     "text": [
      "+-----+------------------+\n",
      "| PM10|        prediction|\n",
      "+-----+------------------+\n",
      "|10.88|10.880004450679452|\n",
      "| 9.94| 9.939998751969643|\n",
      "|14.15|14.150003555458643|\n",
      "|16.96| 16.96000260980231|\n",
      "| 9.08|  9.08000287881583|\n",
      "|17.77| 17.77000172209889|\n",
      "|10.12|10.120000661545038|\n",
      "| 7.79| 7.790000879592637|\n",
      "|31.88|31.879996048433025|\n",
      "|22.91|22.909992361988525|\n",
      "+-----+------------------+\n",
      "only showing top 10 rows\n",
      "\n"
     ]
    }
   ],
   "execution_count": 229
  },
  {
   "cell_type": "code",
   "id": "6bf42158",
   "metadata": {
    "ExecuteTime": {
     "end_time": "2025-06-18T19:42:37.767501Z",
     "start_time": "2025-06-18T19:42:37.595726Z"
    }
   },
   "source": [
    "#Unser Model können wir auch evaluieren\n",
    "#Mit dem sog. root mean squared error, rmse, finden wir heraus, wie korrekt die Vorhersagen sind\n",
    "from pyspark.ml.evaluation import RegressionEvaluator\n",
    "\n",
    "evaluator = RegressionEvaluator(labelCol=\"PM10\", predictionCol=\"prediction\", metricName=\"rmse\")\n",
    "rmse = evaluator.evaluate(predictions)\n",
    "print(\"Root Mean Squared Error =\", rmse)\n",
    "#beim rmse gilt: je kleiner desto besser"
   ],
   "outputs": [
    {
     "name": "stdout",
     "output_type": "stream",
     "text": [
      "Root Mean Squared Error = 4.3101681477682695e-06\n"
     ]
    }
   ],
   "execution_count": 230
  },
  {
   "cell_type": "markdown",
   "id": "f425b040",
   "metadata": {},
   "source": [
    "Mehr zu Evaluationsmethoden und dem RMSE finden sich hier: https://spark.apache.org/docs/4.0.0/mllib-evaluation-metrics.html\n",
    "<br>\n",
    "Mit dem RMSE können generell Regressionsmodelle evaluiert werden.Damit wird die Unterschiedsgrösse von vorhergesagten und tatsächlichen Werten berechnet (grosse Unterschiede werden bestraft bzw. der RMSE reagiert stark auf Outliers).\n",
    "<br>\n",
    "Der RMSE ist immer positiv und ein Wert von 0 würde heissen, dass das Modell perfekte Predictions liefert. Im Allgemeinen gilt, dass ein niedriger RMSE besser ist.\n",
    "<br>\n",
    "Weiteres auch auf Wikipedia: https://en.wikipedia.org/wiki/Root_mean_square_deviation\n",
    "<br>\n"
   ]
  },
  {
   "cell_type": "markdown",
   "id": "b9a61c3b",
   "metadata": {},
   "source": [
    "### Fehlende WErte vorhersagen\n",
    "Ein für uns potenziell interessanter CAse wäre das ERmitteln und VOrhesagen von fehlenden Werten. Diese werden vielleicht durch äussere Einflüsse (Wetterphänomene) oder durch internes Versagen (Sensor versagt, kaputt usw.) verursacht.\n",
    "<br>\n",
    "Wir suchen usn daher als Zielwert einen aus, der dafür bekannt ist, NULL-Werte zu produzieren. Aus diesem Grund haben wir drei _missing-COlumns erstellt, an denen wir uns auch hierzu orientieren können.\n",
    "<br>\n",
    "Resltat soll also eine Vorhersage darüber sein, ob der besagte Wert wieder NULL seinw ird oder nicht."
   ]
  },
  {
   "cell_type": "code",
   "id": "2a01caa9",
   "metadata": {
    "ExecuteTime": {
     "end_time": "2025-06-18T19:42:37.798622Z",
     "start_time": "2025-06-18T19:42:37.778439Z"
    }
   },
   "source": [
    "target_col = \"CO_missing\" #hier definieren wir die gesuchte Spalte, diese enthält 1 oder 0 als Werte zur Aussage darüber, ob es in der eigentlichen Spalte dazu Inhalte gab\n",
    "train, test = df_timecluster.randomSplit([0.8, 0.2], seed=42) #wir teilen wieder in Test Trianign auf"
   ],
   "outputs": [],
   "execution_count": 231
  },
  {
   "cell_type": "code",
   "id": "f2c00421",
   "metadata": {
    "ExecuteTime": {
     "end_time": "2025-06-18T19:42:39.170798Z",
     "start_time": "2025-06-18T19:42:37.805629Z"
    }
   },
   "source": [
    "from pyspark.ml.classification import RandomForestClassifier\n",
    "\n",
    "#wir verwenden randomforest und bauen uns in diesem Fall, numtree, 50 Entscheidungsbäume\n",
    "\n",
    "\n",
    "rf = RandomForestClassifier(labelCol=\"CO_missing\", featuresCol=\"features_extended\", predictionCol=\"predicted\", numTrees=50)\n",
    "model = rf.fit(train)\n"
   ],
   "outputs": [],
   "execution_count": 232
  },
  {
   "cell_type": "code",
   "id": "ad55fa4e",
   "metadata": {
    "ExecuteTime": {
     "end_time": "2025-06-18T19:42:39.511709Z",
     "start_time": "2025-06-18T19:42:39.188796Z"
    }
   },
   "source": [
    "from pyspark.ml.evaluation import BinaryClassificationEvaluator\n",
    "\n",
    "predictions = model.transform(test)\n",
    "\n",
    "#wir evaluieren das Model\n",
    "#die Resultate bedeuten:\n",
    "#0.5 = willkürliches Raten\n",
    "#1 = perfekte Vorhersage\n",
    "\n",
    "evaluator = BinaryClassificationEvaluator(labelCol=\"CO_missing\", rawPredictionCol=\"rawPrediction\", metricName=\"areaUnderROC\")\n",
    "roc_auc = evaluator.evaluate(predictions)\n",
    "print(f\"ROC AUC = {roc_auc:.3f}\")\n"
   ],
   "outputs": [
    {
     "name": "stdout",
     "output_type": "stream",
     "text": [
      "ROC AUC = 1.000\n"
     ]
    }
   ],
   "execution_count": 233
  },
  {
   "cell_type": "code",
   "id": "5336002f",
   "metadata": {
    "ExecuteTime": {
     "end_time": "2025-06-18T19:42:39.543101Z",
     "start_time": "2025-06-18T19:42:39.530999Z"
    }
   },
   "source": [
    "import pandas as pd\n",
    "\n",
    "#wir können uns auch ansehen, welche Features das Model hauptsächlich berücksichtigt hat\n",
    "#eine hohe Wichtigkeit deutet also daraufhin, dass es einen grossen Einfluss auf das Fehlen des Features hat\n",
    "#das kann also eine Aussage darüber ermöglichen, wieso zB der Sensor ausfällt\n",
    "\n",
    "imp = model.featureImportances\n",
    "feature_importance = pd.DataFrame({\n",
    "    \"feature\": extended_cols,\n",
    "    \"importance\": imp.toArray()\n",
    "}).sort_values(\"importance\", ascending=False)\n",
    "print(feature_importance)\n"
   ],
   "outputs": [
    {
     "name": "stdout",
     "output_type": "stream",
     "text": [
      "         feature    importance\n",
      "7     CO_missing  2.862067e-01\n",
      "8     NO_missing  2.192831e-01\n",
      "3             CO  1.850982e-01\n",
      "2           Ozon  9.975024e-02\n",
      "5             NO  9.552903e-02\n",
      "6   Ozon_missing  9.341717e-02\n",
      "4            NO2  1.161070e-02\n",
      "1          PM2_5  7.770971e-03\n",
      "0           PM10  1.300081e-03\n",
      "11         day_s  3.157339e-05\n",
      "10       month_s  2.098804e-06\n",
      "9         year_s  1.277928e-07\n",
      "12     weekday_s  1.110767e-07\n",
      "13        hour_s  0.000000e+00\n"
     ]
    }
   ],
   "execution_count": 234
  },
  {
   "cell_type": "code",
   "id": "f8bca77b",
   "metadata": {
    "ExecuteTime": {
     "end_time": "2025-06-18T19:42:39.669252Z",
     "start_time": "2025-06-18T19:42:39.551450Z"
    }
   },
   "source": [
    "import matplotlib.pyplot as plt\n",
    "\n",
    "plt.figure(figsize=(8, 5))\n",
    "plt.barh(feature_importance[\"feature\"], feature_importance[\"importance\"], color=\"lightgreen\")\n",
    "plt.gca().invert_yaxis()\n",
    "plt.title(\"Feature-Relevanz\")\n",
    "plt.xlabel(\"Relevanz\")\n",
    "plt.tight_layout()\n",
    "plt.show()\n",
    "\n",
    "#das Ganze können wir auch noch visualisieren, um die Interpretation ggf zu vereinfachen"
   ],
   "outputs": [
    {
     "data": {
      "text/plain": [
       "<Figure size 800x500 with 1 Axes>"
      ],
      "image/png": "[encoded data removed]"
     },
     "metadata": {},
     "output_type": "display_data"
    }
   ],
   "execution_count": 235
  },
  {
   "cell_type": "markdown",
   "id": "ef29d191",
   "metadata": {},
   "source": [
    "### Fenster als zeitlicher Fokus\n",
    "Fenster erlauben es, einfacher Trends und Muster zu erkennen, da es einfacher wird, diese zu vergleichen."
   ]
  },
  {
   "cell_type": "code",
   "id": "858a00e7",
   "metadata": {
    "ExecuteTime": {
     "end_time": "2025-06-18T19:42:39.714975Z",
     "start_time": "2025-06-18T19:42:39.683254Z"
    }
   },
   "source": [
    "from pyspark.sql.functions import avg\n",
    "from pyspark.sql.window import Window\n",
    "\n",
    "window_spec = Window.orderBy(\"date\").rowsBetween(-2, 0)\n",
    "\n",
    "df_timecluster_windows = df_timecluster.withColumn(\"PM10_3hr_avg\", avg(\"PM10\").over(window_spec))\n",
    "\n",
    "#so haben wir ein kurzfristige PM10-Trend-Auswertung\n",
    "#avg ist nicht Pflicht, man kann dasselbe auch mit anderen Metriken wie min, max, sum, rank, usw machen\n"
   ],
   "outputs": [],
   "execution_count": 236
  },
  {
   "metadata": {
    "ExecuteTime": {
     "end_time": "2025-06-18T19:42:39.730769Z",
     "start_time": "2025-06-18T19:42:39.723767Z"
    }
   },
   "cell_type": "code",
   "source": "df_timecluster_windows.dtypes",
   "id": "629771b4e4d6c695",
   "outputs": [
    {
     "data": {
      "text/plain": [
       "[('date', 'string'),\n",
       " ('location', 'string'),\n",
       " ('PM10', 'float'),\n",
       " ('PM2_5', 'float'),\n",
       " ('Ozon', 'float'),\n",
       " ('CO', 'float'),\n",
       " ('NO2', 'float'),\n",
       " ('NO', 'float'),\n",
       " ('Air temperature 2 m above ground daily mean', 'string'),\n",
       " ('Air temperature 2 m above ground daily maximum', 'string'),\n",
       " ('Air temperature 2 m above ground daily minimum', 'string'),\n",
       " ('Air temperature at 5 cm above grass daily mean', 'string'),\n",
       " ('Air temperature at 5 cm above grass daily maximum', 'string'),\n",
       " ('Air temperature at 5 cm above grass daily minimum', 'string'),\n",
       " ('Relative air humidity 2 m above ground daily mean', 'string'),\n",
       " ('Vapour pressure 2 m above ground daily mean', 'string'),\n",
       " ('Atmospheric pressure at barometric altitude (QFE) daily mean', 'string'),\n",
       " ('Pressure reduced to sea level (QFF) daily mean', 'string'),\n",
       " ('Geopotential height of the 850 hPA level daily mean', 'string'),\n",
       " ('Geopotential height of the 700 hPA level daily mean', 'string'),\n",
       " ('Pressure reduced to sea level according to standard atmosphere (QNH) daily mean',\n",
       "  'string'),\n",
       " ('Wind speed scalar daily mean in m/s', 'string'),\n",
       " ('Gust peak (one second) daily maximum in m/s', 'string'),\n",
       " ('Wind speed scalar daily mean in km/h', 'string'),\n",
       " ('Gust peak (one second) daily maximum in km/h', 'string'),\n",
       " ('Gust peak (three seconds) daily maximum in m/s', 'string'),\n",
       " ('Gust peak (three seconds) daily maximum in km/h', 'string'),\n",
       " ('Foehn index daily value', 'string'),\n",
       " ('Precipitation daily total 6 UTC - 6 UTC following day', 'string'),\n",
       " ('Precipitation daily total 0 UTC - 0 UTC', 'string'),\n",
       " ('Snow depth (automatic measurement) morning measurement at 6 UTC', 'string'),\n",
       " ('Global radiation daily mean', 'string'),\n",
       " ('Longwave incoming radiation daily mean', 'string'),\n",
       " ('Sunshine duration daily total', 'string'),\n",
       " ('Sunshine duration in relation to absolute daily total', 'string'),\n",
       " ('Reference evaporation from FAO daily total', 'string'),\n",
       " ('Cooling Degree Day (CDD)', 'string'),\n",
       " ('Wind direction daily mean', 'string'),\n",
       " ('Heating degrees (HGT12/20)', 'string'),\n",
       " ('Heating degrees (ATD12/12)', 'string'),\n",
       " ('Hydrologic registration (hydrologic balance, R-ETS) daily total', 'string'),\n",
       " ('Ozon_missing', 'int'),\n",
       " ('CO_missing', 'int'),\n",
       " ('NO_missing', 'int'),\n",
       " ('year_s', 'int'),\n",
       " ('month_s', 'int'),\n",
       " ('day_s', 'int'),\n",
       " ('weekday_s', 'int'),\n",
       " ('hour_s', 'int'),\n",
       " ('features_extended', 'vector'),\n",
       " ('cluster', 'int'),\n",
       " ('PM10_3hr_avg', 'double')]"
      ]
     },
     "execution_count": 237,
     "metadata": {},
     "output_type": "execute_result"
    }
   ],
   "execution_count": 237
  },
  {
   "metadata": {
    "ExecuteTime": {
     "end_time": "2025-06-18T19:42:40.399062Z",
     "start_time": "2025-06-18T19:42:39.766448Z"
    }
   },
   "cell_type": "code",
   "source": [
    "df_save = df_timecluster_windows.toPandas()\n",
    "\n",
    "df_save.to_csv(\"data/ML/ML_Data.csv\", index=False)"
   ],
   "id": "f407fb75c00ac26c",
   "outputs": [],
   "execution_count": 238
  },
  {
   "cell_type": "code",
   "id": "8ede8a29",
   "metadata": {
    "ExecuteTime": {
     "end_time": "2025-06-18T19:42:46.540528Z",
     "start_time": "2025-06-18T19:42:40.410072Z"
    }
   },
   "source": [
    "#Visualisierung hilft beim ERkennen von zB spontnane Ausreissern, rhytmischen zeitlichen Mustern, Outliern usw\n",
    "import matplotlib.pyplot as plt\n",
    "from pyspark.sql.functions import date_format\n",
    "\n",
    "df_selected = df_timecluster_windows.select(\n",
    "    \"date\",\"PM10\", \"PM10_3hr_avg\"\n",
    ")\n",
    "\n",
    "\n",
    "df_plot = df_selected.toPandas()\n",
    "\n",
    "\n",
    "\n",
    "\n",
    "plt.figure(figsize=(12, 5))\n",
    "plt.plot(df_plot[\"date\"], df_plot[\"PM10\"], label=\"PM10\", alpha=0.5)\n",
    "plt.plot(df_plot[\"date\"], df_plot[\"PM10_3hr_avg\"], label=\"3-Day Avg\", linewidth=2)\n",
    "plt.legend()\n",
    "plt.title(\"PM10 and 3-Day Moving Average Over Time\")\n",
    "plt.xlabel(\"Date\")\n",
    "plt.ylabel(\"µg/m³\")\n",
    "plt.tight_layout()\n",
    "plt.show()\n"
   ],
   "outputs": [
    {
     "data": {
      "text/plain": [
       "<Figure size 1200x500 with 1 Axes>"
      ],
      "image/png": "[encoded data removed]"
     },
     "metadata": {},
     "output_type": "display_data"
    }
   ],
   "execution_count": 239
  }
 ],
 "metadata": {
  "kernelspec": {
   "display_name": "Python 3 (ipykernel)",
   "language": "python",
   "name": "python3"
  },
  "language_info": {
   "codemirror_mode": {
    "name": "ipython",
    "version": 3
   },
   "file_extension": ".py",
   "mimetype": "text/x-python",
   "name": "python",
   "nbconvert_exporter": "python",
   "pygments_lexer": "ipython3",
   "version": "3.11.4"
  }
 },
 "nbformat": 4,
 "nbformat_minor": 5
}
