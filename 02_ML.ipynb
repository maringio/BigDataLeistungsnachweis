{
 "cells": [
  {
   "cell_type": "markdown",
   "id": "b147f430",
   "metadata": {},
   "source": [
    "Welcome to one of the collaborative Jupyter/Spark environments in ZHAW. You are not yet connected to Sparky by default. However, the necessary code template makes this a quick process. Keep in mind that you are sharing both the Jupyter environment and the Sparky cluster with others. Custom Python packages on the notebook/Spark driver side are installed with %pip install."
   ]
  },
  {
   "cell_type": "markdown",
   "id": "5e5869a0",
   "metadata": {},
   "source": [
    "<div style=\"background-color:#add8e6; height:30px; border-radius:10px; text-align:center; padding-top:5px;\">\n",
    "  <strong style=\"color:#003366;\">Abschnitt</strong>\n",
    "</div>\n"
   ]
  },
  {
   "cell_type": "code",
   "id": "e21b2e5d",
   "metadata": {
    "ExecuteTime": {
     "end_time": "2025-06-23T14:57:18.214985Z",
     "start_time": "2025-06-23T14:57:18.203968Z"
    }
   },
   "source": [
    "from pyspark.sql import SparkSession\n",
    "\n",
    "spark = SparkSession.builder \\\n",
    "    .appName(\"Wetter- und Luftqualitätsdaten\") \\\n",
    "    .getOrCreate()"
   ],
   "outputs": [],
   "execution_count": 232
  },
  {
   "cell_type": "code",
   "id": "7c432e7c",
   "metadata": {
    "ExecuteTime": {
     "end_time": "2025-06-23T14:57:18.230494Z",
     "start_time": "2025-06-23T14:57:18.222487Z"
    }
   },
   "source": [],
   "outputs": [],
   "execution_count": null
  },
  {
   "cell_type": "markdown",
   "id": "e126507f",
   "metadata": {},
   "source": [
    "<div style=\"background-color:#add8e6; height:50px; border-radius:10px; text-align:center; padding-top:5px;\">\n",
    "  <strong style=\"color:#003366; font-size: 20px;\">Inhaltsverzeichnis</strong>\n",
    "</div>"
   ]
  },
  {
   "cell_type": "markdown",
   "id": "e5a597d6",
   "metadata": {},
   "source": [
    "## Übersicht des Inhalts\n",
    "\n",
    "- **Luftqualität für AnfängerInnen**\n",
    "<br> Hier erhalten wir einen kurzen Einblick in das Thema Luftqualität und die Bedeutung unserer Daten. <br>\n",
    "- **Unsere Daten**\n",
    "<br> In einem ersten Schritt ist es mir immer wichtig, ein paar kurze Checks zu machen. Dazu gehört u.a. das Prüfen, ob man im korrekten Directory ist, die DataFrames erstellen und anzeigen kann und so weiter. <br>\n",
    "- **Fehlende Informationen**\n",
    "<br> Da wir zwei Städte und zwei Tabellen haben, muss diese Information ebenfalls in den finalen Feature-Vektor einfliessen können. Das ist jedoch nur möglich, wenn wir eine zusätzliche Spalte erstellen (ansonsten ist die Info nur im File-Titel ersichtlich) mit dem numerischen Hinweis auf die Städte. Hier also ein Spalte namens \"stadt\" mit den Werten 0 und 1 für die zwei Städte.<br>\n",
    "- **Feature-Vektor und Herausforderungen**\n",
    "<br> Um den Feature-Vektor erstellen zu können, werden zuerst die beiden Tabellen zusammengeführt zu df_alle. Danach widme ich mich den Herausforderungen des Feature-Vektors. Dazu gehört u.a. das Problem, dass die **Zeiten nur als einzelne Spalten mit numerischen Werten** (sep Spalten für Jahr, Monat, Tag) und nicht als Timestamp in den Feature-Vektor einfliessen können.\n",
    "Dazu gehört auch das **Casten** der noch verbliebenen Strings zu Doubles (zB für NO2, Ozon usw.) und das Prüfen, ob es auch **fehlende Werte** in der Tabelle gibt, da diese im Feature-Vektor zum Problem werden könnten.<br>\n",
    "Zeilen mit fehlenden Werten einfach zu löschen, wäre jedoch schade um die Information. Daher werden zusätzliche Spalten erstellt mit Hinweisen dazu, dass besagte Werte gefehlt hatten. Es entstehen daher **Spaltenname_missing**-Spalten, die 0 und 1 enthalten als Information zum Fehlen des Werts.\n",
    "Weiterhin jedoch müssen wir die Spalten irgendwie **befüllen**, zB wie hier mit einer 0.\n",
    "<br>\n",
    "- **Vektor-Erstellung**\n",
    "<br> Sobald wir alle notwendigen Modifikationen gemacht haben, kann der Feature-Vektor erstellt werden. <br>\n",
    "- **Standardisieren der Daten**\n",
    "<br> Um mit ML-Algorithmen besser rechnen zu können und keine Verzerrungen zu verursachen durch zB sehr grosse Zahlen gewisser Einheiten, ist es wichtig, die Daten zu standardisieren. Das führt dazu, dass sie vergleichbarer sind und um 0 als ZEntrum gruppiert werden. <br>\n",
    "- **Anomalien mit k-Means**\n",
    "<br> Um Outlier zu entdecken, kann man zB wie hier k-Means verwenden. Beispielsweise für den Einsatz von k-Means war die Standardisierung der Werte sehr wichtig, da damit Abstände einheitlicher werden. Mit k-Means clustern wir und messen die Abstände zur Cluster-Mitte. So werden Auffälligkeiten wie Outlier deutlich. <br>\n",
    "- **Pearson-Korrelation für Abhängigkeiten**\n",
    "<br> Um mögliche Abhängigkeiten zwischen gewissen Features zu ermitteln, kann die Pearson-Korrelation verwendet werden.\n",
    "Dabei bedeuten hohe Werte auf Abhängigkeiten hin, negative Werte hingegen können ein kompensierendes Verhältnis bedeuten.<br>\n",
    "- **Regression für die Zukunftsvorhersage**\n",
    "<br> Um herauszufinden, wie sich gewisse Features ggf. künftig verhalten, können wir Regression einsetzen und uns ein \"Ziel-Feature\" aussuchen. Dabei trennen wir den Datensatz auf in ein Prozentsatz an Test- und Trainingsdaten. Um zu sehen, wie gut unser Regressionsmodell abschneidet, können wir zB Root Mean Square Error als Evaluationswert verwenden. Niedrige Werte können auf ein präzises Modell verweisen... <br>\n",
    "- **Random-Forest für die Missingness**\n",
    "<br> Da wir Informationen zu den fehlenden Werten abgespeichert haben, können wir auch diese für Vorhersagen nutzen. Bei Random-Forests können wir auch die Gewichtung der Features herausfinden, was ein grosser Pluspunkt für das Verständnis der Funktionsweise ist. <br>\n",
    "- **Windows als Optimierungsmöglichkeit**\n",
    "<br> Eine Möglichkeit, verständlichere Resultate zu produzieren, ist das Verwenden von Zeitfenstern. Diese glätten über kurze Zeiträume und zeigen dennoch langfristig Trends. => Natürlich abhängig vom gewählten Window <br>\n",
    "- **Fazit**\n",
    "<br> Man könnte noch deutlich mehr machen...aber das mal als Vorgeschmack darauf, was Spark Mllib alles bietet. <br>"
   ]
  },
  {
   "cell_type": "markdown",
   "id": "c90dd647",
   "metadata": {},
   "source": [
    "<div style=\"background-color:#add8e6; height:50px; border-radius:10px; text-align:center; padding-top:5px;\">\n",
    "  <strong style=\"color:#003366; font-size: 20px;\">Vorbereitung des Machine Learnings</strong>\n",
    "</div>\n"
   ]
  },
  {
   "cell_type": "markdown",
   "id": "b74f61a0",
   "metadata": {},
   "source": [
    "<div style=\"padding: 10px; background-color: #fff8c4; border-left: 6px solid #f7d205;\">\n",
    "  <b>Anmerkung:</b> xxxx.\n",
    "</div>\n"
   ]
  },
  {
   "cell_type": "markdown",
   "id": "73e6d204",
   "metadata": {},
   "source": [
    "<div style=\"padding: 10px; background-color: #ffe6e6; border-left: 6px solid #ff4c4c;\">\n",
    "  <b>Warnung:</b> xxx!\n",
    "</div>\n"
   ]
  },
  {
   "cell_type": "markdown",
   "id": "7209d3af",
   "metadata": {},
   "source": [
    "<div style=\"padding: 10px; background-color: #e7f3fe; border-left: 6px solid #2196F3;\">\n",
    "  <b>Tipp:</b> xxx\n",
    "</div>\n"
   ]
  },
  {
   "cell_type": "markdown",
   "id": "2ba1aa80",
   "metadata": {},
   "source": [
    "<div style=\"padding: 20px; background-color: lightgreen; border-left: 6px solid green; border-right: 6px solid green;\">\n",
    "    <h1>Luftqualität für AnfängerInnen</h1>\n",
    "\n",
    "\n",
    "Als Nicht-Meteorolog:innen und komplette Anfänger:innen in Sachen Luftqualität, war es auch für uns wichtig, uns einen kurzen ÜBerblick über das Thema zu verschaffen, um in der Folge mit den gegebenen Daten arbeiten zu können.\n",
    "\n",
    "### Erläuterung Luftqualitätsdaten (Bezeichnungen in Tabellenheader)\n",
    "\n",
    "| Spalte      | Bedeutung                                                                                 |\n",
    "|-------------|--------------------------------------------------------------------------------------------|\n",
    "| **Startzeit** | Beginn der Messperiode (Datum und Uhrzeit)                                               |\n",
    "| **Endzeit**   | Ende der Messperiode (Datum und Uhrzeit)                                                 |\n",
    "| **PM10**      | Partikel mit einem Durchmesser ≤ 10 µm (z. B. Staub, Pollen, Russ)                        |\n",
    "| **PM2.5**     | Feinpartikel ≤ 2.5 µm – können tief in die Lunge eindringen und gesundheitsschädlich sein |\n",
    "| **Ozon**      | Ozon (O₃) – entsteht bei Sonneneinstrahlung aus NOₓ und VOCs, bodennah schädlich         |\n",
    "| **CO**        | Kohlenmonoxid – entsteht bei unvollständiger Verbrennung, giftig bei hohen Konzentrationen. Farb- und geruchloses Gas, meist durch Verkehr und Verbrennung fossiler Stoffe |\n",
    "| **NO2**       | Stickstoffdioxid – Reizgas, das bei Verbrennung (z. B. Strassenverkehr) entsteht                  |\n",
    "| **NO**        | Stickstoffmonoxid – Vorläufer von NO₂, entsteht direkt bei Verbrennungsprozessen         |\n",
    "\n",
    "\n",
    "\n",
    "<br>\n",
    "<br>\n",
    "<br>\n",
    "\n",
    "**Und wie hängen diese Stoffe zusammen?**\n",
    "\n",
    "**NO** und **NO2** stehen in direktem Zusammenhang, NO wird z.B. durch Autos verursacht und oxidiert in heissen Städten in der Luft zu NO2.\n",
    "<br>\n",
    "**Ozon** (O3) bildet sich aus NOx (Stickstoffoxiden) und flüchtigen organischen Verbindungen (VOCs) unter Sonneneinstrahlung. \n",
    "<br> => d.h. dass an sonnigen Tagen mit viel Verkehr Ozon- als auch NO2-Werte steigen.\n",
    "<br>\n",
    "**PM10** und **PM2.5** können z.B. aus direkten Emissionen wie Reifenabrieb, Verbrennung usw. als auch sekundär in der Atmosphäre (Reaktionen) entstehen.\n",
    "<br>\n",
    "**CO** entsteht bei unvollständiger VErbrennnung. Konzentration korreliert oft mit PM-Werten und anderen Abgasen.\n",
    "<br>\n",
    "<br>\n",
    "Diese Stoffe können HErz-Kreislauf-, Lungenerkrankungen, generell Atemnot, Husten, Müdigkeit usw. verursachen und sind daher für unsere Gesundheit relevante Umweltfaktoren.\n",
    "<br>\n",
    "</div>"
   ]
  },
  {
   "cell_type": "markdown",
   "id": "2655be0e",
   "metadata": {},
   "source": [
    "# Big Data Leistungsnachweis 🤖\n",
    "\n",
    "<br>\n",
    "Wie beeinflusst das Wetter die Luftqualität?“ – Vergleich zwischen Zürich und St. Gallen mit Spark MLlib\n"
   ]
  },
  {
   "cell_type": "markdown",
   "id": "d113be1e",
   "metadata": {},
   "source": [
    "<div style=\"padding: 10px; background-color: #fff8c4; border-left: 6px solid #f7d205;\">\n",
    "  <b>Anmerkung:</b> Dieser Teil ist nicht unbedingt notwendig, aber für mich immer sinnvoll.\n",
    "</div>"
   ]
  },
  {
   "cell_type": "code",
   "id": "009c9603",
   "metadata": {
    "ExecuteTime": {
     "end_time": "2025-06-23T14:57:18.246482Z",
     "start_time": "2025-06-23T14:57:18.237479Z"
    }
   },
   "source": [
    "#Kurzes Prüfen, ob man im korrekten Directory unterwegs ist und die Files sichtbar sind\n",
    "import os\n",
    "os.listdir(\".\")  # Liste der Files im Working Directory\n"
   ],
   "outputs": [
    {
     "data": {
      "text/plain": [
       "['.DS_Store',\n",
       " '.git',\n",
       " '.idea',\n",
       " '.ipynb_checkpoints',\n",
       " '.jupyter',\n",
       " '01_LoadData.ipynb',\n",
       " '02_ML.ipynb',\n",
       " '03_Visualisation.ipynb',\n",
       " 'data',\n",
       " 'README.md']"
      ]
     },
     "execution_count": 233,
     "metadata": {},
     "output_type": "execute_result"
    }
   ],
   "execution_count": 233
  },
  {
   "cell_type": "markdown",
   "id": "d485475c",
   "metadata": {},
   "source": [
    "<div style=\"padding: 10px; background-color: #fff8c4; border-left: 6px solid #f7d205;\">\n",
    "  <b>Anmerkung:</b> Im Folgenden sind mir gelegentlich beim Erarbeiten Fehler unterlaufen, die dann nachträglich korrigiert wurden. Schönheitsfehler seien mir daher hoffentlich verziehen. Ich habe mein Bestes getan, auch an den jweiligen Stellen darauf aufmerksam zu machen, was mein Fehler bzw. Fix war.\n",
    "</div>"
   ]
  },
  {
   "cell_type": "markdown",
   "id": "1eb897fd",
   "metadata": {},
   "source": [
    "## Stadt hinzufügen (vor Feature-Vektor-ERstellung)\n",
    "Um Problemen vorzubeugen, ist noch die Stadt zu jeder Zeile hinzuzufügen. Diese würde ansonten beim Zusammenführen der Daten verlorengehen (da aktuell nur im NAmen des Files enthalten und nicht im eigentlichen File).\n",
    "<br>\n",
    "Ein erster Fehler war es, dass ich die Stadt als String in der Spalte hinzugefügt habe. Das führt natürlich dazu, dass der ML-Algorithmus später das nicht im Feature-Vektor interpretieren kann. Ein Fehler, der dazu führt, dass die Städte nicht als separate Phänomene analysiert werden können.\n",
    "<br>\n",
    "Nun werden die Städte in einer sep. Spalte (\"stadt\") mit 0 und 1 gekennzeichnet. \n",
    "<br>\n",
    "**0 = Zürich** <br>\n",
    "**1 = St.Gallen**\n"
   ]
  },
  {
   "cell_type": "code",
   "id": "80a7fdd1",
   "metadata": {
    "ExecuteTime": {
     "end_time": "2025-06-23T14:57:18.385712Z",
     "start_time": "2025-06-23T14:57:18.258603Z"
    }
   },
   "source": [
    "df_alle = spark.read.option(\"header\", True) \\\n",
    "                .option(\"delimiter\", \",\") \\\n",
    "                .csv(\"data/cleaned/cleaned_Data.csv\")"
   ],
   "outputs": [],
   "execution_count": 234
  },
  {
   "cell_type": "code",
   "id": "727c896a",
   "metadata": {
    "scrolled": true,
    "ExecuteTime": {
     "end_time": "2025-06-23T14:57:18.416029Z",
     "start_time": "2025-06-23T14:57:18.398710Z"
    }
   },
   "source": [
    "from pyspark.sql.functions import when\n",
    "df_alle = df_alle.withColumn(\n",
    "    \"stadt\",\n",
    "    when(df_alle[\"location\"] == \"Zürich\", 0)\n",
    "    .when(df_alle[\"location\"] == \"St. Gallen\", 1)\n",
    "    .otherwise(3)\n",
    ")\n"
   ],
   "outputs": [],
   "execution_count": 235
  },
  {
   "cell_type": "markdown",
   "id": "0624229e",
   "metadata": {},
   "source": [
    "Der <b>Dezimalpunkt</b> im HEader könnte ein PRoblem darstellen (PM2.5). DAher ändern wir diesen zu einem _\n"
   ]
  },
  {
   "cell_type": "code",
   "id": "fd7464ff",
   "metadata": {
    "ExecuteTime": {
     "end_time": "2025-06-23T14:57:18.446678Z",
     "start_time": "2025-06-23T14:57:18.424675Z"
    }
   },
   "source": "df_alle = df_alle.withColumnRenamed(\"PM2.5\", \"PM2_5\")",
   "outputs": [],
   "execution_count": 236
  },
  {
   "cell_type": "markdown",
   "id": "2e601bb2",
   "metadata": {},
   "source": [
    "## Feature-Vektor erstellen\n",
    "ML-Algorithmen erwarten meistens die Daten zusammen in einem Feature-Vektor."
   ]
  },
  {
   "cell_type": "markdown",
   "id": "6cb5fa12",
   "metadata": {},
   "source": [
    "<div style=\"padding: 10px; background-color: #fff8c4; border-left: 6px solid #f7d205;\">\n",
    "  <b>Anmerkung:</b> Der gewählte Titel ist darauf zurückzuführen, dass ich ein wenig zu optimistisch war, was das schnelle Erstellen des FEature-Vektors anbelangt ;)...\n",
    "</div>"
   ]
  },
  {
   "cell_type": "code",
   "id": "d6cb23b7",
   "metadata": {
    "ExecuteTime": {
     "end_time": "2025-06-23T14:57:18.663488Z",
     "start_time": "2025-06-23T14:57:18.456676Z"
    }
   },
   "source": [
    "#Wir wollen auch kurz prüfen, ob das geklappt hat und Einträge für beide Städte vorhanden sind\n",
    "df_alle.select(\"stadt\").distinct().show()\n",
    "#korrekter Output wäre stadt zh sg in einer kleinen TAbelle"
   ],
   "outputs": [
    {
     "name": "stdout",
     "output_type": "stream",
     "text": [
      "+-----+\n",
      "|stadt|\n",
      "+-----+\n",
      "|    1|\n",
      "|    0|\n",
      "+-----+\n",
      "\n"
     ]
    }
   ],
   "execution_count": 237
  },
  {
   "cell_type": "markdown",
   "id": "fbae3262",
   "metadata": {},
   "source": [
    "Zum Erstellen eines Feature-Vektors müssen wir die Feature-Spalten auswählen. Dabei handelt es sich um die numerischen Werte (diese können wir nachher auch standardisieren). Andere Typen müssen weggelassen werden, daher siehe oben zum Thema Stadt."
   ]
  },
  {
   "cell_type": "code",
   "id": "aa7144d9",
   "metadata": {
    "scrolled": false,
    "ExecuteTime": {
     "end_time": "2025-06-23T14:57:18.695492Z",
     "start_time": "2025-06-23T14:57:18.681518Z"
    }
   },
   "source": [
    "df_alle.printSchema()\n",
    "#BEim Printen des Schemas zeigt sich, dass alle COlumns noch als String ausser stadt interpretiert werden, darum funktioniert dabei assembler.transform nicht\n",
    "#Wir müssen also zuerst die Strings umwandeln"
   ],
   "outputs": [
    {
     "name": "stdout",
     "output_type": "stream",
     "text": [
      "root\n",
      " |-- date: string (nullable = true)\n",
      " |-- location: string (nullable = true)\n",
      " |-- PM10: string (nullable = true)\n",
      " |-- PM2_5: string (nullable = true)\n",
      " |-- Ozon: string (nullable = true)\n",
      " |-- CO: string (nullable = true)\n",
      " |-- NO2: string (nullable = true)\n",
      " |-- NO: string (nullable = true)\n",
      " |-- Air temperature 2 m above ground daily mean: string (nullable = true)\n",
      " |-- Air temperature 2 m above ground daily maximum: string (nullable = true)\n",
      " |-- Air temperature 2 m above ground daily minimum: string (nullable = true)\n",
      " |-- Air temperature at 5 cm above grass daily mean: string (nullable = true)\n",
      " |-- Air temperature at 5 cm above grass daily maximum: string (nullable = true)\n",
      " |-- Air temperature at 5 cm above grass daily minimum: string (nullable = true)\n",
      " |-- Relative air humidity 2 m above ground daily mean: string (nullable = true)\n",
      " |-- Vapour pressure 2 m above ground daily mean: string (nullable = true)\n",
      " |-- Atmospheric pressure at barometric altitude (QFE) daily mean: string (nullable = true)\n",
      " |-- Pressure reduced to sea level (QFF) daily mean: string (nullable = true)\n",
      " |-- Geopotential height of the 850 hPA level daily mean: string (nullable = true)\n",
      " |-- Geopotential height of the 700 hPA level daily mean: string (nullable = true)\n",
      " |-- Pressure reduced to sea level according to standard atmosphere (QNH) daily mean: string (nullable = true)\n",
      " |-- Wind speed scalar daily mean in m/s: string (nullable = true)\n",
      " |-- Gust peak (one second) daily maximum in m/s: string (nullable = true)\n",
      " |-- Wind speed scalar daily mean in km/h: string (nullable = true)\n",
      " |-- Gust peak (one second) daily maximum in km/h: string (nullable = true)\n",
      " |-- Gust peak (three seconds) daily maximum in m/s: string (nullable = true)\n",
      " |-- Gust peak (three seconds) daily maximum in km/h: string (nullable = true)\n",
      " |-- Foehn index daily value: string (nullable = true)\n",
      " |-- Precipitation daily total 6 UTC - 6 UTC following day: string (nullable = true)\n",
      " |-- Precipitation daily total 0 UTC - 0 UTC: string (nullable = true)\n",
      " |-- Snow depth (automatic measurement) morning measurement at 6 UTC: string (nullable = true)\n",
      " |-- Global radiation daily mean: string (nullable = true)\n",
      " |-- Longwave incoming radiation daily mean: string (nullable = true)\n",
      " |-- Sunshine duration daily total: string (nullable = true)\n",
      " |-- Sunshine duration in relation to absolute daily total: string (nullable = true)\n",
      " |-- Reference evaporation from FAO daily total: string (nullable = true)\n",
      " |-- Cooling Degree Day (CDD): string (nullable = true)\n",
      " |-- Wind direction daily mean: string (nullable = true)\n",
      " |-- Heating degrees (HGT12/20): string (nullable = true)\n",
      " |-- Heating degrees (ATD12/12): string (nullable = true)\n",
      " |-- Hydrologic registration (hydrologic balance, R-ETS) daily total: string (nullable = true)\n",
      " |-- stadt: integer (nullable = false)\n",
      "\n"
     ]
    }
   ],
   "execution_count": 238
  },
  {
   "cell_type": "code",
   "id": "896ba0af",
   "metadata": {
    "scrolled": true,
    "ExecuteTime": {
     "end_time": "2025-06-23T14:57:18.726617Z",
     "start_time": "2025-06-23T14:57:18.715105Z"
    }
   },
   "source": [
    "df_alle.columns\n"
   ],
   "outputs": [
    {
     "data": {
      "text/plain": [
       "['date',\n",
       " 'location',\n",
       " 'PM10',\n",
       " 'PM2_5',\n",
       " 'Ozon',\n",
       " 'CO',\n",
       " 'NO2',\n",
       " 'NO',\n",
       " 'Air temperature 2 m above ground daily mean',\n",
       " 'Air temperature 2 m above ground daily maximum',\n",
       " 'Air temperature 2 m above ground daily minimum',\n",
       " 'Air temperature at 5 cm above grass daily mean',\n",
       " 'Air temperature at 5 cm above grass daily maximum',\n",
       " 'Air temperature at 5 cm above grass daily minimum',\n",
       " 'Relative air humidity 2 m above ground daily mean',\n",
       " 'Vapour pressure 2 m above ground daily mean',\n",
       " 'Atmospheric pressure at barometric altitude (QFE) daily mean',\n",
       " 'Pressure reduced to sea level (QFF) daily mean',\n",
       " 'Geopotential height of the 850 hPA level daily mean',\n",
       " 'Geopotential height of the 700 hPA level daily mean',\n",
       " 'Pressure reduced to sea level according to standard atmosphere (QNH) daily mean',\n",
       " 'Wind speed scalar daily mean in m/s',\n",
       " 'Gust peak (one second) daily maximum in m/s',\n",
       " 'Wind speed scalar daily mean in km/h',\n",
       " 'Gust peak (one second) daily maximum in km/h',\n",
       " 'Gust peak (three seconds) daily maximum in m/s',\n",
       " 'Gust peak (three seconds) daily maximum in km/h',\n",
       " 'Foehn index daily value',\n",
       " 'Precipitation daily total 6 UTC - 6 UTC following day',\n",
       " 'Precipitation daily total 0 UTC - 0 UTC',\n",
       " 'Snow depth (automatic measurement) morning measurement at 6 UTC',\n",
       " 'Global radiation daily mean',\n",
       " 'Longwave incoming radiation daily mean',\n",
       " 'Sunshine duration daily total',\n",
       " 'Sunshine duration in relation to absolute daily total',\n",
       " 'Reference evaporation from FAO daily total',\n",
       " 'Cooling Degree Day (CDD)',\n",
       " 'Wind direction daily mean',\n",
       " 'Heating degrees (HGT12/20)',\n",
       " 'Heating degrees (ATD12/12)',\n",
       " 'Hydrologic registration (hydrologic balance, R-ETS) daily total',\n",
       " 'stadt']"
      ]
     },
     "execution_count": 239,
     "metadata": {},
     "output_type": "execute_result"
    }
   ],
   "execution_count": 239
  },
  {
   "cell_type": "code",
   "id": "10382dc5",
   "metadata": {
    "ExecuteTime": {
     "end_time": "2025-06-23T14:57:18.758123Z",
     "start_time": "2025-06-23T14:57:18.737616Z"
    }
   },
   "source": [
    "umweltfaktoren = [\"PM10\", \"PM2_5\", \"Ozon\", \"CO\", \"NO2\", \"NO\"]\n",
    "for c in umweltfaktoren:\n",
    "    if c not in df_alle.columns:\n",
    "        print(f\"Spalte nicht gefunden, wg. NAmensproblem: '{c}'\")\n",
    "    else: \n",
    "        print(f\"Spalte '{c}'vorhanden\")\n"
   ],
   "outputs": [
    {
     "name": "stdout",
     "output_type": "stream",
     "text": [
      "Spalte 'PM10'vorhanden\n",
      "Spalte 'PM2_5'vorhanden\n",
      "Spalte 'Ozon'vorhanden\n",
      "Spalte 'CO'vorhanden\n",
      "Spalte 'NO2'vorhanden\n",
      "Spalte 'NO'vorhanden\n"
     ]
    }
   ],
   "execution_count": 240
  },
  {
   "cell_type": "markdown",
   "id": "04df7b1f",
   "metadata": {},
   "source": [
    "<div style=\"padding: 10px; background-color: #fff8c4; border-left: 6px solid #f7d205;\">\n",
    "  <b>Anmerkung:</b> Man bemerke...ich prüfe gerne, ob noch alles da ist, wo ich es zurückgelassen habe....\n",
    "</div>"
   ]
  },
  {
   "cell_type": "code",
   "id": "63a4c855",
   "metadata": {
    "ExecuteTime": {
     "end_time": "2025-06-23T14:57:18.852244Z",
     "start_time": "2025-06-23T14:57:18.775220Z"
    }
   },
   "source": [
    "from pyspark.sql.functions import col, regexp_replace\n",
    "\n",
    "umweltfaktoren = [\"PM10\", \"PM2_5\", \"Ozon\", \"CO\", \"NO2\", \"NO\"]\n",
    "#umwandeln der Strings für die umweltfaktoren-werte in double\n",
    "for c in umweltfaktoren: #hier noch eine Vorsichtsmassnahme, indem allfällige Kommas zu Punkten für Dezimaldarstellung ugmwandelt werden\n",
    "    df_alle = df_alle.withColumn(c, regexp_replace(col(c), \",\", \".\").cast(\"double\"))\n"
   ],
   "outputs": [],
   "execution_count": 241
  },
  {
   "cell_type": "code",
   "id": "02cae893",
   "metadata": {
    "ExecuteTime": {
     "end_time": "2025-06-23T14:57:18.898243Z",
     "start_time": "2025-06-23T14:57:18.860245Z"
    }
   },
   "source": [
    "#hier ein erster simpler Versuch, das zu einem fEature-Vektor zu machen...\n",
    "#theoretisch wegzulassen, da noch weitere Anpassungen später vorgenommen werden\n",
    "#zum jetzigen Zeitpunkt fehlt noch einiges, zB korrekter Umgang mit NULL usw.\n",
    "\n",
    "from pyspark.ml.feature import VectorAssembler\n",
    "\n",
    "umweltfaktoren = [\"PM10\", \"PM2_5\", \"Ozon\", \"CO\", \"NO2\", \"NO\"]\n",
    "\n",
    "assembler = VectorAssembler(inputCols=umweltfaktoren, outputCol=\"rawFeatures\")\n",
    "df_vector = assembler.transform(df_alle).dropna(subset=[\"rawFeatures\"])\n"
   ],
   "outputs": [],
   "execution_count": 242
  },
  {
   "cell_type": "code",
   "id": "603b6364",
   "metadata": {
    "scrolled": true,
    "ExecuteTime": {
     "end_time": "2025-06-23T14:57:18.929051Z",
     "start_time": "2025-06-23T14:57:18.907515Z"
    }
   },
   "source": [
    "df_vector.select(umweltfaktoren).printSchema()\n",
    "#Sind wirklich alle nun Doubles und keine Strings? Wichtig für weitere ARbeit"
   ],
   "outputs": [
    {
     "name": "stdout",
     "output_type": "stream",
     "text": [
      "root\n",
      " |-- PM10: double (nullable = true)\n",
      " |-- PM2_5: double (nullable = true)\n",
      " |-- Ozon: double (nullable = true)\n",
      " |-- CO: double (nullable = true)\n",
      " |-- NO2: double (nullable = true)\n",
      " |-- NO: double (nullable = true)\n",
      "\n"
     ]
    }
   ],
   "execution_count": 243
  },
  {
   "cell_type": "code",
   "id": "542c939f",
   "metadata": {
    "scrolled": true,
    "ExecuteTime": {
     "end_time": "2025-06-23T14:57:19.471041Z",
     "start_time": "2025-06-23T14:57:18.937047Z"
    }
   },
   "source": [
    "df_alle.select(umweltfaktoren).summary().show() #Kurzer Blick auf die SPalten, ggf fällt hier noch etwas auf\n",
    "#hier fällt zB auf, dass für gewisse Spalten nur sehr wenige Einträge vorhanden sind...\n",
    "#auch fällt auf, dass der Mean für Ozon bei 37.9 und für NO2 bei 11.7, nur als BEispiele, liegt und somit doch deutlich auseinander...siehe Standardisierung"
   ],
   "outputs": [
    {
     "name": "stdout",
     "output_type": "stream",
     "text": [
      "+-------+------------------+------------------+-----------------+------------------+------------------+-----------------+\n",
      "|summary|              PM10|             PM2_5|             Ozon|                CO|               NO2|               NO|\n",
      "+-------+------------------+------------------+-----------------+------------------+------------------+-----------------+\n",
      "|  count|              3613|              3613|             1809|              1781|              3593|             1811|\n",
      "|   mean|11.003501245502333|10.979950179905902|37.87614704256498|38.217428411005066|21.134703590314498| 11.9187134180011|\n",
      "| stddev|6.6633460239670494| 6.996750174881126|9.097815904290787| 9.601133805416268|13.644620413668811|10.02851625007639|\n",
      "|    min|              1.46|              1.39|            11.55|             14.32|              0.95|              0.6|\n",
      "|    25%|              6.43|              6.06|            32.32|             32.02|             11.04|             6.12|\n",
      "|    50%|              9.66|               9.1|            37.78|             37.62|             18.76|             9.47|\n",
      "|    75%|              14.0|             14.09|            43.27|             43.81|             27.75|            13.93|\n",
      "|    max|             97.45|             77.64|            66.53|             70.29|            114.46|           153.79|\n",
      "+-------+------------------+------------------+-----------------+------------------+------------------+-----------------+\n",
      "\n"
     ]
    }
   ],
   "execution_count": 244
  },
  {
   "cell_type": "markdown",
   "id": "f5fc0fc0",
   "metadata": {},
   "source": [
    "<div style=\"padding: 10px; background-color: #fff8c4; border-left: 6px solid #f7d205;\">\n",
    "  <b>Anmerkung:</b> An der Darstellung lässt sich noch arbeiten.\n",
    "</div>"
   ]
  },
  {
   "cell_type": "code",
   "id": "d8fe7023",
   "metadata": {
    "ExecuteTime": {
     "end_time": "2025-06-23T14:57:19.580458Z",
     "start_time": "2025-06-23T14:57:19.481041Z"
    }
   },
   "source": [
    "from pyspark.sql.functions import col, isnan\n",
    "\n",
    "df_alle.select([\n",
    "    col(c).isNull().alias(f\"{c}_null\") for c in umweltfaktoren\n",
    "] + [\n",
    "    isnan(c).alias(f\"{c}_nan\") for c in umweltfaktoren\n",
    "]).show()\n",
    "\n",
    "#hier sehen wir, wo überall fehlende Werte zu finden sind...es scheinen viele zu sein, da bereits in den oberen Zeilen viele erscheinen"
   ],
   "outputs": [
    {
     "name": "stdout",
     "output_type": "stream",
     "text": [
      "+---------+----------+---------+-------+--------+-------+--------+---------+--------+------+-------+------+\n",
      "|PM10_null|PM2_5_null|Ozon_null|CO_null|NO2_null|NO_null|PM10_nan|PM2_5_nan|Ozon_nan|CO_nan|NO2_nan|NO_nan|\n",
      "+---------+----------+---------+-------+--------+-------+--------+---------+--------+------+-------+------+\n",
      "|    false|     false|     true|  false|   false|   true|   false|    false|   false| false|  false| false|\n",
      "|    false|     false|     true|  false|   false|   true|   false|    false|   false| false|  false| false|\n",
      "|    false|     false|     true|  false|   false|   true|   false|    false|   false| false|  false| false|\n",
      "|    false|     false|     true|  false|   false|   true|   false|    false|   false| false|  false| false|\n",
      "|    false|     false|     true|  false|   false|   true|   false|    false|   false| false|  false| false|\n",
      "|    false|     false|     true|  false|   false|   true|   false|    false|   false| false|  false| false|\n",
      "|    false|     false|     true|  false|   false|   true|   false|    false|   false| false|  false| false|\n",
      "|    false|     false|     true|  false|   false|   true|   false|    false|   false| false|  false| false|\n",
      "|    false|     false|     true|  false|   false|   true|   false|    false|   false| false|  false| false|\n",
      "|    false|     false|     true|  false|   false|   true|   false|    false|   false| false|  false| false|\n",
      "|    false|     false|     true|  false|   false|   true|   false|    false|   false| false|  false| false|\n",
      "|    false|     false|     true|  false|   false|   true|   false|    false|   false| false|  false| false|\n",
      "|    false|     false|     true|  false|   false|   true|   false|    false|   false| false|  false| false|\n",
      "|    false|     false|     true|  false|   false|   true|   false|    false|   false| false|  false| false|\n",
      "|    false|     false|     true|  false|   false|   true|   false|    false|   false| false|  false| false|\n",
      "|    false|     false|     true|  false|   false|   true|   false|    false|   false| false|  false| false|\n",
      "|    false|     false|     true|  false|   false|   true|   false|    false|   false| false|  false| false|\n",
      "|    false|     false|     true|  false|   false|   true|   false|    false|   false| false|  false| false|\n",
      "|    false|     false|     true|  false|   false|   true|   false|    false|   false| false|  false| false|\n",
      "|    false|     false|     true|  false|   false|   true|   false|    false|   false| false|  false| false|\n",
      "+---------+----------+---------+-------+--------+-------+--------+---------+--------+------+-------+------+\n",
      "only showing top 20 rows\n",
      "\n"
     ]
    }
   ],
   "execution_count": 245
  },
  {
   "cell_type": "markdown",
   "id": "5fb81db7",
   "metadata": {},
   "source": [
    "### Ungültige Werte\n",
    "Bevor wir weiterarbeiten müssen wir wissen, ob wir Rows mit falschen Werten droppen oder ob wir die Werte besser einfüllen (Ersteres ist nur dann geeignet, wenn nicht viele betroffen sind)."
   ]
  },
  {
   "cell_type": "code",
   "id": "0bbca4c8",
   "metadata": {
    "ExecuteTime": {
     "end_time": "2025-06-23T14:57:19.720190Z",
     "start_time": "2025-06-23T14:57:19.592702Z"
    }
   },
   "source": [
    "df_alle.filter(\"PM10 is null OR `PM2_5` is null OR Ozon is null OR CO is null OR NO2 is null OR NO is null\").count()\n",
    "\n",
    "#hier erhalten wir die Zeilen-Anzahl der fehlenden Werte...mit 3954 sind das sehr viele und können nicht einfach gedroppt werden"
   ],
   "outputs": [
    {
     "data": {
      "text/plain": [
       "3620"
      ]
     },
     "execution_count": 246,
     "metadata": {},
     "output_type": "execute_result"
    }
   ],
   "execution_count": 246
  },
  {
   "cell_type": "code",
   "id": "63854caf",
   "metadata": {
    "ExecuteTime": {
     "end_time": "2025-06-23T14:57:19.923418Z",
     "start_time": "2025-06-23T14:57:19.737205Z"
    }
   },
   "source": [
    "total = df_alle.count()\n",
    "\n",
    "fehlend = df_alle.filter(\n",
    "    \"PM10 is null OR `PM2_5` is null OR Ozon is null OR CO is null OR NO2 is null OR NO is null\"\n",
    ").count()\n",
    "\n",
    "print(f\"Fehlend {fehlend} von total {total} Rows ({(fehlend/total)*100:.2f}%)\")\n",
    "\n",
    "#hier sehen wir, dass alle Zeilen betroffen sind"
   ],
   "outputs": [
    {
     "name": "stdout",
     "output_type": "stream",
     "text": [
      "Fehlend 3620 von total 3620 Rows (100.00%)\n"
     ]
    }
   ],
   "execution_count": 247
  },
  {
   "cell_type": "code",
   "id": "50a38cfa",
   "metadata": {
    "scrolled": true,
    "ExecuteTime": {
     "end_time": "2025-06-23T14:57:20.108197Z",
     "start_time": "2025-06-23T14:57:19.933418Z"
    }
   },
   "source": [
    "from pyspark.sql.functions import count, when, col, isnan\n",
    "\n",
    "df_alle.select([\n",
    "    count(when(col(c).isNull() | isnan(c), c)).alias(f\"{c}_missing\") for c in umweltfaktoren\n",
    "]).show()\n",
    "#Hier stellt sich leider heraus, dass wir etliche fehlende Werte zu haben scheinen\n",
    "#U.a. haben wir z.B. bei Ozon alleine 1980 und bei CO 2008 oder bei NO 1978 fehlende WErte"
   ],
   "outputs": [
    {
     "name": "stdout",
     "output_type": "stream",
     "text": [
      "+------------+-------------+------------+----------+-----------+----------+\n",
      "|PM10_missing|PM2_5_missing|Ozon_missing|CO_missing|NO2_missing|NO_missing|\n",
      "+------------+-------------+------------+----------+-----------+----------+\n",
      "|           7|            7|        1811|      1839|         27|      1809|\n",
      "+------------+-------------+------------+----------+-----------+----------+\n",
      "\n"
     ]
    }
   ],
   "execution_count": 248
  },
  {
   "cell_type": "markdown",
   "id": "561e2506",
   "metadata": {},
   "source": [
    "Wir wollen nicht alle Rows wegwerfen, die fehlende WErte haben...aber es wäre auch sinnlos, diese mit Nullen zu befüllen, da es sich um so viele Rows handelt.\n",
    "<br>\n",
    "Wir wollen die Information speichern, dass hier Werte fehlen. Das können wir, indem wir eine neue Spalte erstellen, in der wir diese Information speichern (binär). \n",
    "<br>\n",
    "Wir erstellen also eine Spalte für Ozon_missing, CO_missing und NO_missing und befüllen dies jeweils mit 0 bzw. 1 (Letzteres für fehlende Werte). D.h. 0 = Wert vorhanden, 1 = Wert fehlt.\n",
    "<br>\n",
    "Die anderen drei Spalten mit 13 oder 31 fehlenden Werten droppen wir, da es sich um eine kleine Anzahl handelt."
   ]
  },
  {
   "cell_type": "code",
   "id": "38b5aab2",
   "metadata": {
    "ExecuteTime": {
     "end_time": "2025-06-23T14:57:20.139619Z",
     "start_time": "2025-06-23T14:57:20.120699Z"
    }
   },
   "source": [
    "#Droppen der Reihen mit fehlenden Werten für PM10, PM2_5 und NO2, da es sich hierbei nur um eine Handvoll fehlende WErte handelt\n",
    "cols_to_drop_on = [\"PM10\", \"PM2_5\", \"NO2\"]\n",
    "\n",
    "df_cleaned = df_alle.dropna(subset=cols_to_drop_on)\n"
   ],
   "outputs": [],
   "execution_count": 249
  },
  {
   "cell_type": "code",
   "id": "d34825ad",
   "metadata": {
    "ExecuteTime": {
     "end_time": "2025-06-23T14:57:20.324676Z",
     "start_time": "2025-06-23T14:57:20.150723Z"
    }
   },
   "source": [
    "#Wir prüfen, ob das geklappt hat und jetzt jeweils 0 bei den Spalten steht\n",
    "from pyspark.sql.functions import count, when, col, isnan\n",
    "\n",
    "df_cleaned.select([\n",
    "    count(when(col(c).isNull() | isnan(c), c)).alias(f\"{c}_missing\") for c in umweltfaktoren\n",
    "]).show()"
   ],
   "outputs": [
    {
     "name": "stdout",
     "output_type": "stream",
     "text": [
      "+------------+-------------+------------+----------+-----------+----------+\n",
      "|PM10_missing|PM2_5_missing|Ozon_missing|CO_missing|NO2_missing|NO_missing|\n",
      "+------------+-------------+------------+----------+-----------+----------+\n",
      "|           0|            0|        1779|      1810|          0|      1779|\n",
      "+------------+-------------+------------+----------+-----------+----------+\n",
      "\n"
     ]
    }
   ],
   "execution_count": 250
  },
  {
   "cell_type": "code",
   "id": "7e3e0b9b",
   "metadata": {
    "ExecuteTime": {
     "end_time": "2025-06-23T14:57:20.386090Z",
     "start_time": "2025-06-23T14:57:20.338673Z"
    }
   },
   "source": [
    "#im nächsten Schritt werden wir sep. Spalten zum Erhalten der Information zu den fehlenden WErten erstellen\n",
    "#das ändert zwar nichts daran, dass wir die Felder irgendwie befüllen müssen, erhält aber die Information, dass der Wert gefhelt hatte\n",
    "from pyspark.sql.functions import when, col\n",
    "\n",
    "cols_to_flag = [\"Ozon\", \"CO\", \"NO\"]\n",
    "\n",
    "for c in cols_to_flag:\n",
    "    df_cleaned = df_cleaned.withColumn(f\"{c}_missing\", when(col(c).isNull(), 1).otherwise(0))\n"
   ],
   "outputs": [],
   "execution_count": 251
  },
  {
   "cell_type": "code",
   "id": "579ba291",
   "metadata": {
    "scrolled": true,
    "ExecuteTime": {
     "end_time": "2025-06-23T14:57:20.494328Z",
     "start_time": "2025-06-23T14:57:20.398676Z"
    }
   },
   "source": [
    "df_cleaned.select(\"Ozon\", \"Ozon_missing\", \"CO\", \"CO_missing\", \"NO\", \"NO_missing\").show(10)\n",
    "#Wir prüfen kurz, ob das geklappt hat und wir nun jeweils dazu passende \"_missing\"-Spalten haben mit 1 und 0"
   ],
   "outputs": [
    {
     "name": "stdout",
     "output_type": "stream",
     "text": [
      "+----+------------+-----+----------+----+----------+\n",
      "|Ozon|Ozon_missing|   CO|CO_missing|  NO|NO_missing|\n",
      "+----+------------+-----+----------+----+----------+\n",
      "|null|           1|21.11|         0|null|         1|\n",
      "|null|           1| 26.5|         0|null|         1|\n",
      "|null|           1|36.66|         0|null|         1|\n",
      "|null|           1|35.72|         0|null|         1|\n",
      "|null|           1|28.78|         0|null|         1|\n",
      "|null|           1|31.55|         0|null|         1|\n",
      "|null|           1|30.09|         0|null|         1|\n",
      "|null|           1| 35.4|         0|null|         1|\n",
      "|null|           1|40.12|         0|null|         1|\n",
      "|null|           1|35.56|         0|null|         1|\n",
      "+----+------------+-----+----------+----+----------+\n",
      "only showing top 10 rows\n",
      "\n"
     ]
    }
   ],
   "execution_count": 252
  },
  {
   "cell_type": "markdown",
   "id": "16e5c752",
   "metadata": {},
   "source": [
    "Nun dürfen wir nicht vergessen, dass wir dennoch die empty Felder mit etwas befüllen müssen.\n",
    "Wir wählen mal 0 als Wert, da es uns fast schon zu sehr an Einträgen fehlt, um einen MEdian oder ÄHnliches zu berechnen."
   ]
  },
  {
   "cell_type": "code",
   "id": "00fadac2",
   "metadata": {
    "ExecuteTime": {
     "end_time": "2025-06-23T14:57:20.602147Z",
     "start_time": "2025-06-23T14:57:20.514740Z"
    }
   },
   "source": [
    "df_cleaned = df_cleaned.fillna({\n",
    "    \"CO\": 0,\n",
    "    \"Ozon\": 0,\n",
    "    \"NO\": 0\n",
    "})\n",
    "#überall wo na ist, wird eine 0 eingefügt"
   ],
   "outputs": [],
   "execution_count": 253
  },
  {
   "cell_type": "code",
   "id": "b877903c",
   "metadata": {
    "scrolled": true,
    "ExecuteTime": {
     "end_time": "2025-06-23T14:57:20.773830Z",
     "start_time": "2025-06-23T14:57:20.612155Z"
    }
   },
   "source": [
    "#neu sollten wir hier also überall 0 als Wert für die Anzahl an NA-Werten erhalten\n",
    "from pyspark.sql.functions import count, when, col, isnan\n",
    "\n",
    "df_cleaned.select([\n",
    "    count(when(col(c).isNull() | isnan(c), c)).alias(f\"{c}_missing\") for c in umweltfaktoren\n",
    "]).show()"
   ],
   "outputs": [
    {
     "name": "stdout",
     "output_type": "stream",
     "text": [
      "+------------+-------------+------------+----------+-----------+----------+\n",
      "|PM10_missing|PM2_5_missing|Ozon_missing|CO_missing|NO2_missing|NO_missing|\n",
      "+------------+-------------+------------+----------+-----------+----------+\n",
      "|           0|            0|           0|         0|          0|         0|\n",
      "+------------+-------------+------------+----------+-----------+----------+\n",
      "\n"
     ]
    }
   ],
   "execution_count": 254
  },
  {
   "cell_type": "markdown",
   "id": "2bfc810f",
   "metadata": {},
   "source": [
    "### Zeiten als Features extrahieren\n",
    "\n",
    "Um mit Datum und Zeit wetierarbeiten zu können im Feature-Vektor, müssen wir diese als numerische sep. Werte speichern und nicht als ZEitstempel (dieser nützt uns nichts).\n",
    "Daher hier mit einer Spalte pro Eintrag, was zu 10 neuen Spalten fürht (Jahr, Moant, Tag, Wochentag, Stunde) und das für Start- und Endzeit.\n",
    "Die Stunde hätte man sich sparen können, hier aber aus Vollständigkeitsgründen. Der Wochentag ist ein Plus für allfällige weitere Analysen."
   ]
  },
  {
   "cell_type": "code",
   "id": "088c8e11",
   "metadata": {
    "ExecuteTime": {
     "end_time": "2025-06-23T14:57:20.851157Z",
     "start_time": "2025-06-23T14:57:20.789616Z"
    }
   },
   "source": [
    "from pyspark.sql.functions import year, month, dayofmonth, dayofweek, hour\n",
    "\n",
    "df_cleaned = df_cleaned.withColumn(\"year\", year(\"date\")) \\\n",
    "                 .withColumn(\"month\", month(\"date\")) \\\n",
    "                 .withColumn(\"day\", dayofmonth(\"date\")) \\\n",
    "                 .withColumn(\"weekday\", dayofweek(\"date\")) \\\n",
    "                 .withColumn(\"hour\", hour(\"date\"))\n",
    "\n",
    "\n",
    "\n",
    "#genau genommen könnte man die Spalten zur Stunde, hour_e und hour_s, auch einfach weglassen, da eh immer 00:00...hier aber der Vollständigkeit halber\n",
    "#Weekday mitaufzunehmen ist ein zusätzliches Feature, welches sich vielleicht als nützlich erweisen kann"
   ],
   "outputs": [],
   "execution_count": 255
  },
  {
   "cell_type": "markdown",
   "id": "462bcbe3",
   "metadata": {},
   "source": [
    "<div style=\"padding: 10px; background-color: #fff8c4; border-left: 6px solid #f7d205;\">\n",
    "  <b>Anmerkung:</b> Falls BEdarf da wäre, liessen sich hier die Stunden weglassen. Solange das aber kein Heu frisst, lasse ich es für das Verständnis.\n",
    "</div>"
   ]
  },
  {
   "cell_type": "code",
   "id": "42678bbf",
   "metadata": {
    "scrolled": true,
    "ExecuteTime": {
     "end_time": "2025-06-23T14:57:20.960097Z",
     "start_time": "2025-06-23T14:57:20.861178Z"
    }
   },
   "source": [
    "#Spalten-Preview nach Zeiten-Extraktion\n",
    "df_cleaned.select(\"date\", \"year\", \"month\", \"day\", \"weekday\", \"hour\").show(10, truncate=False)\n"
   ],
   "outputs": [
    {
     "name": "stdout",
     "output_type": "stream",
     "text": [
      "+----------+----+-----+---+-------+----+\n",
      "|date      |year|month|day|weekday|hour|\n",
      "+----------+----+-----+---+-------+----+\n",
      "|2020-01-02|2020|1    |2  |5      |0   |\n",
      "|2020-01-03|2020|1    |3  |6      |0   |\n",
      "|2020-01-04|2020|1    |4  |7      |0   |\n",
      "|2020-01-05|2020|1    |5  |1      |0   |\n",
      "|2020-01-06|2020|1    |6  |2      |0   |\n",
      "|2020-01-07|2020|1    |7  |3      |0   |\n",
      "|2020-01-08|2020|1    |8  |4      |0   |\n",
      "|2020-01-09|2020|1    |9  |5      |0   |\n",
      "|2020-01-10|2020|1    |10 |6      |0   |\n",
      "|2020-01-11|2020|1    |11 |7      |0   |\n",
      "+----------+----+-----+---+-------+----+\n",
      "only showing top 10 rows\n",
      "\n"
     ]
    }
   ],
   "execution_count": 256
  },
  {
   "metadata": {
    "ExecuteTime": {
     "end_time": "2025-06-23T14:57:21.083967Z",
     "start_time": "2025-06-23T14:57:20.973008Z"
    }
   },
   "cell_type": "code",
   "source": "df_cleaned.show()",
   "id": "c12fd95dfbc4504",
   "outputs": [
    {
     "name": "stdout",
     "output_type": "stream",
     "text": [
      "+----------+--------+-----+-----+----+-----+-----+---+-------------------------------------------+----------------------------------------------+----------------------------------------------+----------------------------------------------+-------------------------------------------------+-------------------------------------------------+-------------------------------------------------+-------------------------------------------+------------------------------------------------------------+----------------------------------------------+---------------------------------------------------+---------------------------------------------------+-------------------------------------------------------------------------------+-----------------------------------+-------------------------------------------+------------------------------------+--------------------------------------------+----------------------------------------------+-----------------------------------------------+-----------------------+-----------------------------------------------------+---------------------------------------+---------------------------------------------------------------+---------------------------+--------------------------------------+-----------------------------+-----------------------------------------------------+------------------------------------------+------------------------+-------------------------+--------------------------+--------------------------+---------------------------------------------------------------+-----+------------+----------+----------+----+-----+---+-------+----+\n",
      "|      date|location| PM10|PM2_5|Ozon|   CO|  NO2| NO|Air temperature 2 m above ground daily mean|Air temperature 2 m above ground daily maximum|Air temperature 2 m above ground daily minimum|Air temperature at 5 cm above grass daily mean|Air temperature at 5 cm above grass daily maximum|Air temperature at 5 cm above grass daily minimum|Relative air humidity 2 m above ground daily mean|Vapour pressure 2 m above ground daily mean|Atmospheric pressure at barometric altitude (QFE) daily mean|Pressure reduced to sea level (QFF) daily mean|Geopotential height of the 850 hPA level daily mean|Geopotential height of the 700 hPA level daily mean|Pressure reduced to sea level according to standard atmosphere (QNH) daily mean|Wind speed scalar daily mean in m/s|Gust peak (one second) daily maximum in m/s|Wind speed scalar daily mean in km/h|Gust peak (one second) daily maximum in km/h|Gust peak (three seconds) daily maximum in m/s|Gust peak (three seconds) daily maximum in km/h|Foehn index daily value|Precipitation daily total 6 UTC - 6 UTC following day|Precipitation daily total 0 UTC - 0 UTC|Snow depth (automatic measurement) morning measurement at 6 UTC|Global radiation daily mean|Longwave incoming radiation daily mean|Sunshine duration daily total|Sunshine duration in relation to absolute daily total|Reference evaporation from FAO daily total|Cooling Degree Day (CDD)|Wind direction daily mean|Heating degrees (HGT12/20)|Heating degrees (ATD12/12)|Hydrologic registration (hydrologic balance, R-ETS) daily total|stadt|Ozon_missing|CO_missing|NO_missing|year|month|day|weekday|hour|\n",
      "+----------+--------+-----+-----+----+-----+-----+---+-------------------------------------------+----------------------------------------------+----------------------------------------------+----------------------------------------------+-------------------------------------------------+-------------------------------------------------+-------------------------------------------------+-------------------------------------------+------------------------------------------------------------+----------------------------------------------+---------------------------------------------------+---------------------------------------------------+-------------------------------------------------------------------------------+-----------------------------------+-------------------------------------------+------------------------------------+--------------------------------------------+----------------------------------------------+-----------------------------------------------+-----------------------+-----------------------------------------------------+---------------------------------------+---------------------------------------------------------------+---------------------------+--------------------------------------+-----------------------------+-----------------------------------------------------+------------------------------------------+------------------------+-------------------------+--------------------------+--------------------------+---------------------------------------------------------------+-----+------------+----------+----------+----+-----+---+-------+----+\n",
      "|2020-01-02|  Zürich|16.21|18.43| 0.0|21.11|18.87|0.0|                                       -1.2|                                          -0.3|                                          -2.1|                                          -0.6|                                              1.3|                                             -1.6|                                             94.6|                                        5.3|                                                       963.6|                                        1032.8|                                               null|                                               null|                                                                         1029.6|                                1.0|                                        3.8|                                 3.6|                                        13.7|                                           3.6|                                           13.0|                    0.0|                                                  0.0|                                    0.0|                                                           null|                         25|                                   303|                            0|                                                    0|                                       0.2|                     0.0|                      203|                      21.2|                      13.2|                                                            0.0|    0|           1|         0|         1|2020|    1|  2|      5|   0|\n",
      "|2020-01-03|  Zürich|16.91|20.09| 0.0| 26.5|26.71|0.0|                                        3.0|                                           6.2|                                          -0.9|                                           2.9|                                              8.3|                                             -2.1|                                             87.3|                                        6.6|                                                       961.7|                                        1029.7|                                               null|                                               null|                                                                         1027.7|                                1.8|                                        7.7|                                 6.5|                                        27.7|                                           7.4|                                           26.6|                    0.0|                                                  0.9|                                    0.9|                                                           null|                         50|                                   301|                          143|                                                   31|                                       0.2|                     0.0|                      219|                      17.0|                       9.0|                                                            0.8|    0|           1|         0|         1|2020|    1|  3|      6|   0|\n",
      "|2020-01-04|  Zürich|  6.8|  8.8| 0.0|36.66|13.54|0.0|                                        4.9|                                           6.9|                                           2.1|                                           4.2|                                              6.3|                                              0.6|                                             80.7|                                        7.0|                                                       965.8|                                        1033.6|                                               null|                                               null|                                                                         1032.0|                                2.5|                                       10.3|                                 9.0|                                        37.1|                                          10.0|                                           36.0|                    0.0|                                                  0.5|                                    0.5|                                                           null|                         19|                                   317|                            0|                                                    0|                                       0.6|                     0.0|                      259|                      15.1|                       7.1|                                                            0.5|    0|           1|         0|         1|2020|    1|  4|      7|   0|\n",
      "|2020-01-05|  Zürich| 8.88|11.52| 0.0|35.72|21.15|0.0|                                        1.6|                                           5.8|                                          -1.0|                                           0.6|                                              8.2|                                             -2.7|                                             82.7|                                        5.6|                                                       967.8|                                        1036.5|                                               null|                                               null|                                                                         1034.0|                                1.6|                                        6.6|                                 5.8|                                        23.8|                                           6.2|                                           22.3|                    0.0|                                                  0.0|                                    0.0|                                                           null|                         74|                                   248|                          460|                                                  100|                                       0.2|                     0.0|                       54|                      18.4|                      10.4|                                                           -0.2|    0|           1|         0|         1|2020|    1|  5|      1|   0|\n",
      "|2020-01-06|  Zürich|19.23|23.17| 0.0|28.78|50.18|0.0|                                        0.1|                                           4.2|                                          -2.1|                                          -0.5|                                              7.2|                                             -3.6|                                             91.8|                                        5.6|                                                       962.8|                                        1031.6|                                               null|                                               null|                                                                         1028.8|                                0.8|                                        3.5|                                 2.9|                                        12.6|                                           3.4|                                           12.2|                    0.0|                                                  0.0|                                    0.0|                                                           null|                         55|                                   262|                          257|                                                   56|                                       0.1|                     0.0|                      207|                      19.9|                      11.9|                                                           -0.1|    0|           1|         0|         1|2020|    1|  6|      2|   0|\n",
      "|2020-01-07|  Zürich|14.42|18.19| 0.0|31.55|48.55|0.0|                                        3.0|                                           5.5|                                          -0.8|                                           2.1|                                              6.8|                                             -2.9|                                             83.9|                                        6.4|                                                       963.7|                                        1031.8|                                               null|                                               null|                                                                         1029.7|                                1.1|                                        6.8|                                 4.0|                                        24.5|                                           6.6|                                           23.8|                    0.0|                                                  0.0|                                    0.0|                                                           null|                         32|                                   291|                           76|                                                   16|                                       0.3|                     0.0|                      243|                      17.0|                       9.0|                                                           -0.1|    0|           1|         0|         1|2020|    1|  7|      3|   0|\n",
      "|2020-01-08|  Zürich|16.96|22.15| 0.0|30.09| 66.7|0.0|                                        3.1|                                           7.5|                                          -1.1|                                           2.3|                                             10.4|                                             -3.3|                                             81.6|                                        6.1|                                                       963.8|                                        1031.9|                                               null|                                               null|                                                                         1029.8|                                0.6|                                        3.6|                                 2.2|                                        13.0|                                           3.5|                                           12.6|                    0.0|                                                  0.0|                                    0.0|                                                           null|                         60|                                   284|                          268|                                                   58|                                       0.2|                     0.0|                      214|                      16.9|                       8.9|                                                           -0.2|    0|           1|         0|         1|2020|    1|  8|      4|   0|\n",
      "|2020-01-09|  Zürich|10.26|16.46| 0.0| 35.4|46.25|0.0|                                        6.2|                                          10.6|                                           1.8|                                           4.4|                                             12.4|                                             -0.3|                                             52.9|                                        4.8|                                                       956.8|                                        1023.6|                                               null|                                               null|                                                                         1022.5|                                1.5|                                       14.4|                                 5.4|                                        51.8|                                          13.9|                                           50.0|                    0.0|                                                  0.0|                                    0.0|                                                           null|                         70|                                   274|                          438|                                                   94|                                       0.6|                     0.0|                      211|                      13.8|                       5.8|                                                           -0.5|    0|           1|         0|         1|2020|    1|  9|      5|   0|\n",
      "|2020-01-10|  Zürich| 4.99| 7.11| 0.0|40.12| 9.08|0.0|                                        7.6|                                          10.3|                                           5.0|                                           7.0|                                             12.4|                                              3.1|                                             65.2|                                        6.8|                                                       958.2|                                        1024.7|                                               null|                                               null|                                                                         1023.9|                                4.2|                                       15.3|                                15.1|                                        55.1|                                          14.9|                                           53.6|                    0.0|                                                  0.0|                                    0.0|                                                           null|                         57|                                   303|                          240|                                                   51|                                       1.2|                     0.0|                      242|                      12.4|                       4.4|                                                           -0.2|    0|           1|         0|         1|2020|    1| 10|      6|   0|\n",
      "|2020-01-11|  Zürich| 9.08|12.15| 0.0|35.56|28.76|0.0|                                        3.9|                                           6.7|                                           0.1|                                           3.2|                                             10.0|                                             -1.9|                                             86.1|                                        6.9|                                                       965.2|                                        1033.2|                                               null|                                               null|                                                                         1031.3|                                1.4|                                        5.5|                                 5.0|                                        19.8|                                           5.2|                                           18.7|                    0.0|                                                  0.0|                                    0.0|                                                           null|                         46|                                   283|                           82|                                                   17|                                       0.3|                     0.0|                       38|                      16.1|                       8.1|                                                           -0.1|    0|           1|         0|         1|2020|    1| 11|      7|   0|\n",
      "|2020-01-12|  Zürich|18.29|21.64| 0.0|26.52|30.34|0.0|                                        1.7|                                           5.8|                                          -0.7|                                           1.1|                                              9.0|                                             -2.3|                                             87.8|                                        6.0|                                                       962.1|                                        1030.5|                                               null|                                               null|                                                                         1028.1|                                1.0|                                        4.8|                                 3.6|                                        17.3|                                           4.7|                                           16.9|                    0.0|                                                  0.0|                                    0.0|                                                           null|                         74|                                   262|                          325|                                                   69|                                       0.2|                     0.0|                      225|                      18.3|                      10.3|                                                           -0.1|    0|           1|         0|         1|2020|    1| 12|      1|   0|\n",
      "|2020-01-13|  Zürich|17.77|24.23| 0.0|32.79|82.44|0.0|                                        1.4|                                           4.9|                                          -0.9|                                           0.4|                                              8.4|                                             -2.8|                                             81.5|                                        5.5|                                                       956.6|                                        1024.6|                                               null|                                               null|                                                                         1022.2|                                0.5|                                        3.1|                                 1.8|                                        11.2|                                           3.0|                                           10.8|                    0.0|                                                  0.0|                                    0.0|                                                           null|                         55|                                   261|                          139|                                                   30|                                       0.2|                     0.0|                      225|                      18.6|                      10.6|                                                           -0.1|    0|           1|         0|         1|2020|    1| 13|      2|   0|\n",
      "|2020-01-14|  Zürich|10.57| 15.7| 0.0|36.08|40.19|0.0|                                        4.3|                                           9.4|                                          -0.5|                                           2.5|                                             12.3|                                             -2.9|                                             62.9|                                        5.1|                                                       953.4|                                        1020.5|                                               null|                                               null|                                                                         1018.9|                                1.8|                                        8.8|                                 6.5|                                        31.7|                                           8.5|                                           30.6|                    0.0|                                                  0.0|                                    0.0|                                                           null|                         79|                                   260|                          431|                                                   91|                                       0.6|                     0.0|                      208|                      15.7|                       7.7|                                                           -0.4|    0|           1|         0|         1|2020|    1| 14|      3|   0|\n",
      "|2020-01-15|  Zürich| 7.87|12.64| 0.0|39.47|31.24|0.0|                                        7.0|                                          11.6|                                           1.7|                                           5.3|                                             14.4|                                             -1.1|                                             56.9|                                        5.6|                                                       956.6|                                        1023.1|                                               null|                                               null|                                                                         1022.2|                                2.5|                                       12.7|                                 9.0|                                        45.7|                                          11.6|                                           41.8|                    0.0|                                                  0.0|                                    0.0|                                                           null|                         81|                                   270|                          433|                                                   91|                                       1.0|                     0.0|                      208|                      13.0|                       5.0|                                                           -0.4|    0|           1|         0|         1|2020|    1| 15|      4|   0|\n",
      "|2020-01-16|  Zürich|10.12|16.43| 0.0|38.43|55.71|0.0|                                        6.2|                                          10.7|                                           2.1|                                           4.8|                                             13.5|                                             -0.8|                                             66.3|                                        6.2|                                                       961.2|                                        1028.3|                                               null|                                               null|                                                                         1027.1|                                1.0|                                        5.6|                                 3.6|                                        20.2|                                           5.5|                                           19.8|                    0.0|                                                  0.0|                                    0.0|                                                           null|                         80|                                   275|                          478|                                                  100|                                       0.4|                     0.0|                      180|                      13.8|                       5.8|                                                           -0.3|    0|           1|         0|         1|2020|    1| 16|      5|   0|\n",
      "|2020-01-17|  Zürich| 9.36|13.59| 0.0|35.58|38.96|0.0|                                        4.6|                                           8.3|                                           1.2|                                           3.5|                                             11.7|                                             -1.3|                                             81.4|                                        6.9|                                                       956.9|                                        1024.1|                                               null|                                               null|                                                                         1022.6|                                1.9|                                       11.8|                                 6.8|                                        42.5|                                          11.1|                                           40.0|                    0.0|                                                  4.0|                                    3.9|                                                           null|                         38|                                   300|                          102|                                                   21|                                       0.6|                     0.0|                      225|                      15.4|                       7.4|                                                            3.8|    0|           1|         0|         1|2020|    1| 17|      6|   0|\n",
      "|2020-01-18|  Zürich| 5.85| 8.01| 0.0|38.37|12.73|0.0|                                        3.4|                                           6.0|                                           0.0|                                           2.9|                                              8.6|                                             -1.5|                                             78.5|                                        6.1|                                                       961.3|                                        1029.1|                                               null|                                               null|                                                                         1027.2|                                1.9|                                       10.2|                                 6.8|                                        36.7|                                           9.7|                                           34.9|                    0.0|                                                  0.0|                                    0.1|                                                           null|                         58|                                   290|                          178|                                                   37|                                       0.4|                     0.0|                      252|                      16.6|                       8.6|                                                            0.0|    0|           1|         0|         1|2020|    1| 18|      7|   0|\n",
      "|2020-01-19|  Zürich| 7.79| 9.73| 0.0|36.34| 13.8|0.0|                                        0.5|                                           3.6|                                          -1.1|                                           0.1|                                              8.2|                                             -3.3|                                             80.4|                                        5.1|                                                       967.5|                                        1036.6|                                               null|                                               null|                                                                         1033.8|                                2.1|                                        8.3|                                 7.6|                                        29.9|                                           8.2|                                           29.5|                    0.0|                                                  0.0|                                    0.0|                                                           null|                         76|                                   263|                          233|                                                   49|                                       0.4|                     0.0|                       41|                      19.5|                      11.5|                                                           -0.1|    0|           1|         0|         1|2020|    1| 19|      1|   0|\n",
      "|2020-01-20|  Zürich|13.41|17.56| 0.0|35.64| 19.5|0.0|                                       -0.4|                                           2.7|                                          -2.4|                                          -1.0|                                              5.4|                                             -4.2|                                             78.5|                                        4.6|                                                       973.4|                                        1043.1|                                               null|                                               null|                                                                         1039.9|                                3.5|                                       12.0|                                12.6|                                        43.2|                                          11.7|                                           42.1|                    0.0|                                                  0.0|                                    0.0|                                                           null|                         86|                                   232|                          384|                                                   80|                                       0.6|                     0.0|                       54|                      20.4|                      12.4|                                                           -0.2|    0|           1|         0|         1|2020|    1| 20|      2|   0|\n",
      "|2020-01-21|  Zürich|20.83|27.38| 0.0|33.47|53.78|0.0|                                       -1.8|                                           1.7|                                          -4.0|                                          -2.6|                                              4.4|                                             -6.0|                                             83.6|                                        4.4|                                                       971.2|                                        1041.2|                                               null|                                               null|                                                                         1037.7|                                1.7|                                        6.7|                                 6.1|                                        24.1|                                           6.5|                                           23.4|                    0.0|                                                  0.0|                                    0.0|                                                           null|                         79|                                   231|                          423|                                                   87|                                       0.3|                     0.0|                       50|                      21.8|                      13.8|                                                           -0.2|    0|           1|         0|         1|2020|    1| 21|      3|   0|\n",
      "+----------+--------+-----+-----+----+-----+-----+---+-------------------------------------------+----------------------------------------------+----------------------------------------------+----------------------------------------------+-------------------------------------------------+-------------------------------------------------+-------------------------------------------------+-------------------------------------------+------------------------------------------------------------+----------------------------------------------+---------------------------------------------------+---------------------------------------------------+-------------------------------------------------------------------------------+-----------------------------------+-------------------------------------------+------------------------------------+--------------------------------------------+----------------------------------------------+-----------------------------------------------+-----------------------+-----------------------------------------------------+---------------------------------------+---------------------------------------------------------------+---------------------------+--------------------------------------+-----------------------------+-----------------------------------------------------+------------------------------------------+------------------------+-------------------------+--------------------------+--------------------------+---------------------------------------------------------------+-----+------------+----------+----------+----+-----+---+-------+----+\n",
      "only showing top 20 rows\n",
      "\n"
     ]
    }
   ],
   "execution_count": 257
  },
  {
   "cell_type": "markdown",
   "id": "02f41db4",
   "metadata": {},
   "source": [
    "### Vektor erstellen\n",
    "\n",
    "Den eigentlichen Vektor - nach einem nun sehr langen Exkurs - erstellen wir basierend auf den dafür geeigneten Spalten. D.h. es kommen nur Spalten mit numerischen Werten infrage.\n",
    "<br>\n",
    "Das heisst, wir haben folgende Spalten, die geeignet sind: <br>\n",
    "\"PM10\", \"PM2_5\", \"Ozon\", \"CO\", \"NO2\", \"NO\", \"Ozon_missing\", \"CO_missing\", \"NO_missing\", \"year_e\", \"month_e\", \"day_e\", \"weekday_e\", \"hour_e\", \"year_s\", \"month_s\", \"day_s\", \"weekday_s\", \"hour_s\", \"stadt\""
   ]
  },
  {
   "cell_type": "code",
   "id": "b2296f40",
   "metadata": {
    "ExecuteTime": {
     "end_time": "2025-06-23T14:57:21.115174Z",
     "start_time": "2025-06-23T14:57:21.099972Z"
    }
   },
   "source": [
    "#wir definieren, welche Spalten wir gerne als Features hätten \n",
    "#numerische Spalten als Features, keine Strings oder Timestamps\n",
    "feature_cols = [\"PM10\", \"PM2_5\", \"Ozon\", \"CO\", \"NO2\", \"NO\", \"Ozon_missing\", \"CO_missing\", \"NO_missing\",  \"year\", \"month\", \"day\", \"weekday\", \"hour\", \"stadt\"]\n"
   ],
   "outputs": [],
   "execution_count": 258
  },
  {
   "cell_type": "code",
   "id": "21eeb143",
   "metadata": {
    "ExecuteTime": {
     "end_time": "2025-06-23T14:57:21.161184Z",
     "start_time": "2025-06-23T14:57:21.123260Z"
    }
   },
   "source": [
    "#Feature-Vektor erstellen mit VectorAssembler\n",
    "from pyspark.ml.feature import VectorAssembler\n",
    "\n",
    "assembler = VectorAssembler(inputCols=feature_cols, outputCol=\"features\")\n",
    "df_vector = assembler.transform(df_cleaned)  # NAme des aktuellen DataFrames ist df_cleaned"
   ],
   "outputs": [],
   "execution_count": 259
  },
  {
   "cell_type": "code",
   "id": "99c00e0f",
   "metadata": {
    "scrolled": true,
    "ExecuteTime": {
     "end_time": "2025-06-23T14:57:21.193272Z",
     "start_time": "2025-06-23T14:57:21.170281Z"
    }
   },
   "source": [
    "df_vector.select(\"Ozon_missing\", \"CO_missing\", \"NO_missing\").printSchema()\n"
   ],
   "outputs": [
    {
     "name": "stdout",
     "output_type": "stream",
     "text": [
      "root\n",
      " |-- Ozon_missing: integer (nullable = false)\n",
      " |-- CO_missing: integer (nullable = false)\n",
      " |-- NO_missing: integer (nullable = false)\n",
      "\n"
     ]
    }
   ],
   "execution_count": 260
  },
  {
   "cell_type": "code",
   "id": "0c24e8bf",
   "metadata": {
    "ExecuteTime": {
     "end_time": "2025-06-23T14:57:21.287148Z",
     "start_time": "2025-06-23T14:57:21.207236Z"
    }
   },
   "source": [
    "#Vorschau, ob das geklappt hat mit dem Feature-Vektor\n",
    "df_vector.select(\"features\").show(5, truncate=False)\n"
   ],
   "outputs": [
    {
     "name": "stdout",
     "output_type": "stream",
     "text": [
      "+------------------------------------------------------------------------+\n",
      "|features                                                                |\n",
      "+------------------------------------------------------------------------+\n",
      "|[16.21,18.43,0.0,21.11,18.87,0.0,1.0,0.0,1.0,2020.0,1.0,2.0,5.0,0.0,0.0]|\n",
      "|[16.91,20.09,0.0,26.5,26.71,0.0,1.0,0.0,1.0,2020.0,1.0,3.0,6.0,0.0,0.0] |\n",
      "|[6.8,8.8,0.0,36.66,13.54,0.0,1.0,0.0,1.0,2020.0,1.0,4.0,7.0,0.0,0.0]    |\n",
      "|[8.88,11.52,0.0,35.72,21.15,0.0,1.0,0.0,1.0,2020.0,1.0,5.0,1.0,0.0,0.0] |\n",
      "|[19.23,23.17,0.0,28.78,50.18,0.0,1.0,0.0,1.0,2020.0,1.0,6.0,2.0,0.0,0.0]|\n",
      "+------------------------------------------------------------------------+\n",
      "only showing top 5 rows\n",
      "\n"
     ]
    }
   ],
   "execution_count": 261
  },
  {
   "cell_type": "markdown",
   "id": "93f0e059",
   "metadata": {},
   "source": [
    "## Standardisierung der numerischen Daten\n",
    "Standardisieren der numerischen Daten in einen Range von -1 bis 1.\n",
    "<br>\n",
    "Je nach verwendeter MEthode ist das sinnvoll und nützlich (ABhängigkeit von Distanzenberechnung). Zu diesen MEthoden gehört z.B. k-Means, logistische Regression, SVMs. Weniger wichtig ist es bei Tree-Methoden.\n",
    "<br> \n",
    "Der kleinste Wert wird auf -1 gemappt und der grösste auf 1. Der Rest wird entsprechend dazwischen gemappt.\n",
    "<br>\n"
   ]
  },
  {
   "cell_type": "code",
   "id": "c4980c66",
   "metadata": {
    "ExecuteTime": {
     "end_time": "2025-06-23T14:57:21.503989Z",
     "start_time": "2025-06-23T14:57:21.300152Z"
    }
   },
   "source": [
    "#Zum Standardisieren arbeiten wir mit StandardScaler\n",
    "from pyspark.ml.feature import StandardScaler\n",
    "\n",
    "scaler = StandardScaler(\n",
    "    inputCol=\"features\",\n",
    "    outputCol=\"scaledFeatures\",\n",
    "    withMean=True,  # 0 als Mitte\n",
    "    withStd=True    # Einheitsvarianz skalieren\n",
    ")\n",
    "\n",
    "scaler_model = scaler.fit(df_vector)\n",
    "df_scaled = scaler_model.transform(df_vector)\n"
   ],
   "outputs": [],
   "execution_count": 262
  },
  {
   "cell_type": "code",
   "id": "26ca1ca8",
   "metadata": {
    "ExecuteTime": {
     "end_time": "2025-06-23T14:57:21.612039Z",
     "start_time": "2025-06-23T14:57:21.513365Z"
    }
   },
   "source": [
    "df_scaled.select(\"scaledFeatures\").show(5, truncate=False)\n",
    "#kurze Preview, neu sollten alle Werte ungefähr zwischen -1 und 1 angezeigt werden"
   ],
   "outputs": [
    {
     "name": "stdout",
     "output_type": "stream",
     "text": [
      "+------------------------------------------------------------------------------------------------------------------------------------------------------------------------------------------------------------------------------------------------------------------------------------------+\n",
      "|scaledFeatures                                                                                                                                                                                                                                                                            |\n",
      "+------------------------------------------------------------------------------------------------------------------------------------------------------------------------------------------------------------------------------------------------------------------------------------------+\n",
      "|[0.7821901476482623,1.0637332452112878,-0.9537392522076718,0.10662930640777186,-0.16412363443663278,-0.6467992883685725,1.0076983318480472,-1.0093859238780445,1.0076983318480472,-1.417283853928607,-1.602990107194878,-1.5645767108656645,0.4982944848043624,0.0,-1.0076983318480472]   |\n",
      "|[0.8871649369921029,1.3005944778918315,-0.9537392522076718,0.37235625135323824,0.41110325416017535,-0.6467992883685725,1.0076983318480472,-1.0093859238780445,1.0076983318480472,-1.417283853928607,-1.602990107194878,-1.450979381747133,0.9977030992561384,0.0,-1.0076983318480472]     |\n",
      "|[-0.6289709491025103,-0.31034727931499806,-0.9537392522076718,0.8732441475769743,-0.5551898737505344,-0.6467992883685725,1.0076983318480472,-1.0093859238780445,1.0076983318480472,-1.417283853928607,-1.602990107194878,-1.3373820526286013,1.4971117137079144,0.0,-1.0076983318480472]  |\n",
      "|[-0.31704586076652647,0.07776269230613347,-0.9537392522076718,0.8269021571783216,0.003161736226724499,-0.6467992883685725,1.0076983318480472,-1.0093859238780445,1.0076983318480472,-1.417283853928607,-1.602990107194878,-1.2237847235100696,-1.4993399730027417,0.0,-1.0076983318480472]|\n",
      "|[1.2350813816745463,1.7400719457569367,-0.9537392522076718,0.48476022806486413,2.133115381120263,-0.6467992883685725,1.0076983318480472,-1.0093859238780445,1.0076983318480472,-1.417283853928607,-1.602990107194878,-1.1101873943915381,-0.9999313585509657,0.0,-1.0076983318480472]     |\n",
      "+------------------------------------------------------------------------------------------------------------------------------------------------------------------------------------------------------------------------------------------------------------------------------------------+\n",
      "only showing top 5 rows\n",
      "\n"
     ]
    }
   ],
   "execution_count": 263
  },
  {
   "cell_type": "markdown",
   "id": "e6b267da",
   "metadata": {},
   "source": [
    "<div style=\"background-color:#add8e6; height:60px; border-radius:10px; text-align:center; padding-top:5px;\">\n",
    "  <strong style=\"color:#003366; font-size: 30px\">Machine Learning mit Spark MLlib</strong>\n",
    "</div>\n"
   ]
  },
  {
   "cell_type": "markdown",
   "id": "757366c1",
   "metadata": {},
   "source": [
    "## ANomalien entdecken\n",
    "Mittels k-Means probieren wir, ob wir irgendwelche Anomalien entdecken können."
   ]
  },
  {
   "cell_type": "code",
   "id": "f3808a12",
   "metadata": {
    "ExecuteTime": {
     "end_time": "2025-06-23T14:57:23.047905Z",
     "start_time": "2025-06-23T14:57:21.621200Z"
    }
   },
   "source": [
    "from pyspark.ml.clustering import KMeans\n",
    "\n",
    "kmeans = KMeans(featuresCol=\"scaledFeatures\", predictionCol=\"cluster\", k=4, seed=42)\n",
    "model = kmeans.fit(df_scaled)\n",
    "df_clustered = model.transform(df_scaled)\n",
    "\n",
    "#wir clustern mit k-Means"
   ],
   "outputs": [],
   "execution_count": 264
  },
  {
   "cell_type": "code",
   "id": "32840ed9",
   "metadata": {
    "ExecuteTime": {
     "end_time": "2025-06-23T14:57:23.110843Z",
     "start_time": "2025-06-23T14:57:23.065970Z"
    }
   },
   "source": [
    "import numpy as np\n",
    "from pyspark.sql.functions import udf\n",
    "from pyspark.ml.linalg import Vectors\n",
    "\n",
    "#hier messen wir die Distanz der Punkte zur Cluster-Mitte\n",
    "\n",
    "centers = model.clusterCenters()\n",
    "\n",
    "def distance_from_center(vec, cluster_id):\n",
    "    return float(np.linalg.norm(vec.toArray() - centers[cluster_id]))\n",
    "\n",
    "distance_udf = udf(distance_from_center)\n",
    "\n",
    "df_clustered = df_clustered.withColumn(\"distance_to_center\", distance_udf(\"scaledFeatures\", \"cluster\"))\n"
   ],
   "outputs": [],
   "execution_count": 265
  },
  {
   "cell_type": "code",
   "id": "d2b3e337",
   "metadata": {
    "ExecuteTime": {
     "end_time": "2025-06-23T14:57:24.465317Z",
     "start_time": "2025-06-23T14:57:23.120928Z"
    }
   },
   "source": [
    "#wir sortieren nach Distanz zur Mitte, hier also zB die obersten 10 auffälligsten Zeilen\n",
    "df_sorted = df_clustered.orderBy(col(\"distance_to_center\").desc())\n",
    "df_sorted.select(\"distance_to_center\", \"cluster\", \"features\").show(10, truncate=False)\n"
   ],
   "outputs": [
    {
     "name": "stdout",
     "output_type": "stream",
     "text": [
      "+------------------+-------+---------------------------------------------------------------------------+\n",
      "|distance_to_center|cluster|features                                                                   |\n",
      "+------------------+-------+---------------------------------------------------------------------------+\n",
      "|9.75569785932399  |1      |[26.55,73.35,0.0,31.93,66.79,0.0,1.0,0.0,1.0,2021.0,2.0,24.0,4.0,0.0,0.0]  |\n",
      "|8.864911148316319 |3      |[76.09,28.0,37.95,0.0,53.3,38.05,0.0,1.0,0.0,2021.0,2.0,25.0,5.0,0.0,1.0]  |\n",
      "|8.764817141797888 |3      |[75.77,26.36,39.45,0.0,58.43,37.04,0.0,1.0,0.0,2021.0,2.0,24.0,4.0,0.0,1.0]|\n",
      "|8.344757933024615 |3      |[31.88,39.21,0.0,28.62,99.52,0.0,1.0,0.0,1.0,2020.0,1.0,25.0,7.0,0.0,0.0]  |\n",
      "|8.152264209061938 |1      |[24.53,33.93,0.0,25.41,112.37,0.0,1.0,0.0,1.0,2021.0,11.0,11.0,5.0,0.0,0.0]|\n",
      "|7.822786392102805 |1      |[44.65,50.69,0.0,32.87,23.84,0.0,1.0,0.0,1.0,2023.0,3.0,4.0,7.0,0.0,0.0]   |\n",
      "|7.821047755728676 |3      |[67.66,19.09,51.02,0.0,24.08,8.9,0.0,1.0,0.0,2024.0,4.0,8.0,2.0,0.0,1.0]   |\n",
      "|7.753883039453963 |1      |[14.78,23.98,0.0,26.79,114.46,0.0,1.0,0.0,1.0,2020.0,12.0,15.0,3.0,0.0,0.0]|\n",
      "|7.65960679723715  |3      |[62.58,18.45,47.8,0.0,11.04,3.1,0.0,1.0,0.0,2024.0,3.0,29.0,6.0,0.0,1.0]   |\n",
      "|7.610632831200802 |1      |[43.06,44.61,0.0,29.49,55.58,0.0,1.0,0.0,1.0,2022.0,1.0,15.0,7.0,0.0,0.0]  |\n",
      "+------------------+-------+---------------------------------------------------------------------------+\n",
      "only showing top 10 rows\n",
      "\n"
     ]
    }
   ],
   "execution_count": 266
  },
  {
   "cell_type": "markdown",
   "id": "ec295a26",
   "metadata": {},
   "source": [
    "## Korrelationen in Entwicklung\n",
    "Mit der Pearson-Korrelation können wir schauen, ob es irgendwelche ABhängikeiten zwischen gewissen Features gibt. Entwickeln sich zB Feature 1 und 2 gemeinsam...? mit einer Pearson-Korrelations-Matrix lässt sich messen, wie zwei Variablen im VErhältnis sich bewegen.\n",
    "<br>\n",
    "Hohe absolute Werte (nahe bei 1) gehören zusammen. Negative Korrelationen hingegen können auf kompensierendes Verhalten hindeuten."
   ]
  },
  {
   "cell_type": "code",
   "id": "6aac0336",
   "metadata": {
    "ExecuteTime": {
     "end_time": "2025-06-23T14:57:24.697382Z",
     "start_time": "2025-06-23T14:57:24.492266Z"
    }
   },
   "source": [
    "from pyspark.ml.stat import Correlation\n",
    "correlation_matrix = Correlation.corr(df_scaled, \"scaledFeatures\") #berechnen der Pearson-Matrix\n"
   ],
   "outputs": [
    {
     "name": "stderr",
     "output_type": "stream",
     "text": [
      "C:\\Users\\lhenz\\AppData\\Local\\Packages\\PythonSoftwareFoundation.Python.3.9_qbz5n2kfra8p0\\LocalCache\\local-packages\\Python39\\site-packages\\pyspark\\sql\\context.py:125: FutureWarning: Deprecated in 3.0.0. Use SparkSession.builder.getOrCreate() instead.\n",
      "  warnings.warn(\n"
     ]
    }
   ],
   "execution_count": 267
  },
  {
   "cell_type": "code",
   "id": "7b57d2ab",
   "metadata": {
    "scrolled": false,
    "ExecuteTime": {
     "end_time": "2025-06-23T14:57:24.945993Z",
     "start_time": "2025-06-23T14:57:24.706495Z"
    }
   },
   "source": [
    "#Hier die Variante zusätzlich mit Visualisierung\n",
    "matrix = Correlation.corr(df_scaled, \"scaledFeatures\").head()[0]\n",
    "\n",
    "# zu numpy array\n",
    "corr_array = matrix.toArray()\n",
    "\n",
    "feature_names = [\"PM10\", \"PM2_5\", \"Ozon\", \"CO\", \"NO2\", \"NO\", \"Ozon_missing\", \"CO_missing\", \"NO_missing\", \"year\", \"month\", \"day\", \"weekday\", \"hour\", \"stadt\"]\n",
    "\n",
    "corr_df = pd.DataFrame(corr_array, index=feature_names, columns=feature_names)\n",
    "\n",
    "# visualisieren\n",
    "print(corr_df.round(2))\n"
   ],
   "outputs": [
    {
     "name": "stdout",
     "output_type": "stream",
     "text": [
      "              PM10  PM2_5  Ozon    CO   NO2    NO  Ozon_missing  CO_missing  \\\n",
      "PM10          1.00   0.60  0.26 -0.24  0.50  0.33         -0.24        0.24   \n",
      "PM2_5         0.60   1.00 -0.43  0.43  0.20 -0.19          0.45       -0.45   \n",
      "Ozon          0.26  -0.43  1.00 -0.89  0.37  0.56         -0.95        0.94   \n",
      "CO           -0.24   0.43 -0.89  1.00 -0.46 -0.60          0.94       -0.94   \n",
      "NO2           0.50   0.20  0.37 -0.46  1.00  0.59         -0.38        0.38   \n",
      "NO            0.33  -0.19  0.56 -0.60  0.59  1.00         -0.64        0.64   \n",
      "Ozon_missing -0.24   0.45 -0.95  0.94 -0.38 -0.64          1.00       -1.00   \n",
      "CO_missing    0.24  -0.45  0.94 -0.94  0.38  0.64         -1.00        1.00   \n",
      "NO_missing   -0.24   0.45 -0.95  0.94 -0.38 -0.64          1.00       -1.00   \n",
      "year         -0.10  -0.12 -0.02 -0.01 -0.19 -0.11         -0.00        0.00   \n",
      "month        -0.12  -0.09 -0.08 -0.07  0.00  0.04         -0.01        0.01   \n",
      "day           0.01   0.01  0.01  0.01  0.01  0.01         -0.00       -0.00   \n",
      "weekday       0.05   0.06  0.01  0.01  0.06  0.03          0.00       -0.00   \n",
      "hour           NaN    NaN   NaN   NaN   NaN   NaN           NaN         NaN   \n",
      "stadt         0.24  -0.45  0.95 -0.94  0.38  0.64         -1.00        1.00   \n",
      "\n",
      "              NO_missing  year  month   day  weekday  hour  stadt  \n",
      "PM10               -0.24 -0.10  -0.12  0.01     0.05   NaN   0.24  \n",
      "PM2_5               0.45 -0.12  -0.09  0.01     0.06   NaN  -0.45  \n",
      "Ozon               -0.95 -0.02  -0.08  0.01     0.01   NaN   0.95  \n",
      "CO                  0.94 -0.01  -0.07  0.01     0.01   NaN  -0.94  \n",
      "NO2                -0.38 -0.19   0.00  0.01     0.06   NaN   0.38  \n",
      "NO                 -0.64 -0.11   0.04  0.01     0.03   NaN   0.64  \n",
      "Ozon_missing        1.00 -0.00  -0.01 -0.00     0.00   NaN  -1.00  \n",
      "CO_missing         -1.00  0.00   0.01 -0.00    -0.00   NaN   1.00  \n",
      "NO_missing          1.00 -0.00  -0.01 -0.00     0.00   NaN  -1.00  \n",
      "year               -0.00  1.00   0.00 -0.00    -0.00   NaN   0.00  \n",
      "month              -0.01  0.00   1.00  0.01     0.01   NaN   0.01  \n",
      "day                -0.00 -0.00   0.01  1.00    -0.00   NaN   0.00  \n",
      "weekday             0.00 -0.00   0.01 -0.00     1.00   NaN  -0.00  \n",
      "hour                 NaN   NaN    NaN   NaN      NaN   1.0    NaN  \n",
      "stadt              -1.00  0.00   0.01  0.00    -0.00   NaN   1.00  \n"
     ]
    }
   ],
   "execution_count": 268
  },
  {
   "cell_type": "markdown",
   "id": "69248acd",
   "metadata": {},
   "source": [
    "### Interpretationsmöglichkeiten der Pearson-Matrix\n",
    "\n",
    "Bei Werten, die nahe bei 1.0 sind, ist von einer starken Korrelation auszugehen. In gewissen fällen ist das auch erwartbar. So haben die PM10 und PM2_5 Spalten eher hohe Werte, die sie miteinander erreichen, da sie durch ähnliche Umweltbedingungen entstehen bzw. miteinander in enger Beziehung stehen."
   ]
  },
  {
   "cell_type": "markdown",
   "id": "ff5f186a",
   "metadata": {},
   "source": [
    "Cluster als interessante Visualisierung..."
   ]
  },
  {
   "cell_type": "code",
   "id": "01573d1f",
   "metadata": {
    "ExecuteTime": {
     "end_time": "2025-06-23T14:57:25.132342Z",
     "start_time": "2025-06-23T14:57:24.956993Z"
    }
   },
   "source": [
    "df_clustered.groupBy(\"cluster\").count().show()\n",
    "#wir können uns die gebildeten Cluster ansehen"
   ],
   "outputs": [
    {
     "name": "stdout",
     "output_type": "stream",
     "text": [
      "+-------+-----+\n",
      "|cluster|count|\n",
      "+-------+-----+\n",
      "|      1| 1777|\n",
      "|      3|  344|\n",
      "|      2|  762|\n",
      "|      0|  703|\n",
      "+-------+-----+\n",
      "\n"
     ]
    }
   ],
   "execution_count": 269
  },
  {
   "cell_type": "markdown",
   "id": "1813d9b2",
   "metadata": {},
   "source": [
    "## Wir sehen uns die Cluster mal kurz an..."
   ]
  },
  {
   "cell_type": "code",
   "id": "45820d79",
   "metadata": {
    "ExecuteTime": {
     "end_time": "2025-06-23T14:57:25.301612Z",
     "start_time": "2025-06-23T14:57:25.150342Z"
    }
   },
   "source": [
    "cluster_counts = df_clustered.groupBy(\"cluster\").count().toPandas()\n",
    "#kurz in Panda-Dataframe umwandeln für Visualisierung nachher"
   ],
   "outputs": [],
   "execution_count": 270
  },
  {
   "cell_type": "code",
   "id": "0103574e",
   "metadata": {
    "ExecuteTime": {
     "end_time": "2025-06-23T14:57:25.393491Z",
     "start_time": "2025-06-23T14:57:25.311771Z"
    }
   },
   "source": [
    "import matplotlib.pyplot as plt\n",
    "\n",
    "plt.figure(figsize=(6,4))\n",
    "plt.bar(cluster_counts[\"cluster\"], cluster_counts[\"count\"], color=\"lightblue\")\n",
    "plt.xlabel(\"Cluster ID\")\n",
    "plt.ylabel(\"Anzahl\")\n",
    "plt.title(\"Verteilung Clsstergrössen\")\n",
    "plt.xticks(cluster_counts[\"cluster\"])\n",
    "plt.show()\n"
   ],
   "outputs": [
    {
     "data": {
      "text/plain": [
       "<Figure size 600x400 with 1 Axes>"
      ],
      "image/png": "[encoded data removed]"
     },
     "metadata": {},
     "output_type": "display_data"
    }
   ],
   "execution_count": 271
  },
  {
   "cell_type": "code",
   "id": "5ca0f78d",
   "metadata": {
    "ExecuteTime": {
     "end_time": "2025-06-23T14:57:25.457295Z",
     "start_time": "2025-06-23T14:57:25.403493Z"
    }
   },
   "source": [
    "plt.pie(cluster_counts[\"count\"], labels=cluster_counts[\"cluster\"], autopct='%1.1f%%', startangle=90)\n",
    "plt.title(\"Verhältnisse, Kuchendiagr\")\n",
    "plt.axis(\"equal\")\n",
    "plt.show()\n"
   ],
   "outputs": [
    {
     "data": {
      "text/plain": [
       "<Figure size 640x480 with 1 Axes>"
      ],
      "image/png": "[encoded data removed]"
     },
     "metadata": {},
     "output_type": "display_data"
    }
   ],
   "execution_count": 272
  },
  {
   "cell_type": "markdown",
   "id": "48124afe",
   "metadata": {},
   "source": [
    "Um jedoch zu verstehen, was wir hier eigentlich sehen und was die Cluster bedeuten, müssen wir uns näher damit auseinandersetzen."
   ]
  },
  {
   "cell_type": "code",
   "id": "308aceec",
   "metadata": {
    "ExecuteTime": {
     "end_time": "2025-06-23T14:57:25.720835Z",
     "start_time": "2025-06-23T14:57:25.470294Z"
    }
   },
   "source": [
    "df_clustered.groupBy(\"cluster\").avg(\"PM10\", \"PM2_5\", \"Ozon\", \"CO\", \"NO2\", \"NO\", \"Ozon_missing\", \"CO_missing\", \"NO_missing\", \"year\", \"month\", \"day\", \"weekday\", \"hour\").show()\n",
    "#zB können wir die durcschn Werte in einem Cluster ermitteln, um zu sehen, ob uns da etwas auffällt"
   ],
   "outputs": [
    {
     "name": "stdout",
     "output_type": "stream",
     "text": [
      "+-------+------------------+------------------+------------------+-------------------+------------------+------------------+--------------------+--------------------+--------------------+------------------+-----------------+------------------+------------------+---------+\n",
      "|cluster|         avg(PM10)|        avg(PM2_5)|         avg(Ozon)|            avg(CO)|          avg(NO2)|           avg(NO)|   avg(Ozon_missing)|     avg(CO_missing)|     avg(NO_missing)|         avg(year)|       avg(month)|          avg(day)|      avg(weekday)|avg(hour)|\n",
      "+-------+------------------+------------------+------------------+-------------------+------------------+------------------+--------------------+--------------------+--------------------+------------------+-----------------+------------------+------------------+---------+\n",
      "|      1| 9.360016882386049|14.128030388294862|               0.0|    38.208069780529|15.875998874507557|               0.0|                 1.0|0.001688238604389...|                 1.0|2021.9966235227912| 6.47495779403489|15.771525042205965|4.0011254924029265|      0.0|\n",
      "|      3|20.897383720930197|12.661308139534885| 37.41412790697673|0.14151162790697674| 42.14947674418605|25.191133720930207|0.005813953488372093|  0.9941860465116279|0.005813953488372093|2021.2587209302326|5.930232558139535|             15.75| 3.988372093023256|      0.0|\n",
      "|      2| 11.23681102362204| 7.146876640419944| 38.06552493438319|                0.0| 23.79301837270341| 9.395866141732277|                 0.0|                 1.0|                 0.0|2022.1377952755906|6.937007874015748|16.019685039370078|5.7493438320209975|      0.0|\n",
      "|      0|10.015803698435283| 6.329274537695582|37.792489331436705|                0.0|21.120938833570403| 8.140924608819347|                 0.0|                 1.0|                 0.0| 2022.217638691323|6.391180654338549|15.520625889046942|2.1180654338549076|      0.0|\n",
      "+-------+------------------+------------------+------------------+-------------------+------------------+------------------+--------------------+--------------------+--------------------+------------------+-----------------+------------------+------------------+---------+\n",
      "\n"
     ]
    }
   ],
   "execution_count": 273
  },
  {
   "cell_type": "markdown",
   "id": "3d3ae666",
   "metadata": {},
   "source": [
    "## Prognosen und künftige Entwicklungen\n",
    "Wenn wir einen Blick in die Zukunft werfen und herausfinden wollen, welchen Wert es für eine bestimmte SPalte morgen geben wird, können wir das wie folgt:\n",
    "<br>\n",
    "Wir müssen uns für einen Ziel-Wert entscheiden. Den Ziel-Wert wollen wir schlussendlich dann vorhersagen können.\n",
    "<br>\n",
    "Da wir bereits unseren Feature-Vector haben, können wir direkt zum Schritt mit der Aufteilung von Test-Trainings-Daten gehen."
   ]
  },
  {
   "cell_type": "code",
   "id": "04f66618",
   "metadata": {
    "ExecuteTime": {
     "end_time": "2025-06-23T14:57:25.752133Z",
     "start_time": "2025-06-23T14:57:25.730437Z"
    }
   },
   "source": [
    "#Aufteilung der Daten in Trainings- und Test-Daten, in Prozent % \n",
    "train, test = df_clustered.randomSplit([0.8, 0.2], seed=42)\n"
   ],
   "outputs": [],
   "execution_count": 274
  },
  {
   "cell_type": "code",
   "id": "ff6a9adc",
   "metadata": {
    "ExecuteTime": {
     "end_time": "2025-06-23T14:57:28.605169Z",
     "start_time": "2025-06-23T14:57:25.760070Z"
    }
   },
   "source": [
    "from pyspark.ml.regression import LinearRegression\n",
    "\n",
    "lr = LinearRegression(featuresCol=\"scaledFeatures\", labelCol=\"PM10\")\n",
    "model = lr.fit(train)\n",
    "#wir wählen unser gesuchtes Feld labelCol und wenden linregression auf die Features an"
   ],
   "outputs": [],
   "execution_count": 275
  },
  {
   "cell_type": "code",
   "id": "8b1d14f6",
   "metadata": {
    "ExecuteTime": {
     "end_time": "2025-06-23T14:57:30.166443Z",
     "start_time": "2025-06-23T14:57:28.621173Z"
    }
   },
   "source": [
    "predictions = model.transform(test)\n",
    "predictions.select(\"PM10\", \"prediction\").show(10)\n",
    "#hier machen wir mal ein paar Vorhersagen und sehen, wie korrekt diese waren\n",
    "#links in der TAbelle die tatscählichen Werte und rechts die vorhergesagten"
   ],
   "outputs": [
    {
     "name": "stdout",
     "output_type": "stream",
     "text": [
      "+-----+------------------+\n",
      "| PM10|        prediction|\n",
      "+-----+------------------+\n",
      "|10.88|10.880227506804665|\n",
      "| 9.94|  9.94024823788832|\n",
      "|14.15|14.150245712984368|\n",
      "|16.96| 16.95995756298822|\n",
      "| 9.08| 9.080035110457807|\n",
      "|17.77|17.769923570590468|\n",
      "|10.12|10.119978331957347|\n",
      "| 7.79| 7.790068778553648|\n",
      "|31.88|31.879976397726875|\n",
      "|22.91| 22.91031323667192|\n",
      "+-----+------------------+\n",
      "only showing top 10 rows\n",
      "\n"
     ]
    }
   ],
   "execution_count": 276
  },
  {
   "cell_type": "code",
   "id": "07ebc3dd",
   "metadata": {
    "ExecuteTime": {
     "end_time": "2025-06-23T14:57:31.616517Z",
     "start_time": "2025-06-23T14:57:30.183440Z"
    }
   },
   "source": [
    "#Unser Model können wir auch evaluieren\n",
    "#Mit dem sog. root mean squared error, rmse, finden wir heraus, wie korrekt die Vorhersagen sind\n",
    "from pyspark.ml.evaluation import RegressionEvaluator\n",
    "\n",
    "evaluator = RegressionEvaluator(labelCol=\"PM10\", predictionCol=\"prediction\", metricName=\"rmse\")\n",
    "rmse = evaluator.evaluate(predictions)\n",
    "print(\"Root Mean Squared Error =\", rmse)\n",
    "#beim rmse gilt: je kleiner desto besser"
   ],
   "outputs": [
    {
     "name": "stdout",
     "output_type": "stream",
     "text": [
      "Root Mean Squared Error = 0.0001450127708130888\n"
     ]
    }
   ],
   "execution_count": 277
  },
  {
   "cell_type": "markdown",
   "id": "1f740599",
   "metadata": {},
   "source": [
    "Mehr zu Evaluationsmethoden und dem RMSE finden sich hier: https://spark.apache.org/docs/4.0.0/mllib-evaluation-metrics.html\n",
    "<br>\n",
    "Mit dem RMSE können generell Regressionsmodelle evaluiert werden.Damit wird die Unterschiedsgrösse von vorhergesagten und tatsächlichen Werten berechnet (grosse Unterschiede werden bestraft bzw. der RMSE reagiert stark auf Outliers).\n",
    "<br>\n",
    "Der RMSE ist immer positiv und ein Wert von 0 würde heissen, dass das Modell perfekte Predictions liefert. Im Allgemeinen gilt, dass ein niedriger RMSE besser ist.\n",
    "<br>\n",
    "Weiteres auch auf Wikipedia: https://en.wikipedia.org/wiki/Root_mean_square_deviation\n",
    "<br>\n"
   ]
  },
  {
   "cell_type": "markdown",
   "id": "beda0ac2",
   "metadata": {},
   "source": [
    "### Fehlende WErte vorhersagen\n",
    "Ein für uns potenziell interessanter CAse wäre das ERmitteln und VOrhesagen von fehlenden Werten. Diese werden vielleicht durch äussere Einflüsse (Wetterphänomene) oder durch internes Versagen (Sensor versagt, kaputt usw.) verursacht.\n",
    "<br>\n",
    "Wir suchen usn daher als Zielwert einen aus, der dafür bekannt ist, NULL-Werte zu produzieren. Aus diesem Grund haben wir drei _missing-COlumns erstellt, an denen wir uns auch hierzu orientieren können.\n",
    "<br>\n",
    "Resltat soll also eine Vorhersage darüber sein, ob der besagte Wert wieder NULL seinw ird oder nicht."
   ]
  },
  {
   "cell_type": "code",
   "id": "97aaee0e",
   "metadata": {
    "ExecuteTime": {
     "end_time": "2025-06-23T14:57:31.663319Z",
     "start_time": "2025-06-23T14:57:31.634031Z"
    }
   },
   "source": [
    "target_col = \"CO_missing\" #hier definieren wir die gesuchte Spalte, diese enthält 1 oder 0 als Werte zur Aussage darüber, ob es in der eigentlichen Spalte dazu Inhalte gab\n",
    "train, test = df_clustered.randomSplit([0.8, 0.2], seed=42) #wir teilen wieder in Test Trianign auf"
   ],
   "outputs": [],
   "execution_count": 278
  },
  {
   "cell_type": "code",
   "id": "721de021",
   "metadata": {
    "ExecuteTime": {
     "end_time": "2025-06-23T14:57:38.350580Z",
     "start_time": "2025-06-23T14:57:31.671236Z"
    }
   },
   "source": [
    "from pyspark.ml.classification import RandomForestClassifier\n",
    "\n",
    "#wir verwenden randomforest und bauen uns in diesem Fall, numtree, 50 Entscheidungsbäume\n",
    "\n",
    "\n",
    "rf = RandomForestClassifier(labelCol=\"CO_missing\", featuresCol=\"scaledFeatures\", predictionCol=\"predicted\", numTrees=50)\n",
    "model = rf.fit(train)\n"
   ],
   "outputs": [],
   "execution_count": 279
  },
  {
   "cell_type": "code",
   "id": "54cb198a",
   "metadata": {
    "ExecuteTime": {
     "end_time": "2025-06-23T14:57:39.575871Z",
     "start_time": "2025-06-23T14:57:38.362581Z"
    }
   },
   "source": [
    "from pyspark.ml.evaluation import BinaryClassificationEvaluator\n",
    "\n",
    "predictions = model.transform(test)\n",
    "\n",
    "#wir evaluieren das Model\n",
    "#die Resultate bedeuten:\n",
    "#0.5 = willkürliches Raten\n",
    "#1 = perfekte Vorhersage\n",
    "\n",
    "evaluator = BinaryClassificationEvaluator(labelCol=\"CO_missing\", rawPredictionCol=\"rawPrediction\", metricName=\"areaUnderROC\")\n",
    "roc_auc = evaluator.evaluate(predictions)\n",
    "print(f\"ROC AUC = {roc_auc:.3f}\")\n"
   ],
   "outputs": [
    {
     "name": "stdout",
     "output_type": "stream",
     "text": [
      "ROC AUC = 1.000\n"
     ]
    }
   ],
   "execution_count": 280
  },
  {
   "cell_type": "code",
   "id": "24c41892",
   "metadata": {
    "ExecuteTime": {
     "end_time": "2025-06-23T14:57:39.607522Z",
     "start_time": "2025-06-23T14:57:39.586889Z"
    }
   },
   "source": [
    "import pandas as pd\n",
    "\n",
    "#wir können uns auch ansehen, welche Features das Model hauptsächlich berücksichtigt hat\n",
    "#eine hohe Wichtigkeit deutet also daraufhin, dass es einen grossen Einfluss auf das Fehlen des Features hat\n",
    "#das kann also eine Aussage darüber ermöglichen, wieso zB der Sensor ausfällt\n",
    "\n",
    "imp = model.featureImportances\n",
    "feature_importance = pd.DataFrame({\n",
    "    \"feature\": feature_names,\n",
    "    \"importance\": imp.toArray()\n",
    "}).sort_values(\"importance\", ascending=False)\n",
    "print(feature_importance)\n"
   ],
   "outputs": [
    {
     "name": "stdout",
     "output_type": "stream",
     "text": [
      "         feature    importance\n",
      "7     CO_missing  3.209827e-01\n",
      "3             CO  1.968464e-01\n",
      "5             NO  1.420168e-01\n",
      "6   Ozon_missing  1.194841e-01\n",
      "8     NO_missing  9.975393e-02\n",
      "14         stadt  7.991881e-02\n",
      "2           Ozon  3.967297e-02\n",
      "0           PM10  1.315924e-03\n",
      "10         month  6.052250e-06\n",
      "12       weekday  1.925279e-06\n",
      "9           year  3.393643e-07\n",
      "11           day  6.227992e-08\n",
      "1          PM2_5  0.000000e+00\n",
      "4            NO2  0.000000e+00\n",
      "13          hour  0.000000e+00\n"
     ]
    }
   ],
   "execution_count": 281
  },
  {
   "cell_type": "code",
   "id": "d021982c",
   "metadata": {
    "ExecuteTime": {
     "end_time": "2025-06-23T14:57:39.746324Z",
     "start_time": "2025-06-23T14:57:39.618522Z"
    }
   },
   "source": [
    "import matplotlib.pyplot as plt\n",
    "\n",
    "plt.figure(figsize=(8, 5))\n",
    "plt.barh(feature_importance[\"feature\"], feature_importance[\"importance\"], color=\"lightgreen\")\n",
    "plt.gca().invert_yaxis()\n",
    "plt.title(\"Feature-Relevanz\")\n",
    "plt.xlabel(\"Relevanz\")\n",
    "plt.tight_layout()\n",
    "plt.show()\n",
    "\n",
    "#das Ganze können wir auch noch visualisieren, um die Interpretation ggf zu vereinfachen"
   ],
   "outputs": [
    {
     "data": {
      "text/plain": [
       "<Figure size 800x500 with 1 Axes>"
      ],
      "image/png": "[encoded data removed]"
     },
     "metadata": {},
     "output_type": "display_data"
    }
   ],
   "execution_count": 282
  },
  {
   "cell_type": "markdown",
   "id": "abfc8d97",
   "metadata": {},
   "source": [
    "### Fenster als zeitlicher Fokus\n",
    "Fenster erlauben es, einfacher Trends und Muster zu erkennen, da es einfacher wird, diese zu vergleichen."
   ]
  },
  {
   "cell_type": "code",
   "id": "24c25c46",
   "metadata": {
    "ExecuteTime": {
     "end_time": "2025-06-23T14:57:39.792165Z",
     "start_time": "2025-06-23T14:57:39.753390Z"
    }
   },
   "source": [
    "from pyspark.sql.functions import avg\n",
    "from pyspark.sql.window import Window\n",
    "\n",
    "window_spec = Window.orderBy(\"date\").rowsBetween(-2, 0)\n",
    "\n",
    "df_timecluster_windows = df_clustered.withColumn(\"PM10_3hr_avg\", avg(\"PM10\").over(window_spec))\n",
    "\n",
    "#so haben wir ein kurzfristige PM10-Trend-Auswertung\n",
    "#avg ist nicht Pflicht, man kann dasselbe auch mit anderen Metriken wie min, max, sum, rank, usw machen\n"
   ],
   "outputs": [],
   "execution_count": 283
  },
  {
   "cell_type": "code",
   "id": "13b2c17f",
   "metadata": {
    "ExecuteTime": {
     "end_time": "2025-06-23T14:57:44.834707Z",
     "start_time": "2025-06-23T14:57:39.799177Z"
    }
   },
   "source": [
    "#Visualisierung hilft beim ERkennen von zB spontnane Ausreissern, rhytmischen zeitlichen Mustern, Outliern usw\n",
    "import matplotlib.pyplot as plt\n",
    "\n",
    "df_plot = df_timecluster_windows.select(\"date\", \"PM10\", \"PM10_3hr_avg\").toPandas()\n",
    "\n",
    "plt.figure(figsize=(12, 5))\n",
    "plt.plot(df_plot[\"date\"], df_plot[\"PM10\"], label=\"PM10\", alpha=0.5)\n",
    "plt.plot(df_plot[\"date\"], df_plot[\"PM10_3hr_avg\"], label=\"3-Day Avg\", linewidth=2)\n",
    "plt.legend()\n",
    "plt.title(\"PM10 and 3-Day Moving Average Over Time\")\n",
    "plt.xlabel(\"Date\")\n",
    "plt.ylabel(\"µg/m³\")\n",
    "plt.tight_layout()\n",
    "plt.show()\n"
   ],
   "outputs": [
    {
     "data": {
      "text/plain": [
       "<Figure size 1200x500 with 1 Axes>"
      ],
      "image/png": "[encoded data removed]"
     },
     "metadata": {},
     "output_type": "display_data"
    }
   ],
   "execution_count": 284
  },
  {
   "metadata": {
    "ExecuteTime": {
     "end_time": "2025-06-23T14:57:46.984882Z",
     "start_time": "2025-06-23T14:57:44.848761Z"
    }
   },
   "cell_type": "code",
   "source": [
    "df_save = df_timecluster_windows.toPandas()\n",
    "\n",
    "df_save.to_csv(\"data/ML/ML_Data.csv\")"
   ],
   "id": "fa2426cea85de3ed",
   "outputs": [],
   "execution_count": 285
  }
 ],
 "metadata": {
  "kernelspec": {
   "display_name": "Python 3 (ipykernel)",
   "language": "python",
   "name": "python3"
  },
  "language_info": {
   "codemirror_mode": {
    "name": "ipython",
    "version": 3
   },
   "file_extension": ".py",
   "mimetype": "text/x-python",
   "name": "python",
   "nbconvert_exporter": "python",
   "pygments_lexer": "ipython3",
   "version": "3.11.4"
  }
 },
 "nbformat": 4,
 "nbformat_minor": 5
}
