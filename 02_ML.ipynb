{
 "cells": [
  {
   "cell_type": "code",
   "id": "dfe0d887",
   "metadata": {
    "ExecuteTime": {
     "end_time": "2025-06-22T17:15:08.857555Z",
     "start_time": "2025-06-22T17:15:08.852591Z"
    }
   },
   "source": [
    "from pyspark.sql import SparkSession\n",
    "\n",
    "spark = SparkSession.builder \\\n",
    "    .appName(\"Wetter- und Luftqualitätsdaten\") \\\n",
    "    .getOrCreate()"
   ],
   "outputs": [],
   "execution_count": 171
  },
  {
   "cell_type": "markdown",
   "id": "e70b69dd",
   "metadata": {},
   "source": [
    "<div style=\"background-color:#add8e6; height:50px; border-radius:10px; text-align:center; padding-top:5px;\">\n",
    "  <strong style=\"color:#003366; font-size: 20px;\">Vorbereitung des Machine Learnings</strong>\n",
    "</div>\n"
   ]
  },
  {
   "metadata": {},
   "cell_type": "markdown",
   "source": "",
   "id": "eaa8d11dee24ab70"
  },
  {
   "cell_type": "markdown",
   "id": "04bf655f",
   "metadata": {},
   "source": [
    "# Big Data Leistungsnachweis\n",
    "<br>\n",
    "Wie beeinflusst das Wetter die Luftqualität?“ – Vergleich zwischen Zürich und St. Gallen mit Spark MLlib"
   ]
  },
  {
   "cell_type": "code",
   "id": "0fccce6c",
   "metadata": {
    "ExecuteTime": {
     "end_time": "2025-06-22T17:15:08.887834Z",
     "start_time": "2025-06-22T17:15:08.871792Z"
    }
   },
   "source": [
    "#Kurzes Prüfen, ob man im korrekten Directory unterwegs ist und die Files sichtbar sind\n",
    "import os\n",
    "os.listdir(\".\")  # Liste der Files im Working Directory\n"
   ],
   "outputs": [
    {
     "data": {
      "text/plain": [
       "['.DS_Store',\n",
       " '.git',\n",
       " '.idea',\n",
       " '.ipynb_checkpoints',\n",
       " '.jupyter',\n",
       " '01_LoadData.ipynb',\n",
       " '02_ML.ipynb',\n",
       " '03_Visualisation.ipynb',\n",
       " 'data',\n",
       " 'README.md']"
      ]
     },
     "execution_count": 172,
     "metadata": {},
     "output_type": "execute_result"
    }
   ],
   "execution_count": 172
  },
  {
   "cell_type": "code",
   "id": "8b62da34",
   "metadata": {
    "scrolled": true,
    "ExecuteTime": {
     "end_time": "2025-06-22T17:15:08.919517Z",
     "start_time": "2025-06-22T17:15:08.902793Z"
    }
   },
   "source": [],
   "outputs": [],
   "execution_count": null
  },
  {
   "cell_type": "markdown",
   "id": "90365a2b",
   "metadata": {},
   "source": [
    "## ML Pipelines\n",
    "<br>\n",
    "ML-Pipelines dienen der Reproduzierbarkeit eines ML-Verfahrens (und hilft beim Erstellen einer sauberen Struktur) und bestehen gemäss Spark-Dokumentation (https://spark.apache.org/docs/latest/ml-pipeline.html) aus folgenden Elementen:\n",
    "<br><br>\n",
    "<b>Transformers</b> <br> <br>\n",
    "<b>Estimators</b>\n",
    "<br> <br>\n",
    "Ein Transformer konvertiert DataFrames. Ein \"Feature Transformer\" liest beispielsweise die Daten einer Spalte, mappt diese in eine neue Spalte und gibt als Output das als DataFrame.\n",
    "<br>\n",
    "Ein \"Learning Model\" hingegen lernt aus einem DataFrame und predictet etwas, welches es als DataFrame wiederum dann ausgeben kann.\n",
    "<br>\n",
    "Ein Estimator implementiert eine fit()-Methode, welhe ein DataFrame nimmt und ein Model produziert (=Transformer).\n",
    "<br>\n",
    "<br>\n",
    "Eine Pipeline ist eine Sequenz an Phasen bestehend aus Transformern und Estimatorn. BEim Durchlaufen der \"Stages\" wird ein DataFrame entsprechend verarbeitet."
   ]
  },
  {
   "metadata": {
    "ExecuteTime": {
     "end_time": "2025-06-22T17:15:09.026528Z",
     "start_time": "2025-06-22T17:15:08.927580Z"
    }
   },
   "cell_type": "code",
   "source": [
    "df = spark.read.option(\"header\", True) \\\n",
    "                .option(\"delimiter\", \",\") \\\n",
    "                .csv(\"data/cleaned/cleaned_Data.csv\")\n"
   ],
   "id": "e1c6576012df971e",
   "outputs": [],
   "execution_count": 173
  },
  {
   "metadata": {
    "ExecuteTime": {
     "end_time": "2025-06-22T17:15:09.087624Z",
     "start_time": "2025-06-22T17:15:09.035549Z"
    }
   },
   "cell_type": "code",
   "source": [
    "df = df.withColumnRenamed(\"PM2.5\", \"PM2_5\")\n",
    "df.show()"
   ],
   "id": "cac1e11fb02044d1",
   "outputs": [
    {
     "name": "stdout",
     "output_type": "stream",
     "text": [
      "+----------+--------+-----+-----+----+-----+-----+----+-------------------------------------------+----------------------------------------------+----------------------------------------------+----------------------------------------------+-------------------------------------------------+-------------------------------------------------+-------------------------------------------------+-------------------------------------------+------------------------------------------------------------+----------------------------------------------+---------------------------------------------------+---------------------------------------------------+-------------------------------------------------------------------------------+-----------------------------------+-------------------------------------------+------------------------------------+--------------------------------------------+----------------------------------------------+-----------------------------------------------+-----------------------+-----------------------------------------------------+---------------------------------------+---------------------------------------------------------------+---------------------------+--------------------------------------+-----------------------------+-----------------------------------------------------+------------------------------------------+------------------------+-------------------------+--------------------------+--------------------------+---------------------------------------------------------------+\n",
      "|      date|location| PM10|PM2_5|Ozon|   CO|  NO2|  NO|Air temperature 2 m above ground daily mean|Air temperature 2 m above ground daily maximum|Air temperature 2 m above ground daily minimum|Air temperature at 5 cm above grass daily mean|Air temperature at 5 cm above grass daily maximum|Air temperature at 5 cm above grass daily minimum|Relative air humidity 2 m above ground daily mean|Vapour pressure 2 m above ground daily mean|Atmospheric pressure at barometric altitude (QFE) daily mean|Pressure reduced to sea level (QFF) daily mean|Geopotential height of the 850 hPA level daily mean|Geopotential height of the 700 hPA level daily mean|Pressure reduced to sea level according to standard atmosphere (QNH) daily mean|Wind speed scalar daily mean in m/s|Gust peak (one second) daily maximum in m/s|Wind speed scalar daily mean in km/h|Gust peak (one second) daily maximum in km/h|Gust peak (three seconds) daily maximum in m/s|Gust peak (three seconds) daily maximum in km/h|Foehn index daily value|Precipitation daily total 6 UTC - 6 UTC following day|Precipitation daily total 0 UTC - 0 UTC|Snow depth (automatic measurement) morning measurement at 6 UTC|Global radiation daily mean|Longwave incoming radiation daily mean|Sunshine duration daily total|Sunshine duration in relation to absolute daily total|Reference evaporation from FAO daily total|Cooling Degree Day (CDD)|Wind direction daily mean|Heating degrees (HGT12/20)|Heating degrees (ATD12/12)|Hydrologic registration (hydrologic balance, R-ETS) daily total|\n",
      "+----------+--------+-----+-----+----+-----+-----+----+-------------------------------------------+----------------------------------------------+----------------------------------------------+----------------------------------------------+-------------------------------------------------+-------------------------------------------------+-------------------------------------------------+-------------------------------------------+------------------------------------------------------------+----------------------------------------------+---------------------------------------------------+---------------------------------------------------+-------------------------------------------------------------------------------+-----------------------------------+-------------------------------------------+------------------------------------+--------------------------------------------+----------------------------------------------+-----------------------------------------------+-----------------------+-----------------------------------------------------+---------------------------------------+---------------------------------------------------------------+---------------------------+--------------------------------------+-----------------------------+-----------------------------------------------------+------------------------------------------+------------------------+-------------------------+--------------------------+--------------------------+---------------------------------------------------------------+\n",
      "|2020-01-02|  Zürich|16.21|18.43|null|21.11|18.87|null|                                       -1.2|                                          -0.3|                                          -2.1|                                          -0.6|                                              1.3|                                             -1.6|                                             94.6|                                        5.3|                                                       963.6|                                        1032.8|                                               null|                                               null|                                                                         1029.6|                                1.0|                                        3.8|                                 3.6|                                        13.7|                                           3.6|                                           13.0|                    0.0|                                                  0.0|                                    0.0|                                                           null|                         25|                                   303|                            0|                                                    0|                                       0.2|                     0.0|                      203|                      21.2|                      13.2|                                                            0.0|\n",
      "|2020-01-03|  Zürich|16.91|20.09|null| 26.5|26.71|null|                                        3.0|                                           6.2|                                          -0.9|                                           2.9|                                              8.3|                                             -2.1|                                             87.3|                                        6.6|                                                       961.7|                                        1029.7|                                               null|                                               null|                                                                         1027.7|                                1.8|                                        7.7|                                 6.5|                                        27.7|                                           7.4|                                           26.6|                    0.0|                                                  0.9|                                    0.9|                                                           null|                         50|                                   301|                          143|                                                   31|                                       0.2|                     0.0|                      219|                      17.0|                       9.0|                                                            0.8|\n",
      "|2020-01-04|  Zürich|  6.8|  8.8|null|36.66|13.54|null|                                        4.9|                                           6.9|                                           2.1|                                           4.2|                                              6.3|                                              0.6|                                             80.7|                                        7.0|                                                       965.8|                                        1033.6|                                               null|                                               null|                                                                         1032.0|                                2.5|                                       10.3|                                 9.0|                                        37.1|                                          10.0|                                           36.0|                    0.0|                                                  0.5|                                    0.5|                                                           null|                         19|                                   317|                            0|                                                    0|                                       0.6|                     0.0|                      259|                      15.1|                       7.1|                                                            0.5|\n",
      "|2020-01-05|  Zürich| 8.88|11.52|null|35.72|21.15|null|                                        1.6|                                           5.8|                                          -1.0|                                           0.6|                                              8.2|                                             -2.7|                                             82.7|                                        5.6|                                                       967.8|                                        1036.5|                                               null|                                               null|                                                                         1034.0|                                1.6|                                        6.6|                                 5.8|                                        23.8|                                           6.2|                                           22.3|                    0.0|                                                  0.0|                                    0.0|                                                           null|                         74|                                   248|                          460|                                                  100|                                       0.2|                     0.0|                       54|                      18.4|                      10.4|                                                           -0.2|\n",
      "|2020-01-06|  Zürich|19.23|23.17|null|28.78|50.18|null|                                        0.1|                                           4.2|                                          -2.1|                                          -0.5|                                              7.2|                                             -3.6|                                             91.8|                                        5.6|                                                       962.8|                                        1031.6|                                               null|                                               null|                                                                         1028.8|                                0.8|                                        3.5|                                 2.9|                                        12.6|                                           3.4|                                           12.2|                    0.0|                                                  0.0|                                    0.0|                                                           null|                         55|                                   262|                          257|                                                   56|                                       0.1|                     0.0|                      207|                      19.9|                      11.9|                                                           -0.1|\n",
      "|2020-01-07|  Zürich|14.42|18.19|null|31.55|48.55|null|                                        3.0|                                           5.5|                                          -0.8|                                           2.1|                                              6.8|                                             -2.9|                                             83.9|                                        6.4|                                                       963.7|                                        1031.8|                                               null|                                               null|                                                                         1029.7|                                1.1|                                        6.8|                                 4.0|                                        24.5|                                           6.6|                                           23.8|                    0.0|                                                  0.0|                                    0.0|                                                           null|                         32|                                   291|                           76|                                                   16|                                       0.3|                     0.0|                      243|                      17.0|                       9.0|                                                           -0.1|\n",
      "|2020-01-08|  Zürich|16.96|22.15|null|30.09| 66.7|null|                                        3.1|                                           7.5|                                          -1.1|                                           2.3|                                             10.4|                                             -3.3|                                             81.6|                                        6.1|                                                       963.8|                                        1031.9|                                               null|                                               null|                                                                         1029.8|                                0.6|                                        3.6|                                 2.2|                                        13.0|                                           3.5|                                           12.6|                    0.0|                                                  0.0|                                    0.0|                                                           null|                         60|                                   284|                          268|                                                   58|                                       0.2|                     0.0|                      214|                      16.9|                       8.9|                                                           -0.2|\n",
      "|2020-01-09|  Zürich|10.26|16.46|null| 35.4|46.25|null|                                        6.2|                                          10.6|                                           1.8|                                           4.4|                                             12.4|                                             -0.3|                                             52.9|                                        4.8|                                                       956.8|                                        1023.6|                                               null|                                               null|                                                                         1022.5|                                1.5|                                       14.4|                                 5.4|                                        51.8|                                          13.9|                                           50.0|                    0.0|                                                  0.0|                                    0.0|                                                           null|                         70|                                   274|                          438|                                                   94|                                       0.6|                     0.0|                      211|                      13.8|                       5.8|                                                           -0.5|\n",
      "|2020-01-10|  Zürich| 4.99| 7.11|null|40.12| 9.08|null|                                        7.6|                                          10.3|                                           5.0|                                           7.0|                                             12.4|                                              3.1|                                             65.2|                                        6.8|                                                       958.2|                                        1024.7|                                               null|                                               null|                                                                         1023.9|                                4.2|                                       15.3|                                15.1|                                        55.1|                                          14.9|                                           53.6|                    0.0|                                                  0.0|                                    0.0|                                                           null|                         57|                                   303|                          240|                                                   51|                                       1.2|                     0.0|                      242|                      12.4|                       4.4|                                                           -0.2|\n",
      "|2020-01-11|  Zürich| 9.08|12.15|null|35.56|28.76|null|                                        3.9|                                           6.7|                                           0.1|                                           3.2|                                             10.0|                                             -1.9|                                             86.1|                                        6.9|                                                       965.2|                                        1033.2|                                               null|                                               null|                                                                         1031.3|                                1.4|                                        5.5|                                 5.0|                                        19.8|                                           5.2|                                           18.7|                    0.0|                                                  0.0|                                    0.0|                                                           null|                         46|                                   283|                           82|                                                   17|                                       0.3|                     0.0|                       38|                      16.1|                       8.1|                                                           -0.1|\n",
      "|2020-01-12|  Zürich|18.29|21.64|null|26.52|30.34|null|                                        1.7|                                           5.8|                                          -0.7|                                           1.1|                                              9.0|                                             -2.3|                                             87.8|                                        6.0|                                                       962.1|                                        1030.5|                                               null|                                               null|                                                                         1028.1|                                1.0|                                        4.8|                                 3.6|                                        17.3|                                           4.7|                                           16.9|                    0.0|                                                  0.0|                                    0.0|                                                           null|                         74|                                   262|                          325|                                                   69|                                       0.2|                     0.0|                      225|                      18.3|                      10.3|                                                           -0.1|\n",
      "|2020-01-13|  Zürich|17.77|24.23|null|32.79|82.44|null|                                        1.4|                                           4.9|                                          -0.9|                                           0.4|                                              8.4|                                             -2.8|                                             81.5|                                        5.5|                                                       956.6|                                        1024.6|                                               null|                                               null|                                                                         1022.2|                                0.5|                                        3.1|                                 1.8|                                        11.2|                                           3.0|                                           10.8|                    0.0|                                                  0.0|                                    0.0|                                                           null|                         55|                                   261|                          139|                                                   30|                                       0.2|                     0.0|                      225|                      18.6|                      10.6|                                                           -0.1|\n",
      "|2020-01-14|  Zürich|10.57| 15.7|null|36.08|40.19|null|                                        4.3|                                           9.4|                                          -0.5|                                           2.5|                                             12.3|                                             -2.9|                                             62.9|                                        5.1|                                                       953.4|                                        1020.5|                                               null|                                               null|                                                                         1018.9|                                1.8|                                        8.8|                                 6.5|                                        31.7|                                           8.5|                                           30.6|                    0.0|                                                  0.0|                                    0.0|                                                           null|                         79|                                   260|                          431|                                                   91|                                       0.6|                     0.0|                      208|                      15.7|                       7.7|                                                           -0.4|\n",
      "|2020-01-15|  Zürich| 7.87|12.64|null|39.47|31.24|null|                                        7.0|                                          11.6|                                           1.7|                                           5.3|                                             14.4|                                             -1.1|                                             56.9|                                        5.6|                                                       956.6|                                        1023.1|                                               null|                                               null|                                                                         1022.2|                                2.5|                                       12.7|                                 9.0|                                        45.7|                                          11.6|                                           41.8|                    0.0|                                                  0.0|                                    0.0|                                                           null|                         81|                                   270|                          433|                                                   91|                                       1.0|                     0.0|                      208|                      13.0|                       5.0|                                                           -0.4|\n",
      "|2020-01-16|  Zürich|10.12|16.43|null|38.43|55.71|null|                                        6.2|                                          10.7|                                           2.1|                                           4.8|                                             13.5|                                             -0.8|                                             66.3|                                        6.2|                                                       961.2|                                        1028.3|                                               null|                                               null|                                                                         1027.1|                                1.0|                                        5.6|                                 3.6|                                        20.2|                                           5.5|                                           19.8|                    0.0|                                                  0.0|                                    0.0|                                                           null|                         80|                                   275|                          478|                                                  100|                                       0.4|                     0.0|                      180|                      13.8|                       5.8|                                                           -0.3|\n",
      "|2020-01-17|  Zürich| 9.36|13.59|null|35.58|38.96|null|                                        4.6|                                           8.3|                                           1.2|                                           3.5|                                             11.7|                                             -1.3|                                             81.4|                                        6.9|                                                       956.9|                                        1024.1|                                               null|                                               null|                                                                         1022.6|                                1.9|                                       11.8|                                 6.8|                                        42.5|                                          11.1|                                           40.0|                    0.0|                                                  4.0|                                    3.9|                                                           null|                         38|                                   300|                          102|                                                   21|                                       0.6|                     0.0|                      225|                      15.4|                       7.4|                                                            3.8|\n",
      "|2020-01-18|  Zürich| 5.85| 8.01|null|38.37|12.73|null|                                        3.4|                                           6.0|                                           0.0|                                           2.9|                                              8.6|                                             -1.5|                                             78.5|                                        6.1|                                                       961.3|                                        1029.1|                                               null|                                               null|                                                                         1027.2|                                1.9|                                       10.2|                                 6.8|                                        36.7|                                           9.7|                                           34.9|                    0.0|                                                  0.0|                                    0.1|                                                           null|                         58|                                   290|                          178|                                                   37|                                       0.4|                     0.0|                      252|                      16.6|                       8.6|                                                            0.0|\n",
      "|2020-01-19|  Zürich| 7.79| 9.73|null|36.34| 13.8|null|                                        0.5|                                           3.6|                                          -1.1|                                           0.1|                                              8.2|                                             -3.3|                                             80.4|                                        5.1|                                                       967.5|                                        1036.6|                                               null|                                               null|                                                                         1033.8|                                2.1|                                        8.3|                                 7.6|                                        29.9|                                           8.2|                                           29.5|                    0.0|                                                  0.0|                                    0.0|                                                           null|                         76|                                   263|                          233|                                                   49|                                       0.4|                     0.0|                       41|                      19.5|                      11.5|                                                           -0.1|\n",
      "|2020-01-20|  Zürich|13.41|17.56|null|35.64| 19.5|null|                                       -0.4|                                           2.7|                                          -2.4|                                          -1.0|                                              5.4|                                             -4.2|                                             78.5|                                        4.6|                                                       973.4|                                        1043.1|                                               null|                                               null|                                                                         1039.9|                                3.5|                                       12.0|                                12.6|                                        43.2|                                          11.7|                                           42.1|                    0.0|                                                  0.0|                                    0.0|                                                           null|                         86|                                   232|                          384|                                                   80|                                       0.6|                     0.0|                       54|                      20.4|                      12.4|                                                           -0.2|\n",
      "|2020-01-21|  Zürich|20.83|27.38|null|33.47|53.78|null|                                       -1.8|                                           1.7|                                          -4.0|                                          -2.6|                                              4.4|                                             -6.0|                                             83.6|                                        4.4|                                                       971.2|                                        1041.2|                                               null|                                               null|                                                                         1037.7|                                1.7|                                        6.7|                                 6.1|                                        24.1|                                           6.5|                                           23.4|                    0.0|                                                  0.0|                                    0.0|                                                           null|                         79|                                   231|                          423|                                                   87|                                       0.3|                     0.0|                       50|                      21.8|                      13.8|                                                           -0.2|\n",
      "+----------+--------+-----+-----+----+-----+-----+----+-------------------------------------------+----------------------------------------------+----------------------------------------------+----------------------------------------------+-------------------------------------------------+-------------------------------------------------+-------------------------------------------------+-------------------------------------------+------------------------------------------------------------+----------------------------------------------+---------------------------------------------------+---------------------------------------------------+-------------------------------------------------------------------------------+-----------------------------------+-------------------------------------------+------------------------------------+--------------------------------------------+----------------------------------------------+-----------------------------------------------+-----------------------+-----------------------------------------------------+---------------------------------------+---------------------------------------------------------------+---------------------------+--------------------------------------+-----------------------------+-----------------------------------------------------+------------------------------------------+------------------------+-------------------------+--------------------------+--------------------------+---------------------------------------------------------------+\n",
      "only showing top 20 rows\n",
      "\n"
     ]
    }
   ],
   "execution_count": 174
  },
  {
   "cell_type": "markdown",
   "id": "f5263822",
   "metadata": {},
   "source": [
    "## Feature-Vektor erstellen\n",
    "ML-Algorithmen erwarten meistens die Daten zusammen in einem Feature-Vektor."
   ]
  },
  {
   "cell_type": "code",
   "id": "69c3e7b1",
   "metadata": {
    "ExecuteTime": {
     "end_time": "2025-06-22T17:15:09.211135Z",
     "start_time": "2025-06-22T17:15:09.104437Z"
    }
   },
   "source": [
    "#Wir wollen auch kurz prüfen, ob das geklappt hat und Einträge für beide Städte vorhanden sind\n",
    "df.select(\"location\").distinct().show()\n",
    "#korrekter Output wäre stadt zh sg in einer kleinen TAbelle"
   ],
   "outputs": [
    {
     "name": "stdout",
     "output_type": "stream",
     "text": [
      "+----------+\n",
      "|  location|\n",
      "+----------+\n",
      "|St. Gallen|\n",
      "|    Zürich|\n",
      "+----------+\n",
      "\n"
     ]
    }
   ],
   "execution_count": 175
  },
  {
   "cell_type": "markdown",
   "id": "79f4d806",
   "metadata": {},
   "source": [
    "Zum Erstellen eines Feature-Vektors müssen wir die Feature-Spalten auswählen. Dabei handelt es sich um die numerischen Werte (diese können wir nachher auch standardisieren). Wegzulassen sind dabei in umserem FAll die Zeitstempel als auch die Information zur Stadt."
   ]
  },
  {
   "cell_type": "code",
   "id": "d2ddf0e7",
   "metadata": {
    "scrolled": false,
    "ExecuteTime": {
     "end_time": "2025-06-22T17:15:09.242621Z",
     "start_time": "2025-06-22T17:15:09.228255Z"
    }
   },
   "source": [
    "df.printSchema()\n",
    "#BEim Printen des Schemas zeigt sich, dass alle COlumns noch als String interpretiert werden, darum funktioniert dabei assembler.transform nicht\n",
    "#Wir müssen also zuerst die Strings umwandeln"
   ],
   "outputs": [
    {
     "name": "stdout",
     "output_type": "stream",
     "text": [
      "root\n",
      " |-- date: string (nullable = true)\n",
      " |-- location: string (nullable = true)\n",
      " |-- PM10: string (nullable = true)\n",
      " |-- PM2_5: string (nullable = true)\n",
      " |-- Ozon: string (nullable = true)\n",
      " |-- CO: string (nullable = true)\n",
      " |-- NO2: string (nullable = true)\n",
      " |-- NO: string (nullable = true)\n",
      " |-- Air temperature 2 m above ground daily mean: string (nullable = true)\n",
      " |-- Air temperature 2 m above ground daily maximum: string (nullable = true)\n",
      " |-- Air temperature 2 m above ground daily minimum: string (nullable = true)\n",
      " |-- Air temperature at 5 cm above grass daily mean: string (nullable = true)\n",
      " |-- Air temperature at 5 cm above grass daily maximum: string (nullable = true)\n",
      " |-- Air temperature at 5 cm above grass daily minimum: string (nullable = true)\n",
      " |-- Relative air humidity 2 m above ground daily mean: string (nullable = true)\n",
      " |-- Vapour pressure 2 m above ground daily mean: string (nullable = true)\n",
      " |-- Atmospheric pressure at barometric altitude (QFE) daily mean: string (nullable = true)\n",
      " |-- Pressure reduced to sea level (QFF) daily mean: string (nullable = true)\n",
      " |-- Geopotential height of the 850 hPA level daily mean: string (nullable = true)\n",
      " |-- Geopotential height of the 700 hPA level daily mean: string (nullable = true)\n",
      " |-- Pressure reduced to sea level according to standard atmosphere (QNH) daily mean: string (nullable = true)\n",
      " |-- Wind speed scalar daily mean in m/s: string (nullable = true)\n",
      " |-- Gust peak (one second) daily maximum in m/s: string (nullable = true)\n",
      " |-- Wind speed scalar daily mean in km/h: string (nullable = true)\n",
      " |-- Gust peak (one second) daily maximum in km/h: string (nullable = true)\n",
      " |-- Gust peak (three seconds) daily maximum in m/s: string (nullable = true)\n",
      " |-- Gust peak (three seconds) daily maximum in km/h: string (nullable = true)\n",
      " |-- Foehn index daily value: string (nullable = true)\n",
      " |-- Precipitation daily total 6 UTC - 6 UTC following day: string (nullable = true)\n",
      " |-- Precipitation daily total 0 UTC - 0 UTC: string (nullable = true)\n",
      " |-- Snow depth (automatic measurement) morning measurement at 6 UTC: string (nullable = true)\n",
      " |-- Global radiation daily mean: string (nullable = true)\n",
      " |-- Longwave incoming radiation daily mean: string (nullable = true)\n",
      " |-- Sunshine duration daily total: string (nullable = true)\n",
      " |-- Sunshine duration in relation to absolute daily total: string (nullable = true)\n",
      " |-- Reference evaporation from FAO daily total: string (nullable = true)\n",
      " |-- Cooling Degree Day (CDD): string (nullable = true)\n",
      " |-- Wind direction daily mean: string (nullable = true)\n",
      " |-- Heating degrees (HGT12/20): string (nullable = true)\n",
      " |-- Heating degrees (ATD12/12): string (nullable = true)\n",
      " |-- Hydrologic registration (hydrologic balance, R-ETS) daily total: string (nullable = true)\n",
      "\n"
     ]
    }
   ],
   "execution_count": 176
  },
  {
   "cell_type": "code",
   "id": "4aa2cb09",
   "metadata": {
    "ExecuteTime": {
     "end_time": "2025-06-22T17:15:09.334959Z",
     "start_time": "2025-06-22T17:15:09.322959Z"
    }
   },
   "source": [
    "umweltfaktoren = [\"PM10\", \"PM2_5\", \"Ozon\", \"CO\", \"NO2\", \"NO\", \"Air temperature 2 m above ground daily mean\", \"Relative air humidity 2 m above ground daily mean\", \"Wind speed scalar daily mean in m/s\",\"Precipitation daily total 0 UTC - 0 UTC\"]\n",
    "for c in umweltfaktoren:\n",
    "    if c not in df.columns:\n",
    "        print(f\"Spalte nicht gefunden, wg. NAmensproblem: '{c}'\")\n",
    "    else: \n",
    "        print(f\"Spalte '{c}'vorhanden\")\n"
   ],
   "outputs": [
    {
     "name": "stdout",
     "output_type": "stream",
     "text": [
      "Spalte 'PM10'vorhanden\n",
      "Spalte 'PM2_5'vorhanden\n",
      "Spalte 'Ozon'vorhanden\n",
      "Spalte 'CO'vorhanden\n",
      "Spalte 'NO2'vorhanden\n",
      "Spalte 'NO'vorhanden\n",
      "Spalte 'Air temperature 2 m above ground daily mean'vorhanden\n",
      "Spalte 'Relative air humidity 2 m above ground daily mean'vorhanden\n",
      "Spalte 'Wind speed scalar daily mean in m/s'vorhanden\n",
      "Spalte 'Precipitation daily total 0 UTC - 0 UTC'vorhanden\n"
     ]
    }
   ],
   "execution_count": 177
  },
  {
   "cell_type": "code",
   "id": "21857c93",
   "metadata": {
    "ExecuteTime": {
     "end_time": "2025-06-22T17:15:09.443597Z",
     "start_time": "2025-06-22T17:15:09.357254Z"
    }
   },
   "source": [
    "from pyspark.sql.functions import col, regexp_replace\n",
    "\n",
    "\n",
    "for c in umweltfaktoren: #hier noch eine Vorsichtsmassnahme, indem allfällige Kommas zu Punkten für Dezimaldarstellung ugmwandelt werden\n",
    "    df = df.withColumn(c, regexp_replace(col(c), \",\", \".\").cast(\"double\"))\n"
   ],
   "outputs": [],
   "execution_count": 178
  },
  {
   "metadata": {
    "ExecuteTime": {
     "end_time": "2025-06-22T17:15:09.536139Z",
     "start_time": "2025-06-22T17:15:09.451133Z"
    }
   },
   "cell_type": "code",
   "source": [
    "from pyspark.sql.functions import col\n",
    "cnv_list = [\"PM10\", \"PM2_5\", \"Ozon\", \"CO\", \"NO2\", \"NO\", \"Air temperature 2 m above ground daily mean\", \"Relative air humidity 2 m above ground daily mean\", \"Wind speed scalar daily mean in m/s\",\"Precipitation daily total 0 UTC - 0 UTC\"]\n",
    "\n",
    "for col_name in cnv_list:\n",
    "    df = df.withColumn(col_name, col(col_name).cast(\"float\"))"
   ],
   "id": "cf9c116a49d3af0e",
   "outputs": [],
   "execution_count": 179
  },
  {
   "cell_type": "code",
   "id": "242123a6",
   "metadata": {
    "ExecuteTime": {
     "end_time": "2025-06-22T17:15:09.584206Z",
     "start_time": "2025-06-22T17:15:09.544159Z"
    }
   },
   "source": [
    "from pyspark.ml.feature import VectorAssembler\n",
    "\n",
    "umweltfaktoren = [\"PM10\", \"PM2_5\", \"Ozon\", \"CO\", \"NO2\", \"NO\", \"Air temperature 2 m above ground daily mean\", \"Relative air humidity 2 m above ground daily mean\", \"Wind speed scalar daily mean in m/s\",\"Precipitation daily total 0 UTC - 0 UTC\"]\n",
    "\n",
    "assembler = VectorAssembler(inputCols=umweltfaktoren, outputCol=\"rawFeatures\")\n",
    "df_vector = assembler.transform(df).dropna(subset=[\"rawFeatures\"])\n"
   ],
   "outputs": [],
   "execution_count": 180
  },
  {
   "cell_type": "code",
   "id": "b3c8a665",
   "metadata": {
    "scrolled": true,
    "ExecuteTime": {
     "end_time": "2025-06-22T17:15:09.631197Z",
     "start_time": "2025-06-22T17:15:09.592196Z"
    }
   },
   "source": [
    "df_vector.select(umweltfaktoren).printSchema()\n",
    "#Sind wirklich alle nun Doubles und keine Strings? Wichtig für weitere ARbeit"
   ],
   "outputs": [
    {
     "name": "stdout",
     "output_type": "stream",
     "text": [
      "root\n",
      " |-- PM10: float (nullable = true)\n",
      " |-- PM2_5: float (nullable = true)\n",
      " |-- Ozon: float (nullable = true)\n",
      " |-- CO: float (nullable = true)\n",
      " |-- NO2: float (nullable = true)\n",
      " |-- NO: float (nullable = true)\n",
      " |-- Air temperature 2 m above ground daily mean: float (nullable = true)\n",
      " |-- Relative air humidity 2 m above ground daily mean: float (nullable = true)\n",
      " |-- Wind speed scalar daily mean in m/s: float (nullable = true)\n",
      " |-- Precipitation daily total 0 UTC - 0 UTC: float (nullable = true)\n",
      "\n"
     ]
    }
   ],
   "execution_count": 181
  },
  {
   "cell_type": "code",
   "id": "8405df00",
   "metadata": {
    "ExecuteTime": {
     "end_time": "2025-06-22T17:15:09.956403Z",
     "start_time": "2025-06-22T17:15:09.643204Z"
    }
   },
   "source": "df.select(umweltfaktoren).summary().show() #Kurzer Blick auf die SPalten, ggf fällt hier noch etwas auf\n",
   "outputs": [
    {
     "name": "stdout",
     "output_type": "stream",
     "text": [
      "+-------+------------------+------------------+-----------------+-----------------+------------------+------------------+-------------------------------------------+-------------------------------------------------+-----------------------------------+---------------------------------------+\n",
      "|summary|              PM10|             PM2_5|             Ozon|               CO|               NO2|                NO|Air temperature 2 m above ground daily mean|Relative air humidity 2 m above ground daily mean|Wind speed scalar daily mean in m/s|Precipitation daily total 0 UTC - 0 UTC|\n",
      "+-------+------------------+------------------+-----------------+-----------------+------------------+------------------+-------------------------------------------+-------------------------------------------------+-----------------------------------+---------------------------------------+\n",
      "|  count|              3613|              3613|             1809|             1781|              3593|              1811|                                       3620|                                             3620|                               3620|                                   3618|\n",
      "|   mean|11.003501246386607|10.979950183651436|37.87614706987304|38.21742842908256|21.134703587314526|11.918713427063906|                         10.364337020507339|                                  74.329530435109|                  2.071629833277747|                      3.590243235483741|\n",
      "| stddev| 6.663346016893765| 6.996750171761707|9.097815948625566| 9.60113380063993|13.644620416594524|10.028516180464184|                          7.232199923712277|                               13.874867184552752|                 1.1856347944960344|                     7.4434843710687595|\n",
      "|    min|              1.46|              1.39|            11.55|            14.32|              0.95|               0.6|                                       -9.6|                                             23.5|                                0.2|                                    0.0|\n",
      "|    25%|              6.43|              6.06|            32.32|            32.02|             11.04|              6.12|                                        4.9|                                             64.8|                                1.3|                                    0.0|\n",
      "|    50%|              9.66|               9.1|            37.78|            37.62|             18.76|              9.47|                                       10.1|                                             75.9|                                1.8|                                    0.1|\n",
      "|    75%|              14.0|             14.09|            43.27|            43.81|             27.75|             13.93|                                       16.4|                                             85.3|                                2.5|                                    4.2|\n",
      "|    max|             97.45|             77.64|            66.53|            70.29|            114.46|            153.79|                                       27.5|                                            100.0|                               11.2|                                   92.4|\n",
      "+-------+------------------+------------------+-----------------+-----------------+------------------+------------------+-------------------------------------------+-------------------------------------------------+-----------------------------------+---------------------------------------+\n",
      "\n"
     ]
    }
   ],
   "execution_count": 182
  },
  {
   "cell_type": "code",
   "id": "d3ba204a",
   "metadata": {
    "scrolled": true,
    "ExecuteTime": {
     "end_time": "2025-06-22T17:15:10.065825Z",
     "start_time": "2025-06-22T17:15:09.967378Z"
    }
   },
   "source": [
    "from pyspark.sql.functions import isnan\n",
    "\n",
    "df.select([\n",
    "    col(c).isNull().alias(f\"{c}_null\") |\n",
    "    isnan(c).alias(f\"{c}_nan\") for c in umweltfaktoren\n",
    "]).show()\n"
   ],
   "outputs": [
    {
     "name": "stdout",
     "output_type": "stream",
     "text": [
      "+--------------------------------------------------------+------------------------------------------------------------+--------------------------------------------------------+------------------------------------------------+----------------------------------------------------+------------------------------------------------+------------------------------------------------------------------------------------------------------------------------------------------------------------------------------------------------------------------------+------------------------------------------------------------------------------------------------------------------------------------------------------------------------------------------------------------------------------------------------+----------------------------------------------------------------------------------------------------------------------------------------------------------------------------------------+--------------------------------------------------------------------------------------------------------------------------------------------------------------------------------------------------------+\n",
      "|((PM10 IS NULL) AS PM10_null OR isnan(PM10) AS PM10_nan)|((PM2_5 IS NULL) AS PM2_5_null OR isnan(PM2_5) AS PM2_5_nan)|((Ozon IS NULL) AS Ozon_null OR isnan(Ozon) AS Ozon_nan)|((CO IS NULL) AS CO_null OR isnan(CO) AS CO_nan)|((NO2 IS NULL) AS NO2_null OR isnan(NO2) AS NO2_nan)|((NO IS NULL) AS NO_null OR isnan(NO) AS NO_nan)|((Air temperature 2 m above ground daily mean IS NULL) AS `Air temperature 2 m above ground daily mean_null` OR isnan(Air temperature 2 m above ground daily mean) AS `Air temperature 2 m above ground daily mean_nan`)|((Relative air humidity 2 m above ground daily mean IS NULL) AS `Relative air humidity 2 m above ground daily mean_null` OR isnan(Relative air humidity 2 m above ground daily mean) AS `Relative air humidity 2 m above ground daily mean_nan`)|((Wind speed scalar daily mean in m/s IS NULL) AS `Wind speed scalar daily mean in m/s_null` OR isnan(Wind speed scalar daily mean in m/s) AS `Wind speed scalar daily mean in m/s_nan`)|((Precipitation daily total 0 UTC - 0 UTC IS NULL) AS `Precipitation daily total 0 UTC - 0 UTC_null` OR isnan(Precipitation daily total 0 UTC - 0 UTC) AS `Precipitation daily total 0 UTC - 0 UTC_nan`)|\n",
      "+--------------------------------------------------------+------------------------------------------------------------+--------------------------------------------------------+------------------------------------------------+----------------------------------------------------+------------------------------------------------+------------------------------------------------------------------------------------------------------------------------------------------------------------------------------------------------------------------------+------------------------------------------------------------------------------------------------------------------------------------------------------------------------------------------------------------------------------------------------+----------------------------------------------------------------------------------------------------------------------------------------------------------------------------------------+--------------------------------------------------------------------------------------------------------------------------------------------------------------------------------------------------------+\n",
      "|                                                   false|                                                       false|                                                    true|                                           false|                                               false|                                            true|                                                                                                                                                                                                                   false|                                                                                                                                                                                                                                           false|                                                                                                                                                                                   false|                                                                                                                                                                                                   false|\n",
      "|                                                   false|                                                       false|                                                    true|                                           false|                                               false|                                            true|                                                                                                                                                                                                                   false|                                                                                                                                                                                                                                           false|                                                                                                                                                                                   false|                                                                                                                                                                                                   false|\n",
      "|                                                   false|                                                       false|                                                    true|                                           false|                                               false|                                            true|                                                                                                                                                                                                                   false|                                                                                                                                                                                                                                           false|                                                                                                                                                                                   false|                                                                                                                                                                                                   false|\n",
      "|                                                   false|                                                       false|                                                    true|                                           false|                                               false|                                            true|                                                                                                                                                                                                                   false|                                                                                                                                                                                                                                           false|                                                                                                                                                                                   false|                                                                                                                                                                                                   false|\n",
      "|                                                   false|                                                       false|                                                    true|                                           false|                                               false|                                            true|                                                                                                                                                                                                                   false|                                                                                                                                                                                                                                           false|                                                                                                                                                                                   false|                                                                                                                                                                                                   false|\n",
      "|                                                   false|                                                       false|                                                    true|                                           false|                                               false|                                            true|                                                                                                                                                                                                                   false|                                                                                                                                                                                                                                           false|                                                                                                                                                                                   false|                                                                                                                                                                                                   false|\n",
      "|                                                   false|                                                       false|                                                    true|                                           false|                                               false|                                            true|                                                                                                                                                                                                                   false|                                                                                                                                                                                                                                           false|                                                                                                                                                                                   false|                                                                                                                                                                                                   false|\n",
      "|                                                   false|                                                       false|                                                    true|                                           false|                                               false|                                            true|                                                                                                                                                                                                                   false|                                                                                                                                                                                                                                           false|                                                                                                                                                                                   false|                                                                                                                                                                                                   false|\n",
      "|                                                   false|                                                       false|                                                    true|                                           false|                                               false|                                            true|                                                                                                                                                                                                                   false|                                                                                                                                                                                                                                           false|                                                                                                                                                                                   false|                                                                                                                                                                                                   false|\n",
      "|                                                   false|                                                       false|                                                    true|                                           false|                                               false|                                            true|                                                                                                                                                                                                                   false|                                                                                                                                                                                                                                           false|                                                                                                                                                                                   false|                                                                                                                                                                                                   false|\n",
      "|                                                   false|                                                       false|                                                    true|                                           false|                                               false|                                            true|                                                                                                                                                                                                                   false|                                                                                                                                                                                                                                           false|                                                                                                                                                                                   false|                                                                                                                                                                                                   false|\n",
      "|                                                   false|                                                       false|                                                    true|                                           false|                                               false|                                            true|                                                                                                                                                                                                                   false|                                                                                                                                                                                                                                           false|                                                                                                                                                                                   false|                                                                                                                                                                                                   false|\n",
      "|                                                   false|                                                       false|                                                    true|                                           false|                                               false|                                            true|                                                                                                                                                                                                                   false|                                                                                                                                                                                                                                           false|                                                                                                                                                                                   false|                                                                                                                                                                                                   false|\n",
      "|                                                   false|                                                       false|                                                    true|                                           false|                                               false|                                            true|                                                                                                                                                                                                                   false|                                                                                                                                                                                                                                           false|                                                                                                                                                                                   false|                                                                                                                                                                                                   false|\n",
      "|                                                   false|                                                       false|                                                    true|                                           false|                                               false|                                            true|                                                                                                                                                                                                                   false|                                                                                                                                                                                                                                           false|                                                                                                                                                                                   false|                                                                                                                                                                                                   false|\n",
      "|                                                   false|                                                       false|                                                    true|                                           false|                                               false|                                            true|                                                                                                                                                                                                                   false|                                                                                                                                                                                                                                           false|                                                                                                                                                                                   false|                                                                                                                                                                                                   false|\n",
      "|                                                   false|                                                       false|                                                    true|                                           false|                                               false|                                            true|                                                                                                                                                                                                                   false|                                                                                                                                                                                                                                           false|                                                                                                                                                                                   false|                                                                                                                                                                                                   false|\n",
      "|                                                   false|                                                       false|                                                    true|                                           false|                                               false|                                            true|                                                                                                                                                                                                                   false|                                                                                                                                                                                                                                           false|                                                                                                                                                                                   false|                                                                                                                                                                                                   false|\n",
      "|                                                   false|                                                       false|                                                    true|                                           false|                                               false|                                            true|                                                                                                                                                                                                                   false|                                                                                                                                                                                                                                           false|                                                                                                                                                                                   false|                                                                                                                                                                                                   false|\n",
      "|                                                   false|                                                       false|                                                    true|                                           false|                                               false|                                            true|                                                                                                                                                                                                                   false|                                                                                                                                                                                                                                           false|                                                                                                                                                                                   false|                                                                                                                                                                                                   false|\n",
      "+--------------------------------------------------------+------------------------------------------------------------+--------------------------------------------------------+------------------------------------------------+----------------------------------------------------+------------------------------------------------+------------------------------------------------------------------------------------------------------------------------------------------------------------------------------------------------------------------------+------------------------------------------------------------------------------------------------------------------------------------------------------------------------------------------------------------------------------------------------+----------------------------------------------------------------------------------------------------------------------------------------------------------------------------------------+--------------------------------------------------------------------------------------------------------------------------------------------------------------------------------------------------------+\n",
      "only showing top 20 rows\n",
      "\n"
     ]
    }
   ],
   "execution_count": 183
  },
  {
   "cell_type": "markdown",
   "id": "4453e595",
   "metadata": {},
   "source": [
    "### Ungültige Werte\n",
    "Bevor wir weiterarbeiten müssen wir wissen, ob wir Rows mit falschen Werten droppen oder ob wir die Werte besser einfüllen (Ersteres ist nur dann geeignet, wenn nicht viele betroffen sind)."
   ]
  },
  {
   "cell_type": "code",
   "id": "70e0cd4d",
   "metadata": {
    "ExecuteTime": {
     "end_time": "2025-06-22T17:15:10.159433Z",
     "start_time": "2025-06-22T17:15:10.074824Z"
    }
   },
   "source": "df.filter(\"PM10 is null OR `PM2_5` is null OR Ozon is null OR CO is null OR NO2 is null OR NO is null Or `Air temperature 2 m above ground daily mean` is null OR `Relative air humidity 2 m above ground daily mean` is null OR `Wind speed scalar daily mean in m/s` is null OR `Precipitation daily total 0 UTC - 0 UTC` is null\").count()\n",
   "outputs": [
    {
     "data": {
      "text/plain": [
       "3620"
      ]
     },
     "execution_count": 184,
     "metadata": {},
     "output_type": "execute_result"
    }
   ],
   "execution_count": 184
  },
  {
   "cell_type": "code",
   "id": "807bd241",
   "metadata": {
    "ExecuteTime": {
     "end_time": "2025-06-22T17:15:10.315611Z",
     "start_time": "2025-06-22T17:15:10.168434Z"
    }
   },
   "source": [
    "total = df.count()\n",
    "\n",
    "fehlend = df.filter(\n",
    "    \"PM10 is null OR `PM2_5` is null OR Ozon is null OR CO is null OR NO2 is null OR NO is null\"\n",
    ").count()\n",
    "\n",
    "print(f\"Fehlend {fehlend} von total {total} Rows ({(fehlend/total)*100:.2f}%)\")\n"
   ],
   "outputs": [
    {
     "name": "stdout",
     "output_type": "stream",
     "text": [
      "Fehlend 3620 von total 3620 Rows (100.00%)\n"
     ]
    }
   ],
   "execution_count": 185
  },
  {
   "cell_type": "code",
   "id": "3b91721c",
   "metadata": {
    "scrolled": true,
    "ExecuteTime": {
     "end_time": "2025-06-22T17:15:10.531933Z",
     "start_time": "2025-06-22T17:15:10.332186Z"
    }
   },
   "source": [
    "from pyspark.sql.functions import count, when, col, isnan\n",
    "\n",
    "df.select([\n",
    "    count(when(col(c).isNull() | isnan(c), c)).alias(f\"{c}_missing\") for c in umweltfaktoren\n",
    "]).show()\n",
    "#Hier stellt sich leider heraus, dass wir etliche fehlende Werte zu haben scheinen\n",
    "#U.a. haben wir z.B. bei Ozon alleine 1980 und bei CO 2008 oder bei NO 1978 fehlende WErte"
   ],
   "outputs": [
    {
     "name": "stdout",
     "output_type": "stream",
     "text": [
      "+------------+-------------+------------+----------+-----------+----------+---------------------------------------------------+---------------------------------------------------------+-------------------------------------------+-----------------------------------------------+\n",
      "|PM10_missing|PM2_5_missing|Ozon_missing|CO_missing|NO2_missing|NO_missing|Air temperature 2 m above ground daily mean_missing|Relative air humidity 2 m above ground daily mean_missing|Wind speed scalar daily mean in m/s_missing|Precipitation daily total 0 UTC - 0 UTC_missing|\n",
      "+------------+-------------+------------+----------+-----------+----------+---------------------------------------------------+---------------------------------------------------------+-------------------------------------------+-----------------------------------------------+\n",
      "|           7|            7|        1811|      1839|         27|      1809|                                                  0|                                                        0|                                          0|                                              2|\n",
      "+------------+-------------+------------+----------+-----------+----------+---------------------------------------------------+---------------------------------------------------------+-------------------------------------------+-----------------------------------------------+\n",
      "\n"
     ]
    }
   ],
   "execution_count": 186
  },
  {
   "cell_type": "markdown",
   "id": "329d1ed4",
   "metadata": {},
   "source": [
    "Wir wollen nicht alle Rows wegwerfen, die fehlende WErte haben...aber es wäre auch sinnlos, diese mit Nullen zu befüllen, da es sich um so viele Rows handelt.\n",
    "<br>\n",
    "Wir wollen die Information speichern, dass hier Werte fehlen. Das können wir, indem wir eine neue Spalte erstellen, in der wir diese Information speichern (binär). \n",
    "<br>\n",
    "Wir erstellen also eine Spalte für Ozon_fehlend, CO_fehlend und NO_fehlend und befüllen dies jeweils mit 0 bzw. 1 (Letzteres für fehlende Werte). D.h. 0 = Wert vorhanden, 1 = Wert fehlt.\n",
    "<br>\n",
    "Die anderen drei Spalten mit 13 oder 31 fehlenden Werten droppen wir, da es sich um eine kleine Anzahl handelt."
   ]
  },
  {
   "cell_type": "code",
   "id": "8b38ebdc",
   "metadata": {
    "ExecuteTime": {
     "end_time": "2025-06-22T17:15:10.563462Z",
     "start_time": "2025-06-22T17:15:10.543926Z"
    }
   },
   "source": [
    "#Droppen der Reihen mit fehlenden Werten für PM10, PM2_5 und NO2\n",
    "cols_to_drop_on = [\"PM10\", \"PM2_5\", \"NO2\", \"Air temperature 2 m above ground daily mean\", \"Relative air humidity 2 m above ground daily mean\", \"Wind speed scalar daily mean in m/s\", \"Precipitation daily total 0 UTC - 0 UTC\"]\n",
    "\n",
    "df_cleaned = df.dropna(subset=cols_to_drop_on)\n"
   ],
   "outputs": [],
   "execution_count": 187
  },
  {
   "cell_type": "code",
   "id": "c3f86a8e",
   "metadata": {
    "ExecuteTime": {
     "end_time": "2025-06-22T17:15:10.810696Z",
     "start_time": "2025-06-22T17:15:10.577461Z"
    }
   },
   "source": [
    "#Wir prüfen, ob das geklappt hat und jetzt jeweils 0 bei den Spalten steht\n",
    "from pyspark.sql.functions import count, when, col, isnan\n",
    "\n",
    "df_cleaned.select([\n",
    "    count(when(col(c).isNull() | isnan(c), c)).alias(f\"{c}_missing\") for c in umweltfaktoren\n",
    "]).show()"
   ],
   "outputs": [
    {
     "name": "stdout",
     "output_type": "stream",
     "text": [
      "+------------+-------------+------------+----------+-----------+----------+---------------------------------------------------+---------------------------------------------------------+-------------------------------------------+-----------------------------------------------+\n",
      "|PM10_missing|PM2_5_missing|Ozon_missing|CO_missing|NO2_missing|NO_missing|Air temperature 2 m above ground daily mean_missing|Relative air humidity 2 m above ground daily mean_missing|Wind speed scalar daily mean in m/s_missing|Precipitation daily total 0 UTC - 0 UTC_missing|\n",
      "+------------+-------------+------------+----------+-----------+----------+---------------------------------------------------+---------------------------------------------------------+-------------------------------------------+-----------------------------------------------+\n",
      "|           0|            0|        1777|      1810|          0|      1777|                                                  0|                                                        0|                                          0|                                              0|\n",
      "+------------+-------------+------------+----------+-----------+----------+---------------------------------------------------+---------------------------------------------------------+-------------------------------------------+-----------------------------------------------+\n",
      "\n"
     ]
    }
   ],
   "execution_count": 188
  },
  {
   "cell_type": "code",
   "id": "160f4e4d",
   "metadata": {
    "ExecuteTime": {
     "end_time": "2025-06-22T17:15:10.887134Z",
     "start_time": "2025-06-22T17:15:10.837602Z"
    }
   },
   "source": [
    "#im nächsten Schritt werden wir sep. Spalten zum Erhalten der Information zu den fehlenden WErten erstellen\n",
    "#das ändert zwar nichts daran, dass wir die Felder irgendwie befüllen müssen, erhält aber die Information, dass der Wert gefhelt hatte\n",
    "from pyspark.sql.functions import when, col\n",
    "\n",
    "cols_to_flag = [\"Ozon\", \"CO\", \"NO\"]\n",
    "\n",
    "for c in cols_to_flag:\n",
    "    df_cleaned = df_cleaned.withColumn(f\"{c}_missing\", when(col(c).isNull(), 1).otherwise(0))\n"
   ],
   "outputs": [],
   "execution_count": 189
  },
  {
   "cell_type": "code",
   "id": "ebe02b25",
   "metadata": {
    "scrolled": true,
    "ExecuteTime": {
     "end_time": "2025-06-22T17:15:10.982117Z",
     "start_time": "2025-06-22T17:15:10.897122Z"
    }
   },
   "source": [
    "df_cleaned.select(\"Ozon\", \"Ozon_missing\", \"CO\", \"CO_missing\", \"NO\", \"NO_missing\").show(10)\n",
    "#Wir prüfen kurz, ob das geklappt hat und wir nun jeweils dazu passende \"_missing\"-Spalten haben mit 1 und 0"
   ],
   "outputs": [
    {
     "name": "stdout",
     "output_type": "stream",
     "text": [
      "+----+------------+-----+----------+----+----------+\n",
      "|Ozon|Ozon_missing|   CO|CO_missing|  NO|NO_missing|\n",
      "+----+------------+-----+----------+----+----------+\n",
      "|null|           1|21.11|         0|null|         1|\n",
      "|null|           1| 26.5|         0|null|         1|\n",
      "|null|           1|36.66|         0|null|         1|\n",
      "|null|           1|35.72|         0|null|         1|\n",
      "|null|           1|28.78|         0|null|         1|\n",
      "|null|           1|31.55|         0|null|         1|\n",
      "|null|           1|30.09|         0|null|         1|\n",
      "|null|           1| 35.4|         0|null|         1|\n",
      "|null|           1|40.12|         0|null|         1|\n",
      "|null|           1|35.56|         0|null|         1|\n",
      "+----+------------+-----+----------+----+----------+\n",
      "only showing top 10 rows\n",
      "\n"
     ]
    }
   ],
   "execution_count": 190
  },
  {
   "cell_type": "markdown",
   "id": "c140e2b3",
   "metadata": {},
   "source": [
    "Nun dürfen wir nicht vergessen, dass wir dennoch die empty Felder mit etwas befüllen müssen.\n",
    "Wir wählen mal 0 als Wert, da es uns fast schon zu sehr an Einträgen fehlt, um einen MEdian oder ÄHnliches zu berechnen."
   ]
  },
  {
   "cell_type": "code",
   "id": "0ebdb46c",
   "metadata": {
    "ExecuteTime": {
     "end_time": "2025-06-22T17:15:11.013069Z",
     "start_time": "2025-06-22T17:15:10.993785Z"
    }
   },
   "source": [
    "df_cleaned = df_cleaned.fillna({\n",
    "    \"CO\": 0,\n",
    "    \"Ozon\": 0,\n",
    "    \"NO\": 0\n",
    "})\n",
    "#überall wo na ist, wird eine 0 eingefügt"
   ],
   "outputs": [],
   "execution_count": 191
  },
  {
   "cell_type": "code",
   "id": "49f1f5e9",
   "metadata": {
    "scrolled": true,
    "ExecuteTime": {
     "end_time": "2025-06-22T17:15:11.260898Z",
     "start_time": "2025-06-22T17:15:11.021119Z"
    }
   },
   "source": [
    "#neu sollten wir hier also überall 0 als Wert für die Anzahl an NA-Werten erhalten\n",
    "from pyspark.sql.functions import count, when, col, isnan\n",
    "\n",
    "df_cleaned.select([\n",
    "    count(when(col(c).isNull() | isnan(c), c)).alias(f\"{c}_missing\") for c in umweltfaktoren\n",
    "]).show()"
   ],
   "outputs": [
    {
     "name": "stdout",
     "output_type": "stream",
     "text": [
      "+------------+-------------+------------+----------+-----------+----------+---------------------------------------------------+---------------------------------------------------------+-------------------------------------------+-----------------------------------------------+\n",
      "|PM10_missing|PM2_5_missing|Ozon_missing|CO_missing|NO2_missing|NO_missing|Air temperature 2 m above ground daily mean_missing|Relative air humidity 2 m above ground daily mean_missing|Wind speed scalar daily mean in m/s_missing|Precipitation daily total 0 UTC - 0 UTC_missing|\n",
      "+------------+-------------+------------+----------+-----------+----------+---------------------------------------------------+---------------------------------------------------------+-------------------------------------------+-----------------------------------------------+\n",
      "|           0|            0|           0|         0|          0|         0|                                                  0|                                                        0|                                          0|                                              0|\n",
      "+------------+-------------+------------+----------+-----------+----------+---------------------------------------------------+---------------------------------------------------------+-------------------------------------------+-----------------------------------------------+\n",
      "\n"
     ]
    }
   ],
   "execution_count": 192
  },
  {
   "cell_type": "markdown",
   "id": "02eeb991",
   "metadata": {},
   "source": [
    "### Zeiten als Features extrahieren\n",
    "\n",
    "\n"
   ]
  },
  {
   "cell_type": "code",
   "id": "5773643a",
   "metadata": {
    "ExecuteTime": {
     "end_time": "2025-06-22T17:15:11.340087Z",
     "start_time": "2025-06-22T17:15:11.272903Z"
    }
   },
   "source": [
    "from pyspark.sql.functions import year, month, dayofmonth, dayofweek, hour\n",
    "\n",
    "df_cleaned = df_cleaned.withColumn(\"year_s\", year(\"date\")) \\\n",
    "                 .withColumn(\"month_s\", month(\"date\")) \\\n",
    "                 .withColumn(\"day_s\", dayofmonth(\"date\")) \\\n",
    "                 .withColumn(\"weekday_s\", dayofweek(\"date\")) \\\n",
    "                 .withColumn(\"hour_s\", hour(\"date\"))\n",
    "\n"
   ],
   "outputs": [],
   "execution_count": 193
  },
  {
   "cell_type": "code",
   "id": "e222f84a",
   "metadata": {
    "scrolled": true,
    "ExecuteTime": {
     "end_time": "2025-06-22T17:15:11.448892Z",
     "start_time": "2025-06-22T17:15:11.347991Z"
    }
   },
   "source": [
    "#Spalten-Preview nach Zeiten-Extraktion\n",
    "df_cleaned.select(\"date\", \"year_s\", \"month_s\", \"day_s\", \"weekday_s\", \"hour_S\").show(10, truncate=False)\n"
   ],
   "outputs": [
    {
     "name": "stdout",
     "output_type": "stream",
     "text": [
      "+----------+------+-------+-----+---------+------+\n",
      "|date      |year_s|month_s|day_s|weekday_s|hour_S|\n",
      "+----------+------+-------+-----+---------+------+\n",
      "|2020-01-02|2020  |1      |2    |5        |0     |\n",
      "|2020-01-03|2020  |1      |3    |6        |0     |\n",
      "|2020-01-04|2020  |1      |4    |7        |0     |\n",
      "|2020-01-05|2020  |1      |5    |1        |0     |\n",
      "|2020-01-06|2020  |1      |6    |2        |0     |\n",
      "|2020-01-07|2020  |1      |7    |3        |0     |\n",
      "|2020-01-08|2020  |1      |8    |4        |0     |\n",
      "|2020-01-09|2020  |1      |9    |5        |0     |\n",
      "|2020-01-10|2020  |1      |10   |6        |0     |\n",
      "|2020-01-11|2020  |1      |11   |7        |0     |\n",
      "+----------+------+-------+-----+---------+------+\n",
      "only showing top 10 rows\n",
      "\n"
     ]
    }
   ],
   "execution_count": 194
  },
  {
   "cell_type": "markdown",
   "id": "42352c00",
   "metadata": {},
   "source": [
    "#### VEktor erstellen\n"
   ]
  },
  {
   "cell_type": "code",
   "id": "96121be9",
   "metadata": {
    "ExecuteTime": {
     "end_time": "2025-06-22T17:15:11.480429Z",
     "start_time": "2025-06-22T17:15:11.462412Z"
    }
   },
   "source": [
    "#wir definieren, welche Spalten wir gerne als Features hätten \n",
    "#numerische Spalten als Features, keine Strings oder Timestamps\n",
    "feature_cols = [\"PM10\", \"PM2_5\", \"Ozon\", \"CO\", \"NO2\", \"NO\", \"Ozon_missing\", \"CO_missing\", \"NO_missing\", \"year_s\", \"month_s\", \"day_s\", \"weekday_s\", \"hour_s\", \"Air temperature 2 m above ground daily mean\", \"Relative air humidity 2 m above ground daily mean\", \"Wind speed scalar daily mean in m/s\",\"Precipitation daily total 0 UTC - 0 UTC\"]\n"
   ],
   "outputs": [],
   "execution_count": 195
  },
  {
   "cell_type": "code",
   "id": "2d3deb10",
   "metadata": {
    "ExecuteTime": {
     "end_time": "2025-06-22T17:15:11.543801Z",
     "start_time": "2025-06-22T17:15:11.489412Z"
    }
   },
   "source": [
    "#Feature-Vektor erstellen mit VectorAssembler\n",
    "from pyspark.ml.feature import VectorAssembler\n",
    "\n",
    "assembler = VectorAssembler(inputCols=feature_cols, outputCol=\"features\")\n",
    "df_vector = assembler.transform(df_cleaned)  # NAme des aktuellen DataFrames ist df_cleaned"
   ],
   "outputs": [],
   "execution_count": 196
  },
  {
   "cell_type": "code",
   "id": "f898b54a",
   "metadata": {
    "scrolled": true,
    "ExecuteTime": {
     "end_time": "2025-06-22T17:15:11.574843Z",
     "start_time": "2025-06-22T17:15:11.551318Z"
    }
   },
   "source": [
    "df_vector.select(\"Ozon_missing\", \"CO_missing\", \"NO_missing\").printSchema()\n"
   ],
   "outputs": [
    {
     "name": "stdout",
     "output_type": "stream",
     "text": [
      "root\n",
      " |-- Ozon_missing: integer (nullable = false)\n",
      " |-- CO_missing: integer (nullable = false)\n",
      " |-- NO_missing: integer (nullable = false)\n",
      "\n"
     ]
    }
   ],
   "execution_count": 197
  },
  {
   "cell_type": "code",
   "id": "dd118971",
   "metadata": {
    "ExecuteTime": {
     "end_time": "2025-06-22T17:15:11.683603Z",
     "start_time": "2025-06-22T17:15:11.587847Z"
    }
   },
   "source": [
    "#Vorschau, ob das geklappt hat mit dem Feature-Vektor\n",
    "df_vector.select(\"features\").show(5, truncate=False)\n"
   ],
   "outputs": [
    {
     "name": "stdout",
     "output_type": "stream",
     "text": [
      "+-----------------------------------------------------------------------------------------------------------------------------------------------------------------------------------+\n",
      "|features                                                                                                                                                                           |\n",
      "+-----------------------------------------------------------------------------------------------------------------------------------------------------------------------------------+\n",
      "|[16.209999084472656,18.43000030517578,0.0,21.110000610351562,18.8700008392334,0.0,1.0,0.0,1.0,2020.0,1.0,2.0,5.0,0.0,-1.2000000476837158,94.5999984741211,1.0,0.0]                 |\n",
      "|[16.90999984741211,20.09000015258789,0.0,26.5,26.709999084472656,0.0,1.0,0.0,1.0,2020.0,1.0,3.0,6.0,0.0,3.0,87.30000305175781,1.7999999523162842,0.8999999761581421]               |\n",
      "|[6.800000190734863,8.800000190734863,0.0,36.65999984741211,13.539999961853027,0.0,1.0,0.0,1.0,2020.0,1.0,4.0,7.0,0.0,4.900000095367432,80.69999694824219,2.5,0.5]                  |\n",
      "|[8.880000114440918,11.520000457763672,0.0,35.720001220703125,21.149999618530273,0.0,1.0,0.0,1.0,2020.0,1.0,5.0,1.0,0.0,1.600000023841858,82.69999694824219,1.600000023841858,0.0]  |\n",
      "|[19.229999542236328,23.170000076293945,0.0,28.780000686645508,50.18000030517578,0.0,1.0,0.0,1.0,2020.0,1.0,6.0,2.0,0.0,0.10000000149011612,91.80000305175781,0.800000011920929,0.0]|\n",
      "+-----------------------------------------------------------------------------------------------------------------------------------------------------------------------------------+\n",
      "only showing top 5 rows\n",
      "\n"
     ]
    }
   ],
   "execution_count": 198
  },
  {
   "cell_type": "markdown",
   "id": "e8697005",
   "metadata": {},
   "source": [
    "## Standardisierung der numerischen Daten\n",
    "Standardisieren der numerischen Daten in einen Range von -1 bis 1.\n",
    "<br>\n",
    "Je nach verwendeter MEthode ist das sinnvoll und nützlich (ABhängigkeit von Distanzenberechnung). Zu diesen MEthoden gehört z.B. k-Means, logistische Regression, SVMs. Weniger wichtig ist es bei Tree-Methoden.\n",
    "<br> \n",
    "Der kleinste Wert wird auf -1 gemappt und der grösste auf 1. Der Rest wird entsprechend dazwischen gemappt.\n",
    "<br>\n"
   ]
  },
  {
   "cell_type": "code",
   "id": "a24122ec",
   "metadata": {
    "ExecuteTime": {
     "end_time": "2025-06-22T17:15:12.152904Z",
     "start_time": "2025-06-22T17:15:11.702601Z"
    }
   },
   "source": [
    "#Zum Standardisieren arbeiten wir mit StandardScaler\n",
    "from pyspark.ml.feature import StandardScaler\n",
    "\n",
    "scaler = StandardScaler(\n",
    "    inputCol=\"features\",\n",
    "    outputCol=\"scaledFeatures\",\n",
    "    withMean=True,  # 0 als Mitte\n",
    "    withStd=True    # Einheitsvarianz skalieren\n",
    ")\n",
    "\n",
    "scaler_model = scaler.fit(df_vector)\n",
    "df_scaled = scaler_model.transform(df_vector)\n"
   ],
   "outputs": [],
   "execution_count": 199
  },
  {
   "cell_type": "code",
   "id": "24ad6660",
   "metadata": {
    "ExecuteTime": {
     "end_time": "2025-06-22T17:15:12.323740Z",
     "start_time": "2025-06-22T17:15:12.162418Z"
    }
   },
   "source": [
    "df_scaled.select(\"scaledFeatures\").show(5, truncate=False)\n",
    "#kurze Preview, neu sollten alle Werte zwischen -1 und 1 angezeigt werden"
   ],
   "outputs": [
    {
     "name": "stdout",
     "output_type": "stream",
     "text": [
      "+--------------------------------------------------------------------------------------------------------------------------------------------------------------------------------------------------------------------------------------------------------------------------------------------------------------------------------------------------------+\n",
      "|scaledFeatures                                                                                                                                                                                                                                                                                                                                          |\n",
      "+--------------------------------------------------------------------------------------------------------------------------------------------------------------------------------------------------------------------------------------------------------------------------------------------------------------------------------------------------------+\n",
      "|[0.7816265602709609,1.0631871538603948,-0.9542475368851239,0.10718325109811914,-0.16482071117937802,-0.6470552385827892,1.0082651723131044,-1.0099546736786398,1.0082651723131044,-1.4174821473807642,-1.6028732007103912,-1.5641593557484939,0.49846705334844393,0.0,-1.6072796773745233,1.4635286112698347,-0.9057593692665101,-0.48255312057068345]  |\n",
      "|[0.8866045681765587,1.3000180553083103,-0.9542475368851239,0.37290923373874707,0.4104810674063026,-0.6470552385827892,1.0082651723131044,-1.0099546736786398,1.0082651723131044,-1.4174821473807642,-1.6028732007103912,-1.4505935852118044,0.9980492455186905,0.0,-1.025243984211485,0.9379144560087271,-0.23243992121467535,-0.3619036227328807]      |\n",
      "|[-0.6295760991523072,-0.31071755559008335,-0.9542475368851239,0.8737953652413157,-0.5559380161458906,-0.6470552385827892,1.0082651723131044,-1.0099546736786398,1.0082651723131044,-1.4174821473807642,-1.6028732007103912,-1.337027814675115,1.497631437688937,0.0,-0.7619421127920064,0.4627009206426384,0.3567146710799968,-0.41552561999628174]     |\n",
      "|[-0.31764179851306096,0.07734279042938244,-0.9542475368851239,0.8274536051211206,0.002486386586769935,-0.6470552385827892,1.0082651723131044,-1.0099546736786398,1.0082651723131044,-1.4174821473807642,-1.6028732007103912,-1.2234620441384256,-1.4998617153325422,0.0,-1.2192558764258263,0.6067048890974424,-0.4007697330614229,-0.48255312057068345]|\n",
      "|[1.2345312551154803,1.7394392754535952,-0.9542475368851239,0.48531284996989854,2.132717861767542,-0.6470552385827892,1.0082651723131044,-1.0099546736786398,1.0082651723131044,-1.4174821473807642,-1.6028732007103912,-1.1098962736017361,-1.0002795231622956,0.0,-1.427125767578698,1.261923385032036,-1.074089231279469,-0.48255312057068345]        |\n",
      "+--------------------------------------------------------------------------------------------------------------------------------------------------------------------------------------------------------------------------------------------------------------------------------------------------------------------------------------------------------+\n",
      "only showing top 5 rows\n",
      "\n"
     ]
    }
   ],
   "execution_count": 200
  },
  {
   "cell_type": "markdown",
   "id": "cf124393",
   "metadata": {},
   "source": [
    "<div style=\"background-color:#add8e6; height:60px; border-radius:10px; text-align:center; padding-top:5px;\">\n",
    "  <strong style=\"color:#003366; font-size: 30px\">Machine Learning mit Spark MLlib</strong>\n",
    "</div>\n"
   ]
  },
  {
   "cell_type": "markdown",
   "id": "0a853f19",
   "metadata": {},
   "source": [
    "## ANomalien entdecken\n",
    "Mittels k-Means probieren wir, ob wir irgendwelche Anomalien entdecken können."
   ]
  },
  {
   "cell_type": "code",
   "id": "446fc311",
   "metadata": {
    "ExecuteTime": {
     "end_time": "2025-06-22T17:15:14.282472Z",
     "start_time": "2025-06-22T17:15:12.346727Z"
    }
   },
   "source": [
    "from pyspark.ml.clustering import KMeans\n",
    "\n",
    "kmeans = KMeans(featuresCol=\"scaledFeatures\", predictionCol=\"cluster\", k=3, seed=42)\n",
    "model = kmeans.fit(df_scaled)\n",
    "df_clustered = model.transform(df_scaled)\n",
    "\n",
    "#wir clustern mit k-Means"
   ],
   "outputs": [],
   "execution_count": 201
  },
  {
   "cell_type": "code",
   "id": "9f24626a",
   "metadata": {
    "ExecuteTime": {
     "end_time": "2025-06-22T17:15:14.314908Z",
     "start_time": "2025-06-22T17:15:14.289458Z"
    }
   },
   "source": [
    "import numpy as np\n",
    "from pyspark.sql.functions import udf\n",
    "\n",
    "#hier messen wir die Distanz der Punkte zur Cluster-Mitte\n",
    "\n",
    "centers = model.clusterCenters()\n",
    "\n",
    "def distance_from_center(vec, cluster_id):\n",
    "    return float(np.linalg.norm(vec.toArray() - centers[cluster_id]))\n",
    "\n",
    "distance_udf = udf(distance_from_center)\n",
    "\n",
    "df_clustered = df_clustered.withColumn(\"distance_to_center\", distance_udf(\"scaledFeatures\", \"cluster\"))\n"
   ],
   "outputs": [],
   "execution_count": 202
  },
  {
   "cell_type": "code",
   "id": "6d3dda52",
   "metadata": {
    "ExecuteTime": {
     "end_time": "2025-06-22T17:15:15.737352Z",
     "start_time": "2025-06-22T17:15:14.323027Z"
    }
   },
   "source": [
    "#wir sortieren nach Distanz zur Mitte, hier also zB die obersten 10 auffälligsten Zeilen\n",
    "df_sorted = df_clustered.orderBy(col(\"distance_to_center\").desc())\n",
    "df_sorted.select(\"distance_to_center\", \"cluster\", \"features\").show(10, truncate=False)\n"
   ],
   "outputs": [
    {
     "name": "stdout",
     "output_type": "stream",
     "text": [
      "+------------------+-------+-------------------------------------------------------------------------------------------------------------------------------------------------------------------------------------------------------------+\n",
      "|distance_to_center|cluster|features                                                                                                                                                                                                     |\n",
      "+------------------+-------+-------------------------------------------------------------------------------------------------------------------------------------------------------------------------------------------------------------+\n",
      "|9.882125012327624 |1      |[26.549999237060547,73.3499984741211,0.0,31.93000030517578,66.79000091552734,0.0,1.0,0.0,1.0,2021.0,2.0,24.0,4.0,0.0,9.899999618530273,62.79999923706055,0.6000000238418579,0.0]                             |\n",
      "|9.771161552252572 |0      |[3.7699999809265137,2.559999942779541,39.06999969482422,0.0,22.969999313354492,7.699999809265137,0.0,1.0,0.0,2024.0,5.0,31.0,6.0,0.0,8.199999809265137,93.0999984741211,3.0,75.0]                            |\n",
      "|9.481319013787088 |2      |[76.08999633789062,28.0,37.95000076293945,0.0,53.29999923706055,38.04999923706055,0.0,1.0,0.0,2021.0,2.0,25.0,5.0,0.0,11.0,48.400001525878906,1.2000000476837158,0.0]                                        |\n",
      "|9.456580016190161 |2      |[62.58000183105469,18.450000762939453,47.79999923706055,0.0,11.039999961853027,3.0999999046325684,0.0,1.0,0.0,2024.0,3.0,29.0,6.0,0.0,15.0,31.0,6.699999809265137,0.0]                                       |\n",
      "|9.430075308852341 |2      |[75.7699966430664,26.360000610351562,39.45000076293945,0.0,58.43000030517578,37.040000915527344,0.0,1.0,0.0,2021.0,2.0,24.0,4.0,0.0,11.5,47.5,0.699999988079071,0.0]                                         |\n",
      "|9.235071579428304 |2      |[67.66000366210938,19.09000015258789,51.02000045776367,0.0,24.079999923706055,8.899999618530273,0.0,1.0,0.0,2024.0,4.0,8.0,2.0,0.0,20.899999618530273,28.299999237060547,4.599999904632568,0.0]              |\n",
      "|8.845645699176679 |0      |[6.659999847412109,4.510000228881836,28.979999542236328,0.0,27.479999542236328,11.949999809265137,0.0,1.0,0.0,2021.0,7.0,8.0,5.0,0.0,13.800000190734863,94.9000015258789,2.0999999046325684,69.5999984741211]|\n",
      "|8.457177839896545 |0      |[6.360000133514404,3.680000066757202,37.36000061035156,0.0,14.369999885559082,6.880000114440918,0.0,1.0,0.0,2023.0,8.0,4.0,6.0,0.0,14.399999618530273,83.4000015258789,2.5,66.80000305175781]                |\n",
      "|8.453464132179338 |2      |[31.8799991607666,39.209999084472656,0.0,28.6200008392334,99.5199966430664,0.0,1.0,0.0,1.0,2020.0,1.0,25.0,7.0,0.0,0.10000000149011612,94.69999694824219,0.5,0.0]                                            |\n",
      "|8.173866408397702 |2      |[24.530000686645508,33.93000030517578,0.0,25.40999984741211,112.37000274658203,0.0,1.0,0.0,1.0,2021.0,11.0,11.0,5.0,0.0,4.300000190734863,91.0999984741211,0.6000000238418579,0.0]                           |\n",
      "+------------------+-------+-------------------------------------------------------------------------------------------------------------------------------------------------------------------------------------------------------------+\n",
      "only showing top 10 rows\n",
      "\n"
     ]
    }
   ],
   "execution_count": 203
  },
  {
   "cell_type": "markdown",
   "id": "59612683",
   "metadata": {},
   "source": [
    "## Korrelationen in Entwicklung\n",
    "Mit der Pearson-Korrelation können wir schauen, ob es irgendwelche ABhängikeiten zwischen gewissen Features gibt. Entwickeln sich zB Feature 1 und 2 gemeinsam...? mit einer Pearson-Korrelations-Matrix lässt sich messen, wie zwei Variablen im VErhältnis sich bewegen.\n",
    "<br>\n",
    "Hohe absolute Werte (nahe bei 1) gehören zusammen. Negative Korrelationen hingegen können auf kompensierendes Verhalten hindeuten."
   ]
  },
  {
   "cell_type": "code",
   "id": "c1de8f0b",
   "metadata": {
    "ExecuteTime": {
     "end_time": "2025-06-22T17:15:16.301124Z",
     "start_time": "2025-06-22T17:15:15.761306Z"
    }
   },
   "source": [
    "from pyspark.ml.stat import Correlation\n",
    "correlation_matrix = Correlation.corr(df_scaled, \"scaledFeatures\")"
   ],
   "outputs": [],
   "execution_count": 204
  },
  {
   "cell_type": "markdown",
   "id": "53064512",
   "metadata": {},
   "source": [
    "## Zeitliche Dimension bzw. Entwicklungen\n",
    "Da wir über ZEitstempel verfügen, können wir auh zeitliche Entwicklungen berücksichtigen und analysieren.\n",
    "FAlls die ZEitstempel noch als String abgespeichert sind, sollte man sie korrekt parsen."
   ]
  },
  {
   "cell_type": "markdown",
   "id": "989bc2c6",
   "metadata": {},
   "source": [
    "Wir fügen die temporalen Features nun ebenfalls zu unserem Feature-Vector hinzu."
   ]
  },
  {
   "cell_type": "code",
   "id": "37c452b3",
   "metadata": {
    "ExecuteTime": {
     "end_time": "2025-06-22T17:15:16.394243Z",
     "start_time": "2025-06-22T17:15:16.315850Z"
    }
   },
   "source": [
    "from pyspark.ml.feature import VectorAssembler\n",
    "\n",
    "extended_cols = [\"PM10\", \"PM2_5\", \"Ozon\", \"CO\", \"NO2\", \"NO\", \"Ozon_missing\", \"CO_missing\", \"NO_missing\", \"year_s\", \"month_s\", \"day_s\", \"weekday_s\", \"hour_s\", \"Air temperature 2 m above ground daily mean\", \"Relative air humidity 2 m above ground daily mean\", \"Wind speed scalar daily mean in m/s\",\"Precipitation daily total 0 UTC - 0 UTC\"]\n",
    "assembler = VectorAssembler(inputCols=extended_cols, outputCol=\"features_extended\")\n",
    "df_final = assembler.transform(df_cleaned)\n"
   ],
   "outputs": [],
   "execution_count": 205
  },
  {
   "cell_type": "code",
   "id": "fc5f085a",
   "metadata": {
    "ExecuteTime": {
     "end_time": "2025-06-22T17:15:16.536110Z",
     "start_time": "2025-06-22T17:15:16.404245Z"
    }
   },
   "source": [
    "# Kurzer Blick in den vEctor\n",
    "df_final.select(\"features_extended\").show(truncate=False)\n"
   ],
   "outputs": [
    {
     "name": "stdout",
     "output_type": "stream",
     "text": [
      "+----------------------------------------------------------------------------------------------------------------------------------------------------------------------------------------------+\n",
      "|features_extended                                                                                                                                                                             |\n",
      "+----------------------------------------------------------------------------------------------------------------------------------------------------------------------------------------------+\n",
      "|[16.209999084472656,18.43000030517578,0.0,21.110000610351562,18.8700008392334,0.0,1.0,0.0,1.0,2020.0,1.0,2.0,5.0,0.0,-1.2000000476837158,94.5999984741211,1.0,0.0]                            |\n",
      "|[16.90999984741211,20.09000015258789,0.0,26.5,26.709999084472656,0.0,1.0,0.0,1.0,2020.0,1.0,3.0,6.0,0.0,3.0,87.30000305175781,1.7999999523162842,0.8999999761581421]                          |\n",
      "|[6.800000190734863,8.800000190734863,0.0,36.65999984741211,13.539999961853027,0.0,1.0,0.0,1.0,2020.0,1.0,4.0,7.0,0.0,4.900000095367432,80.69999694824219,2.5,0.5]                             |\n",
      "|[8.880000114440918,11.520000457763672,0.0,35.720001220703125,21.149999618530273,0.0,1.0,0.0,1.0,2020.0,1.0,5.0,1.0,0.0,1.600000023841858,82.69999694824219,1.600000023841858,0.0]             |\n",
      "|[19.229999542236328,23.170000076293945,0.0,28.780000686645508,50.18000030517578,0.0,1.0,0.0,1.0,2020.0,1.0,6.0,2.0,0.0,0.10000000149011612,91.80000305175781,0.800000011920929,0.0]           |\n",
      "|[14.420000076293945,18.190000534057617,0.0,31.549999237060547,48.54999923706055,0.0,1.0,0.0,1.0,2020.0,1.0,7.0,3.0,0.0,3.0,83.9000015258789,1.100000023841858,0.0]                            |\n",
      "|[16.959999084472656,22.149999618530273,0.0,30.09000015258789,66.69999694824219,0.0,1.0,0.0,1.0,2020.0,1.0,8.0,4.0,0.0,3.0999999046325684,81.5999984741211,0.6000000238418579,0.0]             |\n",
      "|[10.260000228881836,16.459999084472656,0.0,35.400001525878906,46.25,0.0,1.0,0.0,1.0,2020.0,1.0,9.0,5.0,0.0,6.199999809265137,52.900001525878906,1.5,0.0]                                      |\n",
      "|[4.989999771118164,7.110000133514404,0.0,40.119998931884766,9.079999923706055,0.0,1.0,0.0,1.0,2020.0,1.0,10.0,6.0,0.0,7.599999904632568,65.19999694824219,4.199999809265137,0.0]              |\n",
      "|[9.079999923706055,12.149999618530273,0.0,35.560001373291016,28.760000228881836,0.0,1.0,0.0,1.0,2020.0,1.0,11.0,7.0,0.0,3.9000000953674316,86.0999984741211,1.399999976158142,0.0]            |\n",
      "|[18.290000915527344,21.639999389648438,0.0,26.520000457763672,30.34000015258789,0.0,1.0,0.0,1.0,2020.0,1.0,12.0,1.0,0.0,1.7000000476837158,87.80000305175781,1.0,0.0]                         |\n",
      "|[17.770000457763672,24.229999542236328,0.0,32.790000915527344,82.44000244140625,0.0,1.0,0.0,1.0,2020.0,1.0,13.0,2.0,0.0,1.399999976158142,81.5,0.5,0.0]                                       |\n",
      "|[10.569999694824219,15.699999809265137,0.0,36.08000183105469,40.189998626708984,0.0,1.0,0.0,1.0,2020.0,1.0,14.0,3.0,0.0,4.300000190734863,62.900001525878906,1.7999999523162842,0.0]          |\n",
      "|[7.869999885559082,12.640000343322754,0.0,39.470001220703125,31.239999771118164,0.0,1.0,0.0,1.0,2020.0,1.0,15.0,4.0,0.0,7.0,56.900001525878906,2.5,0.0]                                       |\n",
      "|[10.119999885559082,16.43000030517578,0.0,38.43000030517578,55.709999084472656,0.0,1.0,0.0,1.0,2020.0,1.0,16.0,5.0,0.0,6.199999809265137,66.30000305175781,1.0,0.0]                           |\n",
      "|[9.359999656677246,13.59000015258789,0.0,35.58000183105469,38.959999084472656,0.0,1.0,0.0,1.0,2020.0,1.0,17.0,6.0,0.0,4.599999904632568,81.4000015258789,1.899999976158142,3.9000000953674316]|\n",
      "|[5.849999904632568,8.010000228881836,0.0,38.369998931884766,12.729999542236328,0.0,1.0,0.0,1.0,2020.0,1.0,18.0,7.0,0.0,3.4000000953674316,78.5,1.899999976158142,0.10000000149011612]         |\n",
      "|[7.789999961853027,9.729999542236328,0.0,36.34000015258789,13.800000190734863,0.0,1.0,0.0,1.0,2020.0,1.0,19.0,1.0,0.0,0.5,80.4000015258789,2.0999999046325684,0.0]                            |\n",
      "|[13.40999984741211,17.559999465942383,0.0,35.63999938964844,19.5,0.0,1.0,0.0,1.0,2020.0,1.0,20.0,2.0,0.0,-0.4000000059604645,78.5,3.5,0.0]                                                    |\n",
      "|[20.829999923706055,27.3799991607666,0.0,33.470001220703125,53.779998779296875,0.0,1.0,0.0,1.0,2020.0,1.0,21.0,3.0,0.0,-1.7999999523162842,83.5999984741211,1.7000000476837158,0.0]           |\n",
      "+----------------------------------------------------------------------------------------------------------------------------------------------------------------------------------------------+\n",
      "only showing top 20 rows\n",
      "\n"
     ]
    }
   ],
   "execution_count": 206
  },
  {
   "cell_type": "markdown",
   "id": "1b1513da",
   "metadata": {},
   "source": [
    "Mit der zeitlichen Dimension ist also auch eine zeitliche Analyse mittels Clustering möglich."
   ]
  },
  {
   "cell_type": "code",
   "id": "86c369c3",
   "metadata": {
    "ExecuteTime": {
     "end_time": "2025-06-22T17:15:18.078620Z",
     "start_time": "2025-06-22T17:15:16.553245Z"
    }
   },
   "source": [
    "from pyspark.ml.clustering import KMeans\n",
    "\n",
    "kmeans_time = KMeans(featuresCol=\"features_extended\", predictionCol=\"cluster\", k=4)\n",
    "model_time = kmeans_time.fit(df_final)\n",
    "df_timecluster = model_time.transform(df_final)\n"
   ],
   "outputs": [],
   "execution_count": 207
  },
  {
   "cell_type": "code",
   "id": "f4829cd7",
   "metadata": {
    "ExecuteTime": {
     "end_time": "2025-06-22T17:15:18.281413Z",
     "start_time": "2025-06-22T17:15:18.095488Z"
    }
   },
   "source": [
    "df_timecluster.groupBy(\"cluster\").count().show()\n"
   ],
   "outputs": [
    {
     "name": "stdout",
     "output_type": "stream",
     "text": [
      "+-------+-----+\n",
      "|cluster|count|\n",
      "+-------+-----+\n",
      "|      1|  883|\n",
      "|      3|  599|\n",
      "|      2|  295|\n",
      "|      0| 1807|\n",
      "+-------+-----+\n",
      "\n"
     ]
    }
   ],
   "execution_count": 208
  },
  {
   "cell_type": "markdown",
   "id": "4ad73570",
   "metadata": {},
   "source": [
    "## Wir sehen uns die Cluster mal kurz an..."
   ]
  },
  {
   "cell_type": "code",
   "id": "da298490",
   "metadata": {
    "ExecuteTime": {
     "end_time": "2025-06-22T17:15:22.415626Z",
     "start_time": "2025-06-22T17:15:18.293413Z"
    }
   },
   "source": [
    "cluster_counts = df_timecluster.groupBy(\"cluster\").count().toPandas()\n"
   ],
   "outputs": [],
   "execution_count": 209
  },
  {
   "cell_type": "code",
   "id": "e81dbfe4",
   "metadata": {
    "ExecuteTime": {
     "end_time": "2025-06-22T17:15:25.003369Z",
     "start_time": "2025-06-22T17:15:22.424626Z"
    }
   },
   "source": [
    "import matplotlib.pyplot as plt\n",
    "\n",
    "plt.figure(figsize=(6,4))\n",
    "plt.bar(cluster_counts[\"cluster\"], cluster_counts[\"count\"], color=\"lightblue\")\n",
    "plt.xlabel(\"Cluster ID\")\n",
    "plt.ylabel(\"Anzahl\")\n",
    "plt.title(\"Verteilung Clsstergrössen\")\n",
    "plt.xticks(cluster_counts[\"cluster\"])\n",
    "plt.show()\n"
   ],
   "outputs": [
    {
     "data": {
      "text/plain": [
       "<Figure size 600x400 with 1 Axes>"
      ],
      "image/png": "[encoded data removed]"
     },
     "metadata": {},
     "output_type": "display_data"
    }
   ],
   "execution_count": 210
  },
  {
   "cell_type": "code",
   "id": "cc127bbb",
   "metadata": {
    "ExecuteTime": {
     "end_time": "2025-06-22T17:15:25.080648Z",
     "start_time": "2025-06-22T17:15:25.015283Z"
    }
   },
   "source": [
    "plt.pie(cluster_counts[\"count\"], labels=cluster_counts[\"cluster\"], autopct='%1.1f%%', startangle=90)\n",
    "plt.title(\"Verhältnisse, Kuchendiagr\")\n",
    "plt.axis(\"equal\")\n",
    "plt.show()\n"
   ],
   "outputs": [
    {
     "data": {
      "text/plain": [
       "<Figure size 640x480 with 1 Axes>"
      ],
      "image/png": "[encoded data removed]"
     },
     "metadata": {},
     "output_type": "display_data"
    }
   ],
   "execution_count": 211
  },
  {
   "cell_type": "markdown",
   "id": "c4089e51",
   "metadata": {},
   "source": [
    "Um jedoch zu verstehen, was wir hier eigentlich sehen und was die Cluster bedeuten, müssen wir uns näher damit auseinandersetzen."
   ]
  },
  {
   "cell_type": "code",
   "id": "a0050012",
   "metadata": {
    "ExecuteTime": {
     "end_time": "2025-06-22T17:15:25.392536Z",
     "start_time": "2025-06-22T17:15:25.093217Z"
    }
   },
   "source": [
    "df_timecluster.groupBy(\"cluster\").avg(\"PM10\", \"PM2_5\", \"Ozon\", \"CO\", \"NO2\", \"NO\", \"Ozon_missing\", \"CO_missing\", \"NO_missing\", \"year_s\", \"month_s\", \"day_s\", \"weekday_s\", \"hour_s\").show()\n",
    "#zB können wir die durcschn Werte in einem Cluster ermitteln, um zu sehen, ob uns da etwas auffällt"
   ],
   "outputs": [
    {
     "name": "stdout",
     "output_type": "stream",
     "text": [
      "+-------+------------------+------------------+-----------------+-----------------+------------------+------------------+-----------------+--------------------+---------------+------------------+-----------------+------------------+------------------+-----------+\n",
      "|cluster|         avg(PM10)|        avg(PM2_5)|        avg(Ozon)|          avg(CO)|          avg(NO2)|           avg(NO)|avg(Ozon_missing)|     avg(CO_missing)|avg(NO_missing)|       avg(year_s)|     avg(month_s)|        avg(day_s)|    avg(weekday_s)|avg(hour_s)|\n",
      "+-------+------------------+------------------+-----------------+-----------------+------------------+------------------+-----------------+--------------------+---------------+------------------+-----------------+------------------+------------------+-----------+\n",
      "|      1|    6.773001131628| 10.03840317245518|              0.0|35.33336358054173|11.372695357923735|               0.0|              1.0|0.003397508493771...|            1.0|2022.1789354473385|6.773499433748585|15.908267270668176|3.9377123442808606|        0.0|\n",
      "|      3|10.063789655449792| 16.39091820430278|              0.0| 47.5349582296381|10.629365590657535|               0.0|              1.0|                 0.0|            1.0|2021.8447412353923|5.666110183639399|15.884808013355592| 4.018363939899833|        0.0|\n",
      "|      2|15.970237261562024|22.084644071934587|              0.0|27.77433902611167|   40.498881369122|               0.0|              1.0|                 0.0|            1.0|2021.7593220338983|7.196610169491525|15.115254237288136| 4.176271186440678|        0.0|\n",
      "|      0|12.560625350468714| 7.829391259677382|37.87742670214367|              0.0|26.189214165196212|11.924997242102652|              0.0|                 1.0|            0.0|2022.0027670171555|6.539568345323741|15.777531820697288|               4.0|        0.0|\n",
      "+-------+------------------+------------------+-----------------+-----------------+------------------+------------------+-----------------+--------------------+---------------+------------------+-----------------+------------------+------------------+-----------+\n",
      "\n"
     ]
    }
   ],
   "execution_count": 212
  },
  {
   "cell_type": "markdown",
   "id": "4924ae20",
   "metadata": {},
   "source": [
    "## Prognosen und künftige Entwicklungen\n",
    "Wenn wir einen Blick in die Zukunft werfen und herausfinden wollen, welchen Wert es für eine bestimmte SPalte morgen geben wird, können wir das wie folgt:\n",
    "<br>\n",
    "Wir müssen uns für einen Ziel-Wert entscheiden. Den Ziel-Wert wollen wir schlussendlich dann vorhersagen können.\n",
    "<br>\n",
    "Da wir bereits unseren Feature-Vector haben, können wir direkt zum Schritt mit der Aufteilung von Test-Trainings-Daten gehen."
   ]
  },
  {
   "cell_type": "code",
   "id": "15337f92",
   "metadata": {
    "ExecuteTime": {
     "end_time": "2025-06-22T17:15:25.423282Z",
     "start_time": "2025-06-22T17:15:25.403441Z"
    }
   },
   "source": [
    "#Aufteilung der Daten in Trainings- und Test-Daten, in Prozent % \n",
    "train, test = df_timecluster.randomSplit([0.8, 0.2], seed=42)\n"
   ],
   "outputs": [],
   "execution_count": 213
  },
  {
   "cell_type": "code",
   "id": "da7ca0bf",
   "metadata": {
    "ExecuteTime": {
     "end_time": "2025-06-22T17:15:26.559585Z",
     "start_time": "2025-06-22T17:15:25.430259Z"
    }
   },
   "source": [
    "from pyspark.ml.regression import LinearRegression\n",
    "\n",
    "lr = LinearRegression(featuresCol=\"features_extended\", labelCol=\"PM10\")\n",
    "model = lr.fit(train)\n",
    "#wir wählen unser gesuchtes Feld labelCol und wenden linregression auf die Features an"
   ],
   "outputs": [],
   "execution_count": 214
  },
  {
   "cell_type": "code",
   "id": "2d66ff03",
   "metadata": {
    "ExecuteTime": {
     "end_time": "2025-06-22T17:15:26.841475Z",
     "start_time": "2025-06-22T17:15:26.573093Z"
    }
   },
   "source": [
    "predictions = model.transform(test)\n",
    "predictions.select(\"PM10\", \"prediction\").show(10)\n",
    "#hier machen wir mal ein paar Vorhersagen und sehen, wie korrekt diese waren\n",
    "#links in der TAbelle die tatscählichen Werte und rechts die vorhergesagten"
   ],
   "outputs": [
    {
     "name": "stdout",
     "output_type": "stream",
     "text": [
      "+-----+------------------+\n",
      "| PM10|        prediction|\n",
      "+-----+------------------+\n",
      "|10.88| 10.87982397132234|\n",
      "| 9.94| 9.939740941888896|\n",
      "|14.15| 14.14982703579007|\n",
      "|16.96|16.959861248123637|\n",
      "| 9.08| 9.080058808936146|\n",
      "|17.77|17.769386356586473|\n",
      "|10.12|10.119736367932525|\n",
      "| 7.79| 7.790357833049866|\n",
      "|31.88| 31.87888622684858|\n",
      "|22.91|22.910048752389926|\n",
      "+-----+------------------+\n",
      "only showing top 10 rows\n",
      "\n"
     ]
    }
   ],
   "execution_count": 215
  },
  {
   "cell_type": "code",
   "id": "6bf42158",
   "metadata": {
    "ExecuteTime": {
     "end_time": "2025-06-22T17:15:27.075742Z",
     "start_time": "2025-06-22T17:15:26.850483Z"
    }
   },
   "source": [
    "#Unser Model können wir auch evaluieren\n",
    "#Mit dem sog. root mean squared error, rmse, finden wir heraus, wie korrekt die Vorhersagen sind\n",
    "from pyspark.ml.evaluation import RegressionEvaluator\n",
    "\n",
    "evaluator = RegressionEvaluator(labelCol=\"PM10\", predictionCol=\"prediction\", metricName=\"rmse\")\n",
    "rmse = evaluator.evaluate(predictions)\n",
    "print(f\"RMSE: {rmse}\")\n",
    "#beim rmse gilt: je kleiner desto besser"
   ],
   "outputs": [
    {
     "name": "stdout",
     "output_type": "stream",
     "text": [
      "RMSE: 0.000508577161016524\n"
     ]
    }
   ],
   "execution_count": 216
  },
  {
   "cell_type": "markdown",
   "id": "f425b040",
   "metadata": {},
   "source": [
    "Mehr zu Evaluationsmethoden und dem RMSE finden sich hier: https://spark.apache.org/docs/4.0.0/mllib-evaluation-metrics.html\n",
    "<br>\n",
    "Mit dem RMSE können generell Regressionsmodelle evaluiert werden.Damit wird die Unterschiedsgrösse von vorhergesagten und tatsächlichen Werten berechnet (grosse Unterschiede werden bestraft bzw. der RMSE reagiert stark auf Outliers).\n",
    "<br>\n",
    "Der RMSE ist immer positiv und ein Wert von 0 würde heissen, dass das Modell perfekte Predictions liefert. Im Allgemeinen gilt, dass ein niedriger RMSE besser ist.\n",
    "<br>\n",
    "Weiteres auch auf Wikipedia: https://en.wikipedia.org/wiki/Root_mean_square_deviation\n",
    "<br>\n"
   ]
  },
  {
   "cell_type": "markdown",
   "id": "b9a61c3b",
   "metadata": {},
   "source": [
    "### Fehlende WErte vorhersagen\n",
    "Ein für uns potenziell interessanter CAse wäre das ERmitteln und VOrhesagen von fehlenden Werten. Diese werden vielleicht durch äussere Einflüsse (Wetterphänomene) oder durch internes Versagen (Sensor versagt, kaputt usw.) verursacht.\n",
    "<br>\n",
    "Wir suchen usn daher als Zielwert einen aus, der dafür bekannt ist, NULL-Werte zu produzieren. Aus diesem Grund haben wir drei _missing-COlumns erstellt, an denen wir uns auch hierzu orientieren können.\n",
    "<br>\n",
    "Resltat soll also eine Vorhersage darüber sein, ob der besagte Wert wieder NULL seinw ird oder nicht."
   ]
  },
  {
   "cell_type": "code",
   "id": "2a01caa9",
   "metadata": {
    "ExecuteTime": {
     "end_time": "2025-06-22T17:15:27.106428Z",
     "start_time": "2025-06-22T17:15:27.085742Z"
    }
   },
   "source": [
    "target_col = \"CO_missing\" #hier definieren wir die gesuchte Spalte, diese enthält 1 oder 0 als Werte zur Aussage darüber, ob es in der eigentlichen Spalte dazu Inhalte gab\n",
    "train, test = df_timecluster.randomSplit([0.8, 0.2], seed=42) #wir teilen wieder in Test Trianign auf"
   ],
   "outputs": [],
   "execution_count": 217
  },
  {
   "cell_type": "code",
   "id": "f2c00421",
   "metadata": {
    "ExecuteTime": {
     "end_time": "2025-06-22T17:15:29.209293Z",
     "start_time": "2025-06-22T17:15:27.112691Z"
    }
   },
   "source": [
    "from pyspark.ml.classification import RandomForestClassifier\n",
    "\n",
    "#wir verwenden randomforest und bauen uns in diesem Fall, numtree, 50 Entscheidungsbäume\n",
    "\n",
    "\n",
    "rf = RandomForestClassifier(labelCol=\"CO_missing\", featuresCol=\"features_extended\", predictionCol=\"predicted\", numTrees=50)\n",
    "model = rf.fit(train)\n"
   ],
   "outputs": [],
   "execution_count": 218
  },
  {
   "cell_type": "code",
   "id": "ad55fa4e",
   "metadata": {
    "ExecuteTime": {
     "end_time": "2025-06-22T17:15:29.708584Z",
     "start_time": "2025-06-22T17:15:29.217174Z"
    }
   },
   "source": [
    "from pyspark.ml.evaluation import BinaryClassificationEvaluator\n",
    "\n",
    "predictions = model.transform(test)\n",
    "\n",
    "#wir evaluieren das Model\n",
    "#die Resultate bedeuten:\n",
    "#0.5 = willkürliches Raten\n",
    "#1 = perfekte Vorhersage\n",
    "\n",
    "evaluator = BinaryClassificationEvaluator(labelCol=\"CO_missing\", rawPredictionCol=\"rawPrediction\", metricName=\"areaUnderROC\")\n",
    "roc_auc = evaluator.evaluate(predictions)\n",
    "print(f\"ROC AUC = {roc_auc:.3f}\")\n"
   ],
   "outputs": [
    {
     "name": "stdout",
     "output_type": "stream",
     "text": [
      "ROC AUC = 1.000\n"
     ]
    }
   ],
   "execution_count": 219
  },
  {
   "cell_type": "code",
   "id": "5336002f",
   "metadata": {
    "ExecuteTime": {
     "end_time": "2025-06-22T17:15:29.785800Z",
     "start_time": "2025-06-22T17:15:29.719817Z"
    }
   },
   "source": [
    "import pandas as pd\n",
    "\n",
    "#wir können uns auch ansehen, welche Features das Model hauptsächlich berücksichtigt hat\n",
    "#eine hohe Wichtigkeit deutet also daraufhin, dass es einen grossen Einfluss auf das Fehlen des Features hat\n",
    "#das kann also eine Aussage darüber ermöglichen, wieso zB der Sensor ausfällt\n",
    "\n",
    "imp = model.featureImportances\n",
    "feature_importance = pd.DataFrame({\n",
    "    \"feature\": extended_cols,\n",
    "    \"importance\": imp.toArray()\n",
    "}).sort_values(\"importance\", ascending=False)\n",
    "print(feature_importance)\n"
   ],
   "outputs": [
    {
     "name": "stdout",
     "output_type": "stream",
     "text": [
      "                                              feature    importance\n",
      "7                                          CO_missing  2.620806e-01\n",
      "2                                                Ozon  1.793298e-01\n",
      "5                                                  NO  1.662275e-01\n",
      "8                                          NO_missing  1.604140e-01\n",
      "6                                        Ozon_missing  1.196447e-01\n",
      "3                                                  CO  1.009025e-01\n",
      "4                                                 NO2  5.665514e-03\n",
      "1                                               PM2_5  3.807350e-03\n",
      "0                                                PM10  1.601377e-03\n",
      "16                Wind speed scalar daily mean in m/s  2.709376e-04\n",
      "15  Relative air humidity 2 m above ground daily mean  3.730598e-05\n",
      "17            Precipitation daily total 0 UTC - 0 UTC  8.938891e-06\n",
      "14        Air temperature 2 m above ground daily mean  4.954161e-06\n",
      "12                                          weekday_s  3.022031e-06\n",
      "10                                            month_s  1.212839e-06\n",
      "9                                              year_s  2.597575e-07\n",
      "13                                             hour_s  0.000000e+00\n",
      "11                                              day_s  0.000000e+00\n"
     ]
    }
   ],
   "execution_count": 220
  },
  {
   "cell_type": "code",
   "id": "f8bca77b",
   "metadata": {
    "ExecuteTime": {
     "end_time": "2025-06-22T17:15:29.924816Z",
     "start_time": "2025-06-22T17:15:29.794682Z"
    }
   },
   "source": [
    "import matplotlib.pyplot as plt\n",
    "\n",
    "plt.figure(figsize=(8, 5))\n",
    "plt.barh(feature_importance[\"feature\"], feature_importance[\"importance\"], color=\"lightgreen\")\n",
    "plt.gca().invert_yaxis()\n",
    "plt.title(\"Feature-Relevanz\")\n",
    "plt.xlabel(\"Relevanz\")\n",
    "plt.tight_layout()\n",
    "plt.show()\n",
    "\n",
    "#das Ganze können wir auch noch visualisieren, um die Interpretation ggf zu vereinfachen"
   ],
   "outputs": [
    {
     "data": {
      "text/plain": [
       "<Figure size 800x500 with 1 Axes>"
      ],
      "image/png": "[encoded data removed]"
     },
     "metadata": {},
     "output_type": "display_data"
    }
   ],
   "execution_count": 221
  },
  {
   "cell_type": "markdown",
   "id": "ef29d191",
   "metadata": {},
   "source": [
    "### Fenster als zeitlicher Fokus\n",
    "Fenster erlauben es, einfacher Trends und Muster zu erkennen, da es einfacher wird, diese zu vergleichen."
   ]
  },
  {
   "cell_type": "code",
   "id": "858a00e7",
   "metadata": {
    "ExecuteTime": {
     "end_time": "2025-06-22T17:15:29.987594Z",
     "start_time": "2025-06-22T17:15:29.937817Z"
    }
   },
   "source": [
    "from pyspark.sql.functions import avg\n",
    "from pyspark.sql.window import Window\n",
    "\n",
    "window_spec = Window.orderBy(\"date\").rowsBetween(-2, 0)\n",
    "\n",
    "df_timecluster_windows = df_timecluster.withColumn(\"PM10_3hr_avg\", avg(\"PM10\").over(window_spec))\n",
    "\n",
    "#so haben wir ein kurzfristige PM10-Trend-Auswertung\n",
    "#avg ist nicht Pflicht, man kann dasselbe auch mit anderen Metriken wie min, max, sum, rank, usw machen\n"
   ],
   "outputs": [],
   "execution_count": 222
  },
  {
   "metadata": {
    "ExecuteTime": {
     "end_time": "2025-06-22T17:15:30.018489Z",
     "start_time": "2025-06-22T17:15:29.995508Z"
    }
   },
   "cell_type": "code",
   "source": "df_timecluster_windows.dtypes",
   "id": "629771b4e4d6c695",
   "outputs": [
    {
     "data": {
      "text/plain": [
       "[('date', 'string'),\n",
       " ('location', 'string'),\n",
       " ('PM10', 'float'),\n",
       " ('PM2_5', 'float'),\n",
       " ('Ozon', 'float'),\n",
       " ('CO', 'float'),\n",
       " ('NO2', 'float'),\n",
       " ('NO', 'float'),\n",
       " ('Air temperature 2 m above ground daily mean', 'float'),\n",
       " ('Air temperature 2 m above ground daily maximum', 'string'),\n",
       " ('Air temperature 2 m above ground daily minimum', 'string'),\n",
       " ('Air temperature at 5 cm above grass daily mean', 'string'),\n",
       " ('Air temperature at 5 cm above grass daily maximum', 'string'),\n",
       " ('Air temperature at 5 cm above grass daily minimum', 'string'),\n",
       " ('Relative air humidity 2 m above ground daily mean', 'float'),\n",
       " ('Vapour pressure 2 m above ground daily mean', 'string'),\n",
       " ('Atmospheric pressure at barometric altitude (QFE) daily mean', 'string'),\n",
       " ('Pressure reduced to sea level (QFF) daily mean', 'string'),\n",
       " ('Geopotential height of the 850 hPA level daily mean', 'string'),\n",
       " ('Geopotential height of the 700 hPA level daily mean', 'string'),\n",
       " ('Pressure reduced to sea level according to standard atmosphere (QNH) daily mean',\n",
       "  'string'),\n",
       " ('Wind speed scalar daily mean in m/s', 'float'),\n",
       " ('Gust peak (one second) daily maximum in m/s', 'string'),\n",
       " ('Wind speed scalar daily mean in km/h', 'string'),\n",
       " ('Gust peak (one second) daily maximum in km/h', 'string'),\n",
       " ('Gust peak (three seconds) daily maximum in m/s', 'string'),\n",
       " ('Gust peak (three seconds) daily maximum in km/h', 'string'),\n",
       " ('Foehn index daily value', 'string'),\n",
       " ('Precipitation daily total 6 UTC - 6 UTC following day', 'string'),\n",
       " ('Precipitation daily total 0 UTC - 0 UTC', 'float'),\n",
       " ('Snow depth (automatic measurement) morning measurement at 6 UTC', 'string'),\n",
       " ('Global radiation daily mean', 'string'),\n",
       " ('Longwave incoming radiation daily mean', 'string'),\n",
       " ('Sunshine duration daily total', 'string'),\n",
       " ('Sunshine duration in relation to absolute daily total', 'string'),\n",
       " ('Reference evaporation from FAO daily total', 'string'),\n",
       " ('Cooling Degree Day (CDD)', 'string'),\n",
       " ('Wind direction daily mean', 'string'),\n",
       " ('Heating degrees (HGT12/20)', 'string'),\n",
       " ('Heating degrees (ATD12/12)', 'string'),\n",
       " ('Hydrologic registration (hydrologic balance, R-ETS) daily total', 'string'),\n",
       " ('Ozon_missing', 'int'),\n",
       " ('CO_missing', 'int'),\n",
       " ('NO_missing', 'int'),\n",
       " ('year_s', 'int'),\n",
       " ('month_s', 'int'),\n",
       " ('day_s', 'int'),\n",
       " ('weekday_s', 'int'),\n",
       " ('hour_s', 'int'),\n",
       " ('features_extended', 'vector'),\n",
       " ('cluster', 'int'),\n",
       " ('PM10_3hr_avg', 'double')]"
      ]
     },
     "execution_count": 223,
     "metadata": {},
     "output_type": "execute_result"
    }
   ],
   "execution_count": 223
  },
  {
   "metadata": {
    "ExecuteTime": {
     "end_time": "2025-06-22T17:15:31.004521Z",
     "start_time": "2025-06-22T17:15:30.026523Z"
    }
   },
   "cell_type": "code",
   "source": [
    "df_save = df_timecluster_windows.toPandas()\n",
    "\n",
    "df_save.to_csv(\"data/ML/ML_Data.csv\", index=False)"
   ],
   "id": "f407fb75c00ac26c",
   "outputs": [],
   "execution_count": 224
  },
  {
   "cell_type": "code",
   "id": "8ede8a29",
   "metadata": {
    "ExecuteTime": {
     "end_time": "2025-06-22T17:15:36.969351Z",
     "start_time": "2025-06-22T17:15:31.021442Z"
    }
   },
   "source": [
    "#Visualisierung hilft beim ERkennen von zB spontnane Ausreissern, rhytmischen zeitlichen Mustern, Outliern usw\n",
    "import matplotlib.pyplot as plt\n",
    "from pyspark.sql.functions import date_format\n",
    "\n",
    "df_selected = df_timecluster_windows.select(\n",
    "    \"date\",\"PM10\", \"PM10_3hr_avg\"\n",
    ")\n",
    "\n",
    "\n",
    "df_plot = df_selected.toPandas()\n",
    "\n",
    "\n",
    "\n",
    "\n",
    "plt.figure(figsize=(12, 5))\n",
    "plt.plot(df_plot[\"date\"], df_plot[\"PM10\"], label=\"PM10\", alpha=0.5)\n",
    "plt.plot(df_plot[\"date\"], df_plot[\"PM10_3hr_avg\"], label=\"3-Day Avg\", linewidth=2)\n",
    "plt.legend()\n",
    "plt.title(\"PM10 and 3-Day Moving Average Over Time\")\n",
    "plt.xlabel(\"Date\")\n",
    "plt.ylabel(\"µg/m³\")\n",
    "plt.tight_layout()\n",
    "plt.show()\n"
   ],
   "outputs": [
    {
     "data": {
      "text/plain": [
       "<Figure size 1200x500 with 1 Axes>"
      ],
      "image/png": "[encoded data removed]"
     },
     "metadata": {},
     "output_type": "display_data"
    }
   ],
   "execution_count": 225
  }
 ],
 "metadata": {
  "kernelspec": {
   "display_name": "Python 3 (ipykernel)",
   "language": "python",
   "name": "python3"
  },
  "language_info": {
   "codemirror_mode": {
    "name": "ipython",
    "version": 3
   },
   "file_extension": ".py",
   "mimetype": "text/x-python",
   "name": "python",
   "nbconvert_exporter": "python",
   "pygments_lexer": "ipython3",
   "version": "3.11.4"
  }
 },
 "nbformat": 4,
 "nbformat_minor": 5
}
